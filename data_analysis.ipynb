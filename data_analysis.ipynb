{
 "cells": [
  {
   "cell_type": "code",
   "execution_count": 1,
   "id": "twelve-victory",
   "metadata": {},
   "outputs": [],
   "source": [
    "import itertools\n",
    "\n",
    "import pandas as pd\n",
    "import numpy as np\n",
    "import scipy.io as sio\n",
    "from scipy import stats\n",
    "from sklearn.cluster import KMeans\n",
    "from sklearn.decomposition import PCA, KernelPCA\n",
    "from sklearn.mixture import GaussianMixture\n",
    "from sklearn.manifold import TSNE\n",
    "import matplotlib.pyplot as plt\n",
    "import matplotlib\n",
    "import seaborn as sns\n",
    "\n",
    "import dataloader\n",
    "import dataloader_pre\n",
    "import bandpower\n",
    "import preprocessing"
   ]
  },
  {
   "cell_type": "markdown",
   "id": "operational-professor",
   "metadata": {},
   "source": [
    "# Extract stress from excel"
   ]
  },
  {
   "cell_type": "code",
   "execution_count": 2,
   "id": "unique-advance",
   "metadata": {},
   "outputs": [
    {
     "data": {
      "text/html": [
       "<div>\n",
       "<style scoped>\n",
       "    .dataframe tbody tr th:only-of-type {\n",
       "        vertical-align: middle;\n",
       "    }\n",
       "\n",
       "    .dataframe tbody tr th {\n",
       "        vertical-align: top;\n",
       "    }\n",
       "\n",
       "    .dataframe thead th {\n",
       "        text-align: right;\n",
       "    }\n",
       "</style>\n",
       "<table border=\"1\" class=\"dataframe\">\n",
       "  <thead>\n",
       "    <tr style=\"text-align: right;\">\n",
       "      <th></th>\n",
       "      <th>session</th>\n",
       "      <th>semester</th>\n",
       "      <th>subject</th>\n",
       "      <th>depression</th>\n",
       "      <th>anxiety</th>\n",
       "      <th>stress</th>\n",
       "    </tr>\n",
       "  </thead>\n",
       "  <tbody>\n",
       "    <tr>\n",
       "      <th>0</th>\n",
       "      <td>'20140922_s1'</td>\n",
       "      <td>1</td>\n",
       "      <td>1</td>\n",
       "      <td>18</td>\n",
       "      <td>20</td>\n",
       "      <td>38</td>\n",
       "    </tr>\n",
       "    <tr>\n",
       "      <th>1</th>\n",
       "      <td>'20141103_s1+s2'</td>\n",
       "      <td>1</td>\n",
       "      <td>1</td>\n",
       "      <td>28</td>\n",
       "      <td>28</td>\n",
       "      <td>30</td>\n",
       "    </tr>\n",
       "    <tr>\n",
       "      <th>2</th>\n",
       "      <td>'20141201_s1+s2'</td>\n",
       "      <td>1</td>\n",
       "      <td>1</td>\n",
       "      <td>34</td>\n",
       "      <td>34</td>\n",
       "      <td>32</td>\n",
       "    </tr>\n",
       "    <tr>\n",
       "      <th>3</th>\n",
       "      <td>'20141215_s1+s2'</td>\n",
       "      <td>1</td>\n",
       "      <td>1</td>\n",
       "      <td>26</td>\n",
       "      <td>24</td>\n",
       "      <td>22</td>\n",
       "    </tr>\n",
       "    <tr>\n",
       "      <th>4</th>\n",
       "      <td>'20141229_s1+s2'</td>\n",
       "      <td>1</td>\n",
       "      <td>1</td>\n",
       "      <td>36</td>\n",
       "      <td>26</td>\n",
       "      <td>30</td>\n",
       "    </tr>\n",
       "  </tbody>\n",
       "</table>\n",
       "</div>"
      ],
      "text/plain": [
       "            session  semester  subject  depression  anxiety  stress\n",
       "0     '20140922_s1'         1        1          18       20      38\n",
       "1  '20141103_s1+s2'         1        1          28       28      30\n",
       "2  '20141201_s1+s2'         1        1          34       34      32\n",
       "3  '20141215_s1+s2'         1        1          26       24      22\n",
       "4  '20141229_s1+s2'         1        1          36       26      30"
      ]
     },
     "execution_count": 2,
     "metadata": {},
     "output_type": "execute_result"
    }
   ],
   "source": [
    "df = pd.read_csv('./data/SFC_DASS21.csv')\n",
    "df.head()"
   ]
  },
  {
   "cell_type": "code",
   "execution_count": 3,
   "id": "undefined-hometown",
   "metadata": {},
   "outputs": [
    {
     "data": {
      "text/plain": [
       "count    171.000000\n",
       "mean       7.450292\n",
       "std        8.510315\n",
       "min        0.000000\n",
       "25%        0.000000\n",
       "50%        4.000000\n",
       "75%       12.000000\n",
       "max       38.000000\n",
       "Name: stress, dtype: float64"
      ]
     },
     "execution_count": 3,
     "metadata": {},
     "output_type": "execute_result"
    }
   ],
   "source": [
    "df['stress'].describe()"
   ]
  },
  {
   "cell_type": "code",
   "execution_count": 4,
   "id": "developing-campbell",
   "metadata": {},
   "outputs": [
    {
     "data": {
      "text/html": [
       "<div>\n",
       "<style scoped>\n",
       "    .dataframe tbody tr th:only-of-type {\n",
       "        vertical-align: middle;\n",
       "    }\n",
       "\n",
       "    .dataframe tbody tr th {\n",
       "        vertical-align: top;\n",
       "    }\n",
       "\n",
       "    .dataframe thead th {\n",
       "        text-align: right;\n",
       "    }\n",
       "</style>\n",
       "<table border=\"1\" class=\"dataframe\">\n",
       "  <thead>\n",
       "    <tr style=\"text-align: right;\">\n",
       "      <th></th>\n",
       "      <th>session</th>\n",
       "      <th>semester</th>\n",
       "      <th>subject</th>\n",
       "      <th>depression</th>\n",
       "      <th>anxiety</th>\n",
       "      <th>stress</th>\n",
       "    </tr>\n",
       "  </thead>\n",
       "  <tbody>\n",
       "    <tr>\n",
       "      <th>0</th>\n",
       "      <td>'20140922_s1'</td>\n",
       "      <td>1</td>\n",
       "      <td>1</td>\n",
       "      <td>18</td>\n",
       "      <td>20</td>\n",
       "      <td>38</td>\n",
       "    </tr>\n",
       "    <tr>\n",
       "      <th>1</th>\n",
       "      <td>'20141103_s1+s2'</td>\n",
       "      <td>1</td>\n",
       "      <td>1</td>\n",
       "      <td>28</td>\n",
       "      <td>28</td>\n",
       "      <td>30</td>\n",
       "    </tr>\n",
       "    <tr>\n",
       "      <th>2</th>\n",
       "      <td>'20141201_s1+s2'</td>\n",
       "      <td>1</td>\n",
       "      <td>1</td>\n",
       "      <td>34</td>\n",
       "      <td>34</td>\n",
       "      <td>32</td>\n",
       "    </tr>\n",
       "    <tr>\n",
       "      <th>3</th>\n",
       "      <td>'20141215_s1+s2'</td>\n",
       "      <td>1</td>\n",
       "      <td>1</td>\n",
       "      <td>26</td>\n",
       "      <td>24</td>\n",
       "      <td>22</td>\n",
       "    </tr>\n",
       "    <tr>\n",
       "      <th>4</th>\n",
       "      <td>'20141229_s1+s2'</td>\n",
       "      <td>1</td>\n",
       "      <td>1</td>\n",
       "      <td>36</td>\n",
       "      <td>26</td>\n",
       "      <td>30</td>\n",
       "    </tr>\n",
       "    <tr>\n",
       "      <th>...</th>\n",
       "      <td>...</td>\n",
       "      <td>...</td>\n",
       "      <td>...</td>\n",
       "      <td>...</td>\n",
       "      <td>...</td>\n",
       "      <td>...</td>\n",
       "    </tr>\n",
       "    <tr>\n",
       "      <th>89</th>\n",
       "      <td>'20141002_s17+s18'</td>\n",
       "      <td>1</td>\n",
       "      <td>18</td>\n",
       "      <td>2</td>\n",
       "      <td>2</td>\n",
       "      <td>0</td>\n",
       "    </tr>\n",
       "    <tr>\n",
       "      <th>90</th>\n",
       "      <td>'20141023_s17+s18'</td>\n",
       "      <td>1</td>\n",
       "      <td>18</td>\n",
       "      <td>0</td>\n",
       "      <td>2</td>\n",
       "      <td>0</td>\n",
       "    </tr>\n",
       "    <tr>\n",
       "      <th>91</th>\n",
       "      <td>'20141127_s17+s18'</td>\n",
       "      <td>1</td>\n",
       "      <td>18</td>\n",
       "      <td>2</td>\n",
       "      <td>4</td>\n",
       "      <td>4</td>\n",
       "    </tr>\n",
       "    <tr>\n",
       "      <th>92</th>\n",
       "      <td>'20141211_s17+s18'</td>\n",
       "      <td>1</td>\n",
       "      <td>18</td>\n",
       "      <td>2</td>\n",
       "      <td>2</td>\n",
       "      <td>0</td>\n",
       "    </tr>\n",
       "    <tr>\n",
       "      <th>93</th>\n",
       "      <td>'20150108_s17+s18'</td>\n",
       "      <td>1</td>\n",
       "      <td>18</td>\n",
       "      <td>2</td>\n",
       "      <td>2</td>\n",
       "      <td>2</td>\n",
       "    </tr>\n",
       "  </tbody>\n",
       "</table>\n",
       "<p>94 rows × 6 columns</p>\n",
       "</div>"
      ],
      "text/plain": [
       "               session  semester  subject  depression  anxiety  stress\n",
       "0        '20140922_s1'         1        1          18       20      38\n",
       "1     '20141103_s1+s2'         1        1          28       28      30\n",
       "2     '20141201_s1+s2'         1        1          34       34      32\n",
       "3     '20141215_s1+s2'         1        1          26       24      22\n",
       "4     '20141229_s1+s2'         1        1          36       26      30\n",
       "..                 ...       ...      ...         ...      ...     ...\n",
       "89  '20141002_s17+s18'         1       18           2        2       0\n",
       "90  '20141023_s17+s18'         1       18           0        2       0\n",
       "91  '20141127_s17+s18'         1       18           2        4       4\n",
       "92  '20141211_s17+s18'         1       18           2        2       0\n",
       "93  '20150108_s17+s18'         1       18           2        2       2\n",
       "\n",
       "[94 rows x 6 columns]"
      ]
     },
     "execution_count": 4,
     "metadata": {},
     "output_type": "execute_result"
    }
   ],
   "source": [
    "df[df['subject']<19]"
   ]
  },
  {
   "cell_type": "code",
   "execution_count": 8,
   "id": "varying-pilot",
   "metadata": {},
   "outputs": [
    {
     "name": "stdout",
     "output_type": "stream",
     "text": [
      "Label 1: 58, Label 0: 113\n"
     ]
    }
   ],
   "source": [
    "# Get increased stress or normal label for each subject\n",
    "num_sub = 26\n",
    "group_mean = df.groupby(by='subject').mean()\n",
    "labels = []\n",
    "\n",
    "for i in range(len(df)):\n",
    "    stress_sub = df.iloc[i]['stress']\n",
    "    sub = df.iloc[i]['subject']\n",
    "    threshold = group_mean.loc[sub]['stress']\n",
    "    \n",
    "    labels.append(stress_sub>threshold)\n",
    "    \n",
    "labels = np.asarray(labels, 'int')\n",
    "df['label'] = labels\n",
    "print('Label 1: %d, Label 0: %d'%(np.sum(labels), len(labels)-np.sum(labels)))"
   ]
  },
  {
   "cell_type": "code",
   "execution_count": 9,
   "id": "beneficial-imagination",
   "metadata": {},
   "outputs": [
    {
     "data": {
      "text/html": [
       "<div>\n",
       "<style scoped>\n",
       "    .dataframe tbody tr th:only-of-type {\n",
       "        vertical-align: middle;\n",
       "    }\n",
       "\n",
       "    .dataframe tbody tr th {\n",
       "        vertical-align: top;\n",
       "    }\n",
       "\n",
       "    .dataframe thead th {\n",
       "        text-align: right;\n",
       "    }\n",
       "</style>\n",
       "<table border=\"1\" class=\"dataframe\">\n",
       "  <thead>\n",
       "    <tr style=\"text-align: right;\">\n",
       "      <th></th>\n",
       "      <th>session</th>\n",
       "      <th>semester</th>\n",
       "      <th>subject</th>\n",
       "      <th>depression</th>\n",
       "      <th>anxiety</th>\n",
       "      <th>stress</th>\n",
       "      <th>label</th>\n",
       "    </tr>\n",
       "  </thead>\n",
       "  <tbody>\n",
       "    <tr>\n",
       "      <th>0</th>\n",
       "      <td>'20140922_s1'</td>\n",
       "      <td>1</td>\n",
       "      <td>1</td>\n",
       "      <td>18</td>\n",
       "      <td>20</td>\n",
       "      <td>38</td>\n",
       "      <td>1</td>\n",
       "    </tr>\n",
       "    <tr>\n",
       "      <th>1</th>\n",
       "      <td>'20141103_s1+s2'</td>\n",
       "      <td>1</td>\n",
       "      <td>1</td>\n",
       "      <td>28</td>\n",
       "      <td>28</td>\n",
       "      <td>30</td>\n",
       "      <td>0</td>\n",
       "    </tr>\n",
       "    <tr>\n",
       "      <th>2</th>\n",
       "      <td>'20141201_s1+s2'</td>\n",
       "      <td>1</td>\n",
       "      <td>1</td>\n",
       "      <td>34</td>\n",
       "      <td>34</td>\n",
       "      <td>32</td>\n",
       "      <td>1</td>\n",
       "    </tr>\n",
       "    <tr>\n",
       "      <th>3</th>\n",
       "      <td>'20141215_s1+s2'</td>\n",
       "      <td>1</td>\n",
       "      <td>1</td>\n",
       "      <td>26</td>\n",
       "      <td>24</td>\n",
       "      <td>22</td>\n",
       "      <td>0</td>\n",
       "    </tr>\n",
       "    <tr>\n",
       "      <th>4</th>\n",
       "      <td>'20141229_s1+s2'</td>\n",
       "      <td>1</td>\n",
       "      <td>1</td>\n",
       "      <td>36</td>\n",
       "      <td>26</td>\n",
       "      <td>30</td>\n",
       "      <td>0</td>\n",
       "    </tr>\n",
       "  </tbody>\n",
       "</table>\n",
       "</div>"
      ],
      "text/plain": [
       "            session  semester  subject  depression  anxiety  stress  label\n",
       "0     '20140922_s1'         1        1          18       20      38      1\n",
       "1  '20141103_s1+s2'         1        1          28       28      30      0\n",
       "2  '20141201_s1+s2'         1        1          34       34      32      1\n",
       "3  '20141215_s1+s2'         1        1          26       24      22      0\n",
       "4  '20141229_s1+s2'         1        1          36       26      30      0"
      ]
     },
     "execution_count": 9,
     "metadata": {},
     "output_type": "execute_result"
    }
   ],
   "source": [
    "df.head()"
   ]
  },
  {
   "cell_type": "markdown",
   "id": "junior-guidance",
   "metadata": {},
   "source": [
    "## Extract EEG data from mat files"
   ]
  },
  {
   "cell_type": "code",
   "execution_count": 14,
   "id": "breeding-practitioner",
   "metadata": {},
   "outputs": [
    {
     "name": "stdout",
     "output_type": "stream",
     "text": [
      "Load data from .mat files...\n"
     ]
    }
   ],
   "source": [
    "A, B, C = dataloader.read_data()"
   ]
  },
  {
   "cell_type": "code",
   "execution_count": 25,
   "id": "imposed-essence",
   "metadata": {},
   "outputs": [],
   "source": [
    "channels = sio.loadmat('./data/ch_lib.mat')\n",
    "df = pd.DataFrame(columns = ['ID'] + list(range(30)))\n",
    "\n",
    "for i in range(len(channels['ch_lib'])):\n",
    "    channels_i = channels['ch_lib'][i][0][0]\n",
    "    channels_select_i = [channels_i[i][0] for i in range(len(channels_i))]\n",
    "    num_channel_i = len(channels_select_i)\n",
    "    df.loc[i] = [i+1] + list(channels_select_i) + ['None']*(30-num_channel_i)\n",
    "    "
   ]
  },
  {
   "cell_type": "code",
   "execution_count": 26,
   "id": "younger-dairy",
   "metadata": {},
   "outputs": [
    {
     "data": {
      "text/html": [
       "<div>\n",
       "<style scoped>\n",
       "    .dataframe tbody tr th:only-of-type {\n",
       "        vertical-align: middle;\n",
       "    }\n",
       "\n",
       "    .dataframe tbody tr th {\n",
       "        vertical-align: top;\n",
       "    }\n",
       "\n",
       "    .dataframe thead th {\n",
       "        text-align: right;\n",
       "    }\n",
       "</style>\n",
       "<table border=\"1\" class=\"dataframe\">\n",
       "  <thead>\n",
       "    <tr style=\"text-align: right;\">\n",
       "      <th></th>\n",
       "      <th>ID</th>\n",
       "      <th>0</th>\n",
       "      <th>1</th>\n",
       "      <th>2</th>\n",
       "      <th>3</th>\n",
       "      <th>4</th>\n",
       "      <th>5</th>\n",
       "      <th>6</th>\n",
       "      <th>7</th>\n",
       "      <th>8</th>\n",
       "      <th>...</th>\n",
       "      <th>20</th>\n",
       "      <th>21</th>\n",
       "      <th>22</th>\n",
       "      <th>23</th>\n",
       "      <th>24</th>\n",
       "      <th>25</th>\n",
       "      <th>26</th>\n",
       "      <th>27</th>\n",
       "      <th>28</th>\n",
       "      <th>29</th>\n",
       "    </tr>\n",
       "  </thead>\n",
       "  <tbody>\n",
       "    <tr>\n",
       "      <th>0</th>\n",
       "      <td>1</td>\n",
       "      <td>C3</td>\n",
       "      <td>C4</td>\n",
       "      <td>CP3</td>\n",
       "      <td>CP4</td>\n",
       "      <td>CPZ</td>\n",
       "      <td>CZ</td>\n",
       "      <td>F3</td>\n",
       "      <td>F4</td>\n",
       "      <td>F7</td>\n",
       "      <td>...</td>\n",
       "      <td>OZ</td>\n",
       "      <td>P3</td>\n",
       "      <td>P4</td>\n",
       "      <td>PZ</td>\n",
       "      <td>T3</td>\n",
       "      <td>T4</td>\n",
       "      <td>T5</td>\n",
       "      <td>T6</td>\n",
       "      <td>TP7</td>\n",
       "      <td>TP8</td>\n",
       "    </tr>\n",
       "    <tr>\n",
       "      <th>1</th>\n",
       "      <td>2</td>\n",
       "      <td>C3</td>\n",
       "      <td>C4</td>\n",
       "      <td>CP3</td>\n",
       "      <td>CP4</td>\n",
       "      <td>CPZ</td>\n",
       "      <td>CZ</td>\n",
       "      <td>F3</td>\n",
       "      <td>F4</td>\n",
       "      <td>F7</td>\n",
       "      <td>...</td>\n",
       "      <td>OZ</td>\n",
       "      <td>P3</td>\n",
       "      <td>P4</td>\n",
       "      <td>PZ</td>\n",
       "      <td>T3</td>\n",
       "      <td>T4</td>\n",
       "      <td>T5</td>\n",
       "      <td>T6</td>\n",
       "      <td>TP7</td>\n",
       "      <td>TP8</td>\n",
       "    </tr>\n",
       "    <tr>\n",
       "      <th>2</th>\n",
       "      <td>3</td>\n",
       "      <td>C3</td>\n",
       "      <td>C4</td>\n",
       "      <td>CP3</td>\n",
       "      <td>CP4</td>\n",
       "      <td>CPZ</td>\n",
       "      <td>CZ</td>\n",
       "      <td>F3</td>\n",
       "      <td>F4</td>\n",
       "      <td>F7</td>\n",
       "      <td>...</td>\n",
       "      <td>OZ</td>\n",
       "      <td>P3</td>\n",
       "      <td>P4</td>\n",
       "      <td>PZ</td>\n",
       "      <td>T3</td>\n",
       "      <td>T4</td>\n",
       "      <td>T5</td>\n",
       "      <td>T6</td>\n",
       "      <td>TP7</td>\n",
       "      <td>TP8</td>\n",
       "    </tr>\n",
       "    <tr>\n",
       "      <th>3</th>\n",
       "      <td>4</td>\n",
       "      <td>C3</td>\n",
       "      <td>C4</td>\n",
       "      <td>CP3</td>\n",
       "      <td>CP4</td>\n",
       "      <td>CPZ</td>\n",
       "      <td>CZ</td>\n",
       "      <td>F3</td>\n",
       "      <td>F4</td>\n",
       "      <td>F7</td>\n",
       "      <td>...</td>\n",
       "      <td>P3</td>\n",
       "      <td>P4</td>\n",
       "      <td>PZ</td>\n",
       "      <td>T3</td>\n",
       "      <td>T4</td>\n",
       "      <td>T5</td>\n",
       "      <td>T6</td>\n",
       "      <td>TP7</td>\n",
       "      <td>TP8</td>\n",
       "      <td>None</td>\n",
       "    </tr>\n",
       "    <tr>\n",
       "      <th>4</th>\n",
       "      <td>5</td>\n",
       "      <td>C3</td>\n",
       "      <td>C4</td>\n",
       "      <td>CP3</td>\n",
       "      <td>CP4</td>\n",
       "      <td>CPZ</td>\n",
       "      <td>CZ</td>\n",
       "      <td>F3</td>\n",
       "      <td>F4</td>\n",
       "      <td>F7</td>\n",
       "      <td>...</td>\n",
       "      <td>OZ</td>\n",
       "      <td>P3</td>\n",
       "      <td>P4</td>\n",
       "      <td>PZ</td>\n",
       "      <td>T3</td>\n",
       "      <td>T4</td>\n",
       "      <td>T5</td>\n",
       "      <td>T6</td>\n",
       "      <td>TP7</td>\n",
       "      <td>TP8</td>\n",
       "    </tr>\n",
       "    <tr>\n",
       "      <th>...</th>\n",
       "      <td>...</td>\n",
       "      <td>...</td>\n",
       "      <td>...</td>\n",
       "      <td>...</td>\n",
       "      <td>...</td>\n",
       "      <td>...</td>\n",
       "      <td>...</td>\n",
       "      <td>...</td>\n",
       "      <td>...</td>\n",
       "      <td>...</td>\n",
       "      <td>...</td>\n",
       "      <td>...</td>\n",
       "      <td>...</td>\n",
       "      <td>...</td>\n",
       "      <td>...</td>\n",
       "      <td>...</td>\n",
       "      <td>...</td>\n",
       "      <td>...</td>\n",
       "      <td>...</td>\n",
       "      <td>...</td>\n",
       "      <td>...</td>\n",
       "    </tr>\n",
       "    <tr>\n",
       "      <th>166</th>\n",
       "      <td>167</td>\n",
       "      <td>C3</td>\n",
       "      <td>C4</td>\n",
       "      <td>CP3</td>\n",
       "      <td>CP4</td>\n",
       "      <td>CPZ</td>\n",
       "      <td>CZ</td>\n",
       "      <td>F3</td>\n",
       "      <td>F4</td>\n",
       "      <td>F7</td>\n",
       "      <td>...</td>\n",
       "      <td>OZ</td>\n",
       "      <td>P3</td>\n",
       "      <td>P4</td>\n",
       "      <td>P7</td>\n",
       "      <td>P8</td>\n",
       "      <td>PZ</td>\n",
       "      <td>T7</td>\n",
       "      <td>T8</td>\n",
       "      <td>TP7</td>\n",
       "      <td>TP8</td>\n",
       "    </tr>\n",
       "    <tr>\n",
       "      <th>167</th>\n",
       "      <td>168</td>\n",
       "      <td>C3</td>\n",
       "      <td>C4</td>\n",
       "      <td>CP3</td>\n",
       "      <td>CP4</td>\n",
       "      <td>CPZ</td>\n",
       "      <td>CZ</td>\n",
       "      <td>F3</td>\n",
       "      <td>F4</td>\n",
       "      <td>F7</td>\n",
       "      <td>...</td>\n",
       "      <td>OZ</td>\n",
       "      <td>P3</td>\n",
       "      <td>P4</td>\n",
       "      <td>P7</td>\n",
       "      <td>P8</td>\n",
       "      <td>PZ</td>\n",
       "      <td>T7</td>\n",
       "      <td>T8</td>\n",
       "      <td>TP7</td>\n",
       "      <td>TP8</td>\n",
       "    </tr>\n",
       "    <tr>\n",
       "      <th>168</th>\n",
       "      <td>169</td>\n",
       "      <td>C3</td>\n",
       "      <td>C4</td>\n",
       "      <td>CP3</td>\n",
       "      <td>CP4</td>\n",
       "      <td>CPZ</td>\n",
       "      <td>CZ</td>\n",
       "      <td>F3</td>\n",
       "      <td>F4</td>\n",
       "      <td>F7</td>\n",
       "      <td>...</td>\n",
       "      <td>OZ</td>\n",
       "      <td>P3</td>\n",
       "      <td>P4</td>\n",
       "      <td>P7</td>\n",
       "      <td>P8</td>\n",
       "      <td>PZ</td>\n",
       "      <td>T7</td>\n",
       "      <td>T8</td>\n",
       "      <td>TP7</td>\n",
       "      <td>TP8</td>\n",
       "    </tr>\n",
       "    <tr>\n",
       "      <th>169</th>\n",
       "      <td>170</td>\n",
       "      <td>C3</td>\n",
       "      <td>C4</td>\n",
       "      <td>CP3</td>\n",
       "      <td>CP4</td>\n",
       "      <td>CPZ</td>\n",
       "      <td>CZ</td>\n",
       "      <td>F3</td>\n",
       "      <td>F4</td>\n",
       "      <td>F7</td>\n",
       "      <td>...</td>\n",
       "      <td>OZ</td>\n",
       "      <td>P3</td>\n",
       "      <td>P4</td>\n",
       "      <td>P7</td>\n",
       "      <td>P8</td>\n",
       "      <td>PZ</td>\n",
       "      <td>T7</td>\n",
       "      <td>T8</td>\n",
       "      <td>TP7</td>\n",
       "      <td>TP8</td>\n",
       "    </tr>\n",
       "    <tr>\n",
       "      <th>170</th>\n",
       "      <td>171</td>\n",
       "      <td>C3</td>\n",
       "      <td>C4</td>\n",
       "      <td>CP3</td>\n",
       "      <td>CP4</td>\n",
       "      <td>CPZ</td>\n",
       "      <td>CZ</td>\n",
       "      <td>F3</td>\n",
       "      <td>F4</td>\n",
       "      <td>F7</td>\n",
       "      <td>...</td>\n",
       "      <td>OZ</td>\n",
       "      <td>P3</td>\n",
       "      <td>P4</td>\n",
       "      <td>PZ</td>\n",
       "      <td>T3</td>\n",
       "      <td>T4</td>\n",
       "      <td>T5</td>\n",
       "      <td>T6</td>\n",
       "      <td>TP7</td>\n",
       "      <td>TP8</td>\n",
       "    </tr>\n",
       "  </tbody>\n",
       "</table>\n",
       "<p>171 rows × 31 columns</p>\n",
       "</div>"
      ],
      "text/plain": [
       "      ID   0   1    2    3    4   5   6   7   8  ...  20  21  22  23  24  25  \\\n",
       "0      1  C3  C4  CP3  CP4  CPZ  CZ  F3  F4  F7  ...  OZ  P3  P4  PZ  T3  T4   \n",
       "1      2  C3  C4  CP3  CP4  CPZ  CZ  F3  F4  F7  ...  OZ  P3  P4  PZ  T3  T4   \n",
       "2      3  C3  C4  CP3  CP4  CPZ  CZ  F3  F4  F7  ...  OZ  P3  P4  PZ  T3  T4   \n",
       "3      4  C3  C4  CP3  CP4  CPZ  CZ  F3  F4  F7  ...  P3  P4  PZ  T3  T4  T5   \n",
       "4      5  C3  C4  CP3  CP4  CPZ  CZ  F3  F4  F7  ...  OZ  P3  P4  PZ  T3  T4   \n",
       "..   ...  ..  ..  ...  ...  ...  ..  ..  ..  ..  ...  ..  ..  ..  ..  ..  ..   \n",
       "166  167  C3  C4  CP3  CP4  CPZ  CZ  F3  F4  F7  ...  OZ  P3  P4  P7  P8  PZ   \n",
       "167  168  C3  C4  CP3  CP4  CPZ  CZ  F3  F4  F7  ...  OZ  P3  P4  P7  P8  PZ   \n",
       "168  169  C3  C4  CP3  CP4  CPZ  CZ  F3  F4  F7  ...  OZ  P3  P4  P7  P8  PZ   \n",
       "169  170  C3  C4  CP3  CP4  CPZ  CZ  F3  F4  F7  ...  OZ  P3  P4  P7  P8  PZ   \n",
       "170  171  C3  C4  CP3  CP4  CPZ  CZ  F3  F4  F7  ...  OZ  P3  P4  PZ  T3  T4   \n",
       "\n",
       "     26   27   28    29  \n",
       "0    T5   T6  TP7   TP8  \n",
       "1    T5   T6  TP7   TP8  \n",
       "2    T5   T6  TP7   TP8  \n",
       "3    T6  TP7  TP8  None  \n",
       "4    T5   T6  TP7   TP8  \n",
       "..   ..  ...  ...   ...  \n",
       "166  T7   T8  TP7   TP8  \n",
       "167  T7   T8  TP7   TP8  \n",
       "168  T7   T8  TP7   TP8  \n",
       "169  T7   T8  TP7   TP8  \n",
       "170  T5   T6  TP7   TP8  \n",
       "\n",
       "[171 rows x 31 columns]"
      ]
     },
     "execution_count": 26,
     "metadata": {},
     "output_type": "execute_result"
    }
   ],
   "source": [
    "df"
   ]
  },
  {
   "cell_type": "code",
   "execution_count": 6,
   "id": "accurate-essay",
   "metadata": {},
   "outputs": [
    {
     "data": {
      "text/plain": [
       "['C3',\n",
       " 'C4',\n",
       " 'CP3',\n",
       " 'CP4',\n",
       " 'CPZ',\n",
       " 'CZ',\n",
       " 'F3',\n",
       " 'F4',\n",
       " 'F7',\n",
       " 'F8',\n",
       " 'FC3',\n",
       " 'FC4',\n",
       " 'FCZ',\n",
       " 'FP1',\n",
       " 'FP2',\n",
       " 'FT7',\n",
       " 'FT8',\n",
       " 'FZ',\n",
       " 'O1',\n",
       " 'O2',\n",
       " 'OZ',\n",
       " 'P3',\n",
       " 'P4',\n",
       " 'PZ',\n",
       " 'T3',\n",
       " 'T4',\n",
       " 'T5',\n",
       " 'T6',\n",
       " 'TP7',\n",
       " 'TP8']"
      ]
     },
     "execution_count": 6,
     "metadata": {},
     "output_type": "execute_result"
    }
   ],
   "source": [
    "channels_i = channels['ch_lib'][0][0][0]\n",
    "channels_select_i = [channels_i[i][0] for i in range(len(channels_i))]\n",
    "channels_select_i"
   ]
  },
  {
   "cell_type": "code",
   "execution_count": 4,
   "id": "brown-scheme",
   "metadata": {},
   "outputs": [
    {
     "data": {
      "text/plain": [
       "['C4', 'CP3', 'CP4', 'F7', 'F8', 'FC4', 'FZ', 'P3']"
      ]
     },
     "execution_count": 4,
     "metadata": {},
     "output_type": "execute_result"
    }
   ],
   "source": [
    "dataloader.find_common_channels()"
   ]
  },
  {
   "cell_type": "markdown",
   "id": "composite-bundle",
   "metadata": {},
   "source": [
    "# Extract DSS Stress level"
   ]
  },
  {
   "cell_type": "code",
   "execution_count": 57,
   "id": "cheap-modeling",
   "metadata": {},
   "outputs": [],
   "source": [
    "subjects = list(range(1,27))\n",
    "df_subs = pd.DataFrame()\n",
    "\n",
    "for subject in subjects:\n",
    "    if subject <= 18:\n",
    "        file_path = './data/DSS/first semester/%s/first_datebystress%d.txt'%(str(subject).zfill(2), subject)\n",
    "    else:\n",
    "        file_path = './data/DSS/second semester/%s/second_datebystress%d.txt'%(str(subject-18).zfill(2), subject-18)\n",
    "\n",
    "    df = pd.read_csv(file_path, sep = '\\s+', header=0, names=['date','stress'], index_col=False)\n",
    "    df['subject'] = [subject]*len(df)\n",
    "    df_subs = df_subs.append(df)\n",
    "    \n",
    "df_subs = df_subs.reset_index(drop=True)"
   ]
  },
  {
   "cell_type": "markdown",
   "id": "fossil-intermediate",
   "metadata": {},
   "source": [
    "# Run t-test for resting spectrum between increase and normal stress"
   ]
  },
  {
   "cell_type": "code",
   "execution_count": 3,
   "id": "original-massachusetts",
   "metadata": {},
   "outputs": [
    {
     "name": "stdout",
     "output_type": "stream",
     "text": [
      "Load data from .mat files...\n"
     ]
    },
    {
     "name": "stderr",
     "output_type": "stream",
     "text": [
      "/Users/hundredball/anaconda3/envs/Math24_new/lib/python3.7/site-packages/pandas/core/dtypes/missing.py:495: VisibleDeprecationWarning: Creating an ndarray from ragged nested sequences (which is a list-or-tuple of lists-or-tuples-or ndarrays with different lengths or shapes) is deprecated. If you meant to do this, you must specify 'dtype=object' when creating the ndarray\n",
      "  val = np.array(val, copy=False)\n",
      "/Users/hundredball/anaconda3/envs/Math24_new/lib/python3.7/site-packages/numpy/core/_asarray.py:83: VisibleDeprecationWarning: Creating an ndarray from ragged nested sequences (which is a list-or-tuple of lists-or-tuples-or ndarrays with different lengths or shapes) is deprecated. If you meant to do this, you must specify 'dtype=object' when creating the ndarray\n",
      "  return array(a, dtype, copy=False, order=order)\n"
     ]
    },
    {
     "name": "stdout",
     "output_type": "stream",
     "text": [
      "Calculating the bandpower of time-series data...\n",
      "freqs:  [0.000e+00 2.000e-01 4.000e-01 ... 4.996e+02 4.998e+02 5.000e+02]\n",
      "Load data from .mat files...\n"
     ]
    },
    {
     "name": "stderr",
     "output_type": "stream",
     "text": [
      "/Users/hundredball/anaconda3/envs/Math24_new/lib/python3.7/site-packages/pandas/core/dtypes/missing.py:495: VisibleDeprecationWarning: Creating an ndarray from ragged nested sequences (which is a list-or-tuple of lists-or-tuples-or ndarrays with different lengths or shapes) is deprecated. If you meant to do this, you must specify 'dtype=object' when creating the ndarray\n",
      "  val = np.array(val, copy=False)\n",
      "/Users/hundredball/anaconda3/envs/Math24_new/lib/python3.7/site-packages/numpy/core/_asarray.py:83: VisibleDeprecationWarning: Creating an ndarray from ragged nested sequences (which is a list-or-tuple of lists-or-tuples-or ndarrays with different lengths or shapes) is deprecated. If you meant to do this, you must specify 'dtype=object' when creating the ndarray\n",
      "  return array(a, dtype, copy=False, order=order)\n"
     ]
    },
    {
     "name": "stdout",
     "output_type": "stream",
     "text": [
      "Calculating the bandpower of time-series data...\n",
      "freqs:  [0.000e+00 2.000e-01 4.000e-01 ... 4.996e+02 4.998e+02 5.000e+02]\n",
      "Load data from .mat files...\n"
     ]
    },
    {
     "name": "stderr",
     "output_type": "stream",
     "text": [
      "/Users/hundredball/anaconda3/envs/Math24_new/lib/python3.7/site-packages/pandas/core/dtypes/missing.py:495: VisibleDeprecationWarning: Creating an ndarray from ragged nested sequences (which is a list-or-tuple of lists-or-tuples-or ndarrays with different lengths or shapes) is deprecated. If you meant to do this, you must specify 'dtype=object' when creating the ndarray\n",
      "  val = np.array(val, copy=False)\n",
      "/Users/hundredball/anaconda3/envs/Math24_new/lib/python3.7/site-packages/numpy/core/_asarray.py:83: VisibleDeprecationWarning: Creating an ndarray from ragged nested sequences (which is a list-or-tuple of lists-or-tuples-or ndarrays with different lengths or shapes) is deprecated. If you meant to do this, you must specify 'dtype=object' when creating the ndarray\n",
      "  return array(a, dtype, copy=False, order=order)\n"
     ]
    },
    {
     "name": "stdout",
     "output_type": "stream",
     "text": [
      "Calculating the bandpower of time-series data...\n",
      "freqs:  [0.000e+00 2.000e-01 4.000e-01 ... 4.996e+02 4.998e+02 5.000e+02]\n"
     ]
    }
   ],
   "source": [
    "\n",
    "for label_format in range(1,4):\n",
    "    # Load data\n",
    "    EEG_list, labels, df_all = dataloader_pre.read_data(label_format=label_format)\n",
    "\n",
    "    # Transform into band power\n",
    "    low, high = list(range(1,50)), list(range(2,51))\n",
    "    powers, psds, freqs = bandpower.get_bandpower(EEG_list, 1000, low, high, dB_scale=True)\n",
    "\n",
    "    # Seperate two groups and average over channels\n",
    "    increase_group, normal_group = [], []\n",
    "    for i, power in enumerate(powers):\n",
    "\n",
    "        # Average over channels\n",
    "        avg = np.mean(power, axis=0)\n",
    "\n",
    "        if labels[i] == 1:\n",
    "            increase_group.append(avg)\n",
    "        else:\n",
    "            normal_group.append(avg)\n",
    "\n",
    "    increase_group = np.array(increase_group)\n",
    "    normal_group = np.array(normal_group)\n",
    "\n",
    "    mean_inc, std_inc = np.mean(increase_group, axis=0), np.std(increase_group, axis=0)\n",
    "    mean_nor, std_nor = np.mean(normal_group, axis=0), np.std(normal_group, axis=0)\n",
    "\n",
    "    freqs = range(1,50)\n",
    "    plt.plot(freqs, mean_inc, 'r-', label='Increased')\n",
    "    plt.plot(freqs, mean_nor, 'b-', label='Normal')\n",
    "    plt.plot(freqs, mean_inc+std_inc, 'r--', freqs, mean_inc-std_inc, 'r--')\n",
    "    plt.plot(freqs, mean_nor+std_nor, 'b--', freqs, mean_nor-std_nor, 'b--')\n",
    "    plt.xlabel('Frequency (Hz)')\n",
    "    plt.ylabel('PSD (dB)')\n",
    "    plt.title('Stress')\n",
    "    plt.legend()\n",
    "    plt.savefig('./results/PSD_label%d.png'%(label_format))\n",
    "    plt.close()\n",
    "    \n",
    "    # Run t-test\n",
    "    ttest_result = stats.ttest_ind(increase_group, normal_group)\n",
    "    \n",
    "    plt.plot(freqs, ttest_result.pvalue)\n",
    "    plt.xlabel('Frequency (Hz)')\n",
    "    plt.ylabel('pvalue')\n",
    "    plt.title('Unpaired t-test (%d)'%(label_format))\n",
    "    plt.savefig('./results/t-test_label%d.png'%(label_format))\n",
    "    plt.close()"
   ]
  },
  {
   "cell_type": "code",
   "execution_count": 4,
   "id": "novel-firmware",
   "metadata": {},
   "outputs": [],
   "source": [
    "# Plot psd of each trial\n",
    "indices = np.where(freqs<50)[0]\n",
    "psds = [psds[i][:,indices] for i in range(len(psds))]\n",
    "freqs = freqs[indices]\n",
    "\n",
    "for i in range(len(powers)):\n",
    "    plt.figure()\n",
    "    for j in range(powers[i].shape[0]):\n",
    "        plt.plot(freqs,psds[i][j,:])\n",
    "    plt.xlabel('Frequency (Hz)')\n",
    "    plt.ylabel('PSD (dB)')\n",
    "    plt.title('PSD of No.%d trial'%(i))\n",
    "    plt.savefig('./results/psd_raw_images/psd_%d.png'%(i))\n",
    "    plt.close()\n",
    "    "
   ]
  },
  {
   "cell_type": "markdown",
   "id": "aggregate-chamber",
   "metadata": {},
   "source": [
    "# Compare labels based on three criteria"
   ]
  },
  {
   "cell_type": "code",
   "execution_count": 3,
   "id": "invisible-holmes",
   "metadata": {},
   "outputs": [
    {
     "name": "stdout",
     "output_type": "stream",
     "text": [
      "Load data from .mat files...\n"
     ]
    },
    {
     "name": "stderr",
     "output_type": "stream",
     "text": [
      "/Users/hundredball/anaconda3/envs/Math24_new/lib/python3.7/site-packages/pandas/core/dtypes/missing.py:495: VisibleDeprecationWarning: Creating an ndarray from ragged nested sequences (which is a list-or-tuple of lists-or-tuples-or ndarrays with different lengths or shapes) is deprecated. If you meant to do this, you must specify 'dtype=object' when creating the ndarray\n",
      "  val = np.array(val, copy=False)\n",
      "/Users/hundredball/anaconda3/envs/Math24_new/lib/python3.7/site-packages/numpy/core/_asarray.py:83: VisibleDeprecationWarning: Creating an ndarray from ragged nested sequences (which is a list-or-tuple of lists-or-tuples-or ndarrays with different lengths or shapes) is deprecated. If you meant to do this, you must specify 'dtype=object' when creating the ndarray\n",
      "  return array(a, dtype, copy=False, order=order)\n"
     ]
    },
    {
     "name": "stdout",
     "output_type": "stream",
     "text": [
      "Load data from .mat files...\n"
     ]
    },
    {
     "name": "stderr",
     "output_type": "stream",
     "text": [
      "/Users/hundredball/anaconda3/envs/Math24_new/lib/python3.7/site-packages/pandas/core/dtypes/missing.py:495: VisibleDeprecationWarning: Creating an ndarray from ragged nested sequences (which is a list-or-tuple of lists-or-tuples-or ndarrays with different lengths or shapes) is deprecated. If you meant to do this, you must specify 'dtype=object' when creating the ndarray\n",
      "  val = np.array(val, copy=False)\n",
      "/Users/hundredball/anaconda3/envs/Math24_new/lib/python3.7/site-packages/numpy/core/_asarray.py:83: VisibleDeprecationWarning: Creating an ndarray from ragged nested sequences (which is a list-or-tuple of lists-or-tuples-or ndarrays with different lengths or shapes) is deprecated. If you meant to do this, you must specify 'dtype=object' when creating the ndarray\n",
      "  return array(a, dtype, copy=False, order=order)\n"
     ]
    },
    {
     "name": "stdout",
     "output_type": "stream",
     "text": [
      "Load data from .mat files...\n"
     ]
    },
    {
     "name": "stderr",
     "output_type": "stream",
     "text": [
      "/Users/hundredball/anaconda3/envs/Math24_new/lib/python3.7/site-packages/pandas/core/dtypes/missing.py:495: VisibleDeprecationWarning: Creating an ndarray from ragged nested sequences (which is a list-or-tuple of lists-or-tuples-or ndarrays with different lengths or shapes) is deprecated. If you meant to do this, you must specify 'dtype=object' when creating the ndarray\n",
      "  val = np.array(val, copy=False)\n",
      "/Users/hundredball/anaconda3/envs/Math24_new/lib/python3.7/site-packages/numpy/core/_asarray.py:83: VisibleDeprecationWarning: Creating an ndarray from ragged nested sequences (which is a list-or-tuple of lists-or-tuples-or ndarrays with different lengths or shapes) is deprecated. If you meant to do this, you must specify 'dtype=object' when creating the ndarray\n",
      "  return array(a, dtype, copy=False, order=order)\n"
     ]
    }
   ],
   "source": [
    "labels = {}\n",
    "for i in range(1,4):\n",
    "    _, Y, _ = dataloader.read_data(label_format=i)\n",
    "    labels['Label%d'%(i)] = Y\n",
    "    \n",
    "df = pd.DataFrame(labels)\n",
    "df.to_csv('./results/labels.csv')"
   ]
  },
  {
   "cell_type": "code",
   "execution_count": 4,
   "id": "italian-employee",
   "metadata": {},
   "outputs": [
    {
     "name": "stdout",
     "output_type": "stream",
     "text": [
      "Calculating the bandpower of time-series data...\n",
      "freqs:  [0.000e+00 2.000e-01 4.000e-01 ... 2.496e+02 2.498e+02 2.500e+02]\n"
     ]
    },
    {
     "data": {
      "text/plain": [
       "[<matplotlib.lines.Line2D at 0x7ff94caad150>]"
      ]
     },
     "execution_count": 4,
     "metadata": {},
     "output_type": "execute_result"
    },
    {
     "data": {
      "image/png": "[encoded data removed]",
      "text/plain": [
       "<Figure size 432x288 with 1 Axes>"
      ]
     },
     "metadata": {
      "needs_background": "light"
     },
     "output_type": "display_data"
    }
   ],
   "source": [
    "fs = 500\n",
    "t = np.linspace(0,60,60*fs)\n",
    "signal = 0\n",
    "for i in range(1,51):\n",
    "    signal += np.random.rand()*np.cos(2*np.pi*i*t)\n",
    "signal = [signal[np.newaxis,:]]\n",
    "\n",
    "low, high = list(range(1,50)), list(range(2,51))\n",
    "powers = bandpower.get_bandpower(signal, fs, low, high)\n",
    "\n",
    "freqs = range(1,50)\n",
    "plt.plot(freqs,powers[0][0])"
   ]
  },
  {
   "cell_type": "markdown",
   "id": "received-chain",
   "metadata": {},
   "source": [
    "# Get correlation of each bandpower"
   ]
  },
  {
   "cell_type": "code",
   "execution_count": 5,
   "id": "fabulous-hygiene",
   "metadata": {},
   "outputs": [
    {
     "name": "stdout",
     "output_type": "stream",
     "text": [
      "Load data from .mat files...\n"
     ]
    },
    {
     "name": "stderr",
     "output_type": "stream",
     "text": [
      "/Users/hundredball/anaconda3/envs/Math24_new/lib/python3.7/site-packages/pandas/core/dtypes/missing.py:495: VisibleDeprecationWarning: Creating an ndarray from ragged nested sequences (which is a list-or-tuple of lists-or-tuples-or ndarrays with different lengths or shapes) is deprecated. If you meant to do this, you must specify 'dtype=object' when creating the ndarray\n",
      "  val = np.array(val, copy=False)\n",
      "/Users/hundredball/anaconda3/envs/Math24_new/lib/python3.7/site-packages/numpy/core/_asarray.py:83: VisibleDeprecationWarning: Creating an ndarray from ragged nested sequences (which is a list-or-tuple of lists-or-tuples-or ndarrays with different lengths or shapes) is deprecated. If you meant to do this, you must specify 'dtype=object' when creating the ndarray\n",
      "  return array(a, dtype, copy=False, order=order)\n"
     ]
    }
   ],
   "source": [
    "EEG_list, labels, df_all = dataloader.read_data(label_format=1)"
   ]
  },
  {
   "cell_type": "code",
   "execution_count": 26,
   "id": "recorded-floor",
   "metadata": {},
   "outputs": [
    {
     "name": "stdout",
     "output_type": "stream",
     "text": [
      "Calculating the bandpower of time-series data...\n",
      "freqs:  [0.000e+00 2.000e-01 4.000e-01 ... 4.996e+02 4.998e+02 5.000e+02]\n"
     ]
    }
   ],
   "source": [
    "low, high = list(range(1,50)), list(range(2,51))\n",
    "powers, psds, freqs = bandpower.get_bandpower(EEG_list, 1000, low, high, dB_scale=True)"
   ]
  },
  {
   "cell_type": "code",
   "execution_count": 27,
   "id": "comfortable-block",
   "metadata": {},
   "outputs": [],
   "source": [
    "# Average over channels\n",
    "powers = np.array([np.mean(powers[i], axis=0) for i in range(len(powers))])"
   ]
  },
  {
   "cell_type": "code",
   "execution_count": 28,
   "id": "suffering-helmet",
   "metadata": {},
   "outputs": [
    {
     "name": "stdout",
     "output_type": "stream",
     "text": [
      "Ratio of elements with absolute correlation greater than 0.9: 0.969\n"
     ]
    }
   ],
   "source": [
    "corr_data = np.corrcoef(powers.T)\n",
    "print('Ratio of elements with absolute correlation greater than 0.9: %.3f'\n",
    "      %(np.sum(np.abs(corr_data)>0.9)/np.size(corr_data)))"
   ]
  },
  {
   "cell_type": "code",
   "execution_count": 29,
   "id": "placed-memorial",
   "metadata": {},
   "outputs": [
    {
     "data": {
      "text/plain": [
       "<AxesSubplot:>"
      ]
     },
     "execution_count": 29,
     "metadata": {},
     "output_type": "execute_result"
    },
    {
     "data": {
      "image/png": "[encoded data removed]",
      "text/plain": [
       "<Figure size 432x288 with 2 Axes>"
      ]
     },
     "metadata": {
      "needs_background": "light"
     },
     "output_type": "display_data"
    }
   ],
   "source": [
    "sns.heatmap(np.abs(corr_data))"
   ]
  },
  {
   "cell_type": "markdown",
   "id": "silent-theorem",
   "metadata": {},
   "source": [
    "# Average over 6 regions"
   ]
  },
  {
   "cell_type": "code",
   "execution_count": 34,
   "id": "located-candy",
   "metadata": {},
   "outputs": [],
   "source": [
    "nuAmps_channels = pd.read_csv('./data/30ch_loc_NuAmps.csv')['label'].values\n",
    "synAmps_channels = pd.read_csv('./data/30ch_loc_SynAmps2.csv')['label'].values"
   ]
  },
  {
   "cell_type": "code",
   "execution_count": 37,
   "id": "experimental-luther",
   "metadata": {},
   "outputs": [
    {
     "name": "stdout",
     "output_type": "stream",
     "text": [
      "nuAmps channels not in synAmps:\n",
      "'T3'\n",
      "'T4'\n",
      "'T5'\n",
      "'T6'\n"
     ]
    }
   ],
   "source": [
    "print('nuAmps channels not in synAmps:')\n",
    "for i in range(len(nuAmps_channels)):\n",
    "    if nuAmps_channels[i] not in synAmps_channels:\n",
    "        print(nuAmps_channels[i])"
   ]
  },
  {
   "cell_type": "code",
   "execution_count": 38,
   "id": "interested-truth",
   "metadata": {},
   "outputs": [
    {
     "name": "stdout",
     "output_type": "stream",
     "text": [
      "synAmps channels not in nuAmps:\n",
      "'T7'\n",
      "'T8'\n",
      "'P7'\n",
      "'P8'\n"
     ]
    }
   ],
   "source": [
    "print('synAmps channels not in nuAmps:')\n",
    "for i in range(len(synAmps_channels)):\n",
    "    if synAmps_channels[i] not in nuAmps_channels:\n",
    "        print(synAmps_channels[i])"
   ]
  },
  {
   "cell_type": "markdown",
   "id": "superior-barcelona",
   "metadata": {},
   "source": [
    "T3 = T7, T4 = T8, T5 = P7, T6 = P8"
   ]
  },
  {
   "cell_type": "code",
   "execution_count": 50,
   "id": "enabling-environment",
   "metadata": {},
   "outputs": [],
   "source": [
    "regions_nuAmps = [[] for i in range(6)]\n",
    "regions_synAmps = [[] for i in range(6)]\n",
    "\n",
    "for channel in synAmps_channels:\n",
    "    #print(channel)\n",
    "    channel = channel.replace('\\'', '')\n",
    "    if channel[0] == 'F':\n",
    "        regions_synAmps[0].append(channel)\n",
    "    elif channel[0] == 'C':\n",
    "        regions_synAmps[2].append(channel)\n",
    "    elif channel[0] == 'P' or channel in ['T5','T6']:\n",
    "        regions_synAmps[4].append(channel)\n",
    "    elif channel[0] == 'O':\n",
    "        regions_synAmps[5].append(channel)\n",
    "    elif channel[0] == 'T' and int(channel[-1])%2 == 1:\n",
    "        regions_synAmps[1].append(channel)\n",
    "    else:\n",
    "        regions_synAmps[3].append(channel)"
   ]
  },
  {
   "cell_type": "code",
   "execution_count": 9,
   "id": "august-assignment",
   "metadata": {},
   "outputs": [
    {
     "name": "stdout",
     "output_type": "stream",
     "text": [
      "Load data from .mat files...\n"
     ]
    },
    {
     "name": "stderr",
     "output_type": "stream",
     "text": [
      "/Users/hundredball/anaconda3/envs/Math24_new/lib/python3.7/site-packages/pandas/core/dtypes/missing.py:495: VisibleDeprecationWarning: Creating an ndarray from ragged nested sequences (which is a list-or-tuple of lists-or-tuples-or ndarrays with different lengths or shapes) is deprecated. If you meant to do this, you must specify 'dtype=object' when creating the ndarray\n",
      "  val = np.array(val, copy=False)\n",
      "/Users/hundredball/anaconda3/envs/Math24_new/lib/python3.7/site-packages/numpy/core/_asarray.py:83: VisibleDeprecationWarning: Creating an ndarray from ragged nested sequences (which is a list-or-tuple of lists-or-tuples-or ndarrays with different lengths or shapes) is deprecated. If you meant to do this, you must specify 'dtype=object' when creating the ndarray\n",
      "  return array(a, dtype, copy=False, order=order)\n"
     ]
    }
   ],
   "source": [
    "EEG_list, labels, df_all = dataloader.read_data(label_format = 1, data_folder='rawdata')"
   ]
  },
  {
   "cell_type": "code",
   "execution_count": 25,
   "id": "nuclear-loading",
   "metadata": {},
   "outputs": [],
   "source": [
    "EEG_regions_list = []\n",
    "\n",
    "for i in range(len(EEG_list)):\n",
    "    EEG_regions = np.zeros((6, EEG_list[i].shape[1]))\n",
    "    indices_channels = [[] for i in range(6)]\n",
    "    \n",
    "    for j in range(EEG_list[i].shape[0]):\n",
    "        channel = df_all.loc[i, 'channels'][j]\n",
    "        \n",
    "        if channel[0] == 'F':\n",
    "            indices_channels[0].append(j)\n",
    "        elif channel[0] == 'C':\n",
    "            indices_channels[2].append(j)\n",
    "        elif channel[0] == 'P' or channel in ['T5','T6']:\n",
    "            indices_channels[4].append(j)\n",
    "        elif channel[0] == 'O':\n",
    "            indices_channels[5].append(j)\n",
    "        elif channel[0] == 'T' and int(channel[-1])%2 == 1:\n",
    "            indices_channels[1].append(j)\n",
    "        else:\n",
    "            indices_channels[3].append(j)\n",
    "    \n",
    "    for i_region in range(6):\n",
    "        EEG_regions[i_region,:] = np.mean(EEG_list[i][indices_channels[i_region],:], axis=0)\n",
    "        \n",
    "    EEG_regions_list.append(EEG_regions)"
   ]
  },
  {
   "cell_type": "markdown",
   "id": "mounted-robin",
   "metadata": {},
   "source": [
    "# Plot PSD for all trials"
   ]
  },
  {
   "cell_type": "code",
   "execution_count": 2,
   "id": "suspected-buddy",
   "metadata": {},
   "outputs": [
    {
     "name": "stdout",
     "output_type": "stream",
     "text": [
      "Load data from .mat files...\n"
     ]
    },
    {
     "name": "stderr",
     "output_type": "stream",
     "text": [
      "/Users/hundredball/anaconda3/envs/Math24_new/lib/python3.7/site-packages/pandas/core/dtypes/missing.py:495: VisibleDeprecationWarning: Creating an ndarray from ragged nested sequences (which is a list-or-tuple of lists-or-tuples-or ndarrays with different lengths or shapes) is deprecated. If you meant to do this, you must specify 'dtype=object' when creating the ndarray\n",
      "  val = np.array(val, copy=False)\n",
      "/Users/hundredball/anaconda3/envs/Math24_new/lib/python3.7/site-packages/numpy/core/_asarray.py:83: VisibleDeprecationWarning: Creating an ndarray from ragged nested sequences (which is a list-or-tuple of lists-or-tuples-or ndarrays with different lengths or shapes) is deprecated. If you meant to do this, you must specify 'dtype=object' when creating the ndarray\n",
      "  return array(a, dtype, copy=False, order=order)\n"
     ]
    },
    {
     "name": "stdout",
     "output_type": "stream",
     "text": [
      "Calculating the bandpower of time-series data...\n",
      "freqs:  [0.000e+00 2.000e-01 4.000e-01 ... 4.996e+02 4.998e+02 5.000e+02]\n"
     ]
    }
   ],
   "source": [
    "EEG_list, labels, df_all = dataloader.read_data(label_format=1, data_folder='rawdata')\n",
    "low, high = list(range(1,50)), list(range(2,51))\n",
    "_, psds, freqs = bandpower.get_bandpower(EEG_list, 1000, low, high, dB_scale=True)"
   ]
  },
  {
   "cell_type": "code",
   "execution_count": 13,
   "id": "female-muslim",
   "metadata": {},
   "outputs": [],
   "source": [
    "# Select PSD<50\n",
    "indices = np.where(freqs<50)[0]\n",
    "psds = [psd[:,indices] for psd in psds]\n",
    "freqs = freqs[indices]\n",
    "\n",
    "for i_trial in range(len(psds)):\n",
    "    \n",
    "    for i_channel in range(len(psds[i_trial])):\n",
    "        plt.plot(freqs, psds[i_trial][i_channel])\n",
    "    plt.savefig('./results/PSD_raw_images_label1/PSD_trial_%d'%(i_trial))\n",
    "    plt.close()"
   ]
  },
  {
   "cell_type": "code",
   "execution_count": 11,
   "id": "broke-parts",
   "metadata": {},
   "outputs": [
    {
     "data": {
      "text/plain": [
       "12"
      ]
     },
     "execution_count": 11,
     "metadata": {},
     "output_type": "execute_result"
    }
   ],
   "source": [
    "# Identify bad trials by visual inspection\n",
    "bad_trials = {96, 97, 101, 109, 111, 113, 115, 116, 119, 141, 147, 164}"
   ]
  },
  {
   "cell_type": "code",
   "execution_count": 12,
   "id": "instrumental-arena",
   "metadata": {},
   "outputs": [
    {
     "name": "stdout",
     "output_type": "stream",
     "text": [
      "Trials: 169 -> 157\n"
     ]
    }
   ],
   "source": [
    "new_EEG, new_labels, new_df = preprocessing.remove_trials(EEG_list, labels, df_all, bad_trials)\n",
    "print('Trials: %d -> %d'%(len(EEG_list),len(new_EEG)))"
   ]
  },
  {
   "cell_type": "markdown",
   "id": "competitive-afghanistan",
   "metadata": {},
   "source": [
    "# Run t-test after removing bad trials and average over regions"
   ]
  },
  {
   "cell_type": "code",
   "execution_count": 24,
   "id": "daily-percentage",
   "metadata": {},
   "outputs": [
    {
     "name": "stdout",
     "output_type": "stream",
     "text": [
      "Load data from .mat files...\n"
     ]
    },
    {
     "name": "stderr",
     "output_type": "stream",
     "text": [
      "/Users/hundredball/anaconda3/envs/Math24_new/lib/python3.7/site-packages/pandas/core/dtypes/missing.py:495: VisibleDeprecationWarning: Creating an ndarray from ragged nested sequences (which is a list-or-tuple of lists-or-tuples-or ndarrays with different lengths or shapes) is deprecated. If you meant to do this, you must specify 'dtype=object' when creating the ndarray\n",
      "  val = np.array(val, copy=False)\n",
      "/Users/hundredball/anaconda3/envs/Math24_new/lib/python3.7/site-packages/numpy/core/_asarray.py:83: VisibleDeprecationWarning: Creating an ndarray from ragged nested sequences (which is a list-or-tuple of lists-or-tuples-or ndarrays with different lengths or shapes) is deprecated. If you meant to do this, you must specify 'dtype=object' when creating the ndarray\n",
      "  return array(a, dtype, copy=False, order=order)\n"
     ]
    },
    {
     "name": "stdout",
     "output_type": "stream",
     "text": [
      "Calculating the bandpower of time-series data...\n",
      "freqs:  [0.000e+00 2.000e-01 4.000e-01 ... 4.996e+02 4.998e+02 5.000e+02]\n"
     ]
    },
    {
     "name": "stderr",
     "output_type": "stream",
     "text": [
      "No handles with labels found to put in legend.\n",
      "No handles with labels found to put in legend.\n",
      "No handles with labels found to put in legend.\n",
      "No handles with labels found to put in legend.\n",
      "No handles with labels found to put in legend.\n",
      "No handles with labels found to put in legend.\n"
     ]
    },
    {
     "name": "stdout",
     "output_type": "stream",
     "text": [
      "Load data from .mat files...\n"
     ]
    },
    {
     "name": "stderr",
     "output_type": "stream",
     "text": [
      "/Users/hundredball/anaconda3/envs/Math24_new/lib/python3.7/site-packages/pandas/core/dtypes/missing.py:495: VisibleDeprecationWarning: Creating an ndarray from ragged nested sequences (which is a list-or-tuple of lists-or-tuples-or ndarrays with different lengths or shapes) is deprecated. If you meant to do this, you must specify 'dtype=object' when creating the ndarray\n",
      "  val = np.array(val, copy=False)\n",
      "/Users/hundredball/anaconda3/envs/Math24_new/lib/python3.7/site-packages/numpy/core/_asarray.py:83: VisibleDeprecationWarning: Creating an ndarray from ragged nested sequences (which is a list-or-tuple of lists-or-tuples-or ndarrays with different lengths or shapes) is deprecated. If you meant to do this, you must specify 'dtype=object' when creating the ndarray\n",
      "  return array(a, dtype, copy=False, order=order)\n"
     ]
    },
    {
     "name": "stdout",
     "output_type": "stream",
     "text": [
      "Calculating the bandpower of time-series data...\n",
      "freqs:  [0.000e+00 2.000e-01 4.000e-01 ... 4.996e+02 4.998e+02 5.000e+02]\n"
     ]
    },
    {
     "name": "stderr",
     "output_type": "stream",
     "text": [
      "No handles with labels found to put in legend.\n",
      "No handles with labels found to put in legend.\n",
      "No handles with labels found to put in legend.\n",
      "No handles with labels found to put in legend.\n",
      "No handles with labels found to put in legend.\n",
      "No handles with labels found to put in legend.\n"
     ]
    },
    {
     "name": "stdout",
     "output_type": "stream",
     "text": [
      "Load data from .mat files...\n"
     ]
    },
    {
     "name": "stderr",
     "output_type": "stream",
     "text": [
      "/Users/hundredball/anaconda3/envs/Math24_new/lib/python3.7/site-packages/pandas/core/dtypes/missing.py:495: VisibleDeprecationWarning: Creating an ndarray from ragged nested sequences (which is a list-or-tuple of lists-or-tuples-or ndarrays with different lengths or shapes) is deprecated. If you meant to do this, you must specify 'dtype=object' when creating the ndarray\n",
      "  val = np.array(val, copy=False)\n",
      "/Users/hundredball/anaconda3/envs/Math24_new/lib/python3.7/site-packages/numpy/core/_asarray.py:83: VisibleDeprecationWarning: Creating an ndarray from ragged nested sequences (which is a list-or-tuple of lists-or-tuples-or ndarrays with different lengths or shapes) is deprecated. If you meant to do this, you must specify 'dtype=object' when creating the ndarray\n",
      "  return array(a, dtype, copy=False, order=order)\n"
     ]
    },
    {
     "name": "stdout",
     "output_type": "stream",
     "text": [
      "Calculating the bandpower of time-series data...\n",
      "freqs:  [0.000e+00 2.000e-01 4.000e-01 ... 4.996e+02 4.998e+02 5.000e+02]\n"
     ]
    },
    {
     "name": "stderr",
     "output_type": "stream",
     "text": [
      "No handles with labels found to put in legend.\n",
      "No handles with labels found to put in legend.\n",
      "No handles with labels found to put in legend.\n",
      "No handles with labels found to put in legend.\n",
      "No handles with labels found to put in legend.\n",
      "No handles with labels found to put in legend.\n"
     ]
    }
   ],
   "source": [
    "colors = ['b', 'g', 'r', 'c', 'm', 'y']\n",
    "\n",
    "for label_format in range(1,4):\n",
    "    # Load data\n",
    "    EEG_list, labels, df_all = dataloader.read_data(label_format=label_format, data_folder='rawdata')\n",
    "\n",
    "    # Remove bad trials\n",
    "    EEG_list, labels, df_all = preprocessing.remove_trials(EEG_list, labels, df_all)\n",
    "    \n",
    "    # Average into regions\n",
    "    EEG_list = preprocessing.avg_channels_into_regions(EEG_list, df_all)\n",
    "    \n",
    "    # Transform into band power\n",
    "    low, high = list(range(1,50)), list(range(2,51))\n",
    "    powers, psds, freqs = bandpower.get_bandpower(EEG_list, 1000, low, high, dB_scale=True)\n",
    "    indices = np.where(freqs<50)[0]\n",
    "    psds = [psd[:,indices] for psd in psds]\n",
    "    freqs = freqs[indices]\n",
    "    \n",
    "    # Seperate two groups and average over channels\n",
    "    increase_group = np.array([psds[i] for i in range(len(psds)) if labels[i]==1])\n",
    "    normal_group = np.array([psds[i] for i in range(len(psds)) if labels[i]==0])\n",
    "\n",
    "    mean_inc, std_inc = np.mean(increase_group, axis=0), np.std(increase_group, axis=0)\n",
    "    mean_nor, std_nor = np.mean(normal_group, axis=0), np.std(normal_group, axis=0)\n",
    "\n",
    "    num_regions = mean_inc.shape[0]\n",
    "    for i in range(num_regions):\n",
    "        plt.plot(freqs, mean_inc[i,:], 'r-', label='inc')\n",
    "        plt.plot(freqs, mean_nor[i,:], 'b-', label='nor')\n",
    "        \n",
    "        plt.plot(freqs, mean_inc[i,:]+std_inc[i,:], 'r--', alpha=0.5)\n",
    "        plt.plot(freqs, mean_inc[i,:]-std_inc[i,:], 'r--', alpha=0.5)\n",
    "        plt.plot(freqs, mean_nor[i,:]+std_nor[i,:], 'b--', alpha=0.5)\n",
    "        plt.plot(freqs, mean_nor[i,:]-std_nor[i,:], 'b--', alpha=0.5)\n",
    "        \n",
    "        plt.xlabel('Frequency (Hz)')\n",
    "        plt.ylabel('PSD (dB)')\n",
    "        plt.title('Stress of region %s'%(df_all['channels'][0][i]))\n",
    "        plt.legend()\n",
    "        plt.savefig('./results/PSD_raw_images_regions/PSD_label%d_region_%s.png'%(label_format,df_all['channels'][0][i]))\n",
    "        plt.close()\n",
    "    \n",
    "    # Run t-test\n",
    "    ttest_result = stats.ttest_ind(increase_group, normal_group)\n",
    "    \n",
    "    for i in range(num_regions):\n",
    "        plt.plot(freqs, ttest_result.pvalue[i,:], color=colors[i], linestyle='-')\n",
    "        plt.xlabel('Frequency (Hz)')\n",
    "        plt.ylabel('pvalue')\n",
    "        plt.title('Unpaired t-test (%d) of region %s'%(label_format,df_all['channels'][0][i]))\n",
    "        plt.savefig('./results/PSD_raw_images_regions/t-test_label%d_region_%s.png'%(label_format,df_all['channels'][0][i]))\n",
    "        plt.close()"
   ]
  },
  {
   "cell_type": "markdown",
   "id": "emotional-rescue",
   "metadata": {},
   "source": [
    "# Cluster data by K-means and GMM"
   ]
  },
  {
   "cell_type": "code",
   "execution_count": 5,
   "id": "large-means",
   "metadata": {},
   "outputs": [],
   "source": [
    "def plot_components(components, labels, df_all, title):\n",
    "    # Plot PCA components for each channel\n",
    "    fig, axs = plt.subplots(2,3, figsize=(10,6))\n",
    "    for i_channel in range(num_channel):\n",
    "\n",
    "        labels_sub = labels[:,i_channel] if labels.ndim==2 else labels\n",
    "        row, col = i_channel//3, i_channel%3\n",
    "\n",
    "        nor_indices = np.where(labels_sub==0)[0]\n",
    "        inc_indices = np.where(labels_sub==1)[0]\n",
    "\n",
    "        axs[row][col].scatter(components[nor_indices,i_channel,0], components[nor_indices,i_channel,1], .8, color='r')\n",
    "        axs[row][col].scatter(components[inc_indices,i_channel,0], components[inc_indices,i_channel,1], .8, color='b')\n",
    "        axs[row][col].legend(['normal','increase'])\n",
    "        axs[row][col].set_title(df_all.loc[0,'channels'][i_channel])\n",
    "\n",
    "    fig.suptitle(title)\n",
    "    fig.text(0.5, 0.05, '1st component', ha='center')\n",
    "    fig.text(0.05, 0.5, '2nd component', va='center', rotation='vertical')\n",
    "    "
   ]
  },
  {
   "cell_type": "code",
   "execution_count": 3,
   "id": "valued-attribute",
   "metadata": {},
   "outputs": [
    {
     "name": "stdout",
     "output_type": "stream",
     "text": [
      "Load data from .mat files...\n"
     ]
    },
    {
     "name": "stderr",
     "output_type": "stream",
     "text": [
      "/Users/hundredball/anaconda3/envs/Math24_new/lib/python3.7/site-packages/pandas/core/dtypes/missing.py:495: VisibleDeprecationWarning: Creating an ndarray from ragged nested sequences (which is a list-or-tuple of lists-or-tuples-or ndarrays with different lengths or shapes) is deprecated. If you meant to do this, you must specify 'dtype=object' when creating the ndarray\n",
      "  val = np.array(val, copy=False)\n",
      "/Users/hundredball/anaconda3/envs/Math24_new/lib/python3.7/site-packages/numpy/core/_asarray.py:83: VisibleDeprecationWarning: Creating an ndarray from ragged nested sequences (which is a list-or-tuple of lists-or-tuples-or ndarrays with different lengths or shapes) is deprecated. If you meant to do this, you must specify 'dtype=object' when creating the ndarray\n",
      "  return array(a, dtype, copy=False, order=order)\n"
     ]
    },
    {
     "name": "stdout",
     "output_type": "stream",
     "text": [
      "Calculating the bandpower of time-series data...\n",
      "freqs:  [0.000e+00 2.000e-01 4.000e-01 ... 4.996e+02 4.998e+02 5.000e+02]\n"
     ]
    }
   ],
   "source": [
    "# Standard PCA for PSD\n",
    "EEG_list, labels, df_all = dataloader.read_data(label_format=1)\n",
    "\n",
    "# Remove bad trials\n",
    "EEG_list, labels, df_all = preprocessing.remove_trials(EEG_list, labels, df_all)\n",
    "\n",
    "# Average into regions\n",
    "EEG_list = preprocessing.avg_channels_into_regions(EEG_list, df_all)\n",
    "\n",
    "# Transform into power\n",
    "low, high = list(range(1,50)), list(range(2,51))\n",
    "powers, psds, freqs = bandpower.get_bandpower(EEG_list, 1000, low=low, high=high, dB_scale=True)\n",
    "psds = np.array(psds)\n",
    "psds = psds[..., freqs<10]\n",
    "freqs = freqs[freqs<10]\n",
    "\n",
    "# PCA for each regions and select first and second component\n",
    "num_sample, num_channel = psds.shape[0], psds.shape[1]\n",
    "psds_PCA = np.zeros((num_sample, num_channel, 2))\n",
    "pca = PCA(n_components=2)\n",
    "for i in range(num_channel):\n",
    "    psds_PCA[:,i,:] = pca.fit_transform(psds[:,i,:])"
   ]
  },
  {
   "cell_type": "code",
   "execution_count": 4,
   "id": "popular-account",
   "metadata": {},
   "outputs": [
    {
     "data": {
      "image/png": "[encoded data removed]",
      "text/plain": [
       "<Figure size 720x432 with 6 Axes>"
      ]
     },
     "metadata": {
      "needs_background": "light"
     },
     "output_type": "display_data"
    }
   ],
   "source": [
    "plot_components(psds_PCA, labels, df_all, 'True label')"
   ]
  },
  {
   "cell_type": "code",
   "execution_count": 7,
   "id": "minus-fluid",
   "metadata": {},
   "outputs": [
    {
     "name": "stdout",
     "output_type": "stream",
     "text": [
      "Load data from .mat files...\n"
     ]
    },
    {
     "name": "stderr",
     "output_type": "stream",
     "text": [
      "/Users/hundredball/anaconda3/envs/Math24_new/lib/python3.7/site-packages/pandas/core/dtypes/missing.py:495: VisibleDeprecationWarning: Creating an ndarray from ragged nested sequences (which is a list-or-tuple of lists-or-tuples-or ndarrays with different lengths or shapes) is deprecated. If you meant to do this, you must specify 'dtype=object' when creating the ndarray\n",
      "  val = np.array(val, copy=False)\n",
      "/Users/hundredball/anaconda3/envs/Math24_new/lib/python3.7/site-packages/numpy/core/_asarray.py:83: VisibleDeprecationWarning: Creating an ndarray from ragged nested sequences (which is a list-or-tuple of lists-or-tuples-or ndarrays with different lengths or shapes) is deprecated. If you meant to do this, you must specify 'dtype=object' when creating the ndarray\n",
      "  return array(a, dtype, copy=False, order=order)\n"
     ]
    },
    {
     "name": "stdout",
     "output_type": "stream",
     "text": [
      "Calculating the bandpower of time-series data...\n",
      "freqs:  [0.000e+00 2.000e-01 4.000e-01 ... 4.996e+02 4.998e+02 5.000e+02]\n"
     ]
    },
    {
     "data": {
      "image/png": "[encoded data removed]",
      "text/plain": [
       "<Figure size 720x432 with 6 Axes>"
      ]
     },
     "metadata": {
      "needs_background": "light"
     },
     "output_type": "display_data"
    }
   ],
   "source": [
    "# Kernel PCA for PSD\n",
    "EEG_list, labels, df_all = dataloader.read_data(label_format=2)\n",
    "\n",
    "# Remove bad trials\n",
    "EEG_list, labels, df_all = preprocessing.remove_trials(EEG_list, labels, df_all)\n",
    "\n",
    "# Average into regions\n",
    "EEG_list = preprocessing.avg_channels_into_regions(EEG_list, df_all)\n",
    "\n",
    "# Transform into power\n",
    "low, high = list(range(1,50)), list(range(2,51))\n",
    "powers, psds, freqs = bandpower.get_bandpower(EEG_list, 1000, low=low, high=high, dB_scale=True)\n",
    "psds = np.array(psds)\n",
    "psds = psds[..., freqs<10]\n",
    "freqs = freqs[freqs<10]\n",
    "\n",
    "# PCA for each regions and select first and second component\n",
    "variances = []\n",
    "num_sample, num_channel = psds.shape[0], psds.shape[1]\n",
    "psds_PCA = np.zeros((num_sample, num_channel, 2))\n",
    "pca = KernelPCA(kernel='rbf')\n",
    "for i in range(num_channel):\n",
    "    psds_PCA[:,i,:] = pca.fit_transform(psds[:,i,:])[:,:2]\n",
    "    ev = pca.lambdas_\n",
    "    variances.append('%.2f'%((ev[0]+ev[1])/np.sum(ev)))\n",
    "    \n",
    "title = 'True label - ' + ','.join(variances)\n",
    "    \n",
    "plot_components(psds_PCA, labels, df_all, title)"
   ]
  },
  {
   "cell_type": "code",
   "execution_count": 8,
   "id": "alpha-vision",
   "metadata": {},
   "outputs": [
    {
     "name": "stdout",
     "output_type": "stream",
     "text": [
      "Load data from .mat files...\n"
     ]
    },
    {
     "name": "stderr",
     "output_type": "stream",
     "text": [
      "/Users/hundredball/anaconda3/envs/Math24_new/lib/python3.7/site-packages/pandas/core/dtypes/missing.py:495: VisibleDeprecationWarning: Creating an ndarray from ragged nested sequences (which is a list-or-tuple of lists-or-tuples-or ndarrays with different lengths or shapes) is deprecated. If you meant to do this, you must specify 'dtype=object' when creating the ndarray\n",
      "  val = np.array(val, copy=False)\n",
      "/Users/hundredball/anaconda3/envs/Math24_new/lib/python3.7/site-packages/numpy/core/_asarray.py:83: VisibleDeprecationWarning: Creating an ndarray from ragged nested sequences (which is a list-or-tuple of lists-or-tuples-or ndarrays with different lengths or shapes) is deprecated. If you meant to do this, you must specify 'dtype=object' when creating the ndarray\n",
      "  return array(a, dtype, copy=False, order=order)\n"
     ]
    },
    {
     "name": "stdout",
     "output_type": "stream",
     "text": [
      "Calculating the bandpower of time-series data...\n",
      "freqs:  [0.000e+00 2.000e-01 4.000e-01 ... 4.996e+02 4.998e+02 5.000e+02]\n"
     ]
    },
    {
     "data": {
      "image/png": "[encoded data removed]",
      "text/plain": [
       "<Figure size 720x432 with 6 Axes>"
      ]
     },
     "metadata": {
      "needs_background": "light"
     },
     "output_type": "display_data"
    }
   ],
   "source": [
    "# T-SNE for PSD after kernelPCA\n",
    "EEG_list, labels, df_all = dataloader.read_data(label_format=1)\n",
    "\n",
    "# Remove bad trials\n",
    "EEG_list, labels, df_all = preprocessing.remove_trials(EEG_list, labels, df_all)\n",
    "\n",
    "# Average into regions\n",
    "EEG_list = preprocessing.avg_channels_into_regions(EEG_list, df_all)\n",
    "\n",
    "# Transform into power\n",
    "low, high = list(range(1,50)), list(range(2,51))\n",
    "powers, psds, freqs = bandpower.get_bandpower(EEG_list, 1000, low=low, high=high, dB_scale=True)\n",
    "psds = np.array(psds)\n",
    "psds = psds[..., freqs<10]\n",
    "freqs = freqs[freqs<10]\n",
    "\n",
    "# PCA for each regions and select first and second component\n",
    "num_sample, num_channel = psds.shape[0], psds.shape[1]\n",
    "psds_tsne = np.zeros((num_sample, num_channel, 2))\n",
    "pca = KernelPCA(kernel='rbf')\n",
    "tsne = TSNE(n_components = 2)\n",
    "for i in range(num_channel):\n",
    "    psds_tsne[:,i,:] = tsne.fit_transform(pca.fit_transform(psds[:,i,:]))\n",
    "    \n",
    "title = 'TSNE: True label'\n",
    "    \n",
    "plot_components(psds_tsne, labels, df_all, title)"
   ]
  },
  {
   "cell_type": "code",
   "execution_count": 126,
   "id": "assisted-discovery",
   "metadata": {},
   "outputs": [
    {
     "name": "stdout",
     "output_type": "stream",
     "text": [
      "Kmeans inertia:  [48265.579049398075, 29516.748683892056, 51541.12348862472, 25745.023658639428, 29112.351919601922, 34553.26212206124]\n",
      "Kmeans accuracy:  [0.535031847133758, 0.4840764331210191, 0.5923566878980892, 0.4968152866242038, 0.5222929936305732, 0.5095541401273885]\n"
     ]
    },
    {
     "data": {
      "image/png": "[encoded data removed]",
      "text/plain": [
       "<Figure size 720x432 with 6 Axes>"
      ]
     },
     "metadata": {
      "needs_background": "light"
     },
     "output_type": "display_data"
    }
   ],
   "source": [
    "# K-means for 2 clusters\n",
    "kmeans_labels = np.zeros((num_sample, num_channel))\n",
    "kmeans_inertia = []\n",
    "kmeans_acc = []\n",
    "\n",
    "for i in range(num_channel):\n",
    "    kmeans = KMeans(n_clusters=2, random_state=0).fit(psds_PCA[:,i,:])\n",
    "    kmeans_labels[:,i] = kmeans.labels_\n",
    "    kmeans_inertia.append(kmeans.inertia_)\n",
    "    kmeans_acc.append(np.sum(kmeans.labels_==labels)/num_sample)\n",
    "    \n",
    "print('Kmeans inertia: ', kmeans_inertia)\n",
    "print('Kmeans accuracy: ', kmeans_acc)\n",
    "plot_components(psds_PCA, kmeans_labels, df_all, 'Kmeans labels')"
   ]
  },
  {
   "cell_type": "code",
   "execution_count": 127,
   "id": "ordinary-invite",
   "metadata": {},
   "outputs": [
    {
     "name": "stdout",
     "output_type": "stream",
     "text": [
      "GMM log-likelihood:  [-7.8811992861528575, -7.732357811660561, -8.086005239579006, -7.688111981685825, -7.641177892194751, -7.70906542851585]\n",
      "GMM accuracy:  [0.46496815286624205, 0.4968152866242038, 0.6687898089171974, 0.47770700636942676, 0.535031847133758, 0.43312101910828027]\n"
     ]
    },
    {
     "data": {
      "image/png": "[encoded data removed]",
      "text/plain": [
       "<Figure size 720x432 with 6 Axes>"
      ]
     },
     "metadata": {
      "needs_background": "light"
     },
     "output_type": "display_data"
    }
   ],
   "source": [
    "# GMM for 2 clusters\n",
    "gmm_labels = np.zeros((num_sample, num_channel))\n",
    "gmm_likelihood = []\n",
    "gmm_acc = []\n",
    "\n",
    "for i in range(num_channel):\n",
    "    X = psds_PCA[:,i,:]\n",
    "    gmm = GaussianMixture(n_components=2, random_state=0).fit(X)\n",
    "    gmm_labels[:,i] = gmm.predict(X)\n",
    "    gmm_likelihood.append(gmm.score(X))\n",
    "    gmm_acc.append(np.sum(gmm_labels[:,i]==labels)/num_sample)\n",
    "    \n",
    "plot_components(psds_PCA, gmm_labels, df_all, 'GMM labels')\n",
    "print('GMM log-likelihood: ', gmm_likelihood)\n",
    "print('GMM accuracy: ', gmm_acc)"
   ]
  },
  {
   "cell_type": "code",
   "execution_count": 110,
   "id": "golden-vacation",
   "metadata": {},
   "outputs": [
    {
     "data": {
      "text/plain": [
       "Text(0.09, 0.5, 'PC2')"
      ]
     },
     "execution_count": 110,
     "metadata": {},
     "output_type": "execute_result"
    },
    {
     "data": {
      "image/png": "[encoded data removed]",
      "text/plain": [
       "<Figure size 720x432 with 6 Axes>"
      ]
     },
     "metadata": {},
     "output_type": "display_data"
    }
   ],
   "source": [
    "color_iter = itertools.cycle(['navy', 'darkorange', 'gold', 'cornflowerblue', 'c'])\n",
    "def plot_results(X, Y_, means, covariances, index, title): \n",
    "    splot = plt.subplot(2, 3, 1 + index)\n",
    "    for i, (mean, covar, color) in enumerate(zip(\n",
    "        means, covariances, color_iter)):\n",
    "        v, w = np.linalg.eigh(covar)\n",
    "        v = 2. * np.sqrt(2.) * np.sqrt(v)\n",
    "        u = w[0] / np.linalg.norm(w[0])\n",
    "        # as the DP will not use every component it has access to # unless it needs it, we shouldn't plot the redundant\n",
    "        # components.\n",
    "        if not np.any(Y_ == i):\n",
    "            continue\n",
    "        plt.scatter(X[Y_ == i, 0], X[Y_ == i, 1], .8, color=color)\n",
    "        # Plot an ellipse to show the Gaussian component\n",
    "        angle = np.arctan(u[1] / u[0])\n",
    "        angle = 180. * angle / np.pi # convert to degrees\n",
    "        ell = matplotlib.patches.Ellipse(mean, v[0], v[1], 180. + angle, color=color) \n",
    "        ell.set_clip_box(splot.bbox)\n",
    "        ell.set_alpha(0.5)\n",
    "        splot.add_artist(ell)\n",
    "        \n",
    "    plt.xticks(())\n",
    "    plt.yticks(())\n",
    "    plt.title(title)\n",
    "    \n",
    "fig = plt.figure(figsize=(10,6))\n",
    "for i_channel in range(num_channel):\n",
    "    X = psds_PCA[:,i,:]\n",
    "    gmm = GaussianMixture(n_components=2, random_state=0).fit(X)\n",
    "    gmm_labels = gmm.predict(X)\n",
    "    \n",
    "    plot_results(psds_PCA[:,i_channel,:], gmm_labels, gmm.means_, gmm.covariances_, i_channel, df_all.loc[0,'channels'][i_channel])\n",
    "    \n",
    "fig.text(0.5, 0.09, 'PC1', ha='center')\n",
    "fig.text(0.09, 0.5, 'PC2', va='center', rotation='vertical')"
   ]
  },
  {
   "cell_type": "markdown",
   "id": "pretty-allah",
   "metadata": {},
   "source": [
    "# See the distribution of PSD of both groups"
   ]
  },
  {
   "cell_type": "code",
   "execution_count": 2,
   "id": "incorrect-regulation",
   "metadata": {},
   "outputs": [
    {
     "name": "stdout",
     "output_type": "stream",
     "text": [
      "Load data from .mat files...\n"
     ]
    },
    {
     "name": "stderr",
     "output_type": "stream",
     "text": [
      "/Users/hundredball/anaconda3/envs/Math24_new/lib/python3.7/site-packages/pandas/core/dtypes/missing.py:495: VisibleDeprecationWarning: Creating an ndarray from ragged nested sequences (which is a list-or-tuple of lists-or-tuples-or ndarrays with different lengths or shapes) is deprecated. If you meant to do this, you must specify 'dtype=object' when creating the ndarray\n",
      "  val = np.array(val, copy=False)\n",
      "/Users/hundredball/anaconda3/envs/Math24_new/lib/python3.7/site-packages/numpy/core/_asarray.py:83: VisibleDeprecationWarning: Creating an ndarray from ragged nested sequences (which is a list-or-tuple of lists-or-tuples-or ndarrays with different lengths or shapes) is deprecated. If you meant to do this, you must specify 'dtype=object' when creating the ndarray\n",
      "  return array(a, dtype, copy=False, order=order)\n"
     ]
    },
    {
     "name": "stdout",
     "output_type": "stream",
     "text": [
      "Calculating the bandpower of time-series data...\n",
      "freqs:  [0.000e+00 2.000e-01 4.000e-01 ... 4.996e+02 4.998e+02 5.000e+02]\n"
     ]
    }
   ],
   "source": [
    "EEG_list, labels, df_all = dataloader.read_data(label_format=2)\n",
    "\n",
    "# Remove bad trials\n",
    "EEG_list, labels, df_all = preprocessing.remove_trials(EEG_list, labels, df_all)\n",
    "\n",
    "# Average into regions\n",
    "EEG_list = preprocessing.avg_channels_into_regions(EEG_list, df_all)\n",
    "\n",
    "# Transform into power\n",
    "low, high = list(range(1,50)), list(range(2,51))\n",
    "powers, psds, freqs = bandpower.get_bandpower(EEG_list, 1000, low=low, high=high, dB_scale=True)\n",
    "psds = np.array(psds)\n",
    "psds = psds[..., freqs<50]\n",
    "freqs = freqs[freqs<50]"
   ]
  },
  {
   "cell_type": "code",
   "execution_count": 10,
   "id": "dimensional-employment",
   "metadata": {},
   "outputs": [],
   "source": [
    "i_inc = np.where(labels==1)[0]\n",
    "i_nor = np.where(labels==0)[0]\n",
    "\n",
    "for i in range(len(freqs)):\n",
    "    \n",
    "    psd = psds[..., i]\n",
    "    fig, axs = plt.subplots(2, 3, figsize=(10,6))\n",
    "    \n",
    "    for i_channel in range(psd.shape[1]):\n",
    "        \n",
    "        row, col = i_channel//3, i_channel%3\n",
    "        axs[row,col].hist(psd[i_nor,i_channel], color='r', bins=20, label='normal', density=True, alpha=0.5)\n",
    "        axs[row,col].hist(psd[i_inc,i_channel], color='b', bins=20, label='increase', density=True, alpha=0.5)\n",
    "        axs[row,col].set_title(df_all.loc[0,'channels'][i_channel])\n",
    "        axs[row,col].legend()\n",
    "        \n",
    "    fig.suptitle('Freq: %.2f Hz'%(freqs[i]))\n",
    "    fig.text(0.5, 0.05, 'PSD (dB)', ha='center')\n",
    "    fig.text(0.05, 0.5, 'Density', va='center', rotation='vertical')\n",
    "    fig.savefig('./results/PSD_raw_distribution/%d.png'%(i))\n",
    "    plt.close()"
   ]
  },
  {
   "cell_type": "markdown",
   "id": "ambient-preserve",
   "metadata": {},
   "source": [
    "# Analyze which frequency does L1 choose"
   ]
  },
  {
   "cell_type": "code",
   "execution_count": 24,
   "id": "dried-effect",
   "metadata": {},
   "outputs": [
    {
     "name": "stdout",
     "output_type": "stream",
     "text": [
      "Load data from .mat files...\n"
     ]
    },
    {
     "name": "stderr",
     "output_type": "stream",
     "text": [
      "/Users/hundredball/anaconda3/envs/Math24_new/lib/python3.7/site-packages/pandas/core/dtypes/missing.py:495: VisibleDeprecationWarning: Creating an ndarray from ragged nested sequences (which is a list-or-tuple of lists-or-tuples-or ndarrays with different lengths or shapes) is deprecated. If you meant to do this, you must specify 'dtype=object' when creating the ndarray\n",
      "  val = np.array(val, copy=False)\n",
      "/Users/hundredball/anaconda3/envs/Math24_new/lib/python3.7/site-packages/numpy/core/_asarray.py:83: VisibleDeprecationWarning: Creating an ndarray from ragged nested sequences (which is a list-or-tuple of lists-or-tuples-or ndarrays with different lengths or shapes) is deprecated. If you meant to do this, you must specify 'dtype=object' when creating the ndarray\n",
      "  return array(a, dtype, copy=False, order=order)\n"
     ]
    },
    {
     "name": "stdout",
     "output_type": "stream",
     "text": [
      "Calculating the bandpower of time-series data...\n",
      "freqs:  [0.000e+00 2.000e-01 4.000e-01 ... 4.996e+02 4.998e+02 5.000e+02]\n"
     ]
    },
    {
     "data": {
      "text/plain": [
       "Text(0.05, 0.5, 'Coefficients')"
      ]
     },
     "execution_count": 24,
     "metadata": {},
     "output_type": "execute_result"
    },
    {
     "data": {
      "image/png": "[encoded data removed]",
      "text/plain": [
       "<Figure size 720x432 with 6 Axes>"
      ]
     },
     "metadata": {
      "needs_background": "light"
     },
     "output_type": "display_data"
    }
   ],
   "source": [
    "from sklearn.preprocessing import StandardScaler\n",
    "from sklearn.feature_selection import SelectFromModel\n",
    "from sklearn.linear_model import LogisticRegression\n",
    "\n",
    "X, Y, df_all = dataloader.read_data(label_format=2, data_folder='rawdata')\n",
    "    \n",
    "# Remove bad trials\n",
    "X, Y, df_all = preprocessing.remove_trials(X, Y, df_all)\n",
    "\n",
    "# Average channels\n",
    "X = preprocessing.avg_channels_into_regions(X, df_all)\n",
    "\n",
    "# Transform into power\n",
    "low, high = list(range(1,50)), list(range(2,51))\n",
    "powers, psds, freqs = bandpower.get_bandpower(X, 1000, low=low, high=high, dB_scale=True)\n",
    "\n",
    "# L1 feature selection\n",
    "powers = np.array(powers)\n",
    "powers = powers.reshape((powers.shape[0],-1))\n",
    "scaler = StandardScaler()\n",
    "powers = scaler.fit_transform(powers)\n",
    "sel_ = SelectFromModel(LogisticRegression(C=1, penalty='l1', solver='liblinear'))\n",
    "sel_.fit(powers, Y)\n",
    "indices = np.where(sel_.estimator_.coef_!=0)[1]\n",
    "\n",
    "fig, axs = plt.subplots(2, 3, figsize=(10,6))\n",
    "for i_channel in range(6):\n",
    "\n",
    "    row, col = i_channel//3, i_channel%3\n",
    "\n",
    "    axs[row][col].plot(list(range(1,50)), sel_.estimator_.coef_[0,i_channel*len(low):(i_channel+1)*len(low)])\n",
    "    axs[row][col].set_title(df_all.loc[0,'channels'][i_channel])\n",
    "\n",
    "fig.suptitle('L1 coefficients')\n",
    "fig.text(0.5, 0.05, 'Frequency (Hz)', ha='center')\n",
    "fig.text(0.05, 0.5, 'Coefficients', va='center', rotation='vertical')"
   ]
  },
  {
   "cell_type": "code",
   "execution_count": null,
   "id": "encouraging-berry",
   "metadata": {},
   "outputs": [],
   "source": []
  }
 ],
 "metadata": {
  "kernelspec": {
   "display_name": "Python 3",
   "language": "python",
   "name": "python3"
  },
  "language_info": {
   "codemirror_mode": {
    "name": "ipython",
    "version": 3
   },
   "file_extension": ".py",
   "mimetype": "text/x-python",
   "name": "python",
   "nbconvert_exporter": "python",
   "pygments_lexer": "ipython3",
   "version": "3.7.9"
  }
 },
 "nbformat": 4,
 "nbformat_minor": 5
}
