{
 "cells": [
  {
   "cell_type": "code",
   "execution_count": 2,
   "id": "solid-reverse",
   "metadata": {},
   "outputs": [],
   "source": [
    "import pandas as pd\n",
    "import numpy as np\n",
    "import scipy.io as sio\n",
    "from scipy import stats\n",
    "import matplotlib.pyplot as plt\n",
    "\n",
    "import dataloader\n",
    "import bandpower"
   ]
  },
  {
   "cell_type": "markdown",
   "id": "isolated-handbook",
   "metadata": {},
   "source": [
    "# Extract stress from excel"
   ]
  },
  {
   "cell_type": "code",
   "execution_count": 2,
   "id": "breathing-curve",
   "metadata": {},
   "outputs": [
    {
     "data": {
      "text/html": [
       "<div>\n",
       "<style scoped>\n",
       "    .dataframe tbody tr th:only-of-type {\n",
       "        vertical-align: middle;\n",
       "    }\n",
       "\n",
       "    .dataframe tbody tr th {\n",
       "        vertical-align: top;\n",
       "    }\n",
       "\n",
       "    .dataframe thead th {\n",
       "        text-align: right;\n",
       "    }\n",
       "</style>\n",
       "<table border=\"1\" class=\"dataframe\">\n",
       "  <thead>\n",
       "    <tr style=\"text-align: right;\">\n",
       "      <th></th>\n",
       "      <th>session</th>\n",
       "      <th>semester</th>\n",
       "      <th>subject</th>\n",
       "      <th>depression</th>\n",
       "      <th>anxiety</th>\n",
       "      <th>stress</th>\n",
       "    </tr>\n",
       "  </thead>\n",
       "  <tbody>\n",
       "    <tr>\n",
       "      <th>0</th>\n",
       "      <td>'20140922_s1'</td>\n",
       "      <td>1</td>\n",
       "      <td>1</td>\n",
       "      <td>18</td>\n",
       "      <td>20</td>\n",
       "      <td>38</td>\n",
       "    </tr>\n",
       "    <tr>\n",
       "      <th>1</th>\n",
       "      <td>'20141103_s1+s2'</td>\n",
       "      <td>1</td>\n",
       "      <td>1</td>\n",
       "      <td>28</td>\n",
       "      <td>28</td>\n",
       "      <td>30</td>\n",
       "    </tr>\n",
       "    <tr>\n",
       "      <th>2</th>\n",
       "      <td>'20141201_s1+s2'</td>\n",
       "      <td>1</td>\n",
       "      <td>1</td>\n",
       "      <td>34</td>\n",
       "      <td>34</td>\n",
       "      <td>32</td>\n",
       "    </tr>\n",
       "    <tr>\n",
       "      <th>3</th>\n",
       "      <td>'20141215_s1+s2'</td>\n",
       "      <td>1</td>\n",
       "      <td>1</td>\n",
       "      <td>26</td>\n",
       "      <td>24</td>\n",
       "      <td>22</td>\n",
       "    </tr>\n",
       "    <tr>\n",
       "      <th>4</th>\n",
       "      <td>'20141229_s1+s2'</td>\n",
       "      <td>1</td>\n",
       "      <td>1</td>\n",
       "      <td>36</td>\n",
       "      <td>26</td>\n",
       "      <td>30</td>\n",
       "    </tr>\n",
       "  </tbody>\n",
       "</table>\n",
       "</div>"
      ],
      "text/plain": [
       "            session  semester  subject  depression  anxiety  stress\n",
       "0     '20140922_s1'         1        1          18       20      38\n",
       "1  '20141103_s1+s2'         1        1          28       28      30\n",
       "2  '20141201_s1+s2'         1        1          34       34      32\n",
       "3  '20141215_s1+s2'         1        1          26       24      22\n",
       "4  '20141229_s1+s2'         1        1          36       26      30"
      ]
     },
     "execution_count": 2,
     "metadata": {},
     "output_type": "execute_result"
    }
   ],
   "source": [
    "df = pd.read_csv('./data/SFC_DASS21.csv')\n",
    "df.head()"
   ]
  },
  {
   "cell_type": "code",
   "execution_count": 3,
   "id": "delayed-establishment",
   "metadata": {},
   "outputs": [
    {
     "data": {
      "text/plain": [
       "count    171.000000\n",
       "mean       7.450292\n",
       "std        8.510315\n",
       "min        0.000000\n",
       "25%        0.000000\n",
       "50%        4.000000\n",
       "75%       12.000000\n",
       "max       38.000000\n",
       "Name: stress, dtype: float64"
      ]
     },
     "execution_count": 3,
     "metadata": {},
     "output_type": "execute_result"
    }
   ],
   "source": [
    "df['stress'].describe()"
   ]
  },
  {
   "cell_type": "code",
   "execution_count": 4,
   "id": "objective-outline",
   "metadata": {},
   "outputs": [
    {
     "data": {
      "text/html": [
       "<div>\n",
       "<style scoped>\n",
       "    .dataframe tbody tr th:only-of-type {\n",
       "        vertical-align: middle;\n",
       "    }\n",
       "\n",
       "    .dataframe tbody tr th {\n",
       "        vertical-align: top;\n",
       "    }\n",
       "\n",
       "    .dataframe thead th {\n",
       "        text-align: right;\n",
       "    }\n",
       "</style>\n",
       "<table border=\"1\" class=\"dataframe\">\n",
       "  <thead>\n",
       "    <tr style=\"text-align: right;\">\n",
       "      <th></th>\n",
       "      <th>session</th>\n",
       "      <th>semester</th>\n",
       "      <th>subject</th>\n",
       "      <th>depression</th>\n",
       "      <th>anxiety</th>\n",
       "      <th>stress</th>\n",
       "    </tr>\n",
       "  </thead>\n",
       "  <tbody>\n",
       "    <tr>\n",
       "      <th>0</th>\n",
       "      <td>'20140922_s1'</td>\n",
       "      <td>1</td>\n",
       "      <td>1</td>\n",
       "      <td>18</td>\n",
       "      <td>20</td>\n",
       "      <td>38</td>\n",
       "    </tr>\n",
       "    <tr>\n",
       "      <th>1</th>\n",
       "      <td>'20141103_s1+s2'</td>\n",
       "      <td>1</td>\n",
       "      <td>1</td>\n",
       "      <td>28</td>\n",
       "      <td>28</td>\n",
       "      <td>30</td>\n",
       "    </tr>\n",
       "    <tr>\n",
       "      <th>2</th>\n",
       "      <td>'20141201_s1+s2'</td>\n",
       "      <td>1</td>\n",
       "      <td>1</td>\n",
       "      <td>34</td>\n",
       "      <td>34</td>\n",
       "      <td>32</td>\n",
       "    </tr>\n",
       "    <tr>\n",
       "      <th>3</th>\n",
       "      <td>'20141215_s1+s2'</td>\n",
       "      <td>1</td>\n",
       "      <td>1</td>\n",
       "      <td>26</td>\n",
       "      <td>24</td>\n",
       "      <td>22</td>\n",
       "    </tr>\n",
       "    <tr>\n",
       "      <th>4</th>\n",
       "      <td>'20141229_s1+s2'</td>\n",
       "      <td>1</td>\n",
       "      <td>1</td>\n",
       "      <td>36</td>\n",
       "      <td>26</td>\n",
       "      <td>30</td>\n",
       "    </tr>\n",
       "    <tr>\n",
       "      <th>...</th>\n",
       "      <td>...</td>\n",
       "      <td>...</td>\n",
       "      <td>...</td>\n",
       "      <td>...</td>\n",
       "      <td>...</td>\n",
       "      <td>...</td>\n",
       "    </tr>\n",
       "    <tr>\n",
       "      <th>89</th>\n",
       "      <td>'20141002_s17+s18'</td>\n",
       "      <td>1</td>\n",
       "      <td>18</td>\n",
       "      <td>2</td>\n",
       "      <td>2</td>\n",
       "      <td>0</td>\n",
       "    </tr>\n",
       "    <tr>\n",
       "      <th>90</th>\n",
       "      <td>'20141023_s17+s18'</td>\n",
       "      <td>1</td>\n",
       "      <td>18</td>\n",
       "      <td>0</td>\n",
       "      <td>2</td>\n",
       "      <td>0</td>\n",
       "    </tr>\n",
       "    <tr>\n",
       "      <th>91</th>\n",
       "      <td>'20141127_s17+s18'</td>\n",
       "      <td>1</td>\n",
       "      <td>18</td>\n",
       "      <td>2</td>\n",
       "      <td>4</td>\n",
       "      <td>4</td>\n",
       "    </tr>\n",
       "    <tr>\n",
       "      <th>92</th>\n",
       "      <td>'20141211_s17+s18'</td>\n",
       "      <td>1</td>\n",
       "      <td>18</td>\n",
       "      <td>2</td>\n",
       "      <td>2</td>\n",
       "      <td>0</td>\n",
       "    </tr>\n",
       "    <tr>\n",
       "      <th>93</th>\n",
       "      <td>'20150108_s17+s18'</td>\n",
       "      <td>1</td>\n",
       "      <td>18</td>\n",
       "      <td>2</td>\n",
       "      <td>2</td>\n",
       "      <td>2</td>\n",
       "    </tr>\n",
       "  </tbody>\n",
       "</table>\n",
       "<p>94 rows × 6 columns</p>\n",
       "</div>"
      ],
      "text/plain": [
       "               session  semester  subject  depression  anxiety  stress\n",
       "0        '20140922_s1'         1        1          18       20      38\n",
       "1     '20141103_s1+s2'         1        1          28       28      30\n",
       "2     '20141201_s1+s2'         1        1          34       34      32\n",
       "3     '20141215_s1+s2'         1        1          26       24      22\n",
       "4     '20141229_s1+s2'         1        1          36       26      30\n",
       "..                 ...       ...      ...         ...      ...     ...\n",
       "89  '20141002_s17+s18'         1       18           2        2       0\n",
       "90  '20141023_s17+s18'         1       18           0        2       0\n",
       "91  '20141127_s17+s18'         1       18           2        4       4\n",
       "92  '20141211_s17+s18'         1       18           2        2       0\n",
       "93  '20150108_s17+s18'         1       18           2        2       2\n",
       "\n",
       "[94 rows x 6 columns]"
      ]
     },
     "execution_count": 4,
     "metadata": {},
     "output_type": "execute_result"
    }
   ],
   "source": [
    "df[df['subject']<19]"
   ]
  },
  {
   "cell_type": "code",
   "execution_count": 8,
   "id": "automotive-exposure",
   "metadata": {},
   "outputs": [
    {
     "name": "stdout",
     "output_type": "stream",
     "text": [
      "Label 1: 58, Label 0: 113\n"
     ]
    }
   ],
   "source": [
    "# Get increased stress or normal label for each subject\n",
    "num_sub = 26\n",
    "group_mean = df.groupby(by='subject').mean()\n",
    "labels = []\n",
    "\n",
    "for i in range(len(df)):\n",
    "    stress_sub = df.iloc[i]['stress']\n",
    "    sub = df.iloc[i]['subject']\n",
    "    threshold = group_mean.loc[sub]['stress']\n",
    "    \n",
    "    labels.append(stress_sub>threshold)\n",
    "    \n",
    "labels = np.asarray(labels, 'int')\n",
    "df['label'] = labels\n",
    "print('Label 1: %d, Label 0: %d'%(np.sum(labels), len(labels)-np.sum(labels)))"
   ]
  },
  {
   "cell_type": "code",
   "execution_count": 9,
   "id": "republican-irrigation",
   "metadata": {},
   "outputs": [
    {
     "data": {
      "text/html": [
       "<div>\n",
       "<style scoped>\n",
       "    .dataframe tbody tr th:only-of-type {\n",
       "        vertical-align: middle;\n",
       "    }\n",
       "\n",
       "    .dataframe tbody tr th {\n",
       "        vertical-align: top;\n",
       "    }\n",
       "\n",
       "    .dataframe thead th {\n",
       "        text-align: right;\n",
       "    }\n",
       "</style>\n",
       "<table border=\"1\" class=\"dataframe\">\n",
       "  <thead>\n",
       "    <tr style=\"text-align: right;\">\n",
       "      <th></th>\n",
       "      <th>session</th>\n",
       "      <th>semester</th>\n",
       "      <th>subject</th>\n",
       "      <th>depression</th>\n",
       "      <th>anxiety</th>\n",
       "      <th>stress</th>\n",
       "      <th>label</th>\n",
       "    </tr>\n",
       "  </thead>\n",
       "  <tbody>\n",
       "    <tr>\n",
       "      <th>0</th>\n",
       "      <td>'20140922_s1'</td>\n",
       "      <td>1</td>\n",
       "      <td>1</td>\n",
       "      <td>18</td>\n",
       "      <td>20</td>\n",
       "      <td>38</td>\n",
       "      <td>1</td>\n",
       "    </tr>\n",
       "    <tr>\n",
       "      <th>1</th>\n",
       "      <td>'20141103_s1+s2'</td>\n",
       "      <td>1</td>\n",
       "      <td>1</td>\n",
       "      <td>28</td>\n",
       "      <td>28</td>\n",
       "      <td>30</td>\n",
       "      <td>0</td>\n",
       "    </tr>\n",
       "    <tr>\n",
       "      <th>2</th>\n",
       "      <td>'20141201_s1+s2'</td>\n",
       "      <td>1</td>\n",
       "      <td>1</td>\n",
       "      <td>34</td>\n",
       "      <td>34</td>\n",
       "      <td>32</td>\n",
       "      <td>1</td>\n",
       "    </tr>\n",
       "    <tr>\n",
       "      <th>3</th>\n",
       "      <td>'20141215_s1+s2'</td>\n",
       "      <td>1</td>\n",
       "      <td>1</td>\n",
       "      <td>26</td>\n",
       "      <td>24</td>\n",
       "      <td>22</td>\n",
       "      <td>0</td>\n",
       "    </tr>\n",
       "    <tr>\n",
       "      <th>4</th>\n",
       "      <td>'20141229_s1+s2'</td>\n",
       "      <td>1</td>\n",
       "      <td>1</td>\n",
       "      <td>36</td>\n",
       "      <td>26</td>\n",
       "      <td>30</td>\n",
       "      <td>0</td>\n",
       "    </tr>\n",
       "  </tbody>\n",
       "</table>\n",
       "</div>"
      ],
      "text/plain": [
       "            session  semester  subject  depression  anxiety  stress  label\n",
       "0     '20140922_s1'         1        1          18       20      38      1\n",
       "1  '20141103_s1+s2'         1        1          28       28      30      0\n",
       "2  '20141201_s1+s2'         1        1          34       34      32      1\n",
       "3  '20141215_s1+s2'         1        1          26       24      22      0\n",
       "4  '20141229_s1+s2'         1        1          36       26      30      0"
      ]
     },
     "execution_count": 9,
     "metadata": {},
     "output_type": "execute_result"
    }
   ],
   "source": [
    "df.head()"
   ]
  },
  {
   "cell_type": "markdown",
   "id": "regional-major",
   "metadata": {},
   "source": [
    "## Extract EEG data from mat files"
   ]
  },
  {
   "cell_type": "code",
   "execution_count": 14,
   "id": "infinite-indonesia",
   "metadata": {},
   "outputs": [
    {
     "name": "stdout",
     "output_type": "stream",
     "text": [
      "Load data from .mat files...\n"
     ]
    }
   ],
   "source": [
    "A, B, C = dataloader.read_data()"
   ]
  },
  {
   "cell_type": "code",
   "execution_count": 25,
   "id": "adaptive-drain",
   "metadata": {},
   "outputs": [],
   "source": [
    "channels = sio.loadmat('./data/ch_lib.mat')\n",
    "df = pd.DataFrame(columns = ['ID'] + list(range(30)))\n",
    "\n",
    "for i in range(len(channels['ch_lib'])):\n",
    "    channels_i = channels['ch_lib'][i][0][0]\n",
    "    channels_select_i = [channels_i[i][0] for i in range(len(channels_i))]\n",
    "    num_channel_i = len(channels_select_i)\n",
    "    df.loc[i] = [i+1] + list(channels_select_i) + ['None']*(30-num_channel_i)\n",
    "    "
   ]
  },
  {
   "cell_type": "code",
   "execution_count": 26,
   "id": "complimentary-springer",
   "metadata": {},
   "outputs": [
    {
     "data": {
      "text/html": [
       "<div>\n",
       "<style scoped>\n",
       "    .dataframe tbody tr th:only-of-type {\n",
       "        vertical-align: middle;\n",
       "    }\n",
       "\n",
       "    .dataframe tbody tr th {\n",
       "        vertical-align: top;\n",
       "    }\n",
       "\n",
       "    .dataframe thead th {\n",
       "        text-align: right;\n",
       "    }\n",
       "</style>\n",
       "<table border=\"1\" class=\"dataframe\">\n",
       "  <thead>\n",
       "    <tr style=\"text-align: right;\">\n",
       "      <th></th>\n",
       "      <th>ID</th>\n",
       "      <th>0</th>\n",
       "      <th>1</th>\n",
       "      <th>2</th>\n",
       "      <th>3</th>\n",
       "      <th>4</th>\n",
       "      <th>5</th>\n",
       "      <th>6</th>\n",
       "      <th>7</th>\n",
       "      <th>8</th>\n",
       "      <th>...</th>\n",
       "      <th>20</th>\n",
       "      <th>21</th>\n",
       "      <th>22</th>\n",
       "      <th>23</th>\n",
       "      <th>24</th>\n",
       "      <th>25</th>\n",
       "      <th>26</th>\n",
       "      <th>27</th>\n",
       "      <th>28</th>\n",
       "      <th>29</th>\n",
       "    </tr>\n",
       "  </thead>\n",
       "  <tbody>\n",
       "    <tr>\n",
       "      <th>0</th>\n",
       "      <td>1</td>\n",
       "      <td>C3</td>\n",
       "      <td>C4</td>\n",
       "      <td>CP3</td>\n",
       "      <td>CP4</td>\n",
       "      <td>CPZ</td>\n",
       "      <td>CZ</td>\n",
       "      <td>F3</td>\n",
       "      <td>F4</td>\n",
       "      <td>F7</td>\n",
       "      <td>...</td>\n",
       "      <td>OZ</td>\n",
       "      <td>P3</td>\n",
       "      <td>P4</td>\n",
       "      <td>PZ</td>\n",
       "      <td>T3</td>\n",
       "      <td>T4</td>\n",
       "      <td>T5</td>\n",
       "      <td>T6</td>\n",
       "      <td>TP7</td>\n",
       "      <td>TP8</td>\n",
       "    </tr>\n",
       "    <tr>\n",
       "      <th>1</th>\n",
       "      <td>2</td>\n",
       "      <td>C3</td>\n",
       "      <td>C4</td>\n",
       "      <td>CP3</td>\n",
       "      <td>CP4</td>\n",
       "      <td>CPZ</td>\n",
       "      <td>CZ</td>\n",
       "      <td>F3</td>\n",
       "      <td>F4</td>\n",
       "      <td>F7</td>\n",
       "      <td>...</td>\n",
       "      <td>OZ</td>\n",
       "      <td>P3</td>\n",
       "      <td>P4</td>\n",
       "      <td>PZ</td>\n",
       "      <td>T3</td>\n",
       "      <td>T4</td>\n",
       "      <td>T5</td>\n",
       "      <td>T6</td>\n",
       "      <td>TP7</td>\n",
       "      <td>TP8</td>\n",
       "    </tr>\n",
       "    <tr>\n",
       "      <th>2</th>\n",
       "      <td>3</td>\n",
       "      <td>C3</td>\n",
       "      <td>C4</td>\n",
       "      <td>CP3</td>\n",
       "      <td>CP4</td>\n",
       "      <td>CPZ</td>\n",
       "      <td>CZ</td>\n",
       "      <td>F3</td>\n",
       "      <td>F4</td>\n",
       "      <td>F7</td>\n",
       "      <td>...</td>\n",
       "      <td>OZ</td>\n",
       "      <td>P3</td>\n",
       "      <td>P4</td>\n",
       "      <td>PZ</td>\n",
       "      <td>T3</td>\n",
       "      <td>T4</td>\n",
       "      <td>T5</td>\n",
       "      <td>T6</td>\n",
       "      <td>TP7</td>\n",
       "      <td>TP8</td>\n",
       "    </tr>\n",
       "    <tr>\n",
       "      <th>3</th>\n",
       "      <td>4</td>\n",
       "      <td>C3</td>\n",
       "      <td>C4</td>\n",
       "      <td>CP3</td>\n",
       "      <td>CP4</td>\n",
       "      <td>CPZ</td>\n",
       "      <td>CZ</td>\n",
       "      <td>F3</td>\n",
       "      <td>F4</td>\n",
       "      <td>F7</td>\n",
       "      <td>...</td>\n",
       "      <td>P3</td>\n",
       "      <td>P4</td>\n",
       "      <td>PZ</td>\n",
       "      <td>T3</td>\n",
       "      <td>T4</td>\n",
       "      <td>T5</td>\n",
       "      <td>T6</td>\n",
       "      <td>TP7</td>\n",
       "      <td>TP8</td>\n",
       "      <td>None</td>\n",
       "    </tr>\n",
       "    <tr>\n",
       "      <th>4</th>\n",
       "      <td>5</td>\n",
       "      <td>C3</td>\n",
       "      <td>C4</td>\n",
       "      <td>CP3</td>\n",
       "      <td>CP4</td>\n",
       "      <td>CPZ</td>\n",
       "      <td>CZ</td>\n",
       "      <td>F3</td>\n",
       "      <td>F4</td>\n",
       "      <td>F7</td>\n",
       "      <td>...</td>\n",
       "      <td>OZ</td>\n",
       "      <td>P3</td>\n",
       "      <td>P4</td>\n",
       "      <td>PZ</td>\n",
       "      <td>T3</td>\n",
       "      <td>T4</td>\n",
       "      <td>T5</td>\n",
       "      <td>T6</td>\n",
       "      <td>TP7</td>\n",
       "      <td>TP8</td>\n",
       "    </tr>\n",
       "    <tr>\n",
       "      <th>...</th>\n",
       "      <td>...</td>\n",
       "      <td>...</td>\n",
       "      <td>...</td>\n",
       "      <td>...</td>\n",
       "      <td>...</td>\n",
       "      <td>...</td>\n",
       "      <td>...</td>\n",
       "      <td>...</td>\n",
       "      <td>...</td>\n",
       "      <td>...</td>\n",
       "      <td>...</td>\n",
       "      <td>...</td>\n",
       "      <td>...</td>\n",
       "      <td>...</td>\n",
       "      <td>...</td>\n",
       "      <td>...</td>\n",
       "      <td>...</td>\n",
       "      <td>...</td>\n",
       "      <td>...</td>\n",
       "      <td>...</td>\n",
       "      <td>...</td>\n",
       "    </tr>\n",
       "    <tr>\n",
       "      <th>166</th>\n",
       "      <td>167</td>\n",
       "      <td>C3</td>\n",
       "      <td>C4</td>\n",
       "      <td>CP3</td>\n",
       "      <td>CP4</td>\n",
       "      <td>CPZ</td>\n",
       "      <td>CZ</td>\n",
       "      <td>F3</td>\n",
       "      <td>F4</td>\n",
       "      <td>F7</td>\n",
       "      <td>...</td>\n",
       "      <td>OZ</td>\n",
       "      <td>P3</td>\n",
       "      <td>P4</td>\n",
       "      <td>P7</td>\n",
       "      <td>P8</td>\n",
       "      <td>PZ</td>\n",
       "      <td>T7</td>\n",
       "      <td>T8</td>\n",
       "      <td>TP7</td>\n",
       "      <td>TP8</td>\n",
       "    </tr>\n",
       "    <tr>\n",
       "      <th>167</th>\n",
       "      <td>168</td>\n",
       "      <td>C3</td>\n",
       "      <td>C4</td>\n",
       "      <td>CP3</td>\n",
       "      <td>CP4</td>\n",
       "      <td>CPZ</td>\n",
       "      <td>CZ</td>\n",
       "      <td>F3</td>\n",
       "      <td>F4</td>\n",
       "      <td>F7</td>\n",
       "      <td>...</td>\n",
       "      <td>OZ</td>\n",
       "      <td>P3</td>\n",
       "      <td>P4</td>\n",
       "      <td>P7</td>\n",
       "      <td>P8</td>\n",
       "      <td>PZ</td>\n",
       "      <td>T7</td>\n",
       "      <td>T8</td>\n",
       "      <td>TP7</td>\n",
       "      <td>TP8</td>\n",
       "    </tr>\n",
       "    <tr>\n",
       "      <th>168</th>\n",
       "      <td>169</td>\n",
       "      <td>C3</td>\n",
       "      <td>C4</td>\n",
       "      <td>CP3</td>\n",
       "      <td>CP4</td>\n",
       "      <td>CPZ</td>\n",
       "      <td>CZ</td>\n",
       "      <td>F3</td>\n",
       "      <td>F4</td>\n",
       "      <td>F7</td>\n",
       "      <td>...</td>\n",
       "      <td>OZ</td>\n",
       "      <td>P3</td>\n",
       "      <td>P4</td>\n",
       "      <td>P7</td>\n",
       "      <td>P8</td>\n",
       "      <td>PZ</td>\n",
       "      <td>T7</td>\n",
       "      <td>T8</td>\n",
       "      <td>TP7</td>\n",
       "      <td>TP8</td>\n",
       "    </tr>\n",
       "    <tr>\n",
       "      <th>169</th>\n",
       "      <td>170</td>\n",
       "      <td>C3</td>\n",
       "      <td>C4</td>\n",
       "      <td>CP3</td>\n",
       "      <td>CP4</td>\n",
       "      <td>CPZ</td>\n",
       "      <td>CZ</td>\n",
       "      <td>F3</td>\n",
       "      <td>F4</td>\n",
       "      <td>F7</td>\n",
       "      <td>...</td>\n",
       "      <td>OZ</td>\n",
       "      <td>P3</td>\n",
       "      <td>P4</td>\n",
       "      <td>P7</td>\n",
       "      <td>P8</td>\n",
       "      <td>PZ</td>\n",
       "      <td>T7</td>\n",
       "      <td>T8</td>\n",
       "      <td>TP7</td>\n",
       "      <td>TP8</td>\n",
       "    </tr>\n",
       "    <tr>\n",
       "      <th>170</th>\n",
       "      <td>171</td>\n",
       "      <td>C3</td>\n",
       "      <td>C4</td>\n",
       "      <td>CP3</td>\n",
       "      <td>CP4</td>\n",
       "      <td>CPZ</td>\n",
       "      <td>CZ</td>\n",
       "      <td>F3</td>\n",
       "      <td>F4</td>\n",
       "      <td>F7</td>\n",
       "      <td>...</td>\n",
       "      <td>OZ</td>\n",
       "      <td>P3</td>\n",
       "      <td>P4</td>\n",
       "      <td>PZ</td>\n",
       "      <td>T3</td>\n",
       "      <td>T4</td>\n",
       "      <td>T5</td>\n",
       "      <td>T6</td>\n",
       "      <td>TP7</td>\n",
       "      <td>TP8</td>\n",
       "    </tr>\n",
       "  </tbody>\n",
       "</table>\n",
       "<p>171 rows × 31 columns</p>\n",
       "</div>"
      ],
      "text/plain": [
       "      ID   0   1    2    3    4   5   6   7   8  ...  20  21  22  23  24  25  \\\n",
       "0      1  C3  C4  CP3  CP4  CPZ  CZ  F3  F4  F7  ...  OZ  P3  P4  PZ  T3  T4   \n",
       "1      2  C3  C4  CP3  CP4  CPZ  CZ  F3  F4  F7  ...  OZ  P3  P4  PZ  T3  T4   \n",
       "2      3  C3  C4  CP3  CP4  CPZ  CZ  F3  F4  F7  ...  OZ  P3  P4  PZ  T3  T4   \n",
       "3      4  C3  C4  CP3  CP4  CPZ  CZ  F3  F4  F7  ...  P3  P4  PZ  T3  T4  T5   \n",
       "4      5  C3  C4  CP3  CP4  CPZ  CZ  F3  F4  F7  ...  OZ  P3  P4  PZ  T3  T4   \n",
       "..   ...  ..  ..  ...  ...  ...  ..  ..  ..  ..  ...  ..  ..  ..  ..  ..  ..   \n",
       "166  167  C3  C4  CP3  CP4  CPZ  CZ  F3  F4  F7  ...  OZ  P3  P4  P7  P8  PZ   \n",
       "167  168  C3  C4  CP3  CP4  CPZ  CZ  F3  F4  F7  ...  OZ  P3  P4  P7  P8  PZ   \n",
       "168  169  C3  C4  CP3  CP4  CPZ  CZ  F3  F4  F7  ...  OZ  P3  P4  P7  P8  PZ   \n",
       "169  170  C3  C4  CP3  CP4  CPZ  CZ  F3  F4  F7  ...  OZ  P3  P4  P7  P8  PZ   \n",
       "170  171  C3  C4  CP3  CP4  CPZ  CZ  F3  F4  F7  ...  OZ  P3  P4  PZ  T3  T4   \n",
       "\n",
       "     26   27   28    29  \n",
       "0    T5   T6  TP7   TP8  \n",
       "1    T5   T6  TP7   TP8  \n",
       "2    T5   T6  TP7   TP8  \n",
       "3    T6  TP7  TP8  None  \n",
       "4    T5   T6  TP7   TP8  \n",
       "..   ..  ...  ...   ...  \n",
       "166  T7   T8  TP7   TP8  \n",
       "167  T7   T8  TP7   TP8  \n",
       "168  T7   T8  TP7   TP8  \n",
       "169  T7   T8  TP7   TP8  \n",
       "170  T5   T6  TP7   TP8  \n",
       "\n",
       "[171 rows x 31 columns]"
      ]
     },
     "execution_count": 26,
     "metadata": {},
     "output_type": "execute_result"
    }
   ],
   "source": [
    "df"
   ]
  },
  {
   "cell_type": "code",
   "execution_count": 6,
   "id": "unique-stretch",
   "metadata": {},
   "outputs": [
    {
     "data": {
      "text/plain": [
       "['C3',\n",
       " 'C4',\n",
       " 'CP3',\n",
       " 'CP4',\n",
       " 'CPZ',\n",
       " 'CZ',\n",
       " 'F3',\n",
       " 'F4',\n",
       " 'F7',\n",
       " 'F8',\n",
       " 'FC3',\n",
       " 'FC4',\n",
       " 'FCZ',\n",
       " 'FP1',\n",
       " 'FP2',\n",
       " 'FT7',\n",
       " 'FT8',\n",
       " 'FZ',\n",
       " 'O1',\n",
       " 'O2',\n",
       " 'OZ',\n",
       " 'P3',\n",
       " 'P4',\n",
       " 'PZ',\n",
       " 'T3',\n",
       " 'T4',\n",
       " 'T5',\n",
       " 'T6',\n",
       " 'TP7',\n",
       " 'TP8']"
      ]
     },
     "execution_count": 6,
     "metadata": {},
     "output_type": "execute_result"
    }
   ],
   "source": [
    "channels_i = channels['ch_lib'][0][0][0]\n",
    "channels_select_i = [channels_i[i][0] for i in range(len(channels_i))]\n",
    "channels_select_i"
   ]
  },
  {
   "cell_type": "code",
   "execution_count": 4,
   "id": "apparent-fields",
   "metadata": {},
   "outputs": [
    {
     "data": {
      "text/plain": [
       "['C4', 'CP3', 'CP4', 'F7', 'F8', 'FC4', 'FZ', 'P3']"
      ]
     },
     "execution_count": 4,
     "metadata": {},
     "output_type": "execute_result"
    }
   ],
   "source": [
    "dataloader.find_common_channels()"
   ]
  },
  {
   "cell_type": "markdown",
   "id": "received-stability",
   "metadata": {},
   "source": [
    "# Extract DSS Stress level"
   ]
  },
  {
   "cell_type": "code",
   "execution_count": 57,
   "id": "greek-filename",
   "metadata": {},
   "outputs": [],
   "source": [
    "subjects = list(range(1,27))\n",
    "df_subs = pd.DataFrame()\n",
    "\n",
    "for subject in subjects:\n",
    "    if subject <= 18:\n",
    "        file_path = './data/DSS/first semester/%s/first_datebystress%d.txt'%(str(subject).zfill(2), subject)\n",
    "    else:\n",
    "        file_path = './data/DSS/second semester/%s/second_datebystress%d.txt'%(str(subject-18).zfill(2), subject-18)\n",
    "\n",
    "    df = pd.read_csv(file_path, sep = '\\s+', header=0, names=['date','stress'], index_col=False)\n",
    "    df['subject'] = [subject]*len(df)\n",
    "    df_subs = df_subs.append(df)\n",
    "    \n",
    "df_subs = df_subs.reset_index(drop=True)"
   ]
  },
  {
   "cell_type": "markdown",
   "id": "determined-contract",
   "metadata": {},
   "source": [
    "# Run t-test for resting spectrum between increase and normal stress"
   ]
  },
  {
   "cell_type": "code",
   "execution_count": 92,
   "id": "overall-logging",
   "metadata": {},
   "outputs": [
    {
     "name": "stdout",
     "output_type": "stream",
     "text": [
      "Load data from .mat files...\n"
     ]
    },
    {
     "name": "stderr",
     "output_type": "stream",
     "text": [
      "/Users/hundredball/anaconda3/envs/Math24_new/lib/python3.7/site-packages/pandas/core/dtypes/missing.py:495: VisibleDeprecationWarning: Creating an ndarray from ragged nested sequences (which is a list-or-tuple of lists-or-tuples-or ndarrays with different lengths or shapes) is deprecated. If you meant to do this, you must specify 'dtype=object' when creating the ndarray\n",
      "  val = np.array(val, copy=False)\n",
      "/Users/hundredball/anaconda3/envs/Math24_new/lib/python3.7/site-packages/numpy/core/_asarray.py:83: VisibleDeprecationWarning: Creating an ndarray from ragged nested sequences (which is a list-or-tuple of lists-or-tuples-or ndarrays with different lengths or shapes) is deprecated. If you meant to do this, you must specify 'dtype=object' when creating the ndarray\n",
      "  return array(a, dtype, copy=False, order=order)\n"
     ]
    }
   ],
   "source": [
    "EEG_list, labels, df_all = dataloader.read_data(label_format=2)"
   ]
  },
  {
   "cell_type": "code",
   "execution_count": 93,
   "id": "senior-discount",
   "metadata": {},
   "outputs": [
    {
     "name": "stdout",
     "output_type": "stream",
     "text": [
      "Calculating the bandpower of time-series data...\n",
      "freqs:  [0.000e+00 2.000e-01 4.000e-01 ... 2.496e+02 2.498e+02 2.500e+02]\n",
      "Shape of psd:  (30, 1251)\n"
     ]
    }
   ],
   "source": [
    "low, high = list(range(1,50)), list(range(2,51))\n",
    "powers = bandpower.get_bandpower(EEG_list, 500, low, high)"
   ]
  },
  {
   "cell_type": "code",
   "execution_count": 86,
   "id": "charged-values",
   "metadata": {},
   "outputs": [],
   "source": [
    "# Plot psd of each trial\n",
    "freqs = range(1,50)\n",
    "for i in range(len(powers)):\n",
    "    plt.figure()\n",
    "    for j in range(powers[i].shape[0]):\n",
    "        plt.plot(freqs,10*np.log10(powers[i][j,:]))\n",
    "    plt.xlabel('Frequency (Hz)')\n",
    "    plt.ylabel('PSD (dB)')\n",
    "    plt.title('PSD of No.%d trial'%(i))\n",
    "    plt.savefig('./results/%d.png'%(i))\n",
    "    plt.close()\n",
    "    "
   ]
  },
  {
   "cell_type": "code",
   "execution_count": 94,
   "id": "express-juvenile",
   "metadata": {},
   "outputs": [],
   "source": [
    "increase_group, normal_group = [], []\n",
    "\n",
    "# Seperate two groups and average over channels\n",
    "for i, power in enumerate(powers):\n",
    "    \n",
    "    # Average over channels\n",
    "    avg = np.mean(power, axis=0)\n",
    "    \n",
    "    \n",
    "    # Transform to dB\n",
    "    avg = 10 * np.log10(avg)\n",
    "    \n",
    "    \n",
    "    if labels[i] == 1:\n",
    "        increase_group.append(avg)\n",
    "    else:\n",
    "        normal_group.append(avg)\n",
    "        \n",
    "increase_group = np.array(increase_group)\n",
    "normal_group = np.array(normal_group)"
   ]
  },
  {
   "cell_type": "code",
   "execution_count": 95,
   "id": "cross-connectivity",
   "metadata": {},
   "outputs": [],
   "source": [
    "mean_inc, std_inc = np.mean(increase_group, axis=0), np.std(increase_group, axis=0)\n",
    "mean_nor, std_nor = np.mean(normal_group, axis=0), np.std(normal_group, axis=0)"
   ]
  },
  {
   "cell_type": "code",
   "execution_count": 96,
   "id": "conventional-sucking",
   "metadata": {},
   "outputs": [
    {
     "data": {
      "image/png": "[encoded data removed]",
      "text/plain": [
       "<Figure size 432x288 with 1 Axes>"
      ]
     },
     "metadata": {
      "needs_background": "light"
     },
     "output_type": "display_data"
    }
   ],
   "source": [
    "freqs = range(1,50)\n",
    "plt.plot(freqs, mean_inc, 'r-', label='Increased')\n",
    "plt.plot(freqs, mean_nor, 'b-', label='Normal')\n",
    "plt.plot(freqs, mean_inc+std_inc, 'r--', freqs, mean_inc-std_inc, 'r--')\n",
    "plt.plot(freqs, mean_nor+std_nor, 'b--', freqs, mean_nor-std_nor, 'b--')\n",
    "plt.xlabel('Frequency (Hz)')\n",
    "plt.ylabel('PSD (dB)')\n",
    "plt.title('Stress')\n",
    "plt.legend()\n",
    "plt.savefig('./results/PSD_label2.png')"
   ]
  },
  {
   "cell_type": "code",
   "execution_count": 97,
   "id": "revolutionary-sociology",
   "metadata": {},
   "outputs": [],
   "source": [
    "ttest_result = stats.ttest_ind(increase_group, normal_group)"
   ]
  },
  {
   "cell_type": "code",
   "execution_count": 98,
   "id": "modular-universe",
   "metadata": {},
   "outputs": [
    {
     "data": {
      "image/png": "[encoded data removed]",
      "text/plain": [
       "<Figure size 432x288 with 1 Axes>"
      ]
     },
     "metadata": {
      "needs_background": "light"
     },
     "output_type": "display_data"
    }
   ],
   "source": [
    "plt.plot(freqs, ttest_result.pvalue)\n",
    "plt.xlabel('Frequency (Hz)')\n",
    "plt.ylabel('pvalue')\n",
    "plt.title('Unpaired t-test (2)')\n",
    "plt.savefig('./results/t-test_label2.png')"
   ]
  },
  {
   "cell_type": "markdown",
   "id": "velvet-vietnamese",
   "metadata": {},
   "source": [
    "# Compare labels based on three criteria"
   ]
  },
  {
   "cell_type": "code",
   "execution_count": 3,
   "id": "baking-gender",
   "metadata": {},
   "outputs": [
    {
     "name": "stdout",
     "output_type": "stream",
     "text": [
      "Load data from .mat files...\n"
     ]
    },
    {
     "name": "stderr",
     "output_type": "stream",
     "text": [
      "/Users/hundredball/anaconda3/envs/Math24_new/lib/python3.7/site-packages/pandas/core/dtypes/missing.py:495: VisibleDeprecationWarning: Creating an ndarray from ragged nested sequences (which is a list-or-tuple of lists-or-tuples-or ndarrays with different lengths or shapes) is deprecated. If you meant to do this, you must specify 'dtype=object' when creating the ndarray\n",
      "  val = np.array(val, copy=False)\n",
      "/Users/hundredball/anaconda3/envs/Math24_new/lib/python3.7/site-packages/numpy/core/_asarray.py:83: VisibleDeprecationWarning: Creating an ndarray from ragged nested sequences (which is a list-or-tuple of lists-or-tuples-or ndarrays with different lengths or shapes) is deprecated. If you meant to do this, you must specify 'dtype=object' when creating the ndarray\n",
      "  return array(a, dtype, copy=False, order=order)\n"
     ]
    },
    {
     "name": "stdout",
     "output_type": "stream",
     "text": [
      "Load data from .mat files...\n"
     ]
    },
    {
     "name": "stderr",
     "output_type": "stream",
     "text": [
      "/Users/hundredball/anaconda3/envs/Math24_new/lib/python3.7/site-packages/pandas/core/dtypes/missing.py:495: VisibleDeprecationWarning: Creating an ndarray from ragged nested sequences (which is a list-or-tuple of lists-or-tuples-or ndarrays with different lengths or shapes) is deprecated. If you meant to do this, you must specify 'dtype=object' when creating the ndarray\n",
      "  val = np.array(val, copy=False)\n",
      "/Users/hundredball/anaconda3/envs/Math24_new/lib/python3.7/site-packages/numpy/core/_asarray.py:83: VisibleDeprecationWarning: Creating an ndarray from ragged nested sequences (which is a list-or-tuple of lists-or-tuples-or ndarrays with different lengths or shapes) is deprecated. If you meant to do this, you must specify 'dtype=object' when creating the ndarray\n",
      "  return array(a, dtype, copy=False, order=order)\n"
     ]
    },
    {
     "name": "stdout",
     "output_type": "stream",
     "text": [
      "Load data from .mat files...\n"
     ]
    },
    {
     "name": "stderr",
     "output_type": "stream",
     "text": [
      "/Users/hundredball/anaconda3/envs/Math24_new/lib/python3.7/site-packages/pandas/core/dtypes/missing.py:495: VisibleDeprecationWarning: Creating an ndarray from ragged nested sequences (which is a list-or-tuple of lists-or-tuples-or ndarrays with different lengths or shapes) is deprecated. If you meant to do this, you must specify 'dtype=object' when creating the ndarray\n",
      "  val = np.array(val, copy=False)\n",
      "/Users/hundredball/anaconda3/envs/Math24_new/lib/python3.7/site-packages/numpy/core/_asarray.py:83: VisibleDeprecationWarning: Creating an ndarray from ragged nested sequences (which is a list-or-tuple of lists-or-tuples-or ndarrays with different lengths or shapes) is deprecated. If you meant to do this, you must specify 'dtype=object' when creating the ndarray\n",
      "  return array(a, dtype, copy=False, order=order)\n"
     ]
    }
   ],
   "source": [
    "labels = {}\n",
    "for i in range(1,4):\n",
    "    _, Y, _ = dataloader.read_data(label_format=i)\n",
    "    labels['Label%d'%(i)] = Y\n",
    "    \n",
    "df = pd.DataFrame(labels)\n",
    "df.to_csv('./results/labels.csv')"
   ]
  },
  {
   "cell_type": "code",
   "execution_count": null,
   "id": "endless-yellow",
   "metadata": {},
   "outputs": [],
   "source": []
  }
 ],
 "metadata": {
  "kernelspec": {
   "display_name": "Python 3",
   "language": "python",
   "name": "python3"
  },
  "language_info": {
   "codemirror_mode": {
    "name": "ipython",
    "version": 3
   },
   "file_extension": ".py",
   "mimetype": "text/x-python",
   "name": "python",
   "nbconvert_exporter": "python",
   "pygments_lexer": "ipython3",
   "version": "3.7.9"
  }
 },
 "nbformat": 4,
 "nbformat_minor": 5
}
