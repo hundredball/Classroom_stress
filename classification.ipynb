{
 "cells": [
  {
   "cell_type": "code",
   "execution_count": 8,
   "id": "outer-trunk",
   "metadata": {},
   "outputs": [],
   "source": [
    "import numpy as np\n",
    "import pandas as pd\n",
    "import matplotlib.pyplot as plt\n",
    "from sklearn import svm\n",
    "import xgboost as xgb\n",
    "\n",
    "import dataloader\n",
    "import bandpower"
   ]
  },
  {
   "cell_type": "markdown",
   "id": "after-collins",
   "metadata": {},
   "source": [
    "# Leave-one-subject out cross validation"
   ]
  },
  {
   "cell_type": "code",
   "execution_count": 2,
   "id": "traditional-shade",
   "metadata": {},
   "outputs": [
    {
     "name": "stdout",
     "output_type": "stream",
     "text": [
      "Load data from .mat files...\n"
     ]
    }
   ],
   "source": [
    "X, Y, S = dataloader.read_data()"
   ]
  },
  {
   "cell_type": "code",
   "execution_count": 3,
   "id": "front-submission",
   "metadata": {},
   "outputs": [
    {
     "name": "stdout",
     "output_type": "stream",
     "text": [
      "Calculating the bandpower of time-series data...\n",
      "Shape of psd:  (8, 1251)\n"
     ]
    }
   ],
   "source": [
    "# Transform into power\n",
    "X_power = bandpower.get_bandpower(X, 500, low=[3,7,13], high=[7,13,30])"
   ]
  },
  {
   "cell_type": "code",
   "execution_count": 15,
   "id": "owned-nutrition",
   "metadata": {},
   "outputs": [
    {
     "name": "stdout",
     "output_type": "stream",
     "text": [
      "Sub  \t Chance\t | Train | Val\n",
      "Sub 1\t 66.5%\t | 68.3% | 50.0%\n",
      "Sub 2\t 65.9%\t | 67.7% | 66.7%\n",
      "Sub 3\t 66.0%\t | 67.9% | 62.5%\n",
      "Sub 4\t 67.5%\t | 69.3% | 28.6%\n",
      "Sub 5\t 65.0%\t | 66.9% | 85.7%\n",
      "Sub 6\t 66.5%\t | 68.3% | 50.0%\n",
      "Sub 7\t 66.7%\t | 68.5% | 40.0%\n",
      "Sub 8\t 66.5%\t | 68.3% | 50.0%\n",
      "Sub 9\t 65.9%\t | 67.7% | 66.7%\n",
      "Sub 10\t 66.5%\t | 68.3% | 33.3%\n",
      "Sub 11\t 66.5%\t | 68.3% | 50.0%\n",
      "Sub 12\t 65.9%\t | 67.7% | 66.7%\n",
      "Sub 13\t 65.9%\t | 67.7% | 66.7%\n",
      "Sub 14\t 65.9%\t | 67.7% | 66.7%\n",
      "Sub 16\t 66.1%\t | 67.9% | 50.0%\n",
      "Sub 17\t 66.7%\t | 68.5% | 40.0%\n",
      "Sub 18\t 66.1%\t | 67.9% | 60.0%\n",
      "Sub 19\t 66.2%\t | 68.2% | 61.5%\n",
      "Sub 20\t 66.2%\t | 67.5% | 53.8%\n",
      "Sub 21\t 63.9%\t | 65.8% | 91.7%\n",
      "Sub 22\t 63.5%\t | 65.4% | 100.0%\n",
      "Sub 23\t 65.2%\t | 67.1% | 83.3%\n",
      "Sub 24\t 66.3%\t | 68.1% | 57.1%\n",
      "Sub 25\t 64.4%\t | 66.3% | 100.0%\n",
      "Sub 26\t 65.4%\t | 67.3% | 75.0%\n"
     ]
    }
   ],
   "source": [
    "X_power = X_power.reshape((X_power.shape[0],-1))\n",
    "\n",
    "train_acc_list = []\n",
    "val_acc_list = []\n",
    "print('Sub  \\t Chance\\t | Train | Val')\n",
    "for i_sub, subID in enumerate(np.unique(S)):\n",
    "    \n",
    "    train_indices = np.where(S!=subID)[0]\n",
    "    val_indices = np.where(S==subID)[0]\n",
    "    X_train, Y_train = X_power[train_indices,...], Y[train_indices]\n",
    "    X_val, Y_val = X_power[val_indices,...], Y[val_indices]\n",
    "    \n",
    "    \n",
    "    # Train classifier\n",
    "    clf = svm.SVC()\n",
    "    #clf = xgb.XGBClassifier()\n",
    "    clf.fit(X_train, Y_train)\n",
    "    \n",
    "    # Test classifier\n",
    "    train_acc = clf.score(X_train, Y_train)\n",
    "    val_acc = clf.score(X_val, Y_val)\n",
    "    \n",
    "    train_acc_list.append(train_acc)\n",
    "    val_acc_list.append(val_acc)\n",
    "    \n",
    "    chance = np.sum(Y_train)/len(Y_train)\n",
    "    chance = (1-chance) if chance<0.5 else chance\n",
    "    print('Sub %d\\t %.1f%%\\t | %.1f%% | %.1f%%'%(subID, chance*100, train_acc*100, val_acc*100))"
   ]
  },
  {
   "cell_type": "code",
   "execution_count": null,
   "id": "comparative-tuesday",
   "metadata": {},
   "outputs": [],
   "source": []
  }
 ],
 "metadata": {
  "kernelspec": {
   "display_name": "Python 3",
   "language": "python",
   "name": "python3"
  },
  "language_info": {
   "codemirror_mode": {
    "name": "ipython",
    "version": 3
   },
   "file_extension": ".py",
   "mimetype": "text/x-python",
   "name": "python",
   "nbconvert_exporter": "python",
   "pygments_lexer": "ipython3",
   "version": "3.7.9"
  }
 },
 "nbformat": 4,
 "nbformat_minor": 5
}
