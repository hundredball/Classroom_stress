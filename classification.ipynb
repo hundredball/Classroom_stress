{
 "cells": [
  {
   "cell_type": "code",
   "execution_count": 1,
   "id": "occasional-prince",
   "metadata": {},
   "outputs": [],
   "source": [
    "import itertools\n",
    "\n",
    "import numpy as np\n",
    "import pandas as pd\n",
    "import matplotlib.pyplot as plt\n",
    "from sklearn import svm\n",
    "from sklearn.model_selection import KFold\n",
    "from sklearn.metrics import recall_score\n",
    "from sklearn.metrics import precision_score\n",
    "from sklearn.preprocessing import StandardScaler\n",
    "from sklearn.decomposition import PCA\n",
    "import xgboost as xgb\n",
    "import elm\n",
    "from imblearn.over_sampling import SMOTE \n",
    "\n",
    "import dataloader\n",
    "import bandpower\n",
    "import preprocessing\n",
    "from plot_confusion_matrix import plot_confusion_matrix\n"
   ]
  },
  {
   "cell_type": "markdown",
   "id": "ecological-benefit",
   "metadata": {},
   "source": [
    "# Leave-one-subject out cross validation"
   ]
  },
  {
   "cell_type": "code",
   "execution_count": 3,
   "id": "organized-residence",
   "metadata": {},
   "outputs": [
    {
     "name": "stdout",
     "output_type": "stream",
     "text": [
      "Load data from .mat files...\n"
     ]
    },
    {
     "name": "stderr",
     "output_type": "stream",
     "text": [
      "/Users/hundredball/anaconda3/envs/Math24_new/lib/python3.7/site-packages/pandas/core/dtypes/missing.py:495: VisibleDeprecationWarning: Creating an ndarray from ragged nested sequences (which is a list-or-tuple of lists-or-tuples-or ndarrays with different lengths or shapes) is deprecated. If you meant to do this, you must specify 'dtype=object' when creating the ndarray\n",
      "  val = np.array(val, copy=False)\n",
      "/Users/hundredball/anaconda3/envs/Math24_new/lib/python3.7/site-packages/numpy/core/_asarray.py:83: VisibleDeprecationWarning: Creating an ndarray from ragged nested sequences (which is a list-or-tuple of lists-or-tuples-or ndarrays with different lengths or shapes) is deprecated. If you meant to do this, you must specify 'dtype=object' when creating the ndarray\n",
      "  return array(a, dtype, copy=False, order=order)\n"
     ]
    },
    {
     "name": "stdout",
     "output_type": "stream",
     "text": [
      "Calculating the bandpower of time-series data...\n",
      "freqs:  [0.000e+00 2.000e-01 4.000e-01 ... 4.996e+02 4.998e+02 5.000e+02]\n",
      "Sub  \t Chance\t | Train | Val\n"
     ]
    },
    {
     "name": "stderr",
     "output_type": "stream",
     "text": [
      "/Users/hundredball/anaconda3/envs/Math24_new/lib/python3.7/site-packages/sklearn/metrics/_classification.py:1221: UndefinedMetricWarning: Precision is ill-defined and being set to 0.0 due to no predicted samples. Use `zero_division` parameter to control this behavior.\n",
      "  _warn_prf(average, modifier, msg_start, len(result))\n"
     ]
    },
    {
     "name": "stdout",
     "output_type": "stream",
     "text": [
      "Fold 0\t 85.5%\t | 85.5% | 70.6%\n",
      "Confusion matrix, without normalization\n",
      "[[130   0]\n",
      " [ 22   0]]\n",
      "Confusion matrix, without normalization\n",
      "[[12  0]\n",
      " [ 5  0]]\n"
     ]
    },
    {
     "name": "stderr",
     "output_type": "stream",
     "text": [
      "/Users/hundredball/anaconda3/envs/Math24_new/lib/python3.7/site-packages/sklearn/metrics/_classification.py:1221: UndefinedMetricWarning: Precision is ill-defined and being set to 0.0 due to no predicted samples. Use `zero_division` parameter to control this behavior.\n",
      "  _warn_prf(average, modifier, msg_start, len(result))\n"
     ]
    },
    {
     "name": "stdout",
     "output_type": "stream",
     "text": [
      "Fold 1\t 82.9%\t | 82.9% | 94.1%\n",
      "Confusion matrix, without normalization\n",
      "[[126   0]\n",
      " [ 26   0]]\n",
      "Confusion matrix, without normalization\n",
      "[[16  0]\n",
      " [ 1  0]]\n",
      "Fold 2\t 82.9%\t | 84.9% | 82.4%\n",
      "Confusion matrix, without normalization\n",
      "[[126   0]\n",
      " [ 23   3]]\n",
      "Confusion matrix, without normalization\n",
      "[[14  2]\n",
      " [ 1  0]]\n"
     ]
    },
    {
     "name": "stderr",
     "output_type": "stream",
     "text": [
      "/Users/hundredball/anaconda3/envs/Math24_new/lib/python3.7/site-packages/sklearn/metrics/_classification.py:1221: UndefinedMetricWarning: Precision is ill-defined and being set to 0.0 due to no predicted samples. Use `zero_division` parameter to control this behavior.\n",
      "  _warn_prf(average, modifier, msg_start, len(result))\n"
     ]
    },
    {
     "name": "stdout",
     "output_type": "stream",
     "text": [
      "Fold 3\t 84.9%\t | 84.9% | 76.5%\n",
      "Confusion matrix, without normalization\n",
      "[[129   0]\n",
      " [ 23   0]]\n",
      "Confusion matrix, without normalization\n",
      "[[13  0]\n",
      " [ 4  0]]\n"
     ]
    },
    {
     "name": "stderr",
     "output_type": "stream",
     "text": [
      "/Users/hundredball/anaconda3/envs/Math24_new/lib/python3.7/site-packages/sklearn/metrics/_classification.py:1221: UndefinedMetricWarning: Precision is ill-defined and being set to 0.0 due to no predicted samples. Use `zero_division` parameter to control this behavior.\n",
      "  _warn_prf(average, modifier, msg_start, len(result))\n"
     ]
    },
    {
     "name": "stdout",
     "output_type": "stream",
     "text": [
      "Fold 4\t 84.2%\t | 84.2% | 82.4%\n",
      "Confusion matrix, without normalization\n",
      "[[128   0]\n",
      " [ 24   0]]\n",
      "Confusion matrix, without normalization\n",
      "[[14  0]\n",
      " [ 3  0]]\n"
     ]
    },
    {
     "name": "stderr",
     "output_type": "stream",
     "text": [
      "/Users/hundredball/anaconda3/envs/Math24_new/lib/python3.7/site-packages/sklearn/metrics/_classification.py:1221: UndefinedMetricWarning: Precision is ill-defined and being set to 0.0 due to no predicted samples. Use `zero_division` parameter to control this behavior.\n",
      "  _warn_prf(average, modifier, msg_start, len(result))\n"
     ]
    },
    {
     "name": "stdout",
     "output_type": "stream",
     "text": [
      "Fold 5\t 83.6%\t | 83.6% | 88.2%\n",
      "Confusion matrix, without normalization\n",
      "[[127   0]\n",
      " [ 25   0]]\n",
      "Confusion matrix, without normalization\n",
      "[[15  0]\n",
      " [ 2  0]]\n"
     ]
    },
    {
     "name": "stderr",
     "output_type": "stream",
     "text": [
      "/Users/hundredball/anaconda3/envs/Math24_new/lib/python3.7/site-packages/sklearn/metrics/_classification.py:1221: UndefinedMetricWarning: Precision is ill-defined and being set to 0.0 due to no predicted samples. Use `zero_division` parameter to control this behavior.\n",
      "  _warn_prf(average, modifier, msg_start, len(result))\n"
     ]
    },
    {
     "name": "stdout",
     "output_type": "stream",
     "text": [
      "Fold 6\t 83.6%\t | 83.6% | 88.2%\n",
      "Confusion matrix, without normalization\n",
      "[[127   0]\n",
      " [ 25   0]]\n",
      "Confusion matrix, without normalization\n",
      "[[15  0]\n",
      " [ 2  0]]\n"
     ]
    },
    {
     "name": "stderr",
     "output_type": "stream",
     "text": [
      "/Users/hundredball/anaconda3/envs/Math24_new/lib/python3.7/site-packages/sklearn/metrics/_classification.py:1221: UndefinedMetricWarning: Precision is ill-defined and being set to 0.0 due to no predicted samples. Use `zero_division` parameter to control this behavior.\n",
      "  _warn_prf(average, modifier, msg_start, len(result))\n"
     ]
    },
    {
     "name": "stdout",
     "output_type": "stream",
     "text": [
      "Fold 7\t 84.9%\t | 84.9% | 76.5%\n",
      "Confusion matrix, without normalization\n",
      "[[129   0]\n",
      " [ 23   0]]\n",
      "Confusion matrix, without normalization\n",
      "[[13  0]\n",
      " [ 4  0]]\n"
     ]
    },
    {
     "name": "stderr",
     "output_type": "stream",
     "text": [
      "/Users/hundredball/anaconda3/envs/Math24_new/lib/python3.7/site-packages/sklearn/metrics/_classification.py:1221: UndefinedMetricWarning: Precision is ill-defined and being set to 0.0 due to no predicted samples. Use `zero_division` parameter to control this behavior.\n",
      "  _warn_prf(average, modifier, msg_start, len(result))\n"
     ]
    },
    {
     "name": "stdout",
     "output_type": "stream",
     "text": [
      "Fold 8\t 84.9%\t | 84.9% | 76.5%\n",
      "Confusion matrix, without normalization\n",
      "[[129   0]\n",
      " [ 23   0]]\n",
      "Confusion matrix, without normalization\n",
      "[[13  0]\n",
      " [ 4  0]]\n"
     ]
    },
    {
     "name": "stderr",
     "output_type": "stream",
     "text": [
      "/Users/hundredball/anaconda3/envs/Math24_new/lib/python3.7/site-packages/sklearn/metrics/_classification.py:1221: UndefinedMetricWarning: Precision is ill-defined and being set to 0.0 due to no predicted samples. Use `zero_division` parameter to control this behavior.\n",
      "  _warn_prf(average, modifier, msg_start, len(result))\n"
     ]
    },
    {
     "name": "stdout",
     "output_type": "stream",
     "text": [
      "Fold 9\t 83.0%\t | 83.0% | 93.8%\n",
      "Confusion matrix, without normalization\n",
      "[[127   0]\n",
      " [ 26   0]]\n",
      "Confusion matrix, without normalization\n",
      "[[15  0]\n",
      " [ 1  0]]\n",
      "Average val acc: 82.8%\n",
      "Sub  \t Chance\t | Train | Val\n",
      "Sub 1\t 84.0%\t | 84.0% | 83.3%\n",
      "Confusion matrix, without normalization\n",
      "[[137   0]\n",
      " [ 26   0]]\n"
     ]
    },
    {
     "name": "stderr",
     "output_type": "stream",
     "text": [
      "/Users/hundredball/anaconda3/envs/Math24_new/lib/python3.7/site-packages/sklearn/metrics/_classification.py:1221: UndefinedMetricWarning: Precision is ill-defined and being set to 0.0 due to no predicted samples. Use `zero_division` parameter to control this behavior.\n",
      "  _warn_prf(average, modifier, msg_start, len(result))\n"
     ]
    },
    {
     "name": "stdout",
     "output_type": "stream",
     "text": [
      "Confusion matrix, without normalization\n",
      "[[5 0]\n",
      " [1 0]]\n",
      "Sub 2\t 84.0%\t | 84.0% | 83.3%\n"
     ]
    },
    {
     "name": "stderr",
     "output_type": "stream",
     "text": [
      "/Users/hundredball/anaconda3/envs/Math24_new/lib/python3.7/site-packages/sklearn/metrics/_classification.py:1221: UndefinedMetricWarning: Precision is ill-defined and being set to 0.0 due to no predicted samples. Use `zero_division` parameter to control this behavior.\n",
      "  _warn_prf(average, modifier, msg_start, len(result))\n"
     ]
    },
    {
     "name": "stdout",
     "output_type": "stream",
     "text": [
      "Confusion matrix, without normalization\n",
      "[[137   0]\n",
      " [ 26   0]]\n",
      "Confusion matrix, without normalization\n",
      "[[5 0]\n",
      " [1 0]]\n"
     ]
    },
    {
     "name": "stderr",
     "output_type": "stream",
     "text": [
      "/Users/hundredball/anaconda3/envs/Math24_new/lib/python3.7/site-packages/sklearn/metrics/_classification.py:1221: UndefinedMetricWarning: Precision is ill-defined and being set to 0.0 due to no predicted samples. Use `zero_division` parameter to control this behavior.\n",
      "  _warn_prf(average, modifier, msg_start, len(result))\n"
     ]
    },
    {
     "name": "stdout",
     "output_type": "stream",
     "text": [
      "Sub 3\t 83.9%\t | 83.9% | 87.5%\n",
      "Confusion matrix, without normalization\n",
      "[[135   0]\n",
      " [ 26   0]]\n",
      "Confusion matrix, without normalization\n",
      "[[7 0]\n",
      " [1 0]]\n"
     ]
    },
    {
     "name": "stderr",
     "output_type": "stream",
     "text": [
      "/Users/hundredball/anaconda3/envs/Math24_new/lib/python3.7/site-packages/sklearn/metrics/_classification.py:1221: UndefinedMetricWarning: Precision is ill-defined and being set to 0.0 due to no predicted samples. Use `zero_division` parameter to control this behavior.\n",
      "  _warn_prf(average, modifier, msg_start, len(result))\n"
     ]
    },
    {
     "name": "stdout",
     "output_type": "stream",
     "text": [
      "Sub 4\t 84.0%\t | 84.0% | 85.7%\n",
      "Confusion matrix, without normalization\n",
      "[[136   0]\n",
      " [ 26   0]]\n",
      "Confusion matrix, without normalization\n",
      "[[6 0]\n",
      " [1 0]]\n"
     ]
    },
    {
     "name": "stderr",
     "output_type": "stream",
     "text": [
      "/Users/hundredball/anaconda3/envs/Math24_new/lib/python3.7/site-packages/sklearn/metrics/_classification.py:1221: UndefinedMetricWarning: Precision is ill-defined and being set to 0.0 due to no predicted samples. Use `zero_division` parameter to control this behavior.\n",
      "  _warn_prf(average, modifier, msg_start, len(result))\n"
     ]
    },
    {
     "name": "stdout",
     "output_type": "stream",
     "text": [
      "Sub 5\t 84.0%\t | 84.0% | 85.7%\n",
      "Confusion matrix, without normalization\n",
      "[[136   0]\n",
      " [ 26   0]]\n",
      "Confusion matrix, without normalization\n",
      "[[6 0]\n",
      " [1 0]]\n"
     ]
    },
    {
     "name": "stderr",
     "output_type": "stream",
     "text": [
      "/Users/hundredball/anaconda3/envs/Math24_new/lib/python3.7/site-packages/sklearn/metrics/_classification.py:1221: UndefinedMetricWarning: Recall is ill-defined and being set to 0.0 due to no true samples. Use `zero_division` parameter to control this behavior.\n",
      "  _warn_prf(average, modifier, msg_start, len(result))\n",
      "/Users/hundredball/anaconda3/envs/Math24_new/lib/python3.7/site-packages/sklearn/metrics/_classification.py:1221: UndefinedMetricWarning: Precision is ill-defined and being set to 0.0 due to no predicted samples. Use `zero_division` parameter to control this behavior.\n",
      "  _warn_prf(average, modifier, msg_start, len(result))\n"
     ]
    },
    {
     "name": "stdout",
     "output_type": "stream",
     "text": [
      "Sub 6\t 83.4%\t | 83.4% | 100.0%\n",
      "Confusion matrix, without normalization\n",
      "[[136   0]\n",
      " [ 27   0]]\n",
      "Confusion matrix, without normalization\n",
      "[[6]]\n",
      "Sub 7\t 84.1%\t | 84.1% | 80.0%\n",
      "Confusion matrix, without normalization\n",
      "[[138   0]\n",
      " [ 26   0]]\n"
     ]
    },
    {
     "name": "stderr",
     "output_type": "stream",
     "text": [
      "/Users/hundredball/anaconda3/envs/Math24_new/lib/python3.7/site-packages/sklearn/metrics/_classification.py:1221: UndefinedMetricWarning: Precision is ill-defined and being set to 0.0 due to no predicted samples. Use `zero_division` parameter to control this behavior.\n",
      "  _warn_prf(average, modifier, msg_start, len(result))\n"
     ]
    },
    {
     "name": "stdout",
     "output_type": "stream",
     "text": [
      "Confusion matrix, without normalization\n",
      "[[4 0]\n",
      " [1 0]]\n"
     ]
    },
    {
     "name": "stderr",
     "output_type": "stream",
     "text": [
      "/Users/hundredball/anaconda3/envs/Math24_new/lib/python3.7/site-packages/sklearn/metrics/_classification.py:1221: UndefinedMetricWarning: Precision is ill-defined and being set to 0.0 due to no predicted samples. Use `zero_division` parameter to control this behavior.\n",
      "  _warn_prf(average, modifier, msg_start, len(result))\n"
     ]
    },
    {
     "name": "stdout",
     "output_type": "stream",
     "text": [
      "Sub 8\t 84.1%\t | 84.1% | 80.0%\n",
      "Confusion matrix, without normalization\n",
      "[[138   0]\n",
      " [ 26   0]]\n",
      "Confusion matrix, without normalization\n",
      "[[4 0]\n",
      " [1 0]]\n"
     ]
    },
    {
     "name": "stderr",
     "output_type": "stream",
     "text": [
      "/Users/hundredball/anaconda3/envs/Math24_new/lib/python3.7/site-packages/sklearn/metrics/_classification.py:1221: UndefinedMetricWarning: Precision is ill-defined and being set to 0.0 due to no predicted samples. Use `zero_division` parameter to control this behavior.\n",
      "  _warn_prf(average, modifier, msg_start, len(result))\n"
     ]
    },
    {
     "name": "stdout",
     "output_type": "stream",
     "text": [
      "Sub 9\t 84.0%\t | 84.0% | 83.3%\n",
      "Confusion matrix, without normalization\n",
      "[[137   0]\n",
      " [ 26   0]]\n",
      "Confusion matrix, without normalization\n",
      "[[5 0]\n",
      " [1 0]]\n"
     ]
    },
    {
     "name": "stderr",
     "output_type": "stream",
     "text": [
      "/Users/hundredball/anaconda3/envs/Math24_new/lib/python3.7/site-packages/sklearn/metrics/_classification.py:1221: UndefinedMetricWarning: Precision is ill-defined and being set to 0.0 due to no predicted samples. Use `zero_division` parameter to control this behavior.\n",
      "  _warn_prf(average, modifier, msg_start, len(result))\n"
     ]
    },
    {
     "name": "stdout",
     "output_type": "stream",
     "text": [
      "Sub 10\t 84.3%\t | 84.3% | 66.7%\n",
      "Confusion matrix, without normalization\n",
      "[[140   0]\n",
      " [ 26   0]]\n",
      "Confusion matrix, without normalization\n",
      "[[2 0]\n",
      " [1 0]]\n"
     ]
    },
    {
     "name": "stderr",
     "output_type": "stream",
     "text": [
      "/Users/hundredball/anaconda3/envs/Math24_new/lib/python3.7/site-packages/sklearn/metrics/_classification.py:1221: UndefinedMetricWarning: Precision is ill-defined and being set to 0.0 due to no predicted samples. Use `zero_division` parameter to control this behavior.\n",
      "  _warn_prf(average, modifier, msg_start, len(result))\n"
     ]
    },
    {
     "name": "stdout",
     "output_type": "stream",
     "text": [
      "Sub 11\t 84.0%\t | 84.0% | 83.3%\n",
      "Confusion matrix, without normalization\n",
      "[[137   0]\n",
      " [ 26   0]]\n",
      "Confusion matrix, without normalization\n",
      "[[5 0]\n",
      " [1 0]]\n"
     ]
    },
    {
     "name": "stderr",
     "output_type": "stream",
     "text": [
      "/Users/hundredball/anaconda3/envs/Math24_new/lib/python3.7/site-packages/sklearn/metrics/_classification.py:1221: UndefinedMetricWarning: Precision is ill-defined and being set to 0.0 due to no predicted samples. Use `zero_division` parameter to control this behavior.\n",
      "  _warn_prf(average, modifier, msg_start, len(result))\n"
     ]
    },
    {
     "name": "stdout",
     "output_type": "stream",
     "text": [
      "Sub 12\t 84.7%\t | 84.7% | 66.7%\n",
      "Confusion matrix, without normalization\n",
      "[[138   0]\n",
      " [ 25   0]]\n",
      "Confusion matrix, without normalization\n",
      "[[4 0]\n",
      " [2 0]]\n",
      "Sub 13\t 84.0%\t | 84.0% | 83.3%\n",
      "Confusion matrix, without normalization\n",
      "[[137   0]\n",
      " [ 26   0]]\n"
     ]
    },
    {
     "name": "stderr",
     "output_type": "stream",
     "text": [
      "/Users/hundredball/anaconda3/envs/Math24_new/lib/python3.7/site-packages/sklearn/metrics/_classification.py:1221: UndefinedMetricWarning: Precision is ill-defined and being set to 0.0 due to no predicted samples. Use `zero_division` parameter to control this behavior.\n",
      "  _warn_prf(average, modifier, msg_start, len(result))\n"
     ]
    },
    {
     "name": "stdout",
     "output_type": "stream",
     "text": [
      "Confusion matrix, without normalization\n",
      "[[5 0]\n",
      " [1 0]]\n"
     ]
    },
    {
     "name": "stderr",
     "output_type": "stream",
     "text": [
      "/Users/hundredball/anaconda3/envs/Math24_new/lib/python3.7/site-packages/sklearn/metrics/_classification.py:1221: UndefinedMetricWarning: Precision is ill-defined and being set to 0.0 due to no predicted samples. Use `zero_division` parameter to control this behavior.\n",
      "  _warn_prf(average, modifier, msg_start, len(result))\n"
     ]
    },
    {
     "name": "stdout",
     "output_type": "stream",
     "text": [
      "Sub 14\t 84.3%\t | 84.3% | 66.7%\n",
      "Confusion matrix, without normalization\n",
      "[[140   0]\n",
      " [ 26   0]]\n"
     ]
    },
    {
     "name": "stderr",
     "output_type": "stream",
     "text": [
      "/Users/hundredball/anaconda3/envs/Math24_new/lib/python3.7/site-packages/sklearn/metrics/_classification.py:1221: UndefinedMetricWarning: Recall is ill-defined and being set to 0.0 due to no true samples. Use `zero_division` parameter to control this behavior.\n",
      "  _warn_prf(average, modifier, msg_start, len(result))\n",
      "/Users/hundredball/anaconda3/envs/Math24_new/lib/python3.7/site-packages/sklearn/metrics/_classification.py:1221: UndefinedMetricWarning: Precision is ill-defined and being set to 0.0 due to no predicted samples. Use `zero_division` parameter to control this behavior.\n",
      "  _warn_prf(average, modifier, msg_start, len(result))\n"
     ]
    },
    {
     "name": "stdout",
     "output_type": "stream",
     "text": [
      "Confusion matrix, without normalization\n",
      "[[2 0]\n",
      " [1 0]]\n",
      "Sub 16\t 83.8%\t | 83.8% | 100.0%\n",
      "Confusion matrix, without normalization\n",
      "[[140   0]\n",
      " [ 27   0]]\n",
      "Confusion matrix, without normalization\n",
      "[[2]]\n"
     ]
    },
    {
     "name": "stderr",
     "output_type": "stream",
     "text": [
      "/Users/hundredball/anaconda3/envs/Math24_new/lib/python3.7/site-packages/sklearn/metrics/_classification.py:1221: UndefinedMetricWarning: Precision is ill-defined and being set to 0.0 due to no predicted samples. Use `zero_division` parameter to control this behavior.\n",
      "  _warn_prf(average, modifier, msg_start, len(result))\n"
     ]
    },
    {
     "name": "stdout",
     "output_type": "stream",
     "text": [
      "Sub 17\t 84.1%\t | 84.1% | 80.0%\n",
      "Confusion matrix, without normalization\n",
      "[[138   0]\n",
      " [ 26   0]]\n",
      "Confusion matrix, without normalization\n",
      "[[4 0]\n",
      " [1 0]]\n"
     ]
    },
    {
     "name": "stderr",
     "output_type": "stream",
     "text": [
      "/Users/hundredball/anaconda3/envs/Math24_new/lib/python3.7/site-packages/sklearn/metrics/_classification.py:1221: UndefinedMetricWarning: Precision is ill-defined and being set to 0.0 due to no predicted samples. Use `zero_division` parameter to control this behavior.\n",
      "  _warn_prf(average, modifier, msg_start, len(result))\n"
     ]
    },
    {
     "name": "stdout",
     "output_type": "stream",
     "text": [
      "Sub 18\t 84.1%\t | 84.1% | 80.0%\n",
      "Confusion matrix, without normalization\n",
      "[[138   0]\n",
      " [ 26   0]]\n",
      "Confusion matrix, without normalization\n",
      "[[4 0]\n",
      " [1 0]]\n"
     ]
    },
    {
     "name": "stderr",
     "output_type": "stream",
     "text": [
      "/Users/hundredball/anaconda3/envs/Math24_new/lib/python3.7/site-packages/sklearn/metrics/_classification.py:1221: UndefinedMetricWarning: Precision is ill-defined and being set to 0.0 due to no predicted samples. Use `zero_division` parameter to control this behavior.\n",
      "  _warn_prf(average, modifier, msg_start, len(result))\n"
     ]
    },
    {
     "name": "stdout",
     "output_type": "stream",
     "text": [
      "Sub 19\t 85.9%\t | 85.9% | 61.5%\n",
      "Confusion matrix, without normalization\n",
      "[[134   0]\n",
      " [ 22   0]]\n",
      "Confusion matrix, without normalization\n",
      "[[8 0]\n",
      " [5 0]]\n",
      "Sub 20\t 83.3%\t | 84.6% | 76.9%\n",
      "Confusion matrix, without normalization\n",
      "[[129   1]\n",
      " [ 23   3]]\n",
      "Confusion matrix, without normalization\n",
      "[[10  2]\n",
      " [ 1  0]]\n"
     ]
    },
    {
     "name": "stderr",
     "output_type": "stream",
     "text": [
      "/Users/hundredball/anaconda3/envs/Math24_new/lib/python3.7/site-packages/sklearn/metrics/_classification.py:1221: UndefinedMetricWarning: Precision is ill-defined and being set to 0.0 due to no predicted samples. Use `zero_division` parameter to control this behavior.\n",
      "  _warn_prf(average, modifier, msg_start, len(result))\n"
     ]
    },
    {
     "name": "stdout",
     "output_type": "stream",
     "text": [
      "Sub 21\t 83.4%\t | 83.4% | 91.7%\n",
      "Confusion matrix, without normalization\n",
      "[[131   0]\n",
      " [ 26   0]]\n",
      "Confusion matrix, without normalization\n",
      "[[11  0]\n",
      " [ 1  0]]\n"
     ]
    },
    {
     "name": "stderr",
     "output_type": "stream",
     "text": [
      "/Users/hundredball/anaconda3/envs/Math24_new/lib/python3.7/site-packages/sklearn/metrics/_classification.py:1221: UndefinedMetricWarning: Recall is ill-defined and being set to 0.0 due to no true samples. Use `zero_division` parameter to control this behavior.\n",
      "  _warn_prf(average, modifier, msg_start, len(result))\n",
      "/Users/hundredball/anaconda3/envs/Math24_new/lib/python3.7/site-packages/sklearn/metrics/_classification.py:1221: UndefinedMetricWarning: Precision is ill-defined and being set to 0.0 due to no predicted samples. Use `zero_division` parameter to control this behavior.\n",
      "  _warn_prf(average, modifier, msg_start, len(result))\n"
     ]
    },
    {
     "name": "stdout",
     "output_type": "stream",
     "text": [
      "Sub 22\t 82.9%\t | 82.9% | 100.0%\n",
      "Confusion matrix, without normalization\n",
      "[[131   0]\n",
      " [ 27   0]]\n",
      "Confusion matrix, without normalization\n",
      "[[11]]\n",
      "Sub 23\t 84.0%\t | 84.7% | 66.7%\n",
      "Confusion matrix, without normalization\n",
      "[[137   0]\n",
      " [ 25   1]]\n",
      "Confusion matrix, without normalization\n",
      "[[4 1]\n",
      " [1 0]]\n"
     ]
    },
    {
     "name": "stderr",
     "output_type": "stream",
     "text": [
      "/Users/hundredball/anaconda3/envs/Math24_new/lib/python3.7/site-packages/sklearn/metrics/_classification.py:1221: UndefinedMetricWarning: Precision is ill-defined and being set to 0.0 due to no predicted samples. Use `zero_division` parameter to control this behavior.\n",
      "  _warn_prf(average, modifier, msg_start, len(result))\n"
     ]
    },
    {
     "name": "stdout",
     "output_type": "stream",
     "text": [
      "Sub 24\t 84.6%\t | 84.6% | 71.4%\n",
      "Confusion matrix, without normalization\n",
      "[[137   0]\n",
      " [ 25   0]]\n",
      "Confusion matrix, without normalization\n",
      "[[5 0]\n",
      " [2 0]]\n"
     ]
    },
    {
     "name": "stderr",
     "output_type": "stream",
     "text": [
      "/Users/hundredball/anaconda3/envs/Math24_new/lib/python3.7/site-packages/sklearn/metrics/_classification.py:1221: UndefinedMetricWarning: Recall is ill-defined and being set to 0.0 due to no true samples. Use `zero_division` parameter to control this behavior.\n",
      "  _warn_prf(average, modifier, msg_start, len(result))\n",
      "/Users/hundredball/anaconda3/envs/Math24_new/lib/python3.7/site-packages/sklearn/metrics/_classification.py:1221: UndefinedMetricWarning: Precision is ill-defined and being set to 0.0 due to no predicted samples. Use `zero_division` parameter to control this behavior.\n",
      "  _warn_prf(average, modifier, msg_start, len(result))\n"
     ]
    },
    {
     "name": "stdout",
     "output_type": "stream",
     "text": [
      "Sub 25\t 83.3%\t | 83.3% | 100.0%\n",
      "Confusion matrix, without normalization\n",
      "[[135   0]\n",
      " [ 27   0]]\n",
      "Confusion matrix, without normalization\n",
      "[[7]]\n"
     ]
    },
    {
     "name": "stderr",
     "output_type": "stream",
     "text": [
      "/Users/hundredball/anaconda3/envs/Math24_new/lib/python3.7/site-packages/sklearn/metrics/_classification.py:1221: UndefinedMetricWarning: Precision is ill-defined and being set to 0.0 due to no predicted samples. Use `zero_division` parameter to control this behavior.\n",
      "  _warn_prf(average, modifier, msg_start, len(result))\n"
     ]
    },
    {
     "name": "stdout",
     "output_type": "stream",
     "text": [
      "Sub 26\t 83.9%\t | 83.9% | 87.5%\n",
      "Confusion matrix, without normalization\n",
      "[[135   0]\n",
      " [ 26   0]]\n",
      "Confusion matrix, without normalization\n",
      "[[7 0]\n",
      " [1 0]]\n",
      "Average val acc: 82.2%\n",
      "Sub  \t Chance\t | Train | Val\n",
      "Fold 0\t 50.0%\t | 53.8% | 64.7%\n",
      "Confusion matrix, without normalization\n",
      "[[83 47]\n",
      " [73 57]]\n",
      "Confusion matrix, without normalization\n",
      "[[9 3]\n",
      " [3 2]]\n",
      "Fold 1\t 50.0%\t | 54.4% | 88.2%\n",
      "Confusion matrix, without normalization\n",
      "[[122   4]\n",
      " [111  15]]\n",
      "Confusion matrix, without normalization\n",
      "[[15  1]\n",
      " [ 1  0]]\n",
      "Fold 2\t 50.0%\t | 54.8% | 76.5%\n",
      "Confusion matrix, without normalization\n",
      "[[126   0]\n",
      " [114  12]]\n",
      "Confusion matrix, without normalization\n",
      "[[13  3]\n",
      " [ 1  0]]\n"
     ]
    },
    {
     "name": "stderr",
     "output_type": "stream",
     "text": [
      "/Users/hundredball/anaconda3/envs/Math24_new/lib/python3.7/site-packages/sklearn/metrics/_classification.py:1221: UndefinedMetricWarning: Precision is ill-defined and being set to 0.0 due to no predicted samples. Use `zero_division` parameter to control this behavior.\n",
      "  _warn_prf(average, modifier, msg_start, len(result))\n"
     ]
    },
    {
     "name": "stdout",
     "output_type": "stream",
     "text": [
      "Fold 3\t 50.0%\t | 53.9% | 76.5%\n",
      "Confusion matrix, without normalization\n",
      "[[125   4]\n",
      " [115  14]]\n",
      "Confusion matrix, without normalization\n",
      "[[13  0]\n",
      " [ 4  0]]\n",
      "Fold 4\t 50.0%\t | 58.6% | 52.9%\n",
      "Confusion matrix, without normalization\n",
      "[[52 76]\n",
      " [30 98]]\n",
      "Confusion matrix, without normalization\n",
      "[[7 7]\n",
      " [1 2]]\n",
      "Fold 5\t 50.0%\t | 58.7% | 29.4%\n",
      "Confusion matrix, without normalization\n",
      "[[ 47  80]\n",
      " [ 25 102]]\n",
      "Confusion matrix, without normalization\n",
      "[[ 5 10]\n",
      " [ 2  0]]\n",
      "Fold 6\t 50.0%\t | 58.7% | 23.5%\n",
      "Confusion matrix, without normalization\n",
      "[[65 62]\n",
      " [43 84]]\n",
      "Confusion matrix, without normalization\n",
      "[[ 3 12]\n",
      " [ 1  1]]\n",
      "Fold 7\t 50.0%\t | 55.0% | 76.5%\n",
      "Confusion matrix, without normalization\n",
      "[[124   5]\n",
      " [111  18]]\n"
     ]
    },
    {
     "name": "stderr",
     "output_type": "stream",
     "text": [
      "/Users/hundredball/anaconda3/envs/Math24_new/lib/python3.7/site-packages/sklearn/metrics/_classification.py:1221: UndefinedMetricWarning: Precision is ill-defined and being set to 0.0 due to no predicted samples. Use `zero_division` parameter to control this behavior.\n",
      "  _warn_prf(average, modifier, msg_start, len(result))\n"
     ]
    },
    {
     "name": "stdout",
     "output_type": "stream",
     "text": [
      "Confusion matrix, without normalization\n",
      "[[13  0]\n",
      " [ 4  0]]\n",
      "Fold 8\t 50.0%\t | 58.9% | 35.3%\n",
      "Confusion matrix, without normalization\n",
      "[[ 28 101]\n",
      " [  5 124]]\n",
      "Confusion matrix, without normalization\n",
      "[[4 9]\n",
      " [2 2]]\n"
     ]
    },
    {
     "name": "stderr",
     "output_type": "stream",
     "text": [
      "/Users/hundredball/anaconda3/envs/Math24_new/lib/python3.7/site-packages/sklearn/metrics/_classification.py:1221: UndefinedMetricWarning: Precision is ill-defined and being set to 0.0 due to no predicted samples. Use `zero_division` parameter to control this behavior.\n",
      "  _warn_prf(average, modifier, msg_start, len(result))\n"
     ]
    },
    {
     "name": "stdout",
     "output_type": "stream",
     "text": [
      "Fold 9\t 50.0%\t | 54.7% | 93.8%\n",
      "Confusion matrix, without normalization\n",
      "[[123   4]\n",
      " [111  16]]\n",
      "Confusion matrix, without normalization\n",
      "[[15  0]\n",
      " [ 1  0]]\n",
      "Average val acc: 61.5%\n",
      "Sub  \t Chance\t | Train | Val\n"
     ]
    },
    {
     "name": "stderr",
     "output_type": "stream",
     "text": [
      "/Users/hundredball/anaconda3/envs/Math24_new/lib/python3.7/site-packages/sklearn/metrics/_classification.py:1221: UndefinedMetricWarning: Precision is ill-defined and being set to 0.0 due to no predicted samples. Use `zero_division` parameter to control this behavior.\n",
      "  _warn_prf(average, modifier, msg_start, len(result))\n"
     ]
    },
    {
     "name": "stdout",
     "output_type": "stream",
     "text": [
      "Sub 1\t 50.0%\t | 55.5% | 83.3%\n",
      "Confusion matrix, without normalization\n",
      "[[132   5]\n",
      " [117  20]]\n",
      "Confusion matrix, without normalization\n",
      "[[5 0]\n",
      " [1 0]]\n"
     ]
    },
    {
     "name": "stderr",
     "output_type": "stream",
     "text": [
      "/Users/hundredball/anaconda3/envs/Math24_new/lib/python3.7/site-packages/sklearn/metrics/_classification.py:1221: UndefinedMetricWarning: Precision is ill-defined and being set to 0.0 due to no predicted samples. Use `zero_division` parameter to control this behavior.\n",
      "  _warn_prf(average, modifier, msg_start, len(result))\n"
     ]
    },
    {
     "name": "stdout",
     "output_type": "stream",
     "text": [
      "Sub 2\t 50.0%\t | 55.5% | 83.3%\n",
      "Confusion matrix, without normalization\n",
      "[[132   5]\n",
      " [117  20]]\n",
      "Confusion matrix, without normalization\n",
      "[[5 0]\n",
      " [1 0]]\n"
     ]
    },
    {
     "name": "stderr",
     "output_type": "stream",
     "text": [
      "/Users/hundredball/anaconda3/envs/Math24_new/lib/python3.7/site-packages/sklearn/metrics/_classification.py:1221: UndefinedMetricWarning: Precision is ill-defined and being set to 0.0 due to no predicted samples. Use `zero_division` parameter to control this behavior.\n",
      "  _warn_prf(average, modifier, msg_start, len(result))\n"
     ]
    },
    {
     "name": "stdout",
     "output_type": "stream",
     "text": [
      "Sub 3\t 50.0%\t | 55.6% | 87.5%\n",
      "Confusion matrix, without normalization\n",
      "[[131   4]\n",
      " [116  19]]\n",
      "Confusion matrix, without normalization\n",
      "[[7 0]\n",
      " [1 0]]\n"
     ]
    },
    {
     "name": "stderr",
     "output_type": "stream",
     "text": [
      "/Users/hundredball/anaconda3/envs/Math24_new/lib/python3.7/site-packages/sklearn/metrics/_classification.py:1221: UndefinedMetricWarning: Precision is ill-defined and being set to 0.0 due to no predicted samples. Use `zero_division` parameter to control this behavior.\n",
      "  _warn_prf(average, modifier, msg_start, len(result))\n"
     ]
    },
    {
     "name": "stdout",
     "output_type": "stream",
     "text": [
      "Sub 4\t 50.0%\t | 55.1% | 85.7%\n",
      "Confusion matrix, without normalization\n",
      "[[131   5]\n",
      " [117  19]]\n",
      "Confusion matrix, without normalization\n",
      "[[6 0]\n",
      " [1 0]]\n"
     ]
    },
    {
     "name": "stderr",
     "output_type": "stream",
     "text": [
      "/Users/hundredball/anaconda3/envs/Math24_new/lib/python3.7/site-packages/sklearn/metrics/_classification.py:1221: UndefinedMetricWarning: Precision is ill-defined and being set to 0.0 due to no predicted samples. Use `zero_division` parameter to control this behavior.\n",
      "  _warn_prf(average, modifier, msg_start, len(result))\n"
     ]
    },
    {
     "name": "stdout",
     "output_type": "stream",
     "text": [
      "Sub 5\t 50.0%\t | 55.1% | 85.7%\n",
      "Confusion matrix, without normalization\n",
      "[[131   5]\n",
      " [117  19]]\n",
      "Confusion matrix, without normalization\n",
      "[[6 0]\n",
      " [1 0]]\n"
     ]
    },
    {
     "name": "stderr",
     "output_type": "stream",
     "text": [
      "/Users/hundredball/anaconda3/envs/Math24_new/lib/python3.7/site-packages/sklearn/metrics/_classification.py:1221: UndefinedMetricWarning: Recall is ill-defined and being set to 0.0 due to no true samples. Use `zero_division` parameter to control this behavior.\n",
      "  _warn_prf(average, modifier, msg_start, len(result))\n",
      "/Users/hundredball/anaconda3/envs/Math24_new/lib/python3.7/site-packages/sklearn/metrics/_classification.py:1221: UndefinedMetricWarning: Precision is ill-defined and being set to 0.0 due to no predicted samples. Use `zero_division` parameter to control this behavior.\n",
      "  _warn_prf(average, modifier, msg_start, len(result))\n"
     ]
    },
    {
     "name": "stdout",
     "output_type": "stream",
     "text": [
      "Sub 6\t 50.0%\t | 54.0% | 100.0%\n",
      "Confusion matrix, without normalization\n",
      "[[132   4]\n",
      " [121  15]]\n",
      "Confusion matrix, without normalization\n",
      "[[6]]\n"
     ]
    },
    {
     "name": "stderr",
     "output_type": "stream",
     "text": [
      "/Users/hundredball/anaconda3/envs/Math24_new/lib/python3.7/site-packages/sklearn/metrics/_classification.py:1221: UndefinedMetricWarning: Precision is ill-defined and being set to 0.0 due to no predicted samples. Use `zero_division` parameter to control this behavior.\n",
      "  _warn_prf(average, modifier, msg_start, len(result))\n"
     ]
    },
    {
     "name": "stdout",
     "output_type": "stream",
     "text": [
      "Sub 7\t 50.0%\t | 55.4% | 80.0%\n",
      "Confusion matrix, without normalization\n",
      "[[134   4]\n",
      " [119  19]]\n",
      "Confusion matrix, without normalization\n",
      "[[4 0]\n",
      " [1 0]]\n"
     ]
    },
    {
     "name": "stderr",
     "output_type": "stream",
     "text": [
      "/Users/hundredball/anaconda3/envs/Math24_new/lib/python3.7/site-packages/sklearn/metrics/_classification.py:1221: UndefinedMetricWarning: Precision is ill-defined and being set to 0.0 due to no predicted samples. Use `zero_division` parameter to control this behavior.\n",
      "  _warn_prf(average, modifier, msg_start, len(result))\n"
     ]
    },
    {
     "name": "stdout",
     "output_type": "stream",
     "text": [
      "Sub 8\t 50.0%\t | 55.4% | 80.0%\n",
      "Confusion matrix, without normalization\n",
      "[[134   4]\n",
      " [119  19]]\n",
      "Confusion matrix, without normalization\n",
      "[[4 0]\n",
      " [1 0]]\n"
     ]
    },
    {
     "name": "stderr",
     "output_type": "stream",
     "text": [
      "/Users/hundredball/anaconda3/envs/Math24_new/lib/python3.7/site-packages/sklearn/metrics/_classification.py:1221: UndefinedMetricWarning: Precision is ill-defined and being set to 0.0 due to no predicted samples. Use `zero_division` parameter to control this behavior.\n",
      "  _warn_prf(average, modifier, msg_start, len(result))\n"
     ]
    },
    {
     "name": "stdout",
     "output_type": "stream",
     "text": [
      "Sub 9\t 50.0%\t | 55.5% | 83.3%\n",
      "Confusion matrix, without normalization\n",
      "[[132   5]\n",
      " [117  20]]\n",
      "Confusion matrix, without normalization\n",
      "[[5 0]\n",
      " [1 0]]\n"
     ]
    },
    {
     "name": "stderr",
     "output_type": "stream",
     "text": [
      "/Users/hundredball/anaconda3/envs/Math24_new/lib/python3.7/site-packages/sklearn/metrics/_classification.py:1221: UndefinedMetricWarning: Precision is ill-defined and being set to 0.0 due to no predicted samples. Use `zero_division` parameter to control this behavior.\n",
      "  _warn_prf(average, modifier, msg_start, len(result))\n"
     ]
    },
    {
     "name": "stdout",
     "output_type": "stream",
     "text": [
      "Sub 10\t 50.0%\t | 54.6% | 66.7%\n",
      "Confusion matrix, without normalization\n",
      "[[135   5]\n",
      " [122  18]]\n",
      "Confusion matrix, without normalization\n",
      "[[2 0]\n",
      " [1 0]]\n"
     ]
    },
    {
     "name": "stderr",
     "output_type": "stream",
     "text": [
      "/Users/hundredball/anaconda3/envs/Math24_new/lib/python3.7/site-packages/sklearn/metrics/_classification.py:1221: UndefinedMetricWarning: Precision is ill-defined and being set to 0.0 due to no predicted samples. Use `zero_division` parameter to control this behavior.\n",
      "  _warn_prf(average, modifier, msg_start, len(result))\n"
     ]
    },
    {
     "name": "stdout",
     "output_type": "stream",
     "text": [
      "Sub 11\t 50.0%\t | 55.5% | 83.3%\n",
      "Confusion matrix, without normalization\n",
      "[[132   5]\n",
      " [117  20]]\n",
      "Confusion matrix, without normalization\n",
      "[[5 0]\n",
      " [1 0]]\n"
     ]
    },
    {
     "name": "stderr",
     "output_type": "stream",
     "text": [
      "/Users/hundredball/anaconda3/envs/Math24_new/lib/python3.7/site-packages/sklearn/metrics/_classification.py:1221: UndefinedMetricWarning: Precision is ill-defined and being set to 0.0 due to no predicted samples. Use `zero_division` parameter to control this behavior.\n",
      "  _warn_prf(average, modifier, msg_start, len(result))\n"
     ]
    },
    {
     "name": "stdout",
     "output_type": "stream",
     "text": [
      "Sub 12\t 50.0%\t | 55.1% | 66.7%\n",
      "Confusion matrix, without normalization\n",
      "[[134   4]\n",
      " [120  18]]\n",
      "Confusion matrix, without normalization\n",
      "[[4 0]\n",
      " [2 0]]\n"
     ]
    },
    {
     "name": "stderr",
     "output_type": "stream",
     "text": [
      "/Users/hundredball/anaconda3/envs/Math24_new/lib/python3.7/site-packages/sklearn/metrics/_classification.py:1221: UndefinedMetricWarning: Precision is ill-defined and being set to 0.0 due to no predicted samples. Use `zero_division` parameter to control this behavior.\n",
      "  _warn_prf(average, modifier, msg_start, len(result))\n"
     ]
    },
    {
     "name": "stdout",
     "output_type": "stream",
     "text": [
      "Sub 13\t 50.0%\t | 55.5% | 83.3%\n",
      "Confusion matrix, without normalization\n",
      "[[132   5]\n",
      " [117  20]]\n",
      "Confusion matrix, without normalization\n",
      "[[5 0]\n",
      " [1 0]]\n"
     ]
    },
    {
     "name": "stderr",
     "output_type": "stream",
     "text": [
      "/Users/hundredball/anaconda3/envs/Math24_new/lib/python3.7/site-packages/sklearn/metrics/_classification.py:1221: UndefinedMetricWarning: Precision is ill-defined and being set to 0.0 due to no predicted samples. Use `zero_division` parameter to control this behavior.\n",
      "  _warn_prf(average, modifier, msg_start, len(result))\n"
     ]
    },
    {
     "name": "stdout",
     "output_type": "stream",
     "text": [
      "Sub 14\t 50.0%\t | 54.6% | 66.7%\n",
      "Confusion matrix, without normalization\n",
      "[[135   5]\n",
      " [122  18]]\n",
      "Confusion matrix, without normalization\n",
      "[[2 0]\n",
      " [1 0]]\n"
     ]
    },
    {
     "name": "stderr",
     "output_type": "stream",
     "text": [
      "/Users/hundredball/anaconda3/envs/Math24_new/lib/python3.7/site-packages/sklearn/metrics/_classification.py:1221: UndefinedMetricWarning: Recall is ill-defined and being set to 0.0 due to no true samples. Use `zero_division` parameter to control this behavior.\n",
      "  _warn_prf(average, modifier, msg_start, len(result))\n"
     ]
    },
    {
     "name": "stdout",
     "output_type": "stream",
     "text": [
      "Sub 16\t 50.0%\t | 60.7% | 0.0%\n",
      "Confusion matrix, without normalization\n",
      "[[ 42  98]\n",
      " [ 12 128]]\n",
      "Confusion matrix, without normalization\n",
      "[[0 2]\n",
      " [0 0]]\n"
     ]
    },
    {
     "name": "stderr",
     "output_type": "stream",
     "text": [
      "/Users/hundredball/anaconda3/envs/Math24_new/lib/python3.7/site-packages/sklearn/metrics/_classification.py:1221: UndefinedMetricWarning: Precision is ill-defined and being set to 0.0 due to no predicted samples. Use `zero_division` parameter to control this behavior.\n",
      "  _warn_prf(average, modifier, msg_start, len(result))\n"
     ]
    },
    {
     "name": "stdout",
     "output_type": "stream",
     "text": [
      "Sub 17\t 50.0%\t | 55.4% | 80.0%\n",
      "Confusion matrix, without normalization\n",
      "[[134   4]\n",
      " [119  19]]\n",
      "Confusion matrix, without normalization\n",
      "[[4 0]\n",
      " [1 0]]\n"
     ]
    },
    {
     "name": "stderr",
     "output_type": "stream",
     "text": [
      "/Users/hundredball/anaconda3/envs/Math24_new/lib/python3.7/site-packages/sklearn/metrics/_classification.py:1221: UndefinedMetricWarning: Precision is ill-defined and being set to 0.0 due to no predicted samples. Use `zero_division` parameter to control this behavior.\n",
      "  _warn_prf(average, modifier, msg_start, len(result))\n"
     ]
    },
    {
     "name": "stdout",
     "output_type": "stream",
     "text": [
      "Sub 18\t 50.0%\t | 55.4% | 80.0%\n",
      "Confusion matrix, without normalization\n",
      "[[134   4]\n",
      " [119  19]]\n",
      "Confusion matrix, without normalization\n",
      "[[4 0]\n",
      " [1 0]]\n",
      "Sub 19\t 50.0%\t | 60.4% | 38.5%\n",
      "Confusion matrix, without normalization\n",
      "[[ 35  99]\n",
      " [  7 127]]\n",
      "Confusion matrix, without normalization\n",
      "[[2 6]\n",
      " [2 3]]\n",
      "Sub 20\t 50.0%\t | 55.0% | 53.8%\n",
      "Confusion matrix, without normalization\n",
      "[[127   3]\n",
      " [114  16]]\n",
      "Confusion matrix, without normalization\n",
      "[[7 5]\n",
      " [1 0]]\n",
      "Sub 21\t 50.0%\t | 54.2% | 83.3%\n",
      "Confusion matrix, without normalization\n",
      "[[127   4]\n",
      " [116  15]]\n",
      "Confusion matrix, without normalization\n",
      "[[10  1]\n",
      " [ 1  0]]\n"
     ]
    },
    {
     "name": "stderr",
     "output_type": "stream",
     "text": [
      "/Users/hundredball/anaconda3/envs/Math24_new/lib/python3.7/site-packages/sklearn/metrics/_classification.py:1221: UndefinedMetricWarning: Recall is ill-defined and being set to 0.0 due to no true samples. Use `zero_division` parameter to control this behavior.\n",
      "  _warn_prf(average, modifier, msg_start, len(result))\n"
     ]
    },
    {
     "name": "stdout",
     "output_type": "stream",
     "text": [
      "Sub 22\t 50.0%\t | 55.7% | 18.2%\n",
      "Confusion matrix, without normalization\n",
      "[[ 27 104]\n",
      " [ 12 119]]\n",
      "Confusion matrix, without normalization\n",
      "[[2 9]\n",
      " [0 0]]\n",
      "Sub 23\t 50.0%\t | 54.4% | 66.7%\n",
      "Confusion matrix, without normalization\n",
      "[[134   3]\n",
      " [122  15]]\n",
      "Confusion matrix, without normalization\n",
      "[[4 1]\n",
      " [1 0]]\n",
      "Sub 24\t 50.0%\t | 58.8% | 28.6%\n",
      "Confusion matrix, without normalization\n",
      "[[ 29 108]\n",
      " [  5 132]]\n",
      "Confusion matrix, without normalization\n",
      "[[0 5]\n",
      " [0 2]]\n"
     ]
    },
    {
     "name": "stderr",
     "output_type": "stream",
     "text": [
      "/Users/hundredball/anaconda3/envs/Math24_new/lib/python3.7/site-packages/sklearn/metrics/_classification.py:1221: UndefinedMetricWarning: Recall is ill-defined and being set to 0.0 due to no true samples. Use `zero_division` parameter to control this behavior.\n",
      "  _warn_prf(average, modifier, msg_start, len(result))\n"
     ]
    },
    {
     "name": "stdout",
     "output_type": "stream",
     "text": [
      "Sub 25\t 50.0%\t | 53.7% | 42.9%\n",
      "Confusion matrix, without normalization\n",
      "[[ 42  93]\n",
      " [ 32 103]]\n",
      "Confusion matrix, without normalization\n",
      "[[3 4]\n",
      " [0 0]]\n",
      "Sub 26\t 50.0%\t | 56.7% | 12.5%\n",
      "Confusion matrix, without normalization\n",
      "[[ 21 114]\n",
      " [  3 132]]\n",
      "Confusion matrix, without normalization\n",
      "[[0 7]\n",
      " [0 1]]\n",
      "Average val acc: 63.9%\n",
      "Sub  \t Chance\t | Train | Val\n",
      "Fold 0\t 85.5%\t | 98.7% | 58.8%\n",
      "Confusion matrix, without normalization\n",
      "[[130   0]\n",
      " [  2  20]]\n",
      "Confusion matrix, without normalization\n",
      "[[10  2]\n",
      " [ 5  0]]\n",
      "Fold 1\t 82.9%\t | 98.7% | 82.4%\n",
      "Confusion matrix, without normalization\n",
      "[[126   0]\n",
      " [  2  24]]\n",
      "Confusion matrix, without normalization\n",
      "[[14  2]\n",
      " [ 1  0]]\n",
      "Fold 2\t 82.9%\t | 98.7% | 70.6%\n",
      "Confusion matrix, without normalization\n",
      "[[126   0]\n",
      " [  2  24]]\n",
      "Confusion matrix, without normalization\n",
      "[[12  4]\n",
      " [ 1  0]]\n",
      "Fold 3\t 84.9%\t | 98.7% | 76.5%\n",
      "Confusion matrix, without normalization\n",
      "[[129   0]\n",
      " [  2  21]]\n",
      "Confusion matrix, without normalization\n",
      "[[11  2]\n",
      " [ 2  2]]\n"
     ]
    },
    {
     "name": "stderr",
     "output_type": "stream",
     "text": [
      "/Users/hundredball/anaconda3/envs/Math24_new/lib/python3.7/site-packages/sklearn/metrics/_classification.py:1221: UndefinedMetricWarning: Precision is ill-defined and being set to 0.0 due to no predicted samples. Use `zero_division` parameter to control this behavior.\n",
      "  _warn_prf(average, modifier, msg_start, len(result))\n"
     ]
    },
    {
     "name": "stdout",
     "output_type": "stream",
     "text": [
      "Fold 4\t 84.2%\t | 98.7% | 82.4%\n",
      "Confusion matrix, without normalization\n",
      "[[128   0]\n",
      " [  2  22]]\n",
      "Confusion matrix, without normalization\n",
      "[[14  0]\n",
      " [ 3  0]]\n"
     ]
    },
    {
     "name": "stderr",
     "output_type": "stream",
     "text": [
      "/Users/hundredball/anaconda3/envs/Math24_new/lib/python3.7/site-packages/sklearn/metrics/_classification.py:1221: UndefinedMetricWarning: Precision is ill-defined and being set to 0.0 due to no predicted samples. Use `zero_division` parameter to control this behavior.\n",
      "  _warn_prf(average, modifier, msg_start, len(result))\n"
     ]
    },
    {
     "name": "stdout",
     "output_type": "stream",
     "text": [
      "Fold 5\t 83.6%\t | 98.7% | 88.2%\n",
      "Confusion matrix, without normalization\n",
      "[[127   0]\n",
      " [  2  23]]\n",
      "Confusion matrix, without normalization\n",
      "[[15  0]\n",
      " [ 2  0]]\n",
      "Fold 6\t 83.6%\t | 98.7% | 82.4%\n",
      "Confusion matrix, without normalization\n",
      "[[127   0]\n",
      " [  2  23]]\n",
      "Confusion matrix, without normalization\n",
      "[[13  2]\n",
      " [ 1  1]]\n",
      "Fold 7\t 84.9%\t | 98.7% | 70.6%\n",
      "Confusion matrix, without normalization\n",
      "[[129   0]\n",
      " [  2  21]]\n",
      "Confusion matrix, without normalization\n",
      "[[11  2]\n",
      " [ 3  1]]\n",
      "Fold 8\t 84.9%\t | 98.7% | 58.8%\n",
      "Confusion matrix, without normalization\n",
      "[[129   0]\n",
      " [  2  21]]\n",
      "Confusion matrix, without normalization\n",
      "[[10  3]\n",
      " [ 4  0]]\n",
      "Fold 9\t 83.0%\t | 98.7% | 87.5%\n",
      "Confusion matrix, without normalization\n",
      "[[127   0]\n",
      " [  2  24]]\n",
      "Confusion matrix, without normalization\n",
      "[[13  2]\n",
      " [ 0  1]]\n",
      "Average val acc: 75.7%\n",
      "Sub  \t Chance\t | Train | Val\n",
      "Sub 1\t 84.0%\t | 98.8% | 66.7%\n",
      "Confusion matrix, without normalization\n",
      "[[137   0]\n",
      " [  2  24]]\n",
      "Confusion matrix, without normalization\n",
      "[[4 1]\n",
      " [1 0]]\n",
      "Sub 2\t 84.0%\t | 98.8% | 100.0%\n",
      "Confusion matrix, without normalization\n",
      "[[137   0]\n",
      " [  2  24]]\n",
      "Confusion matrix, without normalization\n",
      "[[5 0]\n",
      " [0 1]]\n"
     ]
    },
    {
     "name": "stderr",
     "output_type": "stream",
     "text": [
      "/Users/hundredball/anaconda3/envs/Math24_new/lib/python3.7/site-packages/sklearn/metrics/_classification.py:1221: UndefinedMetricWarning: Precision is ill-defined and being set to 0.0 due to no predicted samples. Use `zero_division` parameter to control this behavior.\n",
      "  _warn_prf(average, modifier, msg_start, len(result))\n"
     ]
    },
    {
     "name": "stdout",
     "output_type": "stream",
     "text": [
      "Sub 3\t 83.9%\t | 98.8% | 87.5%\n",
      "Confusion matrix, without normalization\n",
      "[[135   0]\n",
      " [  2  24]]\n",
      "Confusion matrix, without normalization\n",
      "[[7 0]\n",
      " [1 0]]\n",
      "Sub 4\t 84.0%\t | 98.8% | 71.4%\n",
      "Confusion matrix, without normalization\n",
      "[[136   0]\n",
      " [  2  24]]\n",
      "Confusion matrix, without normalization\n",
      "[[5 1]\n",
      " [1 0]]\n"
     ]
    },
    {
     "name": "stderr",
     "output_type": "stream",
     "text": [
      "/Users/hundredball/anaconda3/envs/Math24_new/lib/python3.7/site-packages/sklearn/metrics/_classification.py:1221: UndefinedMetricWarning: Precision is ill-defined and being set to 0.0 due to no predicted samples. Use `zero_division` parameter to control this behavior.\n",
      "  _warn_prf(average, modifier, msg_start, len(result))\n"
     ]
    },
    {
     "name": "stdout",
     "output_type": "stream",
     "text": [
      "Sub 5\t 84.0%\t | 98.8% | 85.7%\n",
      "Confusion matrix, without normalization\n",
      "[[136   0]\n",
      " [  2  24]]\n",
      "Confusion matrix, without normalization\n",
      "[[6 0]\n",
      " [1 0]]\n"
     ]
    },
    {
     "name": "stderr",
     "output_type": "stream",
     "text": [
      "/Users/hundredball/anaconda3/envs/Math24_new/lib/python3.7/site-packages/sklearn/metrics/_classification.py:1221: UndefinedMetricWarning: Recall is ill-defined and being set to 0.0 due to no true samples. Use `zero_division` parameter to control this behavior.\n",
      "  _warn_prf(average, modifier, msg_start, len(result))\n",
      "/Users/hundredball/anaconda3/envs/Math24_new/lib/python3.7/site-packages/sklearn/metrics/_classification.py:1221: UndefinedMetricWarning: Precision is ill-defined and being set to 0.0 due to no predicted samples. Use `zero_division` parameter to control this behavior.\n",
      "  _warn_prf(average, modifier, msg_start, len(result))\n"
     ]
    },
    {
     "name": "stdout",
     "output_type": "stream",
     "text": [
      "Sub 6\t 83.4%\t | 98.8% | 100.0%\n",
      "Confusion matrix, without normalization\n",
      "[[136   0]\n",
      " [  2  25]]\n",
      "Confusion matrix, without normalization\n",
      "[[6]]\n"
     ]
    },
    {
     "name": "stderr",
     "output_type": "stream",
     "text": [
      "/Users/hundredball/anaconda3/envs/Math24_new/lib/python3.7/site-packages/sklearn/metrics/_classification.py:1221: UndefinedMetricWarning: Precision is ill-defined and being set to 0.0 due to no predicted samples. Use `zero_division` parameter to control this behavior.\n",
      "  _warn_prf(average, modifier, msg_start, len(result))\n"
     ]
    },
    {
     "name": "stdout",
     "output_type": "stream",
     "text": [
      "Sub 7\t 84.1%\t | 98.8% | 80.0%\n",
      "Confusion matrix, without normalization\n",
      "[[138   0]\n",
      " [  2  24]]\n",
      "Confusion matrix, without normalization\n",
      "[[4 0]\n",
      " [1 0]]\n",
      "Sub 8\t 84.1%\t | 98.2% | 60.0%\n",
      "Confusion matrix, without normalization\n",
      "[[138   0]\n",
      " [  3  23]]\n",
      "Confusion matrix, without normalization\n",
      "[[3 1]\n",
      " [1 0]]\n"
     ]
    },
    {
     "name": "stderr",
     "output_type": "stream",
     "text": [
      "/Users/hundredball/anaconda3/envs/Math24_new/lib/python3.7/site-packages/sklearn/metrics/_classification.py:1221: UndefinedMetricWarning: Precision is ill-defined and being set to 0.0 due to no predicted samples. Use `zero_division` parameter to control this behavior.\n",
      "  _warn_prf(average, modifier, msg_start, len(result))\n"
     ]
    },
    {
     "name": "stdout",
     "output_type": "stream",
     "text": [
      "Sub 9\t 84.0%\t | 98.8% | 83.3%\n",
      "Confusion matrix, without normalization\n",
      "[[137   0]\n",
      " [  2  24]]\n",
      "Confusion matrix, without normalization\n",
      "[[5 0]\n",
      " [1 0]]\n"
     ]
    },
    {
     "name": "stderr",
     "output_type": "stream",
     "text": [
      "/Users/hundredball/anaconda3/envs/Math24_new/lib/python3.7/site-packages/sklearn/metrics/_classification.py:1221: UndefinedMetricWarning: Precision is ill-defined and being set to 0.0 due to no predicted samples. Use `zero_division` parameter to control this behavior.\n",
      "  _warn_prf(average, modifier, msg_start, len(result))\n"
     ]
    },
    {
     "name": "stdout",
     "output_type": "stream",
     "text": [
      "Sub 10\t 84.3%\t | 98.8% | 66.7%\n",
      "Confusion matrix, without normalization\n",
      "[[140   0]\n",
      " [  2  24]]\n",
      "Confusion matrix, without normalization\n",
      "[[2 0]\n",
      " [1 0]]\n",
      "Sub 11\t 84.0%\t | 98.8% | 83.3%\n",
      "Confusion matrix, without normalization\n",
      "[[137   0]\n",
      " [  2  24]]\n",
      "Confusion matrix, without normalization\n",
      "[[4 1]\n",
      " [0 1]]\n",
      "Sub 12\t 84.7%\t | 98.8% | 50.0%\n",
      "Confusion matrix, without normalization\n",
      "[[138   0]\n",
      " [  2  23]]\n",
      "Confusion matrix, without normalization\n",
      "[[3 1]\n",
      " [2 0]]\n",
      "Sub 13\t 84.0%\t | 98.8% | 100.0%\n",
      "Confusion matrix, without normalization\n",
      "[[137   0]\n",
      " [  2  24]]\n",
      "Confusion matrix, without normalization\n",
      "[[5 0]\n",
      " [0 1]]\n",
      "Sub 14\t 84.3%\t | 98.8% | 100.0%\n",
      "Confusion matrix, without normalization\n",
      "[[140   0]\n",
      " [  2  24]]\n",
      "Confusion matrix, without normalization\n",
      "[[2 0]\n",
      " [0 1]]\n"
     ]
    },
    {
     "name": "stderr",
     "output_type": "stream",
     "text": [
      "/Users/hundredball/anaconda3/envs/Math24_new/lib/python3.7/site-packages/sklearn/metrics/_classification.py:1221: UndefinedMetricWarning: Recall is ill-defined and being set to 0.0 due to no true samples. Use `zero_division` parameter to control this behavior.\n",
      "  _warn_prf(average, modifier, msg_start, len(result))\n"
     ]
    },
    {
     "name": "stdout",
     "output_type": "stream",
     "text": [
      "Sub 16\t 83.8%\t | 98.8% | 50.0%\n",
      "Confusion matrix, without normalization\n",
      "[[140   0]\n",
      " [  2  25]]\n",
      "Confusion matrix, without normalization\n",
      "[[1 1]\n",
      " [0 0]]\n",
      "Sub 17\t 84.1%\t | 98.8% | 60.0%\n",
      "Confusion matrix, without normalization\n",
      "[[138   0]\n",
      " [  2  24]]\n",
      "Confusion matrix, without normalization\n",
      "[[3 1]\n",
      " [1 0]]\n",
      "Sub 18\t 84.1%\t | 98.8% | 100.0%\n",
      "Confusion matrix, without normalization\n",
      "[[138   0]\n",
      " [  2  24]]\n",
      "Confusion matrix, without normalization\n",
      "[[4 0]\n",
      " [0 1]]\n",
      "Sub 19\t 85.9%\t | 98.7% | 46.2%\n",
      "Confusion matrix, without normalization\n",
      "[[134   0]\n",
      " [  2  20]]\n",
      "Confusion matrix, without normalization\n",
      "[[6 2]\n",
      " [5 0]]\n",
      "Sub 20\t 83.3%\t | 98.1% | 53.8%\n",
      "Confusion matrix, without normalization\n",
      "[[128   2]\n",
      " [  1  25]]\n",
      "Confusion matrix, without normalization\n",
      "[[7 5]\n",
      " [1 0]]\n",
      "Sub 21\t 83.4%\t | 98.7% | 50.0%\n",
      "Confusion matrix, without normalization\n",
      "[[131   0]\n",
      " [  2  24]]\n",
      "Confusion matrix, without normalization\n",
      "[[6 5]\n",
      " [1 0]]\n"
     ]
    },
    {
     "name": "stderr",
     "output_type": "stream",
     "text": [
      "/Users/hundredball/anaconda3/envs/Math24_new/lib/python3.7/site-packages/sklearn/metrics/_classification.py:1221: UndefinedMetricWarning: Recall is ill-defined and being set to 0.0 due to no true samples. Use `zero_division` parameter to control this behavior.\n",
      "  _warn_prf(average, modifier, msg_start, len(result))\n"
     ]
    },
    {
     "name": "stdout",
     "output_type": "stream",
     "text": [
      "Sub 22\t 82.9%\t | 98.7% | 81.8%\n",
      "Confusion matrix, without normalization\n",
      "[[131   0]\n",
      " [  2  25]]\n",
      "Confusion matrix, without normalization\n",
      "[[9 2]\n",
      " [0 0]]\n",
      "Sub 23\t 84.0%\t | 98.8% | 66.7%\n",
      "Confusion matrix, without normalization\n",
      "[[137   0]\n",
      " [  2  24]]\n",
      "Confusion matrix, without normalization\n",
      "[[4 1]\n",
      " [1 0]]\n",
      "Sub 24\t 84.6%\t | 98.8% | 42.9%\n",
      "Confusion matrix, without normalization\n",
      "[[137   0]\n",
      " [  2  23]]\n",
      "Confusion matrix, without normalization\n",
      "[[3 2]\n",
      " [2 0]]\n"
     ]
    },
    {
     "name": "stderr",
     "output_type": "stream",
     "text": [
      "/Users/hundredball/anaconda3/envs/Math24_new/lib/python3.7/site-packages/sklearn/metrics/_classification.py:1221: UndefinedMetricWarning: Recall is ill-defined and being set to 0.0 due to no true samples. Use `zero_division` parameter to control this behavior.\n",
      "  _warn_prf(average, modifier, msg_start, len(result))\n"
     ]
    },
    {
     "name": "stdout",
     "output_type": "stream",
     "text": [
      "Sub 25\t 83.3%\t | 98.8% | 71.4%\n",
      "Confusion matrix, without normalization\n",
      "[[135   0]\n",
      " [  2  25]]\n",
      "Confusion matrix, without normalization\n",
      "[[5 2]\n",
      " [0 0]]\n"
     ]
    },
    {
     "name": "stderr",
     "output_type": "stream",
     "text": [
      "/Users/hundredball/anaconda3/envs/Math24_new/lib/python3.7/site-packages/sklearn/metrics/_classification.py:1221: UndefinedMetricWarning: Precision is ill-defined and being set to 0.0 due to no predicted samples. Use `zero_division` parameter to control this behavior.\n",
      "  _warn_prf(average, modifier, msg_start, len(result))\n"
     ]
    },
    {
     "name": "stdout",
     "output_type": "stream",
     "text": [
      "Sub 26\t 83.9%\t | 98.8% | 87.5%\n",
      "Confusion matrix, without normalization\n",
      "[[135   0]\n",
      " [  2  24]]\n",
      "Confusion matrix, without normalization\n",
      "[[7 0]\n",
      " [1 0]]\n",
      "Average val acc: 71.6%\n",
      "Sub  \t Chance\t | Train | Val\n",
      "Fold 0\t 50.0%\t | 94.6% | 35.3%\n",
      "Confusion matrix, without normalization\n",
      "[[124   6]\n",
      " [  8 122]]\n",
      "Confusion matrix, without normalization\n",
      "[[6 6]\n",
      " [5 0]]\n",
      "Fold 1\t 50.0%\t | 92.1% | 64.7%\n",
      "Confusion matrix, without normalization\n",
      "[[117   9]\n",
      " [ 11 115]]\n",
      "Confusion matrix, without normalization\n",
      "[[11  5]\n",
      " [ 1  0]]\n",
      "Fold 2\t 50.0%\t | 91.3% | 58.8%\n",
      "Confusion matrix, without normalization\n",
      "[[117   9]\n",
      " [ 13 113]]\n",
      "Confusion matrix, without normalization\n",
      "[[10  6]\n",
      " [ 1  0]]\n",
      "Fold 3\t 50.0%\t | 90.7% | 52.9%\n",
      "Confusion matrix, without normalization\n",
      "[[119  10]\n",
      " [ 14 115]]\n",
      "Confusion matrix, without normalization\n",
      "[[7 6]\n",
      " [2 2]]\n",
      "Fold 4\t 50.0%\t | 91.8% | 76.5%\n",
      "Confusion matrix, without normalization\n",
      "[[119   9]\n",
      " [ 12 116]]\n",
      "Confusion matrix, without normalization\n",
      "[[11  3]\n",
      " [ 1  2]]\n",
      "Fold 5\t 50.0%\t | 90.9% | 58.8%\n",
      "Confusion matrix, without normalization\n",
      "[[113  14]\n",
      " [  9 118]]\n",
      "Confusion matrix, without normalization\n",
      "[[9 6]\n",
      " [1 1]]\n",
      "Fold 6\t 50.0%\t | 92.1% | 58.8%\n",
      "Confusion matrix, without normalization\n",
      "[[117  10]\n",
      " [ 10 117]]\n",
      "Confusion matrix, without normalization\n",
      "[[9 6]\n",
      " [1 1]]\n",
      "Fold 7\t 50.0%\t | 91.9% | 47.1%\n",
      "Confusion matrix, without normalization\n",
      "[[120   9]\n",
      " [ 12 117]]\n",
      "Confusion matrix, without normalization\n",
      "[[7 6]\n",
      " [3 1]]\n",
      "Fold 8\t 50.0%\t | 92.6% | 47.1%\n",
      "Confusion matrix, without normalization\n",
      "[[122   7]\n",
      " [ 12 117]]\n",
      "Confusion matrix, without normalization\n",
      "[[6 7]\n",
      " [2 2]]\n",
      "Fold 9\t 50.0%\t | 93.3% | 56.2%\n",
      "Confusion matrix, without normalization\n",
      "[[118   9]\n",
      " [  8 119]]\n",
      "Confusion matrix, without normalization\n",
      "[[8 7]\n",
      " [0 1]]\n",
      "Average val acc: 55.6%\n",
      "Sub  \t Chance\t | Train | Val\n",
      "Sub 1\t 50.0%\t | 93.8% | 50.0%\n",
      "Confusion matrix, without normalization\n",
      "[[130   7]\n",
      " [ 10 127]]\n",
      "Confusion matrix, without normalization\n",
      "[[2 3]\n",
      " [0 1]]\n",
      "Sub 2\t 50.0%\t | 91.6% | 83.3%\n",
      "Confusion matrix, without normalization\n",
      "[[126  11]\n",
      " [ 12 125]]\n",
      "Confusion matrix, without normalization\n",
      "[[4 1]\n",
      " [0 1]]\n",
      "Sub 3\t 50.0%\t | 91.9% | 62.5%\n",
      "Confusion matrix, without normalization\n",
      "[[125  10]\n",
      " [ 12 123]]\n",
      "Confusion matrix, without normalization\n",
      "[[5 2]\n",
      " [1 0]]\n",
      "Sub 4\t 50.0%\t | 91.2% | 71.4%\n",
      "Confusion matrix, without normalization\n",
      "[[119  17]\n",
      " [  7 129]]\n",
      "Confusion matrix, without normalization\n",
      "[[5 1]\n",
      " [1 0]]\n",
      "Sub 5\t 50.0%\t | 91.2% | 28.6%\n",
      "Confusion matrix, without normalization\n",
      "[[126  10]\n",
      " [ 14 122]]\n",
      "Confusion matrix, without normalization\n",
      "[[2 4]\n",
      " [1 0]]\n"
     ]
    },
    {
     "name": "stderr",
     "output_type": "stream",
     "text": [
      "/Users/hundredball/anaconda3/envs/Math24_new/lib/python3.7/site-packages/sklearn/metrics/_classification.py:1221: UndefinedMetricWarning: Recall is ill-defined and being set to 0.0 due to no true samples. Use `zero_division` parameter to control this behavior.\n",
      "  _warn_prf(average, modifier, msg_start, len(result))\n"
     ]
    },
    {
     "name": "stdout",
     "output_type": "stream",
     "text": [
      "Sub 6\t 50.0%\t | 91.2% | 83.3%\n",
      "Confusion matrix, without normalization\n",
      "[[123  13]\n",
      " [ 11 125]]\n",
      "Confusion matrix, without normalization\n",
      "[[5 1]\n",
      " [0 0]]\n",
      "Sub 7\t 50.0%\t | 92.0% | 40.0%\n",
      "Confusion matrix, without normalization\n",
      "[[129   9]\n",
      " [ 13 125]]\n",
      "Confusion matrix, without normalization\n",
      "[[2 2]\n",
      " [1 0]]\n",
      "Sub 8\t 50.0%\t | 91.3% | 20.0%\n",
      "Confusion matrix, without normalization\n",
      "[[128  10]\n",
      " [ 14 124]]\n",
      "Confusion matrix, without normalization\n",
      "[[1 3]\n",
      " [1 0]]\n",
      "Sub 9\t 50.0%\t | 90.1% | 50.0%\n",
      "Confusion matrix, without normalization\n",
      "[[127  10]\n",
      " [ 17 120]]\n",
      "Confusion matrix, without normalization\n",
      "[[2 3]\n",
      " [0 1]]\n",
      "Sub 10\t 50.0%\t | 91.1% | 33.3%\n",
      "Confusion matrix, without normalization\n",
      "[[131   9]\n",
      " [ 16 124]]\n",
      "Confusion matrix, without normalization\n",
      "[[1 1]\n",
      " [1 0]]\n",
      "Sub 11\t 50.0%\t | 89.4% | 66.7%\n",
      "Confusion matrix, without normalization\n",
      "[[128   9]\n",
      " [ 20 117]]\n",
      "Confusion matrix, without normalization\n",
      "[[3 2]\n",
      " [0 1]]\n",
      "Sub 12\t 50.0%\t | 91.3% | 50.0%\n",
      "Confusion matrix, without normalization\n",
      "[[126  12]\n",
      " [ 12 126]]\n",
      "Confusion matrix, without normalization\n",
      "[[3 1]\n",
      " [2 0]]\n",
      "Sub 13\t 50.0%\t | 91.2% | 66.7%\n",
      "Confusion matrix, without normalization\n",
      "[[125  12]\n",
      " [ 12 125]]\n",
      "Confusion matrix, without normalization\n",
      "[[3 2]\n",
      " [0 1]]\n"
     ]
    },
    {
     "name": "stderr",
     "output_type": "stream",
     "text": [
      "/Users/hundredball/anaconda3/envs/Math24_new/lib/python3.7/site-packages/sklearn/metrics/_classification.py:1221: UndefinedMetricWarning: Precision is ill-defined and being set to 0.0 due to no predicted samples. Use `zero_division` parameter to control this behavior.\n",
      "  _warn_prf(average, modifier, msg_start, len(result))\n"
     ]
    },
    {
     "name": "stdout",
     "output_type": "stream",
     "text": [
      "Sub 14\t 50.0%\t | 88.9% | 66.7%\n",
      "Confusion matrix, without normalization\n",
      "[[131   9]\n",
      " [ 22 118]]\n",
      "Confusion matrix, without normalization\n",
      "[[2 0]\n",
      " [1 0]]\n"
     ]
    },
    {
     "name": "stderr",
     "output_type": "stream",
     "text": [
      "/Users/hundredball/anaconda3/envs/Math24_new/lib/python3.7/site-packages/sklearn/metrics/_classification.py:1221: UndefinedMetricWarning: Recall is ill-defined and being set to 0.0 due to no true samples. Use `zero_division` parameter to control this behavior.\n",
      "  _warn_prf(average, modifier, msg_start, len(result))\n"
     ]
    },
    {
     "name": "stdout",
     "output_type": "stream",
     "text": [
      "Sub 16\t 50.0%\t | 88.6% | 50.0%\n",
      "Confusion matrix, without normalization\n",
      "[[125  15]\n",
      " [ 17 123]]\n",
      "Confusion matrix, without normalization\n",
      "[[1 1]\n",
      " [0 0]]\n",
      "Sub 17\t 50.0%\t | 89.5% | 60.0%\n",
      "Confusion matrix, without normalization\n",
      "[[127  11]\n",
      " [ 18 120]]\n",
      "Confusion matrix, without normalization\n",
      "[[2 2]\n",
      " [0 1]]\n",
      "Sub 18\t 50.0%\t | 89.9% | 80.0%\n",
      "Confusion matrix, without normalization\n",
      "[[127  11]\n",
      " [ 17 121]]\n",
      "Confusion matrix, without normalization\n",
      "[[3 1]\n",
      " [0 1]]\n",
      "Sub 19\t 50.0%\t | 92.5% | 30.8%\n",
      "Confusion matrix, without normalization\n",
      "[[123  11]\n",
      " [  9 125]]\n",
      "Confusion matrix, without normalization\n",
      "[[4 4]\n",
      " [5 0]]\n",
      "Sub 20\t 50.0%\t | 93.5% | 53.8%\n",
      "Confusion matrix, without normalization\n",
      "[[121   9]\n",
      " [  8 122]]\n",
      "Confusion matrix, without normalization\n",
      "[[6 6]\n",
      " [0 1]]\n",
      "Sub 21\t 50.0%\t | 95.0% | 50.0%\n",
      "Confusion matrix, without normalization\n",
      "[[129   2]\n",
      " [ 11 120]]\n",
      "Confusion matrix, without normalization\n",
      "[[5 6]\n",
      " [0 1]]\n"
     ]
    },
    {
     "name": "stderr",
     "output_type": "stream",
     "text": [
      "/Users/hundredball/anaconda3/envs/Math24_new/lib/python3.7/site-packages/sklearn/metrics/_classification.py:1221: UndefinedMetricWarning: Recall is ill-defined and being set to 0.0 due to no true samples. Use `zero_division` parameter to control this behavior.\n",
      "  _warn_prf(average, modifier, msg_start, len(result))\n"
     ]
    },
    {
     "name": "stdout",
     "output_type": "stream",
     "text": [
      "Sub 22\t 50.0%\t | 90.8% | 36.4%\n",
      "Confusion matrix, without normalization\n",
      "[[118  13]\n",
      " [ 11 120]]\n",
      "Confusion matrix, without normalization\n",
      "[[4 7]\n",
      " [0 0]]\n",
      "Sub 23\t 50.0%\t | 93.1% | 66.7%\n",
      "Confusion matrix, without normalization\n",
      "[[130   7]\n",
      " [ 12 125]]\n",
      "Confusion matrix, without normalization\n",
      "[[4 1]\n",
      " [1 0]]\n",
      "Sub 24\t 50.0%\t | 90.1% | 42.9%\n",
      "Confusion matrix, without normalization\n",
      "[[124  13]\n",
      " [ 14 123]]\n",
      "Confusion matrix, without normalization\n",
      "[[2 3]\n",
      " [1 1]]\n"
     ]
    },
    {
     "name": "stderr",
     "output_type": "stream",
     "text": [
      "/Users/hundredball/anaconda3/envs/Math24_new/lib/python3.7/site-packages/sklearn/metrics/_classification.py:1221: UndefinedMetricWarning: Recall is ill-defined and being set to 0.0 due to no true samples. Use `zero_division` parameter to control this behavior.\n",
      "  _warn_prf(average, modifier, msg_start, len(result))\n"
     ]
    },
    {
     "name": "stdout",
     "output_type": "stream",
     "text": [
      "Sub 25\t 50.0%\t | 91.5% | 42.9%\n",
      "Confusion matrix, without normalization\n",
      "[[127   8]\n",
      " [ 15 120]]\n",
      "Confusion matrix, without normalization\n",
      "[[3 4]\n",
      " [0 0]]\n",
      "Sub 26\t 50.0%\t | 90.7% | 50.0%\n",
      "Confusion matrix, without normalization\n",
      "[[124  11]\n",
      " [ 14 121]]\n",
      "Confusion matrix, without normalization\n",
      "[[4 3]\n",
      " [1 0]]\n",
      "Average val acc: 52.1%\n",
      "Load data from .mat files...\n"
     ]
    },
    {
     "name": "stderr",
     "output_type": "stream",
     "text": [
      "/Users/hundredball/anaconda3/envs/Math24_new/lib/python3.7/site-packages/pandas/core/dtypes/missing.py:495: VisibleDeprecationWarning: Creating an ndarray from ragged nested sequences (which is a list-or-tuple of lists-or-tuples-or ndarrays with different lengths or shapes) is deprecated. If you meant to do this, you must specify 'dtype=object' when creating the ndarray\n",
      "  val = np.array(val, copy=False)\n",
      "/Users/hundredball/anaconda3/envs/Math24_new/lib/python3.7/site-packages/numpy/core/_asarray.py:83: VisibleDeprecationWarning: Creating an ndarray from ragged nested sequences (which is a list-or-tuple of lists-or-tuples-or ndarrays with different lengths or shapes) is deprecated. If you meant to do this, you must specify 'dtype=object' when creating the ndarray\n",
      "  return array(a, dtype, copy=False, order=order)\n"
     ]
    },
    {
     "name": "stdout",
     "output_type": "stream",
     "text": [
      "Calculating the bandpower of time-series data...\n",
      "freqs:  [0.000e+00 2.000e-01 4.000e-01 ... 4.996e+02 4.998e+02 5.000e+02]\n",
      "Sub  \t Chance\t | Train | Val\n",
      "Fold 0\t 86.8%\t | 86.8% | 76.5%\n",
      "Confusion matrix, without normalization\n",
      "[[132   0]\n",
      " [ 20   0]]\n"
     ]
    },
    {
     "name": "stderr",
     "output_type": "stream",
     "text": [
      "/Users/hundredball/anaconda3/envs/Math24_new/lib/python3.7/site-packages/sklearn/metrics/_classification.py:1221: UndefinedMetricWarning: Precision is ill-defined and being set to 0.0 due to no predicted samples. Use `zero_division` parameter to control this behavior.\n",
      "  _warn_prf(average, modifier, msg_start, len(result))\n"
     ]
    },
    {
     "name": "stdout",
     "output_type": "stream",
     "text": [
      "Confusion matrix, without normalization\n",
      "[[13  0]\n",
      " [ 4  0]]\n"
     ]
    },
    {
     "name": "stderr",
     "output_type": "stream",
     "text": [
      "/Users/hundredball/anaconda3/envs/Math24_new/lib/python3.7/site-packages/sklearn/metrics/_classification.py:1221: UndefinedMetricWarning: Precision is ill-defined and being set to 0.0 due to no predicted samples. Use `zero_division` parameter to control this behavior.\n",
      "  _warn_prf(average, modifier, msg_start, len(result))\n"
     ]
    },
    {
     "name": "stdout",
     "output_type": "stream",
     "text": [
      "Fold 1\t 86.2%\t | 86.2% | 82.4%\n",
      "Confusion matrix, without normalization\n",
      "[[131   0]\n",
      " [ 21   0]]\n",
      "Confusion matrix, without normalization\n",
      "[[14  0]\n",
      " [ 3  0]]\n"
     ]
    },
    {
     "name": "stderr",
     "output_type": "stream",
     "text": [
      "/Users/hundredball/anaconda3/envs/Math24_new/lib/python3.7/site-packages/sklearn/metrics/_classification.py:1221: UndefinedMetricWarning: Recall is ill-defined and being set to 0.0 due to no true samples. Use `zero_division` parameter to control this behavior.\n",
      "  _warn_prf(average, modifier, msg_start, len(result))\n",
      "/Users/hundredball/anaconda3/envs/Math24_new/lib/python3.7/site-packages/sklearn/metrics/_classification.py:1221: UndefinedMetricWarning: Precision is ill-defined and being set to 0.0 due to no predicted samples. Use `zero_division` parameter to control this behavior.\n",
      "  _warn_prf(average, modifier, msg_start, len(result))\n"
     ]
    },
    {
     "name": "stdout",
     "output_type": "stream",
     "text": [
      "Fold 2\t 84.2%\t | 84.2% | 100.0%\n",
      "Confusion matrix, without normalization\n",
      "[[128   0]\n",
      " [ 24   0]]\n",
      "Confusion matrix, without normalization\n",
      "[[17]]\n"
     ]
    },
    {
     "name": "stderr",
     "output_type": "stream",
     "text": [
      "/Users/hundredball/anaconda3/envs/Math24_new/lib/python3.7/site-packages/sklearn/metrics/_classification.py:1221: UndefinedMetricWarning: Precision is ill-defined and being set to 0.0 due to no predicted samples. Use `zero_division` parameter to control this behavior.\n",
      "  _warn_prf(average, modifier, msg_start, len(result))\n"
     ]
    },
    {
     "name": "stdout",
     "output_type": "stream",
     "text": [
      "Fold 3\t 86.2%\t | 86.2% | 82.4%\n",
      "Confusion matrix, without normalization\n",
      "[[131   0]\n",
      " [ 21   0]]\n",
      "Confusion matrix, without normalization\n",
      "[[14  0]\n",
      " [ 3  0]]\n"
     ]
    },
    {
     "name": "stderr",
     "output_type": "stream",
     "text": [
      "/Users/hundredball/anaconda3/envs/Math24_new/lib/python3.7/site-packages/sklearn/metrics/_classification.py:1221: UndefinedMetricWarning: Precision is ill-defined and being set to 0.0 due to no predicted samples. Use `zero_division` parameter to control this behavior.\n",
      "  _warn_prf(average, modifier, msg_start, len(result))\n"
     ]
    },
    {
     "name": "stdout",
     "output_type": "stream",
     "text": [
      "Fold 4\t 86.2%\t | 86.2% | 82.4%\n",
      "Confusion matrix, without normalization\n",
      "[[131   0]\n",
      " [ 21   0]]\n",
      "Confusion matrix, without normalization\n",
      "[[14  0]\n",
      " [ 3  0]]\n"
     ]
    },
    {
     "name": "stderr",
     "output_type": "stream",
     "text": [
      "/Users/hundredball/anaconda3/envs/Math24_new/lib/python3.7/site-packages/sklearn/metrics/_classification.py:1221: UndefinedMetricWarning: Precision is ill-defined and being set to 0.0 due to no predicted samples. Use `zero_division` parameter to control this behavior.\n",
      "  _warn_prf(average, modifier, msg_start, len(result))\n"
     ]
    },
    {
     "name": "stdout",
     "output_type": "stream",
     "text": [
      "Fold 5\t 85.5%\t | 85.5% | 88.2%\n",
      "Confusion matrix, without normalization\n",
      "[[130   0]\n",
      " [ 22   0]]\n",
      "Confusion matrix, without normalization\n",
      "[[15  0]\n",
      " [ 2  0]]\n",
      "Fold 6\t 86.2%\t | 86.2% | 82.4%\n"
     ]
    },
    {
     "name": "stderr",
     "output_type": "stream",
     "text": [
      "/Users/hundredball/anaconda3/envs/Math24_new/lib/python3.7/site-packages/sklearn/metrics/_classification.py:1221: UndefinedMetricWarning: Precision is ill-defined and being set to 0.0 due to no predicted samples. Use `zero_division` parameter to control this behavior.\n",
      "  _warn_prf(average, modifier, msg_start, len(result))\n"
     ]
    },
    {
     "name": "stdout",
     "output_type": "stream",
     "text": [
      "Confusion matrix, without normalization\n",
      "[[131   0]\n",
      " [ 21   0]]\n",
      "Confusion matrix, without normalization\n",
      "[[14  0]\n",
      " [ 3  0]]\n"
     ]
    },
    {
     "name": "stderr",
     "output_type": "stream",
     "text": [
      "/Users/hundredball/anaconda3/envs/Math24_new/lib/python3.7/site-packages/sklearn/metrics/_classification.py:1221: UndefinedMetricWarning: Precision is ill-defined and being set to 0.0 due to no predicted samples. Use `zero_division` parameter to control this behavior.\n",
      "  _warn_prf(average, modifier, msg_start, len(result))\n"
     ]
    },
    {
     "name": "stdout",
     "output_type": "stream",
     "text": [
      "Fold 7\t 86.2%\t | 86.2% | 82.4%\n",
      "Confusion matrix, without normalization\n",
      "[[131   0]\n",
      " [ 21   0]]\n",
      "Confusion matrix, without normalization\n",
      "[[14  0]\n",
      " [ 3  0]]\n"
     ]
    },
    {
     "name": "stderr",
     "output_type": "stream",
     "text": [
      "/Users/hundredball/anaconda3/envs/Math24_new/lib/python3.7/site-packages/sklearn/metrics/_classification.py:1221: UndefinedMetricWarning: Precision is ill-defined and being set to 0.0 due to no predicted samples. Use `zero_division` parameter to control this behavior.\n",
      "  _warn_prf(average, modifier, msg_start, len(result))\n"
     ]
    },
    {
     "name": "stdout",
     "output_type": "stream",
     "text": [
      "Fold 8\t 86.2%\t | 86.2% | 82.4%\n",
      "Confusion matrix, without normalization\n",
      "[[131   0]\n",
      " [ 21   0]]\n",
      "Confusion matrix, without normalization\n",
      "[[14  0]\n",
      " [ 3  0]]\n"
     ]
    },
    {
     "name": "stderr",
     "output_type": "stream",
     "text": [
      "/Users/hundredball/anaconda3/envs/Math24_new/lib/python3.7/site-packages/sklearn/metrics/_classification.py:1221: UndefinedMetricWarning: Recall is ill-defined and being set to 0.0 due to no true samples. Use `zero_division` parameter to control this behavior.\n",
      "  _warn_prf(average, modifier, msg_start, len(result))\n",
      "/Users/hundredball/anaconda3/envs/Math24_new/lib/python3.7/site-packages/sklearn/metrics/_classification.py:1221: UndefinedMetricWarning: Precision is ill-defined and being set to 0.0 due to no predicted samples. Use `zero_division` parameter to control this behavior.\n",
      "  _warn_prf(average, modifier, msg_start, len(result))\n"
     ]
    },
    {
     "name": "stdout",
     "output_type": "stream",
     "text": [
      "Fold 9\t 84.3%\t | 84.3% | 100.0%\n",
      "Confusion matrix, without normalization\n",
      "[[129   0]\n",
      " [ 24   0]]\n",
      "Confusion matrix, without normalization\n",
      "[[16]]\n",
      "Average val acc: 85.8%\n",
      "Sub  \t Chance\t | Train | Val\n",
      "Sub 1\t 89.0%\t | 89.0% | 0.0%\n",
      "Confusion matrix, without normalization\n",
      "[[145   0]\n",
      " [ 18   0]]\n"
     ]
    },
    {
     "name": "stderr",
     "output_type": "stream",
     "text": [
      "/Users/hundredball/anaconda3/envs/Math24_new/lib/python3.7/site-packages/sklearn/metrics/_classification.py:1221: UndefinedMetricWarning: Precision is ill-defined and being set to 0.0 due to no predicted samples. Use `zero_division` parameter to control this behavior.\n",
      "  _warn_prf(average, modifier, msg_start, len(result))\n"
     ]
    },
    {
     "name": "stdout",
     "output_type": "stream",
     "text": [
      "Confusion matrix, without normalization\n",
      "[[0 0]\n",
      " [6 0]]\n"
     ]
    },
    {
     "name": "stderr",
     "output_type": "stream",
     "text": [
      "/Users/hundredball/anaconda3/envs/Math24_new/lib/python3.7/site-packages/sklearn/metrics/_classification.py:1221: UndefinedMetricWarning: Recall is ill-defined and being set to 0.0 due to no true samples. Use `zero_division` parameter to control this behavior.\n",
      "  _warn_prf(average, modifier, msg_start, len(result))\n",
      "/Users/hundredball/anaconda3/envs/Math24_new/lib/python3.7/site-packages/sklearn/metrics/_classification.py:1221: UndefinedMetricWarning: Precision is ill-defined and being set to 0.0 due to no predicted samples. Use `zero_division` parameter to control this behavior.\n",
      "  _warn_prf(average, modifier, msg_start, len(result))\n"
     ]
    },
    {
     "name": "stdout",
     "output_type": "stream",
     "text": [
      "Sub 2\t 85.3%\t | 85.3% | 100.0%\n",
      "Confusion matrix, without normalization\n",
      "[[139   0]\n",
      " [ 24   0]]\n",
      "Confusion matrix, without normalization\n",
      "[[6]]\n"
     ]
    },
    {
     "name": "stderr",
     "output_type": "stream",
     "text": [
      "/Users/hundredball/anaconda3/envs/Math24_new/lib/python3.7/site-packages/sklearn/metrics/_classification.py:1221: UndefinedMetricWarning: Precision is ill-defined and being set to 0.0 due to no predicted samples. Use `zero_division` parameter to control this behavior.\n",
      "  _warn_prf(average, modifier, msg_start, len(result))\n"
     ]
    },
    {
     "name": "stdout",
     "output_type": "stream",
     "text": [
      "Sub 3\t 87.6%\t | 87.6% | 50.0%\n",
      "Confusion matrix, without normalization\n",
      "[[141   0]\n",
      " [ 20   0]]\n",
      "Confusion matrix, without normalization\n",
      "[[4 0]\n",
      " [4 0]]\n"
     ]
    },
    {
     "name": "stderr",
     "output_type": "stream",
     "text": [
      "/Users/hundredball/anaconda3/envs/Math24_new/lib/python3.7/site-packages/sklearn/metrics/_classification.py:1221: UndefinedMetricWarning: Precision is ill-defined and being set to 0.0 due to no predicted samples. Use `zero_division` parameter to control this behavior.\n",
      "  _warn_prf(average, modifier, msg_start, len(result))\n"
     ]
    },
    {
     "name": "stdout",
     "output_type": "stream",
     "text": [
      "Sub 4\t 85.8%\t | 85.8% | 85.7%\n",
      "Confusion matrix, without normalization\n",
      "[[139   0]\n",
      " [ 23   0]]\n",
      "Confusion matrix, without normalization\n",
      "[[6 0]\n",
      " [1 0]]\n",
      "Sub 5\t 85.2%\t | 85.2% | 100.0%\n",
      "Confusion matrix, without normalization\n",
      "[[138   0]\n",
      " [ 24   0]]\n"
     ]
    },
    {
     "name": "stderr",
     "output_type": "stream",
     "text": [
      "/Users/hundredball/anaconda3/envs/Math24_new/lib/python3.7/site-packages/sklearn/metrics/_classification.py:1221: UndefinedMetricWarning: Recall is ill-defined and being set to 0.0 due to no true samples. Use `zero_division` parameter to control this behavior.\n",
      "  _warn_prf(average, modifier, msg_start, len(result))\n",
      "/Users/hundredball/anaconda3/envs/Math24_new/lib/python3.7/site-packages/sklearn/metrics/_classification.py:1221: UndefinedMetricWarning: Precision is ill-defined and being set to 0.0 due to no predicted samples. Use `zero_division` parameter to control this behavior.\n",
      "  _warn_prf(average, modifier, msg_start, len(result))\n"
     ]
    },
    {
     "name": "stdout",
     "output_type": "stream",
     "text": [
      "Confusion matrix, without normalization\n",
      "[[7]]\n",
      "Sub 6\t 85.3%\t | 85.3% | 100.0%\n",
      "Confusion matrix, without normalization\n",
      "[[139   0]\n",
      " [ 24   0]]\n"
     ]
    },
    {
     "name": "stderr",
     "output_type": "stream",
     "text": [
      "/Users/hundredball/anaconda3/envs/Math24_new/lib/python3.7/site-packages/sklearn/metrics/_classification.py:1221: UndefinedMetricWarning: Recall is ill-defined and being set to 0.0 due to no true samples. Use `zero_division` parameter to control this behavior.\n",
      "  _warn_prf(average, modifier, msg_start, len(result))\n",
      "/Users/hundredball/anaconda3/envs/Math24_new/lib/python3.7/site-packages/sklearn/metrics/_classification.py:1221: UndefinedMetricWarning: Precision is ill-defined and being set to 0.0 due to no predicted samples. Use `zero_division` parameter to control this behavior.\n",
      "  _warn_prf(average, modifier, msg_start, len(result))\n"
     ]
    },
    {
     "name": "stdout",
     "output_type": "stream",
     "text": [
      "Confusion matrix, without normalization\n",
      "[[6]]\n"
     ]
    },
    {
     "name": "stderr",
     "output_type": "stream",
     "text": [
      "/Users/hundredball/anaconda3/envs/Math24_new/lib/python3.7/site-packages/sklearn/metrics/_classification.py:1221: UndefinedMetricWarning: Recall is ill-defined and being set to 0.0 due to no true samples. Use `zero_division` parameter to control this behavior.\n",
      "  _warn_prf(average, modifier, msg_start, len(result))\n",
      "/Users/hundredball/anaconda3/envs/Math24_new/lib/python3.7/site-packages/sklearn/metrics/_classification.py:1221: UndefinedMetricWarning: Precision is ill-defined and being set to 0.0 due to no predicted samples. Use `zero_division` parameter to control this behavior.\n",
      "  _warn_prf(average, modifier, msg_start, len(result))\n"
     ]
    },
    {
     "name": "stdout",
     "output_type": "stream",
     "text": [
      "Sub 7\t 85.4%\t | 85.4% | 100.0%\n",
      "Confusion matrix, without normalization\n",
      "[[140   0]\n",
      " [ 24   0]]\n",
      "Confusion matrix, without normalization\n",
      "[[5]]\n"
     ]
    },
    {
     "name": "stderr",
     "output_type": "stream",
     "text": [
      "/Users/hundredball/anaconda3/envs/Math24_new/lib/python3.7/site-packages/sklearn/metrics/_classification.py:1221: UndefinedMetricWarning: Recall is ill-defined and being set to 0.0 due to no true samples. Use `zero_division` parameter to control this behavior.\n",
      "  _warn_prf(average, modifier, msg_start, len(result))\n",
      "/Users/hundredball/anaconda3/envs/Math24_new/lib/python3.7/site-packages/sklearn/metrics/_classification.py:1221: UndefinedMetricWarning: Precision is ill-defined and being set to 0.0 due to no predicted samples. Use `zero_division` parameter to control this behavior.\n",
      "  _warn_prf(average, modifier, msg_start, len(result))\n"
     ]
    },
    {
     "name": "stdout",
     "output_type": "stream",
     "text": [
      "Sub 8\t 85.4%\t | 85.4% | 100.0%\n",
      "Confusion matrix, without normalization\n",
      "[[140   0]\n",
      " [ 24   0]]\n",
      "Confusion matrix, without normalization\n",
      "[[5]]\n"
     ]
    },
    {
     "name": "stderr",
     "output_type": "stream",
     "text": [
      "/Users/hundredball/anaconda3/envs/Math24_new/lib/python3.7/site-packages/sklearn/metrics/_classification.py:1221: UndefinedMetricWarning: Precision is ill-defined and being set to 0.0 due to no predicted samples. Use `zero_division` parameter to control this behavior.\n",
      "  _warn_prf(average, modifier, msg_start, len(result))\n"
     ]
    },
    {
     "name": "stdout",
     "output_type": "stream",
     "text": [
      "Sub 9\t 86.5%\t | 86.5% | 66.7%\n",
      "Confusion matrix, without normalization\n",
      "[[141   0]\n",
      " [ 22   0]]\n",
      "Confusion matrix, without normalization\n",
      "[[4 0]\n",
      " [2 0]]\n"
     ]
    },
    {
     "name": "stderr",
     "output_type": "stream",
     "text": [
      "/Users/hundredball/anaconda3/envs/Math24_new/lib/python3.7/site-packages/sklearn/metrics/_classification.py:1221: UndefinedMetricWarning: Precision is ill-defined and being set to 0.0 due to no predicted samples. Use `zero_division` parameter to control this behavior.\n",
      "  _warn_prf(average, modifier, msg_start, len(result))\n"
     ]
    },
    {
     "name": "stdout",
     "output_type": "stream",
     "text": [
      "Sub 10\t 87.3%\t | 87.3% | 0.0%\n",
      "Confusion matrix, without normalization\n",
      "[[145   0]\n",
      " [ 21   0]]\n",
      "Confusion matrix, without normalization\n",
      "[[0 0]\n",
      " [3 0]]\n"
     ]
    },
    {
     "name": "stderr",
     "output_type": "stream",
     "text": [
      "/Users/hundredball/anaconda3/envs/Math24_new/lib/python3.7/site-packages/sklearn/metrics/_classification.py:1221: UndefinedMetricWarning: Precision is ill-defined and being set to 0.0 due to no predicted samples. Use `zero_division` parameter to control this behavior.\n",
      "  _warn_prf(average, modifier, msg_start, len(result))\n"
     ]
    },
    {
     "name": "stdout",
     "output_type": "stream",
     "text": [
      "Sub 11\t 85.9%\t | 85.9% | 83.3%\n",
      "Confusion matrix, without normalization\n",
      "[[140   0]\n",
      " [ 23   0]]\n",
      "Confusion matrix, without normalization\n",
      "[[5 0]\n",
      " [1 0]]\n"
     ]
    },
    {
     "name": "stderr",
     "output_type": "stream",
     "text": [
      "/Users/hundredball/anaconda3/envs/Math24_new/lib/python3.7/site-packages/sklearn/metrics/_classification.py:1221: UndefinedMetricWarning: Recall is ill-defined and being set to 0.0 due to no true samples. Use `zero_division` parameter to control this behavior.\n",
      "  _warn_prf(average, modifier, msg_start, len(result))\n",
      "/Users/hundredball/anaconda3/envs/Math24_new/lib/python3.7/site-packages/sklearn/metrics/_classification.py:1221: UndefinedMetricWarning: Precision is ill-defined and being set to 0.0 due to no predicted samples. Use `zero_division` parameter to control this behavior.\n",
      "  _warn_prf(average, modifier, msg_start, len(result))\n"
     ]
    },
    {
     "name": "stdout",
     "output_type": "stream",
     "text": [
      "Sub 12\t 85.3%\t | 85.3% | 100.0%\n",
      "Confusion matrix, without normalization\n",
      "[[139   0]\n",
      " [ 24   0]]\n",
      "Confusion matrix, without normalization\n",
      "[[6]]\n"
     ]
    },
    {
     "name": "stderr",
     "output_type": "stream",
     "text": [
      "/Users/hundredball/anaconda3/envs/Math24_new/lib/python3.7/site-packages/sklearn/metrics/_classification.py:1221: UndefinedMetricWarning: Recall is ill-defined and being set to 0.0 due to no true samples. Use `zero_division` parameter to control this behavior.\n",
      "  _warn_prf(average, modifier, msg_start, len(result))\n",
      "/Users/hundredball/anaconda3/envs/Math24_new/lib/python3.7/site-packages/sklearn/metrics/_classification.py:1221: UndefinedMetricWarning: Precision is ill-defined and being set to 0.0 due to no predicted samples. Use `zero_division` parameter to control this behavior.\n",
      "  _warn_prf(average, modifier, msg_start, len(result))\n"
     ]
    },
    {
     "name": "stdout",
     "output_type": "stream",
     "text": [
      "Sub 13\t 85.3%\t | 85.3% | 100.0%\n",
      "Confusion matrix, without normalization\n",
      "[[139   0]\n",
      " [ 24   0]]\n",
      "Confusion matrix, without normalization\n",
      "[[6]]\n"
     ]
    },
    {
     "name": "stderr",
     "output_type": "stream",
     "text": [
      "/Users/hundredball/anaconda3/envs/Math24_new/lib/python3.7/site-packages/sklearn/metrics/_classification.py:1221: UndefinedMetricWarning: Recall is ill-defined and being set to 0.0 due to no true samples. Use `zero_division` parameter to control this behavior.\n",
      "  _warn_prf(average, modifier, msg_start, len(result))\n",
      "/Users/hundredball/anaconda3/envs/Math24_new/lib/python3.7/site-packages/sklearn/metrics/_classification.py:1221: UndefinedMetricWarning: Precision is ill-defined and being set to 0.0 due to no predicted samples. Use `zero_division` parameter to control this behavior.\n",
      "  _warn_prf(average, modifier, msg_start, len(result))\n"
     ]
    },
    {
     "name": "stdout",
     "output_type": "stream",
     "text": [
      "Sub 14\t 85.5%\t | 85.5% | 100.0%\n",
      "Confusion matrix, without normalization\n",
      "[[142   0]\n",
      " [ 24   0]]\n",
      "Confusion matrix, without normalization\n",
      "[[3]]\n"
     ]
    },
    {
     "name": "stderr",
     "output_type": "stream",
     "text": [
      "/Users/hundredball/anaconda3/envs/Math24_new/lib/python3.7/site-packages/sklearn/metrics/_classification.py:1221: UndefinedMetricWarning: Precision is ill-defined and being set to 0.0 due to no predicted samples. Use `zero_division` parameter to control this behavior.\n",
      "  _warn_prf(average, modifier, msg_start, len(result))\n"
     ]
    },
    {
     "name": "stdout",
     "output_type": "stream",
     "text": [
      "Sub 16\t 86.2%\t | 86.2% | 50.0%\n",
      "Confusion matrix, without normalization\n",
      "[[144   0]\n",
      " [ 23   0]]\n",
      "Confusion matrix, without normalization\n",
      "[[1 0]\n",
      " [1 0]]\n"
     ]
    },
    {
     "name": "stderr",
     "output_type": "stream",
     "text": [
      "/Users/hundredball/anaconda3/envs/Math24_new/lib/python3.7/site-packages/sklearn/metrics/_classification.py:1221: UndefinedMetricWarning: Precision is ill-defined and being set to 0.0 due to no predicted samples. Use `zero_division` parameter to control this behavior.\n",
      "  _warn_prf(average, modifier, msg_start, len(result))\n"
     ]
    },
    {
     "name": "stdout",
     "output_type": "stream",
     "text": [
      "Sub 17\t 87.2%\t | 87.2% | 40.0%\n",
      "Confusion matrix, without normalization\n",
      "[[143   0]\n",
      " [ 21   0]]\n",
      "Confusion matrix, without normalization\n",
      "[[2 0]\n",
      " [3 0]]\n"
     ]
    },
    {
     "name": "stderr",
     "output_type": "stream",
     "text": [
      "/Users/hundredball/anaconda3/envs/Math24_new/lib/python3.7/site-packages/sklearn/metrics/_classification.py:1221: UndefinedMetricWarning: Recall is ill-defined and being set to 0.0 due to no true samples. Use `zero_division` parameter to control this behavior.\n",
      "  _warn_prf(average, modifier, msg_start, len(result))\n",
      "/Users/hundredball/anaconda3/envs/Math24_new/lib/python3.7/site-packages/sklearn/metrics/_classification.py:1221: UndefinedMetricWarning: Precision is ill-defined and being set to 0.0 due to no predicted samples. Use `zero_division` parameter to control this behavior.\n",
      "  _warn_prf(average, modifier, msg_start, len(result))\n"
     ]
    },
    {
     "name": "stdout",
     "output_type": "stream",
     "text": [
      "Sub 18\t 85.4%\t | 85.4% | 100.0%\n",
      "Confusion matrix, without normalization\n",
      "[[140   0]\n",
      " [ 24   0]]\n",
      "Confusion matrix, without normalization\n",
      "[[5]]\n"
     ]
    },
    {
     "name": "stderr",
     "output_type": "stream",
     "text": [
      "/Users/hundredball/anaconda3/envs/Math24_new/lib/python3.7/site-packages/sklearn/metrics/_classification.py:1221: UndefinedMetricWarning: Recall is ill-defined and being set to 0.0 due to no true samples. Use `zero_division` parameter to control this behavior.\n",
      "  _warn_prf(average, modifier, msg_start, len(result))\n",
      "/Users/hundredball/anaconda3/envs/Math24_new/lib/python3.7/site-packages/sklearn/metrics/_classification.py:1221: UndefinedMetricWarning: Precision is ill-defined and being set to 0.0 due to no predicted samples. Use `zero_division` parameter to control this behavior.\n",
      "  _warn_prf(average, modifier, msg_start, len(result))\n"
     ]
    },
    {
     "name": "stdout",
     "output_type": "stream",
     "text": [
      "Sub 19\t 84.6%\t | 84.6% | 100.0%\n",
      "Confusion matrix, without normalization\n",
      "[[132   0]\n",
      " [ 24   0]]\n",
      "Confusion matrix, without normalization\n",
      "[[13]]\n"
     ]
    },
    {
     "name": "stderr",
     "output_type": "stream",
     "text": [
      "/Users/hundredball/anaconda3/envs/Math24_new/lib/python3.7/site-packages/sklearn/metrics/_classification.py:1221: UndefinedMetricWarning: Precision is ill-defined and being set to 0.0 due to no predicted samples. Use `zero_division` parameter to control this behavior.\n",
      "  _warn_prf(average, modifier, msg_start, len(result))\n"
     ]
    },
    {
     "name": "stdout",
     "output_type": "stream",
     "text": [
      "Sub 20\t 85.3%\t | 85.3% | 92.3%\n",
      "Confusion matrix, without normalization\n",
      "[[133   0]\n",
      " [ 23   0]]\n",
      "Confusion matrix, without normalization\n",
      "[[12  0]\n",
      " [ 1  0]]\n"
     ]
    },
    {
     "name": "stderr",
     "output_type": "stream",
     "text": [
      "/Users/hundredball/anaconda3/envs/Math24_new/lib/python3.7/site-packages/sklearn/metrics/_classification.py:1221: UndefinedMetricWarning: Recall is ill-defined and being set to 0.0 due to no true samples. Use `zero_division` parameter to control this behavior.\n",
      "  _warn_prf(average, modifier, msg_start, len(result))\n",
      "/Users/hundredball/anaconda3/envs/Math24_new/lib/python3.7/site-packages/sklearn/metrics/_classification.py:1221: UndefinedMetricWarning: Precision is ill-defined and being set to 0.0 due to no predicted samples. Use `zero_division` parameter to control this behavior.\n",
      "  _warn_prf(average, modifier, msg_start, len(result))\n"
     ]
    },
    {
     "name": "stdout",
     "output_type": "stream",
     "text": [
      "Sub 21\t 84.7%\t | 84.7% | 100.0%\n",
      "Confusion matrix, without normalization\n",
      "[[133   0]\n",
      " [ 24   0]]\n",
      "Confusion matrix, without normalization\n",
      "[[12]]\n"
     ]
    },
    {
     "name": "stderr",
     "output_type": "stream",
     "text": [
      "/Users/hundredball/anaconda3/envs/Math24_new/lib/python3.7/site-packages/sklearn/metrics/_classification.py:1221: UndefinedMetricWarning: Recall is ill-defined and being set to 0.0 due to no true samples. Use `zero_division` parameter to control this behavior.\n",
      "  _warn_prf(average, modifier, msg_start, len(result))\n",
      "/Users/hundredball/anaconda3/envs/Math24_new/lib/python3.7/site-packages/sklearn/metrics/_classification.py:1221: UndefinedMetricWarning: Precision is ill-defined and being set to 0.0 due to no predicted samples. Use `zero_division` parameter to control this behavior.\n",
      "  _warn_prf(average, modifier, msg_start, len(result))\n"
     ]
    },
    {
     "name": "stdout",
     "output_type": "stream",
     "text": [
      "Sub 22\t 84.8%\t | 84.8% | 100.0%\n",
      "Confusion matrix, without normalization\n",
      "[[134   0]\n",
      " [ 24   0]]\n",
      "Confusion matrix, without normalization\n",
      "[[11]]\n"
     ]
    },
    {
     "name": "stderr",
     "output_type": "stream",
     "text": [
      "/Users/hundredball/anaconda3/envs/Math24_new/lib/python3.7/site-packages/sklearn/metrics/_classification.py:1221: UndefinedMetricWarning: Recall is ill-defined and being set to 0.0 due to no true samples. Use `zero_division` parameter to control this behavior.\n",
      "  _warn_prf(average, modifier, msg_start, len(result))\n",
      "/Users/hundredball/anaconda3/envs/Math24_new/lib/python3.7/site-packages/sklearn/metrics/_classification.py:1221: UndefinedMetricWarning: Precision is ill-defined and being set to 0.0 due to no predicted samples. Use `zero_division` parameter to control this behavior.\n",
      "  _warn_prf(average, modifier, msg_start, len(result))\n"
     ]
    },
    {
     "name": "stdout",
     "output_type": "stream",
     "text": [
      "Sub 23\t 85.3%\t | 85.3% | 100.0%\n",
      "Confusion matrix, without normalization\n",
      "[[139   0]\n",
      " [ 24   0]]\n",
      "Confusion matrix, without normalization\n",
      "[[6]]\n"
     ]
    },
    {
     "name": "stderr",
     "output_type": "stream",
     "text": [
      "/Users/hundredball/anaconda3/envs/Math24_new/lib/python3.7/site-packages/sklearn/metrics/_classification.py:1221: UndefinedMetricWarning: Precision is ill-defined and being set to 0.0 due to no predicted samples. Use `zero_division` parameter to control this behavior.\n",
      "  _warn_prf(average, modifier, msg_start, len(result))\n"
     ]
    },
    {
     "name": "stdout",
     "output_type": "stream",
     "text": [
      "Sub 24\t 86.4%\t | 86.4% | 71.4%\n",
      "Confusion matrix, without normalization\n",
      "[[140   0]\n",
      " [ 22   0]]\n",
      "Confusion matrix, without normalization\n",
      "[[5 0]\n",
      " [2 0]]\n"
     ]
    },
    {
     "name": "stderr",
     "output_type": "stream",
     "text": [
      "/Users/hundredball/anaconda3/envs/Math24_new/lib/python3.7/site-packages/sklearn/metrics/_classification.py:1221: UndefinedMetricWarning: Recall is ill-defined and being set to 0.0 due to no true samples. Use `zero_division` parameter to control this behavior.\n",
      "  _warn_prf(average, modifier, msg_start, len(result))\n",
      "/Users/hundredball/anaconda3/envs/Math24_new/lib/python3.7/site-packages/sklearn/metrics/_classification.py:1221: UndefinedMetricWarning: Precision is ill-defined and being set to 0.0 due to no predicted samples. Use `zero_division` parameter to control this behavior.\n",
      "  _warn_prf(average, modifier, msg_start, len(result))\n"
     ]
    },
    {
     "name": "stdout",
     "output_type": "stream",
     "text": [
      "Sub 25\t 85.2%\t | 85.2% | 100.0%\n",
      "Confusion matrix, without normalization\n",
      "[[138   0]\n",
      " [ 24   0]]\n",
      "Confusion matrix, without normalization\n",
      "[[7]]\n"
     ]
    },
    {
     "name": "stderr",
     "output_type": "stream",
     "text": [
      "/Users/hundredball/anaconda3/envs/Math24_new/lib/python3.7/site-packages/sklearn/metrics/_classification.py:1221: UndefinedMetricWarning: Recall is ill-defined and being set to 0.0 due to no true samples. Use `zero_division` parameter to control this behavior.\n",
      "  _warn_prf(average, modifier, msg_start, len(result))\n",
      "/Users/hundredball/anaconda3/envs/Math24_new/lib/python3.7/site-packages/sklearn/metrics/_classification.py:1221: UndefinedMetricWarning: Precision is ill-defined and being set to 0.0 due to no predicted samples. Use `zero_division` parameter to control this behavior.\n",
      "  _warn_prf(average, modifier, msg_start, len(result))\n"
     ]
    },
    {
     "name": "stdout",
     "output_type": "stream",
     "text": [
      "Sub 26\t 85.1%\t | 85.1% | 100.0%\n",
      "Confusion matrix, without normalization\n",
      "[[137   0]\n",
      " [ 24   0]]\n",
      "Confusion matrix, without normalization\n",
      "[[8]]\n",
      "Average val acc: 85.8%\n",
      "Sub  \t Chance\t | Train | Val\n",
      "Fold 0\t 50.0%\t | 60.2% | 29.4%\n",
      "Confusion matrix, without normalization\n",
      "[[ 35  97]\n",
      " [  8 124]]\n",
      "Confusion matrix, without normalization\n",
      "[[ 2 11]\n",
      " [ 1  3]]\n",
      "Fold 1\t 50.0%\t | 58.0% | 23.5%\n",
      "Confusion matrix, without normalization\n",
      "[[ 35  96]\n",
      " [ 14 117]]\n",
      "Confusion matrix, without normalization\n",
      "[[ 1 13]\n",
      " [ 0  3]]\n",
      "Fold 2\t 50.0%\t | 59.4% | 47.1%\n",
      "Confusion matrix, without normalization\n",
      "[[ 33  95]\n",
      " [  9 119]]\n"
     ]
    },
    {
     "name": "stderr",
     "output_type": "stream",
     "text": [
      "/Users/hundredball/anaconda3/envs/Math24_new/lib/python3.7/site-packages/sklearn/metrics/_classification.py:1221: UndefinedMetricWarning: Recall is ill-defined and being set to 0.0 due to no true samples. Use `zero_division` parameter to control this behavior.\n",
      "  _warn_prf(average, modifier, msg_start, len(result))\n"
     ]
    },
    {
     "name": "stdout",
     "output_type": "stream",
     "text": [
      "Confusion matrix, without normalization\n",
      "[[8 9]\n",
      " [0 0]]\n",
      "Fold 3\t 50.0%\t | 54.6% | 23.5%\n",
      "Confusion matrix, without normalization\n",
      "[[ 29 102]\n",
      " [ 17 114]]\n",
      "Confusion matrix, without normalization\n",
      "[[ 1 13]\n",
      " [ 0  3]]\n",
      "Fold 4\t 50.0%\t | 58.8% | 52.9%\n",
      "Confusion matrix, without normalization\n",
      "[[ 38  93]\n",
      " [ 15 116]]\n",
      "Confusion matrix, without normalization\n",
      "[[6 8]\n",
      " [0 3]]\n",
      "Fold 5\t 50.0%\t | 59.2% | 17.6%\n",
      "Confusion matrix, without normalization\n",
      "[[ 30 100]\n",
      " [  6 124]]\n",
      "Confusion matrix, without normalization\n",
      "[[ 2 13]\n",
      " [ 1  1]]\n",
      "Fold 6\t 50.0%\t | 58.4% | 41.2%\n",
      "Confusion matrix, without normalization\n",
      "[[ 34  97]\n",
      " [ 12 119]]\n",
      "Confusion matrix, without normalization\n",
      "[[ 4 10]\n",
      " [ 0  3]]\n",
      "Fold 7\t 50.0%\t | 58.0% | 35.3%\n",
      "Confusion matrix, without normalization\n",
      "[[ 33  98]\n",
      " [ 12 119]]\n",
      "Confusion matrix, without normalization\n",
      "[[ 3 11]\n",
      " [ 0  3]]\n",
      "Fold 8\t 50.0%\t | 61.1% | 35.3%\n",
      "Confusion matrix, without normalization\n",
      "[[ 39  92]\n",
      " [ 10 121]]\n",
      "Confusion matrix, without normalization\n",
      "[[5 9]\n",
      " [2 1]]\n",
      "Fold 9\t 50.0%\t | 58.1% | 25.0%\n",
      "Confusion matrix, without normalization\n",
      "[[ 27 102]\n",
      " [  6 123]]\n"
     ]
    },
    {
     "name": "stderr",
     "output_type": "stream",
     "text": [
      "/Users/hundredball/anaconda3/envs/Math24_new/lib/python3.7/site-packages/sklearn/metrics/_classification.py:1221: UndefinedMetricWarning: Recall is ill-defined and being set to 0.0 due to no true samples. Use `zero_division` parameter to control this behavior.\n",
      "  _warn_prf(average, modifier, msg_start, len(result))\n"
     ]
    },
    {
     "name": "stdout",
     "output_type": "stream",
     "text": [
      "Confusion matrix, without normalization\n",
      "[[ 4 12]\n",
      " [ 0  0]]\n",
      "Average val acc: 33.1%\n",
      "Sub  \t Chance\t | Train | Val\n",
      "Sub 1\t 50.0%\t | 55.9% | 100.0%\n",
      "Confusion matrix, without normalization\n",
      "[[ 35 110]\n",
      " [ 18 127]]\n",
      "Confusion matrix, without normalization\n",
      "[[6]]\n",
      "Sub 2\t 50.0%\t | 56.8% | 50.0%\n",
      "Confusion matrix, without normalization\n",
      "[[ 32 107]\n",
      " [ 13 126]]\n"
     ]
    },
    {
     "name": "stderr",
     "output_type": "stream",
     "text": [
      "/Users/hundredball/anaconda3/envs/Math24_new/lib/python3.7/site-packages/sklearn/metrics/_classification.py:1221: UndefinedMetricWarning: Recall is ill-defined and being set to 0.0 due to no true samples. Use `zero_division` parameter to control this behavior.\n",
      "  _warn_prf(average, modifier, msg_start, len(result))\n"
     ]
    },
    {
     "name": "stdout",
     "output_type": "stream",
     "text": [
      "Confusion matrix, without normalization\n",
      "[[3 3]\n",
      " [0 0]]\n",
      "Sub 3\t 50.0%\t | 61.0% | 25.0%\n",
      "Confusion matrix, without normalization\n",
      "[[ 48  93]\n",
      " [ 17 124]]\n",
      "Confusion matrix, without normalization\n",
      "[[0 4]\n",
      " [2 2]]\n",
      "Sub 4\t 50.0%\t | 57.9% | 71.4%\n",
      "Confusion matrix, without normalization\n",
      "[[ 31 108]\n",
      " [  9 130]]\n",
      "Confusion matrix, without normalization\n",
      "[[5 1]\n",
      " [1 0]]\n",
      "Sub 5\t 50.0%\t | 60.5% | 0.0%\n",
      "Confusion matrix, without normalization\n",
      "[[ 38 100]\n",
      " [  9 129]]\n"
     ]
    },
    {
     "name": "stderr",
     "output_type": "stream",
     "text": [
      "/Users/hundredball/anaconda3/envs/Math24_new/lib/python3.7/site-packages/sklearn/metrics/_classification.py:1221: UndefinedMetricWarning: Recall is ill-defined and being set to 0.0 due to no true samples. Use `zero_division` parameter to control this behavior.\n",
      "  _warn_prf(average, modifier, msg_start, len(result))\n"
     ]
    },
    {
     "name": "stdout",
     "output_type": "stream",
     "text": [
      "Confusion matrix, without normalization\n",
      "[[0 7]\n",
      " [0 0]]\n",
      "Sub 6\t 50.0%\t | 57.9% | 33.3%\n",
      "Confusion matrix, without normalization\n",
      "[[ 30 109]\n",
      " [  8 131]]\n"
     ]
    },
    {
     "name": "stderr",
     "output_type": "stream",
     "text": [
      "/Users/hundredball/anaconda3/envs/Math24_new/lib/python3.7/site-packages/sklearn/metrics/_classification.py:1221: UndefinedMetricWarning: Recall is ill-defined and being set to 0.0 due to no true samples. Use `zero_division` parameter to control this behavior.\n",
      "  _warn_prf(average, modifier, msg_start, len(result))\n"
     ]
    },
    {
     "name": "stdout",
     "output_type": "stream",
     "text": [
      "Confusion matrix, without normalization\n",
      "[[2 4]\n",
      " [0 0]]\n",
      "Sub 7\t 50.0%\t | 60.7% | 40.0%\n",
      "Confusion matrix, without normalization\n",
      "[[ 38 102]\n",
      " [  8 132]]\n"
     ]
    },
    {
     "name": "stderr",
     "output_type": "stream",
     "text": [
      "/Users/hundredball/anaconda3/envs/Math24_new/lib/python3.7/site-packages/sklearn/metrics/_classification.py:1221: UndefinedMetricWarning: Recall is ill-defined and being set to 0.0 due to no true samples. Use `zero_division` parameter to control this behavior.\n",
      "  _warn_prf(average, modifier, msg_start, len(result))\n"
     ]
    },
    {
     "name": "stdout",
     "output_type": "stream",
     "text": [
      "Confusion matrix, without normalization\n",
      "[[2 3]\n",
      " [0 0]]\n",
      "Sub 8\t 50.0%\t | 60.7% | 0.0%\n",
      "Confusion matrix, without normalization\n",
      "[[ 36 104]\n",
      " [  6 134]]\n"
     ]
    },
    {
     "name": "stderr",
     "output_type": "stream",
     "text": [
      "/Users/hundredball/anaconda3/envs/Math24_new/lib/python3.7/site-packages/sklearn/metrics/_classification.py:1221: UndefinedMetricWarning: Recall is ill-defined and being set to 0.0 due to no true samples. Use `zero_division` parameter to control this behavior.\n",
      "  _warn_prf(average, modifier, msg_start, len(result))\n"
     ]
    },
    {
     "name": "stdout",
     "output_type": "stream",
     "text": [
      "Confusion matrix, without normalization\n",
      "[[0 5]\n",
      " [0 0]]\n",
      "Sub 9\t 50.0%\t | 57.8% | 33.3%\n",
      "Confusion matrix, without normalization\n",
      "[[ 35 106]\n",
      " [ 13 128]]\n",
      "Confusion matrix, without normalization\n",
      "[[0 4]\n",
      " [0 2]]\n",
      "Sub 10\t 50.0%\t | 60.7% | 66.7%\n",
      "Confusion matrix, without normalization\n",
      "[[ 44 101]\n",
      " [ 13 132]]\n",
      "Confusion matrix, without normalization\n",
      "[[0 0]\n",
      " [1 2]]\n",
      "Sub 11\t 50.0%\t | 58.6% | 16.7%\n",
      "Confusion matrix, without normalization\n",
      "[[ 35 105]\n",
      " [ 11 129]]\n",
      "Confusion matrix, without normalization\n",
      "[[0 5]\n",
      " [0 1]]\n",
      "Sub 12\t 50.0%\t | 59.4% | 33.3%\n",
      "Confusion matrix, without normalization\n",
      "[[ 35 104]\n",
      " [  9 130]]\n"
     ]
    },
    {
     "name": "stderr",
     "output_type": "stream",
     "text": [
      "/Users/hundredball/anaconda3/envs/Math24_new/lib/python3.7/site-packages/sklearn/metrics/_classification.py:1221: UndefinedMetricWarning: Recall is ill-defined and being set to 0.0 due to no true samples. Use `zero_division` parameter to control this behavior.\n",
      "  _warn_prf(average, modifier, msg_start, len(result))\n"
     ]
    },
    {
     "name": "stdout",
     "output_type": "stream",
     "text": [
      "Confusion matrix, without normalization\n",
      "[[2 4]\n",
      " [0 0]]\n",
      "Sub 13\t 50.0%\t | 59.7% | 0.0%\n",
      "Confusion matrix, without normalization\n",
      "[[ 36 103]\n",
      " [  9 130]]\n"
     ]
    },
    {
     "name": "stderr",
     "output_type": "stream",
     "text": [
      "/Users/hundredball/anaconda3/envs/Math24_new/lib/python3.7/site-packages/sklearn/metrics/_classification.py:1221: UndefinedMetricWarning: Recall is ill-defined and being set to 0.0 due to no true samples. Use `zero_division` parameter to control this behavior.\n",
      "  _warn_prf(average, modifier, msg_start, len(result))\n"
     ]
    },
    {
     "name": "stdout",
     "output_type": "stream",
     "text": [
      "Confusion matrix, without normalization\n",
      "[[0 6]\n",
      " [0 0]]\n",
      "Sub 14\t 50.0%\t | 60.9% | 0.0%\n",
      "Confusion matrix, without normalization\n",
      "[[ 40 102]\n",
      " [  9 133]]\n"
     ]
    },
    {
     "name": "stderr",
     "output_type": "stream",
     "text": [
      "/Users/hundredball/anaconda3/envs/Math24_new/lib/python3.7/site-packages/sklearn/metrics/_classification.py:1221: UndefinedMetricWarning: Recall is ill-defined and being set to 0.0 due to no true samples. Use `zero_division` parameter to control this behavior.\n",
      "  _warn_prf(average, modifier, msg_start, len(result))\n"
     ]
    },
    {
     "name": "stdout",
     "output_type": "stream",
     "text": [
      "Confusion matrix, without normalization\n",
      "[[0 3]\n",
      " [0 0]]\n",
      "Sub 16\t 50.0%\t | 58.0% | 50.0%\n",
      "Confusion matrix, without normalization\n",
      "[[ 37 107]\n",
      " [ 14 130]]\n",
      "Confusion matrix, without normalization\n",
      "[[0 1]\n",
      " [0 1]]\n",
      "Sub 17\t 50.0%\t | 57.7% | 60.0%\n",
      "Confusion matrix, without normalization\n",
      "[[ 34 109]\n",
      " [ 12 131]]\n",
      "Confusion matrix, without normalization\n",
      "[[0 2]\n",
      " [0 3]]\n",
      "Sub 18\t 50.0%\t | 61.1% | 0.0%\n",
      "Confusion matrix, without normalization\n",
      "[[ 39 101]\n",
      " [  8 132]]\n"
     ]
    },
    {
     "name": "stderr",
     "output_type": "stream",
     "text": [
      "/Users/hundredball/anaconda3/envs/Math24_new/lib/python3.7/site-packages/sklearn/metrics/_classification.py:1221: UndefinedMetricWarning: Recall is ill-defined and being set to 0.0 due to no true samples. Use `zero_division` parameter to control this behavior.\n",
      "  _warn_prf(average, modifier, msg_start, len(result))\n"
     ]
    },
    {
     "name": "stdout",
     "output_type": "stream",
     "text": [
      "Confusion matrix, without normalization\n",
      "[[0 5]\n",
      " [0 0]]\n",
      "Sub 19\t 50.0%\t | 59.1% | 30.8%\n",
      "Confusion matrix, without normalization\n",
      "[[ 38  94]\n",
      " [ 14 118]]\n"
     ]
    },
    {
     "name": "stderr",
     "output_type": "stream",
     "text": [
      "/Users/hundredball/anaconda3/envs/Math24_new/lib/python3.7/site-packages/sklearn/metrics/_classification.py:1221: UndefinedMetricWarning: Recall is ill-defined and being set to 0.0 due to no true samples. Use `zero_division` parameter to control this behavior.\n",
      "  _warn_prf(average, modifier, msg_start, len(result))\n"
     ]
    },
    {
     "name": "stdout",
     "output_type": "stream",
     "text": [
      "Confusion matrix, without normalization\n",
      "[[4 9]\n",
      " [0 0]]\n",
      "Sub 20\t 50.0%\t | 59.4% | 61.5%\n",
      "Confusion matrix, without normalization\n",
      "[[ 42  91]\n",
      " [ 17 116]]\n",
      "Confusion matrix, without normalization\n",
      "[[7 5]\n",
      " [0 1]]\n",
      "Sub 21\t 50.0%\t | 59.0% | 25.0%\n",
      "Confusion matrix, without normalization\n",
      "[[ 35  98]\n",
      " [ 11 122]]\n"
     ]
    },
    {
     "name": "stderr",
     "output_type": "stream",
     "text": [
      "/Users/hundredball/anaconda3/envs/Math24_new/lib/python3.7/site-packages/sklearn/metrics/_classification.py:1221: UndefinedMetricWarning: Recall is ill-defined and being set to 0.0 due to no true samples. Use `zero_division` parameter to control this behavior.\n",
      "  _warn_prf(average, modifier, msg_start, len(result))\n"
     ]
    },
    {
     "name": "stdout",
     "output_type": "stream",
     "text": [
      "Confusion matrix, without normalization\n",
      "[[3 9]\n",
      " [0 0]]\n",
      "Sub 22\t 50.0%\t | 60.8% | 9.1%\n",
      "Confusion matrix, without normalization\n",
      "[[ 36  98]\n",
      " [  7 127]]\n"
     ]
    },
    {
     "name": "stderr",
     "output_type": "stream",
     "text": [
      "/Users/hundredball/anaconda3/envs/Math24_new/lib/python3.7/site-packages/sklearn/metrics/_classification.py:1221: UndefinedMetricWarning: Recall is ill-defined and being set to 0.0 due to no true samples. Use `zero_division` parameter to control this behavior.\n",
      "  _warn_prf(average, modifier, msg_start, len(result))\n"
     ]
    },
    {
     "name": "stdout",
     "output_type": "stream",
     "text": [
      "Confusion matrix, without normalization\n",
      "[[ 1 10]\n",
      " [ 0  0]]\n",
      "Sub 23\t 50.0%\t | 59.0% | 50.0%\n",
      "Confusion matrix, without normalization\n",
      "[[ 33 106]\n",
      " [  8 131]]\n"
     ]
    },
    {
     "name": "stderr",
     "output_type": "stream",
     "text": [
      "/Users/hundredball/anaconda3/envs/Math24_new/lib/python3.7/site-packages/sklearn/metrics/_classification.py:1221: UndefinedMetricWarning: Recall is ill-defined and being set to 0.0 due to no true samples. Use `zero_division` parameter to control this behavior.\n",
      "  _warn_prf(average, modifier, msg_start, len(result))\n"
     ]
    },
    {
     "name": "stdout",
     "output_type": "stream",
     "text": [
      "Confusion matrix, without normalization\n",
      "[[3 3]\n",
      " [0 0]]\n",
      "Sub 24\t 50.0%\t | 58.9% | 14.3%\n",
      "Confusion matrix, without normalization\n",
      "[[ 37 103]\n",
      " [ 12 128]]\n",
      "Confusion matrix, without normalization\n",
      "[[0 5]\n",
      " [1 1]]\n",
      "Sub 25\t 50.0%\t | 59.8% | 0.0%\n",
      "Confusion matrix, without normalization\n",
      "[[ 36 102]\n",
      " [  9 129]]\n"
     ]
    },
    {
     "name": "stderr",
     "output_type": "stream",
     "text": [
      "/Users/hundredball/anaconda3/envs/Math24_new/lib/python3.7/site-packages/sklearn/metrics/_classification.py:1221: UndefinedMetricWarning: Recall is ill-defined and being set to 0.0 due to no true samples. Use `zero_division` parameter to control this behavior.\n",
      "  _warn_prf(average, modifier, msg_start, len(result))\n"
     ]
    },
    {
     "name": "stdout",
     "output_type": "stream",
     "text": [
      "Confusion matrix, without normalization\n",
      "[[0 7]\n",
      " [0 0]]\n",
      "Sub 26\t 50.0%\t | 59.5% | 12.5%\n",
      "Confusion matrix, without normalization\n",
      "[[ 35 102]\n",
      " [  9 128]]\n"
     ]
    },
    {
     "name": "stderr",
     "output_type": "stream",
     "text": [
      "/Users/hundredball/anaconda3/envs/Math24_new/lib/python3.7/site-packages/sklearn/metrics/_classification.py:1221: UndefinedMetricWarning: Recall is ill-defined and being set to 0.0 due to no true samples. Use `zero_division` parameter to control this behavior.\n",
      "  _warn_prf(average, modifier, msg_start, len(result))\n"
     ]
    },
    {
     "name": "stdout",
     "output_type": "stream",
     "text": [
      "Confusion matrix, without normalization\n",
      "[[1 7]\n",
      " [0 0]]\n",
      "Average val acc: 30.8%\n",
      "Sub  \t Chance\t | Train | Val\n",
      "Fold 0\t 86.8%\t | 98.0% | 76.5%\n",
      "Confusion matrix, without normalization\n",
      "[[132   0]\n",
      " [  3  17]]\n",
      "Confusion matrix, without normalization\n",
      "[[12  1]\n",
      " [ 3  1]]\n",
      "Fold 1\t 86.2%\t | 98.7% | 76.5%\n",
      "Confusion matrix, without normalization\n",
      "[[131   0]\n",
      " [  2  19]]\n",
      "Confusion matrix, without normalization\n",
      "[[12  2]\n",
      " [ 2  1]]\n"
     ]
    },
    {
     "name": "stderr",
     "output_type": "stream",
     "text": [
      "/Users/hundredball/anaconda3/envs/Math24_new/lib/python3.7/site-packages/sklearn/metrics/_classification.py:1221: UndefinedMetricWarning: Recall is ill-defined and being set to 0.0 due to no true samples. Use `zero_division` parameter to control this behavior.\n",
      "  _warn_prf(average, modifier, msg_start, len(result))\n"
     ]
    },
    {
     "name": "stdout",
     "output_type": "stream",
     "text": [
      "Fold 2\t 84.2%\t | 98.0% | 82.4%\n",
      "Confusion matrix, without normalization\n",
      "[[128   0]\n",
      " [  3  21]]\n",
      "Confusion matrix, without normalization\n",
      "[[14  3]\n",
      " [ 0  0]]\n",
      "Fold 3\t 86.2%\t | 98.7% | 58.8%\n",
      "Confusion matrix, without normalization\n",
      "[[131   0]\n",
      " [  2  19]]\n",
      "Confusion matrix, without normalization\n",
      "[[10  4]\n",
      " [ 3  0]]\n"
     ]
    },
    {
     "name": "stderr",
     "output_type": "stream",
     "text": [
      "/Users/hundredball/anaconda3/envs/Math24_new/lib/python3.7/site-packages/sklearn/metrics/_classification.py:1221: UndefinedMetricWarning: Precision is ill-defined and being set to 0.0 due to no predicted samples. Use `zero_division` parameter to control this behavior.\n",
      "  _warn_prf(average, modifier, msg_start, len(result))\n"
     ]
    },
    {
     "name": "stdout",
     "output_type": "stream",
     "text": [
      "Fold 4\t 86.2%\t | 98.7% | 82.4%\n",
      "Confusion matrix, without normalization\n",
      "[[131   0]\n",
      " [  2  19]]\n",
      "Confusion matrix, without normalization\n",
      "[[14  0]\n",
      " [ 3  0]]\n",
      "Fold 5\t 85.5%\t | 98.7% | 82.4%\n",
      "Confusion matrix, without normalization\n",
      "[[130   0]\n",
      " [  2  20]]\n",
      "Confusion matrix, without normalization\n",
      "[[13  2]\n",
      " [ 1  1]]\n",
      "Fold 6\t 86.2%\t | 98.7% | 76.5%\n",
      "Confusion matrix, without normalization\n",
      "[[131   0]\n",
      " [  2  19]]\n",
      "Confusion matrix, without normalization\n",
      "[[12  2]\n",
      " [ 2  1]]\n",
      "Fold 7\t 86.2%\t | 98.7% | 70.6%\n",
      "Confusion matrix, without normalization\n",
      "[[131   0]\n",
      " [  2  19]]\n",
      "Confusion matrix, without normalization\n",
      "[[11  3]\n",
      " [ 2  1]]\n",
      "Fold 8\t 86.2%\t | 98.7% | 70.6%\n",
      "Confusion matrix, without normalization\n",
      "[[131   0]\n",
      " [  2  19]]\n",
      "Confusion matrix, without normalization\n",
      "[[12  2]\n",
      " [ 3  0]]\n",
      "Fold 9\t 84.3%\t | 98.0% | 93.8%\n",
      "Confusion matrix, without normalization\n",
      "[[129   0]\n",
      " [  3  21]]\n"
     ]
    },
    {
     "name": "stderr",
     "output_type": "stream",
     "text": [
      "/Users/hundredball/anaconda3/envs/Math24_new/lib/python3.7/site-packages/sklearn/metrics/_classification.py:1221: UndefinedMetricWarning: Recall is ill-defined and being set to 0.0 due to no true samples. Use `zero_division` parameter to control this behavior.\n",
      "  _warn_prf(average, modifier, msg_start, len(result))\n"
     ]
    },
    {
     "name": "stdout",
     "output_type": "stream",
     "text": [
      "Confusion matrix, without normalization\n",
      "[[15  1]\n",
      " [ 0  0]]\n",
      "Average val acc: 76.9%\n",
      "Sub  \t Chance\t | Train | Val\n",
      "Sub 1\t 89.0%\t | 98.8% | 16.7%\n",
      "Confusion matrix, without normalization\n",
      "[[145   0]\n",
      " [  2  16]]\n",
      "Confusion matrix, without normalization\n",
      "[[0 0]\n",
      " [5 1]]\n"
     ]
    },
    {
     "name": "stderr",
     "output_type": "stream",
     "text": [
      "/Users/hundredball/anaconda3/envs/Math24_new/lib/python3.7/site-packages/sklearn/metrics/_classification.py:1221: UndefinedMetricWarning: Recall is ill-defined and being set to 0.0 due to no true samples. Use `zero_division` parameter to control this behavior.\n",
      "  _warn_prf(average, modifier, msg_start, len(result))\n"
     ]
    },
    {
     "name": "stdout",
     "output_type": "stream",
     "text": [
      "Sub 2\t 85.3%\t | 98.2% | 83.3%\n",
      "Confusion matrix, without normalization\n",
      "[[139   0]\n",
      " [  3  21]]\n",
      "Confusion matrix, without normalization\n",
      "[[5 1]\n",
      " [0 0]]\n",
      "Sub 3\t 87.6%\t | 98.1% | 75.0%\n",
      "Confusion matrix, without normalization\n",
      "[[141   0]\n",
      " [  3  17]]\n",
      "Confusion matrix, without normalization\n",
      "[[4 0]\n",
      " [2 2]]\n"
     ]
    },
    {
     "name": "stderr",
     "output_type": "stream",
     "text": [
      "/Users/hundredball/anaconda3/envs/Math24_new/lib/python3.7/site-packages/sklearn/metrics/_classification.py:1221: UndefinedMetricWarning: Precision is ill-defined and being set to 0.0 due to no predicted samples. Use `zero_division` parameter to control this behavior.\n",
      "  _warn_prf(average, modifier, msg_start, len(result))\n"
     ]
    },
    {
     "name": "stdout",
     "output_type": "stream",
     "text": [
      "Sub 4\t 85.8%\t | 98.1% | 85.7%\n",
      "Confusion matrix, without normalization\n",
      "[[139   0]\n",
      " [  3  20]]\n",
      "Confusion matrix, without normalization\n",
      "[[6 0]\n",
      " [1 0]]\n"
     ]
    },
    {
     "name": "stderr",
     "output_type": "stream",
     "text": [
      "/Users/hundredball/anaconda3/envs/Math24_new/lib/python3.7/site-packages/sklearn/metrics/_classification.py:1221: UndefinedMetricWarning: Recall is ill-defined and being set to 0.0 due to no true samples. Use `zero_division` parameter to control this behavior.\n",
      "  _warn_prf(average, modifier, msg_start, len(result))\n"
     ]
    },
    {
     "name": "stdout",
     "output_type": "stream",
     "text": [
      "Sub 5\t 85.2%\t | 98.1% | 71.4%\n",
      "Confusion matrix, without normalization\n",
      "[[138   0]\n",
      " [  3  21]]\n",
      "Confusion matrix, without normalization\n",
      "[[5 2]\n",
      " [0 0]]\n",
      "Sub 6\t 85.3%\t | 98.2% | 83.3%\n"
     ]
    },
    {
     "name": "stderr",
     "output_type": "stream",
     "text": [
      "/Users/hundredball/anaconda3/envs/Math24_new/lib/python3.7/site-packages/sklearn/metrics/_classification.py:1221: UndefinedMetricWarning: Recall is ill-defined and being set to 0.0 due to no true samples. Use `zero_division` parameter to control this behavior.\n",
      "  _warn_prf(average, modifier, msg_start, len(result))\n"
     ]
    },
    {
     "name": "stdout",
     "output_type": "stream",
     "text": [
      "Confusion matrix, without normalization\n",
      "[[139   0]\n",
      " [  3  21]]\n",
      "Confusion matrix, without normalization\n",
      "[[5 1]\n",
      " [0 0]]\n"
     ]
    },
    {
     "name": "stderr",
     "output_type": "stream",
     "text": [
      "/Users/hundredball/anaconda3/envs/Math24_new/lib/python3.7/site-packages/sklearn/metrics/_classification.py:1221: UndefinedMetricWarning: Recall is ill-defined and being set to 0.0 due to no true samples. Use `zero_division` parameter to control this behavior.\n",
      "  _warn_prf(average, modifier, msg_start, len(result))\n"
     ]
    },
    {
     "name": "stdout",
     "output_type": "stream",
     "text": [
      "Sub 7\t 85.4%\t | 98.2% | 60.0%\n",
      "Confusion matrix, without normalization\n",
      "[[140   0]\n",
      " [  3  21]]\n",
      "Confusion matrix, without normalization\n",
      "[[3 2]\n",
      " [0 0]]\n"
     ]
    },
    {
     "name": "stderr",
     "output_type": "stream",
     "text": [
      "/Users/hundredball/anaconda3/envs/Math24_new/lib/python3.7/site-packages/sklearn/metrics/_classification.py:1221: UndefinedMetricWarning: Recall is ill-defined and being set to 0.0 due to no true samples. Use `zero_division` parameter to control this behavior.\n",
      "  _warn_prf(average, modifier, msg_start, len(result))\n",
      "/Users/hundredball/anaconda3/envs/Math24_new/lib/python3.7/site-packages/sklearn/metrics/_classification.py:1221: UndefinedMetricWarning: Precision is ill-defined and being set to 0.0 due to no predicted samples. Use `zero_division` parameter to control this behavior.\n",
      "  _warn_prf(average, modifier, msg_start, len(result))\n"
     ]
    },
    {
     "name": "stdout",
     "output_type": "stream",
     "text": [
      "Sub 8\t 85.4%\t | 98.8% | 100.0%\n",
      "Confusion matrix, without normalization\n",
      "[[140   0]\n",
      " [  2  22]]\n",
      "Confusion matrix, without normalization\n",
      "[[5]]\n"
     ]
    },
    {
     "name": "stderr",
     "output_type": "stream",
     "text": [
      "/Users/hundredball/anaconda3/envs/Math24_new/lib/python3.7/site-packages/sklearn/metrics/_classification.py:1221: UndefinedMetricWarning: Precision is ill-defined and being set to 0.0 due to no predicted samples. Use `zero_division` parameter to control this behavior.\n",
      "  _warn_prf(average, modifier, msg_start, len(result))\n"
     ]
    },
    {
     "name": "stdout",
     "output_type": "stream",
     "text": [
      "Sub 9\t 86.5%\t | 97.5% | 66.7%\n",
      "Confusion matrix, without normalization\n",
      "[[141   0]\n",
      " [  4  18]]\n",
      "Confusion matrix, without normalization\n",
      "[[4 0]\n",
      " [2 0]]\n"
     ]
    },
    {
     "name": "stderr",
     "output_type": "stream",
     "text": [
      "/Users/hundredball/anaconda3/envs/Math24_new/lib/python3.7/site-packages/sklearn/metrics/_classification.py:1221: UndefinedMetricWarning: Precision is ill-defined and being set to 0.0 due to no predicted samples. Use `zero_division` parameter to control this behavior.\n",
      "  _warn_prf(average, modifier, msg_start, len(result))\n"
     ]
    },
    {
     "name": "stdout",
     "output_type": "stream",
     "text": [
      "Sub 10\t 87.3%\t | 98.2% | 0.0%\n",
      "Confusion matrix, without normalization\n",
      "[[145   0]\n",
      " [  3  18]]\n",
      "Confusion matrix, without normalization\n",
      "[[0 0]\n",
      " [3 0]]\n",
      "Sub 11\t 85.9%\t | 98.8% | 66.7%\n",
      "Confusion matrix, without normalization\n",
      "[[140   0]\n",
      " [  2  21]]\n",
      "Confusion matrix, without normalization\n",
      "[[3 2]\n",
      " [0 1]]\n"
     ]
    },
    {
     "name": "stderr",
     "output_type": "stream",
     "text": [
      "/Users/hundredball/anaconda3/envs/Math24_new/lib/python3.7/site-packages/sklearn/metrics/_classification.py:1221: UndefinedMetricWarning: Recall is ill-defined and being set to 0.0 due to no true samples. Use `zero_division` parameter to control this behavior.\n",
      "  _warn_prf(average, modifier, msg_start, len(result))\n",
      "/Users/hundredball/anaconda3/envs/Math24_new/lib/python3.7/site-packages/sklearn/metrics/_classification.py:1221: UndefinedMetricWarning: Precision is ill-defined and being set to 0.0 due to no predicted samples. Use `zero_division` parameter to control this behavior.\n",
      "  _warn_prf(average, modifier, msg_start, len(result))\n"
     ]
    },
    {
     "name": "stdout",
     "output_type": "stream",
     "text": [
      "Sub 12\t 85.3%\t | 98.2% | 100.0%\n",
      "Confusion matrix, without normalization\n",
      "[[139   0]\n",
      " [  3  21]]\n",
      "Confusion matrix, without normalization\n",
      "[[6]]\n"
     ]
    },
    {
     "name": "stderr",
     "output_type": "stream",
     "text": [
      "/Users/hundredball/anaconda3/envs/Math24_new/lib/python3.7/site-packages/sklearn/metrics/_classification.py:1221: UndefinedMetricWarning: Recall is ill-defined and being set to 0.0 due to no true samples. Use `zero_division` parameter to control this behavior.\n",
      "  _warn_prf(average, modifier, msg_start, len(result))\n",
      "/Users/hundredball/anaconda3/envs/Math24_new/lib/python3.7/site-packages/sklearn/metrics/_classification.py:1221: UndefinedMetricWarning: Precision is ill-defined and being set to 0.0 due to no predicted samples. Use `zero_division` parameter to control this behavior.\n",
      "  _warn_prf(average, modifier, msg_start, len(result))\n"
     ]
    },
    {
     "name": "stdout",
     "output_type": "stream",
     "text": [
      "Sub 13\t 85.3%\t | 98.2% | 100.0%\n",
      "Confusion matrix, without normalization\n",
      "[[139   0]\n",
      " [  3  21]]\n",
      "Confusion matrix, without normalization\n",
      "[[6]]\n"
     ]
    },
    {
     "name": "stderr",
     "output_type": "stream",
     "text": [
      "/Users/hundredball/anaconda3/envs/Math24_new/lib/python3.7/site-packages/sklearn/metrics/_classification.py:1221: UndefinedMetricWarning: Recall is ill-defined and being set to 0.0 due to no true samples. Use `zero_division` parameter to control this behavior.\n",
      "  _warn_prf(average, modifier, msg_start, len(result))\n",
      "/Users/hundredball/anaconda3/envs/Math24_new/lib/python3.7/site-packages/sklearn/metrics/_classification.py:1221: UndefinedMetricWarning: Precision is ill-defined and being set to 0.0 due to no predicted samples. Use `zero_division` parameter to control this behavior.\n",
      "  _warn_prf(average, modifier, msg_start, len(result))\n"
     ]
    },
    {
     "name": "stdout",
     "output_type": "stream",
     "text": [
      "Sub 14\t 85.5%\t | 97.6% | 100.0%\n",
      "Confusion matrix, without normalization\n",
      "[[142   0]\n",
      " [  4  20]]\n",
      "Confusion matrix, without normalization\n",
      "[[3]]\n",
      "Sub 16\t 86.2%\t | 98.8% | 50.0%\n",
      "Confusion matrix, without normalization\n",
      "[[144   0]\n",
      " [  2  21]]\n",
      "Confusion matrix, without normalization\n",
      "[[0 1]\n",
      " [0 1]]\n",
      "Sub 17\t 87.2%\t | 98.8% | 60.0%\n",
      "Confusion matrix, without normalization\n",
      "[[143   0]\n",
      " [  2  19]]\n",
      "Confusion matrix, without normalization\n",
      "[[2 0]\n",
      " [2 1]]\n"
     ]
    },
    {
     "name": "stderr",
     "output_type": "stream",
     "text": [
      "/Users/hundredball/anaconda3/envs/Math24_new/lib/python3.7/site-packages/sklearn/metrics/_classification.py:1221: UndefinedMetricWarning: Recall is ill-defined and being set to 0.0 due to no true samples. Use `zero_division` parameter to control this behavior.\n",
      "  _warn_prf(average, modifier, msg_start, len(result))\n"
     ]
    },
    {
     "name": "stdout",
     "output_type": "stream",
     "text": [
      "Sub 18\t 85.4%\t | 98.2% | 80.0%\n",
      "Confusion matrix, without normalization\n",
      "[[140   0]\n",
      " [  3  21]]\n",
      "Confusion matrix, without normalization\n",
      "[[4 1]\n",
      " [0 0]]\n",
      "Sub 19\t 84.6%\t | 98.1% | 84.6%\n",
      "Confusion matrix, without normalization\n",
      "[[132   0]\n",
      " [  3  21]]\n"
     ]
    },
    {
     "name": "stderr",
     "output_type": "stream",
     "text": [
      "/Users/hundredball/anaconda3/envs/Math24_new/lib/python3.7/site-packages/sklearn/metrics/_classification.py:1221: UndefinedMetricWarning: Recall is ill-defined and being set to 0.0 due to no true samples. Use `zero_division` parameter to control this behavior.\n",
      "  _warn_prf(average, modifier, msg_start, len(result))\n"
     ]
    },
    {
     "name": "stdout",
     "output_type": "stream",
     "text": [
      "Confusion matrix, without normalization\n",
      "[[11  2]\n",
      " [ 0  0]]\n",
      "Sub 20\t 85.3%\t | 98.1% | 69.2%\n",
      "Confusion matrix, without normalization\n",
      "[[133   0]\n",
      " [  3  20]]\n",
      "Confusion matrix, without normalization\n",
      "[[9 3]\n",
      " [1 0]]\n"
     ]
    },
    {
     "name": "stderr",
     "output_type": "stream",
     "text": [
      "/Users/hundredball/anaconda3/envs/Math24_new/lib/python3.7/site-packages/sklearn/metrics/_classification.py:1221: UndefinedMetricWarning: Recall is ill-defined and being set to 0.0 due to no true samples. Use `zero_division` parameter to control this behavior.\n",
      "  _warn_prf(average, modifier, msg_start, len(result))\n"
     ]
    },
    {
     "name": "stdout",
     "output_type": "stream",
     "text": [
      "Sub 21\t 84.7%\t | 98.1% | 66.7%\n",
      "Confusion matrix, without normalization\n",
      "[[133   0]\n",
      " [  3  21]]\n",
      "Confusion matrix, without normalization\n",
      "[[8 4]\n",
      " [0 0]]\n"
     ]
    },
    {
     "name": "stderr",
     "output_type": "stream",
     "text": [
      "/Users/hundredball/anaconda3/envs/Math24_new/lib/python3.7/site-packages/sklearn/metrics/_classification.py:1221: UndefinedMetricWarning: Recall is ill-defined and being set to 0.0 due to no true samples. Use `zero_division` parameter to control this behavior.\n",
      "  _warn_prf(average, modifier, msg_start, len(result))\n"
     ]
    },
    {
     "name": "stdout",
     "output_type": "stream",
     "text": [
      "Sub 22\t 84.8%\t | 98.7% | 54.5%\n",
      "Confusion matrix, without normalization\n",
      "[[134   0]\n",
      " [  2  22]]\n",
      "Confusion matrix, without normalization\n",
      "[[6 5]\n",
      " [0 0]]\n"
     ]
    },
    {
     "name": "stderr",
     "output_type": "stream",
     "text": [
      "/Users/hundredball/anaconda3/envs/Math24_new/lib/python3.7/site-packages/sklearn/metrics/_classification.py:1221: UndefinedMetricWarning: Recall is ill-defined and being set to 0.0 due to no true samples. Use `zero_division` parameter to control this behavior.\n",
      "  _warn_prf(average, modifier, msg_start, len(result))\n",
      "/Users/hundredball/anaconda3/envs/Math24_new/lib/python3.7/site-packages/sklearn/metrics/_classification.py:1221: UndefinedMetricWarning: Precision is ill-defined and being set to 0.0 due to no predicted samples. Use `zero_division` parameter to control this behavior.\n",
      "  _warn_prf(average, modifier, msg_start, len(result))\n"
     ]
    },
    {
     "name": "stdout",
     "output_type": "stream",
     "text": [
      "Sub 23\t 85.3%\t | 97.5% | 100.0%\n",
      "Confusion matrix, without normalization\n",
      "[[139   0]\n",
      " [  4  20]]\n",
      "Confusion matrix, without normalization\n",
      "[[6]]\n"
     ]
    },
    {
     "name": "stderr",
     "output_type": "stream",
     "text": [
      "/Users/hundredball/anaconda3/envs/Math24_new/lib/python3.7/site-packages/sklearn/metrics/_classification.py:1221: UndefinedMetricWarning: Precision is ill-defined and being set to 0.0 due to no predicted samples. Use `zero_division` parameter to control this behavior.\n",
      "  _warn_prf(average, modifier, msg_start, len(result))\n"
     ]
    },
    {
     "name": "stdout",
     "output_type": "stream",
     "text": [
      "Sub 24\t 86.4%\t | 98.8% | 71.4%\n",
      "Confusion matrix, without normalization\n",
      "[[140   0]\n",
      " [  2  20]]\n",
      "Confusion matrix, without normalization\n",
      "[[5 0]\n",
      " [2 0]]\n"
     ]
    },
    {
     "name": "stderr",
     "output_type": "stream",
     "text": [
      "/Users/hundredball/anaconda3/envs/Math24_new/lib/python3.7/site-packages/sklearn/metrics/_classification.py:1221: UndefinedMetricWarning: Recall is ill-defined and being set to 0.0 due to no true samples. Use `zero_division` parameter to control this behavior.\n",
      "  _warn_prf(average, modifier, msg_start, len(result))\n",
      "/Users/hundredball/anaconda3/envs/Math24_new/lib/python3.7/site-packages/sklearn/metrics/_classification.py:1221: UndefinedMetricWarning: Precision is ill-defined and being set to 0.0 due to no predicted samples. Use `zero_division` parameter to control this behavior.\n",
      "  _warn_prf(average, modifier, msg_start, len(result))\n"
     ]
    },
    {
     "name": "stdout",
     "output_type": "stream",
     "text": [
      "Sub 25\t 85.2%\t | 97.5% | 100.0%\n",
      "Confusion matrix, without normalization\n",
      "[[138   0]\n",
      " [  4  20]]\n",
      "Confusion matrix, without normalization\n",
      "[[7]]\n"
     ]
    },
    {
     "name": "stderr",
     "output_type": "stream",
     "text": [
      "/Users/hundredball/anaconda3/envs/Math24_new/lib/python3.7/site-packages/sklearn/metrics/_classification.py:1221: UndefinedMetricWarning: Recall is ill-defined and being set to 0.0 due to no true samples. Use `zero_division` parameter to control this behavior.\n",
      "  _warn_prf(average, modifier, msg_start, len(result))\n"
     ]
    },
    {
     "name": "stdout",
     "output_type": "stream",
     "text": [
      "Sub 26\t 85.1%\t | 98.8% | 75.0%\n",
      "Confusion matrix, without normalization\n",
      "[[137   0]\n",
      " [  2  22]]\n",
      "Confusion matrix, without normalization\n",
      "[[6 2]\n",
      " [0 0]]\n",
      "Average val acc: 74.0%\n",
      "Sub  \t Chance\t | Train | Val\n",
      "Fold 0\t 50.0%\t | 89.4% | 58.8%\n",
      "Confusion matrix, without normalization\n",
      "[[118  14]\n",
      " [ 14 118]]\n",
      "Confusion matrix, without normalization\n",
      "[[8 5]\n",
      " [2 2]]\n",
      "Fold 1\t 50.0%\t | 92.0% | 64.7%\n",
      "Confusion matrix, without normalization\n",
      "[[123   8]\n",
      " [ 13 118]]\n",
      "Confusion matrix, without normalization\n",
      "[[10  4]\n",
      " [ 2  1]]\n"
     ]
    },
    {
     "name": "stderr",
     "output_type": "stream",
     "text": [
      "/Users/hundredball/anaconda3/envs/Math24_new/lib/python3.7/site-packages/sklearn/metrics/_classification.py:1221: UndefinedMetricWarning: Recall is ill-defined and being set to 0.0 due to no true samples. Use `zero_division` parameter to control this behavior.\n",
      "  _warn_prf(average, modifier, msg_start, len(result))\n"
     ]
    },
    {
     "name": "stdout",
     "output_type": "stream",
     "text": [
      "Fold 2\t 50.0%\t | 88.3% | 64.7%\n",
      "Confusion matrix, without normalization\n",
      "[[113  15]\n",
      " [ 15 113]]\n",
      "Confusion matrix, without normalization\n",
      "[[11  6]\n",
      " [ 0  0]]\n",
      "Fold 3\t 50.0%\t | 90.1% | 52.9%\n",
      "Confusion matrix, without normalization\n",
      "[[119  12]\n",
      " [ 14 117]]\n",
      "Confusion matrix, without normalization\n",
      "[[7 7]\n",
      " [1 2]]\n",
      "Fold 4\t 50.0%\t | 89.3% | 76.5%\n",
      "Confusion matrix, without normalization\n",
      "[[113  18]\n",
      " [ 10 121]]\n",
      "Confusion matrix, without normalization\n",
      "[[10  4]\n",
      " [ 0  3]]\n",
      "Fold 5\t 50.0%\t | 94.2% | 41.2%\n",
      "Confusion matrix, without normalization\n",
      "[[122   8]\n",
      " [  7 123]]\n",
      "Confusion matrix, without normalization\n",
      "[[6 9]\n",
      " [1 1]]\n",
      "Fold 6\t 50.0%\t | 88.9% | 41.2%\n",
      "Confusion matrix, without normalization\n",
      "[[114  17]\n",
      " [ 12 119]]\n",
      "Confusion matrix, without normalization\n",
      "[[6 8]\n",
      " [2 1]]\n",
      "Fold 7\t 50.0%\t | 88.9% | 47.1%\n",
      "Confusion matrix, without normalization\n",
      "[[119  12]\n",
      " [ 17 114]]\n",
      "Confusion matrix, without normalization\n",
      "[[6 8]\n",
      " [1 2]]\n",
      "Fold 8\t 50.0%\t | 92.0% | 47.1%\n",
      "Confusion matrix, without normalization\n",
      "[[115  16]\n",
      " [  5 126]]\n",
      "Confusion matrix, without normalization\n",
      "[[7 7]\n",
      " [2 1]]\n"
     ]
    },
    {
     "name": "stderr",
     "output_type": "stream",
     "text": [
      "/Users/hundredball/anaconda3/envs/Math24_new/lib/python3.7/site-packages/sklearn/metrics/_classification.py:1221: UndefinedMetricWarning: Recall is ill-defined and being set to 0.0 due to no true samples. Use `zero_division` parameter to control this behavior.\n",
      "  _warn_prf(average, modifier, msg_start, len(result))\n"
     ]
    },
    {
     "name": "stdout",
     "output_type": "stream",
     "text": [
      "Fold 9\t 50.0%\t | 91.9% | 62.5%\n",
      "Confusion matrix, without normalization\n",
      "[[116  13]\n",
      " [  8 121]]\n",
      "Confusion matrix, without normalization\n",
      "[[10  6]\n",
      " [ 0  0]]\n",
      "Average val acc: 55.6%\n",
      "Sub  \t Chance\t | Train | Val\n",
      "Sub 1\t 50.0%\t | 87.6% | 50.0%\n",
      "Confusion matrix, without normalization\n",
      "[[126  19]\n",
      " [ 17 128]]\n",
      "Confusion matrix, without normalization\n",
      "[[0 0]\n",
      " [3 3]]\n"
     ]
    },
    {
     "name": "stderr",
     "output_type": "stream",
     "text": [
      "/Users/hundredball/anaconda3/envs/Math24_new/lib/python3.7/site-packages/sklearn/metrics/_classification.py:1221: UndefinedMetricWarning: Recall is ill-defined and being set to 0.0 due to no true samples. Use `zero_division` parameter to control this behavior.\n",
      "  _warn_prf(average, modifier, msg_start, len(result))\n"
     ]
    },
    {
     "name": "stdout",
     "output_type": "stream",
     "text": [
      "Sub 2\t 50.0%\t | 91.4% | 66.7%\n",
      "Confusion matrix, without normalization\n",
      "[[125  14]\n",
      " [ 10 129]]\n",
      "Confusion matrix, without normalization\n",
      "[[4 2]\n",
      " [0 0]]\n",
      "Sub 3\t 50.0%\t | 90.4% | 50.0%\n",
      "Confusion matrix, without normalization\n",
      "[[124  17]\n",
      " [ 10 131]]\n",
      "Confusion matrix, without normalization\n",
      "[[2 2]\n",
      " [2 2]]\n",
      "Sub 4\t 50.0%\t | 92.4% | 71.4%\n",
      "Confusion matrix, without normalization\n",
      "[[126  13]\n",
      " [  8 131]]\n",
      "Confusion matrix, without normalization\n",
      "[[5 1]\n",
      " [1 0]]\n"
     ]
    },
    {
     "name": "stderr",
     "output_type": "stream",
     "text": [
      "/Users/hundredball/anaconda3/envs/Math24_new/lib/python3.7/site-packages/sklearn/metrics/_classification.py:1221: UndefinedMetricWarning: Recall is ill-defined and being set to 0.0 due to no true samples. Use `zero_division` parameter to control this behavior.\n",
      "  _warn_prf(average, modifier, msg_start, len(result))\n"
     ]
    },
    {
     "name": "stdout",
     "output_type": "stream",
     "text": [
      "Sub 5\t 50.0%\t | 93.8% | 42.9%\n",
      "Confusion matrix, without normalization\n",
      "[[128  10]\n",
      " [  7 131]]\n",
      "Confusion matrix, without normalization\n",
      "[[3 4]\n",
      " [0 0]]\n"
     ]
    },
    {
     "name": "stderr",
     "output_type": "stream",
     "text": [
      "/Users/hundredball/anaconda3/envs/Math24_new/lib/python3.7/site-packages/sklearn/metrics/_classification.py:1221: UndefinedMetricWarning: Recall is ill-defined and being set to 0.0 due to no true samples. Use `zero_division` parameter to control this behavior.\n",
      "  _warn_prf(average, modifier, msg_start, len(result))\n"
     ]
    },
    {
     "name": "stdout",
     "output_type": "stream",
     "text": [
      "Sub 6\t 50.0%\t | 89.9% | 83.3%\n",
      "Confusion matrix, without normalization\n",
      "[[123  16]\n",
      " [ 12 127]]\n",
      "Confusion matrix, without normalization\n",
      "[[5 1]\n",
      " [0 0]]\n"
     ]
    },
    {
     "name": "stderr",
     "output_type": "stream",
     "text": [
      "/Users/hundredball/anaconda3/envs/Math24_new/lib/python3.7/site-packages/sklearn/metrics/_classification.py:1221: UndefinedMetricWarning: Recall is ill-defined and being set to 0.0 due to no true samples. Use `zero_division` parameter to control this behavior.\n",
      "  _warn_prf(average, modifier, msg_start, len(result))\n"
     ]
    },
    {
     "name": "stdout",
     "output_type": "stream",
     "text": [
      "Sub 7\t 50.0%\t | 88.2% | 60.0%\n",
      "Confusion matrix, without normalization\n",
      "[[122  18]\n",
      " [ 15 125]]\n",
      "Confusion matrix, without normalization\n",
      "[[3 2]\n",
      " [0 0]]\n"
     ]
    },
    {
     "name": "stderr",
     "output_type": "stream",
     "text": [
      "/Users/hundredball/anaconda3/envs/Math24_new/lib/python3.7/site-packages/sklearn/metrics/_classification.py:1221: UndefinedMetricWarning: Recall is ill-defined and being set to 0.0 due to no true samples. Use `zero_division` parameter to control this behavior.\n",
      "  _warn_prf(average, modifier, msg_start, len(result))\n"
     ]
    },
    {
     "name": "stdout",
     "output_type": "stream",
     "text": [
      "Sub 8\t 50.0%\t | 87.9% | 40.0%\n",
      "Confusion matrix, without normalization\n",
      "[[120  20]\n",
      " [ 14 126]]\n",
      "Confusion matrix, without normalization\n",
      "[[2 3]\n",
      " [0 0]]\n",
      "Sub 9\t 50.0%\t | 89.7% | 83.3%\n",
      "Confusion matrix, without normalization\n",
      "[[126  15]\n",
      " [ 14 127]]\n",
      "Confusion matrix, without normalization\n",
      "[[4 0]\n",
      " [1 1]]\n",
      "Sub 10\t 50.0%\t | 89.3% | 33.3%\n",
      "Confusion matrix, without normalization\n",
      "[[128  17]\n",
      " [ 14 131]]\n",
      "Confusion matrix, without normalization\n",
      "[[0 0]\n",
      " [2 1]]\n",
      "Sub 11\t 50.0%\t | 87.5% | 16.7%\n",
      "Confusion matrix, without normalization\n",
      "[[120  20]\n",
      " [ 15 125]]\n",
      "Confusion matrix, without normalization\n",
      "[[1 4]\n",
      " [1 0]]\n"
     ]
    },
    {
     "name": "stderr",
     "output_type": "stream",
     "text": [
      "/Users/hundredball/anaconda3/envs/Math24_new/lib/python3.7/site-packages/sklearn/metrics/_classification.py:1221: UndefinedMetricWarning: Recall is ill-defined and being set to 0.0 due to no true samples. Use `zero_division` parameter to control this behavior.\n",
      "  _warn_prf(average, modifier, msg_start, len(result))\n"
     ]
    },
    {
     "name": "stdout",
     "output_type": "stream",
     "text": [
      "Sub 12\t 50.0%\t | 91.4% | 66.7%\n",
      "Confusion matrix, without normalization\n",
      "[[124  15]\n",
      " [  9 130]]\n",
      "Confusion matrix, without normalization\n",
      "[[4 2]\n",
      " [0 0]]\n"
     ]
    },
    {
     "name": "stderr",
     "output_type": "stream",
     "text": [
      "/Users/hundredball/anaconda3/envs/Math24_new/lib/python3.7/site-packages/sklearn/metrics/_classification.py:1221: UndefinedMetricWarning: Recall is ill-defined and being set to 0.0 due to no true samples. Use `zero_division` parameter to control this behavior.\n",
      "  _warn_prf(average, modifier, msg_start, len(result))\n"
     ]
    },
    {
     "name": "stdout",
     "output_type": "stream",
     "text": [
      "Sub 13\t 50.0%\t | 93.2% | 50.0%\n",
      "Confusion matrix, without normalization\n",
      "[[126  13]\n",
      " [  6 133]]\n",
      "Confusion matrix, without normalization\n",
      "[[3 3]\n",
      " [0 0]]\n"
     ]
    },
    {
     "name": "stderr",
     "output_type": "stream",
     "text": [
      "/Users/hundredball/anaconda3/envs/Math24_new/lib/python3.7/site-packages/sklearn/metrics/_classification.py:1221: UndefinedMetricWarning: Recall is ill-defined and being set to 0.0 due to no true samples. Use `zero_division` parameter to control this behavior.\n",
      "  _warn_prf(average, modifier, msg_start, len(result))\n"
     ]
    },
    {
     "name": "stdout",
     "output_type": "stream",
     "text": [
      "Sub 14\t 50.0%\t | 88.7% | 33.3%\n",
      "Confusion matrix, without normalization\n",
      "[[126  16]\n",
      " [ 16 126]]\n",
      "Confusion matrix, without normalization\n",
      "[[1 2]\n",
      " [0 0]]\n",
      "Sub 16\t 50.0%\t | 91.3% | 50.0%\n",
      "Confusion matrix, without normalization\n",
      "[[125  19]\n",
      " [  6 138]]\n",
      "Confusion matrix, without normalization\n",
      "[[0 1]\n",
      " [0 1]]\n",
      "Sub 17\t 50.0%\t | 87.4% | 80.0%\n",
      "Confusion matrix, without normalization\n",
      "[[120  23]\n",
      " [ 13 130]]\n",
      "Confusion matrix, without normalization\n",
      "[[1 1]\n",
      " [0 3]]\n"
     ]
    },
    {
     "name": "stderr",
     "output_type": "stream",
     "text": [
      "/Users/hundredball/anaconda3/envs/Math24_new/lib/python3.7/site-packages/sklearn/metrics/_classification.py:1221: UndefinedMetricWarning: Recall is ill-defined and being set to 0.0 due to no true samples. Use `zero_division` parameter to control this behavior.\n",
      "  _warn_prf(average, modifier, msg_start, len(result))\n"
     ]
    },
    {
     "name": "stdout",
     "output_type": "stream",
     "text": [
      "Sub 18\t 50.0%\t | 88.9% | 60.0%\n",
      "Confusion matrix, without normalization\n",
      "[[122  18]\n",
      " [ 13 127]]\n",
      "Confusion matrix, without normalization\n",
      "[[3 2]\n",
      " [0 0]]\n"
     ]
    },
    {
     "name": "stderr",
     "output_type": "stream",
     "text": [
      "/Users/hundredball/anaconda3/envs/Math24_new/lib/python3.7/site-packages/sklearn/metrics/_classification.py:1221: UndefinedMetricWarning: Recall is ill-defined and being set to 0.0 due to no true samples. Use `zero_division` parameter to control this behavior.\n",
      "  _warn_prf(average, modifier, msg_start, len(result))\n"
     ]
    },
    {
     "name": "stdout",
     "output_type": "stream",
     "text": [
      "Sub 19\t 50.0%\t | 91.7% | 53.8%\n",
      "Confusion matrix, without normalization\n",
      "[[119  13]\n",
      " [  9 123]]\n",
      "Confusion matrix, without normalization\n",
      "[[7 6]\n",
      " [0 0]]\n",
      "Sub 20\t 50.0%\t | 95.5% | 61.5%\n",
      "Confusion matrix, without normalization\n",
      "[[129   4]\n",
      " [  8 125]]\n",
      "Confusion matrix, without normalization\n",
      "[[8 4]\n",
      " [1 0]]\n"
     ]
    },
    {
     "name": "stderr",
     "output_type": "stream",
     "text": [
      "/Users/hundredball/anaconda3/envs/Math24_new/lib/python3.7/site-packages/sklearn/metrics/_classification.py:1221: UndefinedMetricWarning: Recall is ill-defined and being set to 0.0 due to no true samples. Use `zero_division` parameter to control this behavior.\n",
      "  _warn_prf(average, modifier, msg_start, len(result))\n"
     ]
    },
    {
     "name": "stdout",
     "output_type": "stream",
     "text": [
      "Sub 21\t 50.0%\t | 90.2% | 41.7%\n",
      "Confusion matrix, without normalization\n",
      "[[120  13]\n",
      " [ 13 120]]\n",
      "Confusion matrix, without normalization\n",
      "[[5 7]\n",
      " [0 0]]\n",
      "Sub 22\t 50.0%\t | 90.7% | 36.4%\n",
      "Confusion matrix, without normalization\n",
      "[[117  17]\n",
      " [  8 126]]\n"
     ]
    },
    {
     "name": "stderr",
     "output_type": "stream",
     "text": [
      "/Users/hundredball/anaconda3/envs/Math24_new/lib/python3.7/site-packages/sklearn/metrics/_classification.py:1221: UndefinedMetricWarning: Recall is ill-defined and being set to 0.0 due to no true samples. Use `zero_division` parameter to control this behavior.\n",
      "  _warn_prf(average, modifier, msg_start, len(result))\n"
     ]
    },
    {
     "name": "stdout",
     "output_type": "stream",
     "text": [
      "Confusion matrix, without normalization\n",
      "[[4 7]\n",
      " [0 0]]\n"
     ]
    },
    {
     "name": "stderr",
     "output_type": "stream",
     "text": [
      "/Users/hundredball/anaconda3/envs/Math24_new/lib/python3.7/site-packages/sklearn/metrics/_classification.py:1221: UndefinedMetricWarning: Recall is ill-defined and being set to 0.0 due to no true samples. Use `zero_division` parameter to control this behavior.\n",
      "  _warn_prf(average, modifier, msg_start, len(result))\n",
      "/Users/hundredball/anaconda3/envs/Math24_new/lib/python3.7/site-packages/sklearn/metrics/_classification.py:1221: UndefinedMetricWarning: Precision is ill-defined and being set to 0.0 due to no predicted samples. Use `zero_division` parameter to control this behavior.\n",
      "  _warn_prf(average, modifier, msg_start, len(result))\n"
     ]
    },
    {
     "name": "stdout",
     "output_type": "stream",
     "text": [
      "Sub 23\t 50.0%\t | 91.7% | 100.0%\n",
      "Confusion matrix, without normalization\n",
      "[[126  13]\n",
      " [ 10 129]]\n",
      "Confusion matrix, without normalization\n",
      "[[6]]\n",
      "Sub 24\t 50.0%\t | 89.3% | 42.9%\n",
      "Confusion matrix, without normalization\n",
      "[[123  17]\n",
      " [ 13 127]]\n",
      "Confusion matrix, without normalization\n",
      "[[2 3]\n",
      " [1 1]]\n"
     ]
    },
    {
     "name": "stderr",
     "output_type": "stream",
     "text": [
      "/Users/hundredball/anaconda3/envs/Math24_new/lib/python3.7/site-packages/sklearn/metrics/_classification.py:1221: UndefinedMetricWarning: Recall is ill-defined and being set to 0.0 due to no true samples. Use `zero_division` parameter to control this behavior.\n",
      "  _warn_prf(average, modifier, msg_start, len(result))\n"
     ]
    },
    {
     "name": "stdout",
     "output_type": "stream",
     "text": [
      "Sub 25\t 50.0%\t | 91.3% | 42.9%\n",
      "Confusion matrix, without normalization\n",
      "[[125  13]\n",
      " [ 11 127]]\n",
      "Confusion matrix, without normalization\n",
      "[[3 4]\n",
      " [0 0]]\n"
     ]
    },
    {
     "name": "stderr",
     "output_type": "stream",
     "text": [
      "/Users/hundredball/anaconda3/envs/Math24_new/lib/python3.7/site-packages/sklearn/metrics/_classification.py:1221: UndefinedMetricWarning: Recall is ill-defined and being set to 0.0 due to no true samples. Use `zero_division` parameter to control this behavior.\n",
      "  _warn_prf(average, modifier, msg_start, len(result))\n"
     ]
    },
    {
     "name": "stdout",
     "output_type": "stream",
     "text": [
      "Sub 26\t 50.0%\t | 90.9% | 62.5%\n",
      "Confusion matrix, without normalization\n",
      "[[126  11]\n",
      " [ 14 123]]\n",
      "Confusion matrix, without normalization\n",
      "[[5 3]\n",
      " [0 0]]\n",
      "Average val acc: 55.0%\n",
      "Load data from .mat files...\n"
     ]
    },
    {
     "name": "stderr",
     "output_type": "stream",
     "text": [
      "/Users/hundredball/anaconda3/envs/Math24_new/lib/python3.7/site-packages/pandas/core/dtypes/missing.py:495: VisibleDeprecationWarning: Creating an ndarray from ragged nested sequences (which is a list-or-tuple of lists-or-tuples-or ndarrays with different lengths or shapes) is deprecated. If you meant to do this, you must specify 'dtype=object' when creating the ndarray\n",
      "  val = np.array(val, copy=False)\n",
      "/Users/hundredball/anaconda3/envs/Math24_new/lib/python3.7/site-packages/numpy/core/_asarray.py:83: VisibleDeprecationWarning: Creating an ndarray from ragged nested sequences (which is a list-or-tuple of lists-or-tuples-or ndarrays with different lengths or shapes) is deprecated. If you meant to do this, you must specify 'dtype=object' when creating the ndarray\n",
      "  return array(a, dtype, copy=False, order=order)\n"
     ]
    },
    {
     "name": "stdout",
     "output_type": "stream",
     "text": [
      "Calculating the bandpower of time-series data...\n",
      "freqs:  [0.000e+00 2.000e-01 4.000e-01 ... 4.996e+02 4.998e+02 5.000e+02]\n",
      "Sub  \t Chance\t | Train | Val\n",
      "Fold 0\t 80.3%\t | 80.3% | 76.9%\n",
      "Confusion matrix, without normalization\n",
      "[[94  0]\n",
      " [23  0]]\n"
     ]
    },
    {
     "name": "stderr",
     "output_type": "stream",
     "text": [
      "/Users/hundredball/anaconda3/envs/Math24_new/lib/python3.7/site-packages/sklearn/metrics/_classification.py:1221: UndefinedMetricWarning: Precision is ill-defined and being set to 0.0 due to no predicted samples. Use `zero_division` parameter to control this behavior.\n",
      "  _warn_prf(average, modifier, msg_start, len(result))\n"
     ]
    },
    {
     "name": "stdout",
     "output_type": "stream",
     "text": [
      "Confusion matrix, without normalization\n",
      "[[10  0]\n",
      " [ 3  0]]\n",
      "Fold 1\t 79.5%\t | 79.5% | 84.6%\n",
      "Confusion matrix, without normalization\n",
      "[[93  0]\n",
      " [24  0]]\n"
     ]
    },
    {
     "name": "stderr",
     "output_type": "stream",
     "text": [
      "/Users/hundredball/anaconda3/envs/Math24_new/lib/python3.7/site-packages/sklearn/metrics/_classification.py:1221: UndefinedMetricWarning: Precision is ill-defined and being set to 0.0 due to no predicted samples. Use `zero_division` parameter to control this behavior.\n",
      "  _warn_prf(average, modifier, msg_start, len(result))\n"
     ]
    },
    {
     "name": "stdout",
     "output_type": "stream",
     "text": [
      "Confusion matrix, without normalization\n",
      "[[11  0]\n",
      " [ 2  0]]\n",
      "Fold 2\t 79.5%\t | 79.5% | 84.6%\n",
      "Confusion matrix, without normalization\n",
      "[[93  0]\n",
      " [24  0]]\n"
     ]
    },
    {
     "name": "stderr",
     "output_type": "stream",
     "text": [
      "/Users/hundredball/anaconda3/envs/Math24_new/lib/python3.7/site-packages/sklearn/metrics/_classification.py:1221: UndefinedMetricWarning: Precision is ill-defined and being set to 0.0 due to no predicted samples. Use `zero_division` parameter to control this behavior.\n",
      "  _warn_prf(average, modifier, msg_start, len(result))\n"
     ]
    },
    {
     "name": "stdout",
     "output_type": "stream",
     "text": [
      "Confusion matrix, without normalization\n",
      "[[11  0]\n",
      " [ 2  0]]\n",
      "Fold 3\t 81.2%\t | 81.2% | 69.2%\n",
      "Confusion matrix, without normalization\n",
      "[[95  0]\n",
      " [22  0]]\n"
     ]
    },
    {
     "name": "stderr",
     "output_type": "stream",
     "text": [
      "/Users/hundredball/anaconda3/envs/Math24_new/lib/python3.7/site-packages/sklearn/metrics/_classification.py:1221: UndefinedMetricWarning: Precision is ill-defined and being set to 0.0 due to no predicted samples. Use `zero_division` parameter to control this behavior.\n",
      "  _warn_prf(average, modifier, msg_start, len(result))\n"
     ]
    },
    {
     "name": "stdout",
     "output_type": "stream",
     "text": [
      "Confusion matrix, without normalization\n",
      "[[9 0]\n",
      " [4 0]]\n",
      "Fold 4\t 80.3%\t | 80.3% | 76.9%\n",
      "Confusion matrix, without normalization\n",
      "[[94  0]\n",
      " [23  0]]\n"
     ]
    },
    {
     "name": "stderr",
     "output_type": "stream",
     "text": [
      "/Users/hundredball/anaconda3/envs/Math24_new/lib/python3.7/site-packages/sklearn/metrics/_classification.py:1221: UndefinedMetricWarning: Precision is ill-defined and being set to 0.0 due to no predicted samples. Use `zero_division` parameter to control this behavior.\n",
      "  _warn_prf(average, modifier, msg_start, len(result))\n"
     ]
    },
    {
     "name": "stdout",
     "output_type": "stream",
     "text": [
      "Confusion matrix, without normalization\n",
      "[[10  0]\n",
      " [ 3  0]]\n",
      "Fold 5\t 78.6%\t | 78.6% | 92.3%\n",
      "Confusion matrix, without normalization\n",
      "[[92  0]\n",
      " [25  0]]\n"
     ]
    },
    {
     "name": "stderr",
     "output_type": "stream",
     "text": [
      "/Users/hundredball/anaconda3/envs/Math24_new/lib/python3.7/site-packages/sklearn/metrics/_classification.py:1221: UndefinedMetricWarning: Precision is ill-defined and being set to 0.0 due to no predicted samples. Use `zero_division` parameter to control this behavior.\n",
      "  _warn_prf(average, modifier, msg_start, len(result))\n"
     ]
    },
    {
     "name": "stdout",
     "output_type": "stream",
     "text": [
      "Confusion matrix, without normalization\n",
      "[[12  0]\n",
      " [ 1  0]]\n",
      "Fold 6\t 79.5%\t | 79.5% | 84.6%\n",
      "Confusion matrix, without normalization\n",
      "[[93  0]\n",
      " [24  0]]\n"
     ]
    },
    {
     "name": "stderr",
     "output_type": "stream",
     "text": [
      "/Users/hundredball/anaconda3/envs/Math24_new/lib/python3.7/site-packages/sklearn/metrics/_classification.py:1221: UndefinedMetricWarning: Precision is ill-defined and being set to 0.0 due to no predicted samples. Use `zero_division` parameter to control this behavior.\n",
      "  _warn_prf(average, modifier, msg_start, len(result))\n"
     ]
    },
    {
     "name": "stdout",
     "output_type": "stream",
     "text": [
      "Confusion matrix, without normalization\n",
      "[[11  0]\n",
      " [ 2  0]]\n",
      "Fold 7\t 81.2%\t | 81.2% | 69.2%\n",
      "Confusion matrix, without normalization\n",
      "[[95  0]\n",
      " [22  0]]\n"
     ]
    },
    {
     "name": "stderr",
     "output_type": "stream",
     "text": [
      "/Users/hundredball/anaconda3/envs/Math24_new/lib/python3.7/site-packages/sklearn/metrics/_classification.py:1221: UndefinedMetricWarning: Precision is ill-defined and being set to 0.0 due to no predicted samples. Use `zero_division` parameter to control this behavior.\n",
      "  _warn_prf(average, modifier, msg_start, len(result))\n"
     ]
    },
    {
     "name": "stdout",
     "output_type": "stream",
     "text": [
      "Confusion matrix, without normalization\n",
      "[[9 0]\n",
      " [4 0]]\n"
     ]
    },
    {
     "name": "stderr",
     "output_type": "stream",
     "text": [
      "/Users/hundredball/anaconda3/envs/Math24_new/lib/python3.7/site-packages/sklearn/metrics/_classification.py:1221: UndefinedMetricWarning: Precision is ill-defined and being set to 0.0 due to no predicted samples. Use `zero_division` parameter to control this behavior.\n",
      "  _warn_prf(average, modifier, msg_start, len(result))\n"
     ]
    },
    {
     "name": "stdout",
     "output_type": "stream",
     "text": [
      "Fold 8\t 79.5%\t | 79.5% | 84.6%\n",
      "Confusion matrix, without normalization\n",
      "[[93  0]\n",
      " [24  0]]\n",
      "Confusion matrix, without normalization\n",
      "[[11  0]\n",
      " [ 2  0]]\n",
      "Fold 9\t 80.3%\t | 80.3% | 76.9%\n",
      "Confusion matrix, without normalization\n",
      "[[94  0]\n",
      " [23  0]]\n"
     ]
    },
    {
     "name": "stderr",
     "output_type": "stream",
     "text": [
      "/Users/hundredball/anaconda3/envs/Math24_new/lib/python3.7/site-packages/sklearn/metrics/_classification.py:1221: UndefinedMetricWarning: Precision is ill-defined and being set to 0.0 due to no predicted samples. Use `zero_division` parameter to control this behavior.\n",
      "  _warn_prf(average, modifier, msg_start, len(result))\n"
     ]
    },
    {
     "name": "stdout",
     "output_type": "stream",
     "text": [
      "Confusion matrix, without normalization\n",
      "[[10  0]\n",
      " [ 3  0]]\n",
      "Average val acc: 80.0%\n",
      "Sub  \t Chance\t | Train | Val\n",
      "Sub 1\t 80.0%\t | 80.0% | 80.0%\n",
      "Confusion matrix, without normalization\n",
      "[[100   0]\n",
      " [ 25   0]]\n"
     ]
    },
    {
     "name": "stderr",
     "output_type": "stream",
     "text": [
      "/Users/hundredball/anaconda3/envs/Math24_new/lib/python3.7/site-packages/sklearn/metrics/_classification.py:1221: UndefinedMetricWarning: Precision is ill-defined and being set to 0.0 due to no predicted samples. Use `zero_division` parameter to control this behavior.\n",
      "  _warn_prf(average, modifier, msg_start, len(result))\n"
     ]
    },
    {
     "name": "stdout",
     "output_type": "stream",
     "text": [
      "Confusion matrix, without normalization\n",
      "[[4 0]\n",
      " [1 0]]\n",
      "Sub 2\t 79.8%\t | 79.8% | 100.0%\n",
      "Confusion matrix, without normalization\n",
      "[[103   0]\n",
      " [ 26   0]]\n"
     ]
    },
    {
     "name": "stderr",
     "output_type": "stream",
     "text": [
      "/Users/hundredball/anaconda3/envs/Math24_new/lib/python3.7/site-packages/sklearn/metrics/_classification.py:1221: UndefinedMetricWarning: Recall is ill-defined and being set to 0.0 due to no true samples. Use `zero_division` parameter to control this behavior.\n",
      "  _warn_prf(average, modifier, msg_start, len(result))\n",
      "/Users/hundredball/anaconda3/envs/Math24_new/lib/python3.7/site-packages/sklearn/metrics/_classification.py:1221: UndefinedMetricWarning: Precision is ill-defined and being set to 0.0 due to no predicted samples. Use `zero_division` parameter to control this behavior.\n",
      "  _warn_prf(average, modifier, msg_start, len(result))\n"
     ]
    },
    {
     "name": "stdout",
     "output_type": "stream",
     "text": [
      "Confusion matrix, without normalization\n",
      "[[1]]\n",
      "Sub 3\t 80.6%\t | 80.6% | 66.7%\n",
      "Confusion matrix, without normalization\n",
      "[[100   0]\n",
      " [ 24   0]]\n"
     ]
    },
    {
     "name": "stderr",
     "output_type": "stream",
     "text": [
      "/Users/hundredball/anaconda3/envs/Math24_new/lib/python3.7/site-packages/sklearn/metrics/_classification.py:1221: UndefinedMetricWarning: Precision is ill-defined and being set to 0.0 due to no predicted samples. Use `zero_division` parameter to control this behavior.\n",
      "  _warn_prf(average, modifier, msg_start, len(result))\n"
     ]
    },
    {
     "name": "stdout",
     "output_type": "stream",
     "text": [
      "Confusion matrix, without normalization\n",
      "[[4 0]\n",
      " [2 0]]\n",
      "Sub 4\t 79.8%\t | 79.8% | 83.3%\n",
      "Confusion matrix, without normalization\n",
      "[[99  0]\n",
      " [25  0]]\n"
     ]
    },
    {
     "name": "stderr",
     "output_type": "stream",
     "text": [
      "/Users/hundredball/anaconda3/envs/Math24_new/lib/python3.7/site-packages/sklearn/metrics/_classification.py:1221: UndefinedMetricWarning: Precision is ill-defined and being set to 0.0 due to no predicted samples. Use `zero_division` parameter to control this behavior.\n",
      "  _warn_prf(average, modifier, msg_start, len(result))\n"
     ]
    },
    {
     "name": "stdout",
     "output_type": "stream",
     "text": [
      "Confusion matrix, without normalization\n",
      "[[5 0]\n",
      " [1 0]]\n",
      "Sub 5\t 79.0%\t | 79.0% | 100.0%\n",
      "Confusion matrix, without normalization\n",
      "[[98  0]\n",
      " [26  0]]\n"
     ]
    },
    {
     "name": "stderr",
     "output_type": "stream",
     "text": [
      "/Users/hundredball/anaconda3/envs/Math24_new/lib/python3.7/site-packages/sklearn/metrics/_classification.py:1221: UndefinedMetricWarning: Recall is ill-defined and being set to 0.0 due to no true samples. Use `zero_division` parameter to control this behavior.\n",
      "  _warn_prf(average, modifier, msg_start, len(result))\n",
      "/Users/hundredball/anaconda3/envs/Math24_new/lib/python3.7/site-packages/sklearn/metrics/_classification.py:1221: UndefinedMetricWarning: Precision is ill-defined and being set to 0.0 due to no predicted samples. Use `zero_division` parameter to control this behavior.\n",
      "  _warn_prf(average, modifier, msg_start, len(result))\n"
     ]
    },
    {
     "name": "stdout",
     "output_type": "stream",
     "text": [
      "Confusion matrix, without normalization\n",
      "[[6]]\n",
      "Sub 6\t 81.6%\t | 81.6% | 40.0%\n",
      "Confusion matrix, without normalization\n",
      "[[102   0]\n",
      " [ 23   0]]\n"
     ]
    },
    {
     "name": "stderr",
     "output_type": "stream",
     "text": [
      "/Users/hundredball/anaconda3/envs/Math24_new/lib/python3.7/site-packages/sklearn/metrics/_classification.py:1221: UndefinedMetricWarning: Precision is ill-defined and being set to 0.0 due to no predicted samples. Use `zero_division` parameter to control this behavior.\n",
      "  _warn_prf(average, modifier, msg_start, len(result))\n"
     ]
    },
    {
     "name": "stdout",
     "output_type": "stream",
     "text": [
      "Confusion matrix, without normalization\n",
      "[[2 0]\n",
      " [3 0]]\n",
      "Sub 7\t 80.0%\t | 80.0% | 80.0%\n",
      "Confusion matrix, without normalization\n",
      "[[100   0]\n",
      " [ 25   0]]\n"
     ]
    },
    {
     "name": "stderr",
     "output_type": "stream",
     "text": [
      "/Users/hundredball/anaconda3/envs/Math24_new/lib/python3.7/site-packages/sklearn/metrics/_classification.py:1221: UndefinedMetricWarning: Precision is ill-defined and being set to 0.0 due to no predicted samples. Use `zero_division` parameter to control this behavior.\n",
      "  _warn_prf(average, modifier, msg_start, len(result))\n"
     ]
    },
    {
     "name": "stdout",
     "output_type": "stream",
     "text": [
      "Confusion matrix, without normalization\n",
      "[[4 0]\n",
      " [1 0]]\n",
      "Sub 8\t 79.4%\t | 79.4% | 100.0%\n",
      "Confusion matrix, without normalization\n",
      "[[100   0]\n",
      " [ 26   0]]\n"
     ]
    },
    {
     "name": "stderr",
     "output_type": "stream",
     "text": [
      "/Users/hundredball/anaconda3/envs/Math24_new/lib/python3.7/site-packages/sklearn/metrics/_classification.py:1221: UndefinedMetricWarning: Recall is ill-defined and being set to 0.0 due to no true samples. Use `zero_division` parameter to control this behavior.\n",
      "  _warn_prf(average, modifier, msg_start, len(result))\n",
      "/Users/hundredball/anaconda3/envs/Math24_new/lib/python3.7/site-packages/sklearn/metrics/_classification.py:1221: UndefinedMetricWarning: Precision is ill-defined and being set to 0.0 due to no predicted samples. Use `zero_division` parameter to control this behavior.\n",
      "  _warn_prf(average, modifier, msg_start, len(result))\n"
     ]
    },
    {
     "name": "stdout",
     "output_type": "stream",
     "text": [
      "Confusion matrix, without normalization\n",
      "[[4]]\n",
      "Sub 9\t 80.5%\t | 80.5% | 50.0%\n",
      "Confusion matrix, without normalization\n",
      "[[103   0]\n",
      " [ 25   0]]\n"
     ]
    },
    {
     "name": "stderr",
     "output_type": "stream",
     "text": [
      "/Users/hundredball/anaconda3/envs/Math24_new/lib/python3.7/site-packages/sklearn/metrics/_classification.py:1221: UndefinedMetricWarning: Precision is ill-defined and being set to 0.0 due to no predicted samples. Use `zero_division` parameter to control this behavior.\n",
      "  _warn_prf(average, modifier, msg_start, len(result))\n"
     ]
    },
    {
     "name": "stdout",
     "output_type": "stream",
     "text": [
      "Confusion matrix, without normalization\n",
      "[[1 0]\n",
      " [1 0]]\n",
      "Sub 10\t 79.5%\t | 79.5% | 100.0%\n",
      "Confusion matrix, without normalization\n",
      "[[101   0]\n",
      " [ 26   0]]\n"
     ]
    },
    {
     "name": "stderr",
     "output_type": "stream",
     "text": [
      "/Users/hundredball/anaconda3/envs/Math24_new/lib/python3.7/site-packages/sklearn/metrics/_classification.py:1221: UndefinedMetricWarning: Recall is ill-defined and being set to 0.0 due to no true samples. Use `zero_division` parameter to control this behavior.\n",
      "  _warn_prf(average, modifier, msg_start, len(result))\n",
      "/Users/hundredball/anaconda3/envs/Math24_new/lib/python3.7/site-packages/sklearn/metrics/_classification.py:1221: UndefinedMetricWarning: Precision is ill-defined and being set to 0.0 due to no predicted samples. Use `zero_division` parameter to control this behavior.\n",
      "  _warn_prf(average, modifier, msg_start, len(result))\n"
     ]
    },
    {
     "name": "stdout",
     "output_type": "stream",
     "text": [
      "Confusion matrix, without normalization\n",
      "[[3]]\n",
      "Sub 11\t 79.8%\t | 79.8% | 83.3%\n",
      "Confusion matrix, without normalization\n",
      "[[99  0]\n",
      " [25  0]]\n"
     ]
    },
    {
     "name": "stderr",
     "output_type": "stream",
     "text": [
      "/Users/hundredball/anaconda3/envs/Math24_new/lib/python3.7/site-packages/sklearn/metrics/_classification.py:1221: UndefinedMetricWarning: Precision is ill-defined and being set to 0.0 due to no predicted samples. Use `zero_division` parameter to control this behavior.\n",
      "  _warn_prf(average, modifier, msg_start, len(result))\n"
     ]
    },
    {
     "name": "stdout",
     "output_type": "stream",
     "text": [
      "Confusion matrix, without normalization\n",
      "[[5 0]\n",
      " [1 0]]\n",
      "Sub 12\t 82.3%\t | 82.3% | 33.3%\n",
      "Confusion matrix, without normalization\n",
      "[[102   0]\n",
      " [ 22   0]]\n"
     ]
    },
    {
     "name": "stderr",
     "output_type": "stream",
     "text": [
      "/Users/hundredball/anaconda3/envs/Math24_new/lib/python3.7/site-packages/sklearn/metrics/_classification.py:1221: UndefinedMetricWarning: Precision is ill-defined and being set to 0.0 due to no predicted samples. Use `zero_division` parameter to control this behavior.\n",
      "  _warn_prf(average, modifier, msg_start, len(result))\n"
     ]
    },
    {
     "name": "stdout",
     "output_type": "stream",
     "text": [
      "Confusion matrix, without normalization\n",
      "[[2 0]\n",
      " [4 0]]\n",
      "Sub 13\t 79.2%\t | 79.2% | 100.0%\n",
      "Confusion matrix, without normalization\n",
      "[[99  0]\n",
      " [26  0]]\n"
     ]
    },
    {
     "name": "stderr",
     "output_type": "stream",
     "text": [
      "/Users/hundredball/anaconda3/envs/Math24_new/lib/python3.7/site-packages/sklearn/metrics/_classification.py:1221: UndefinedMetricWarning: Recall is ill-defined and being set to 0.0 due to no true samples. Use `zero_division` parameter to control this behavior.\n",
      "  _warn_prf(average, modifier, msg_start, len(result))\n",
      "/Users/hundredball/anaconda3/envs/Math24_new/lib/python3.7/site-packages/sklearn/metrics/_classification.py:1221: UndefinedMetricWarning: Precision is ill-defined and being set to 0.0 due to no predicted samples. Use `zero_division` parameter to control this behavior.\n",
      "  _warn_prf(average, modifier, msg_start, len(result))\n"
     ]
    },
    {
     "name": "stdout",
     "output_type": "stream",
     "text": [
      "Confusion matrix, without normalization\n",
      "[[5]]\n",
      "Sub 14\t 79.7%\t | 79.7% | 100.0%\n",
      "Confusion matrix, without normalization\n",
      "[[102   0]\n",
      " [ 26   0]]\n"
     ]
    },
    {
     "name": "stderr",
     "output_type": "stream",
     "text": [
      "/Users/hundredball/anaconda3/envs/Math24_new/lib/python3.7/site-packages/sklearn/metrics/_classification.py:1221: UndefinedMetricWarning: Recall is ill-defined and being set to 0.0 due to no true samples. Use `zero_division` parameter to control this behavior.\n",
      "  _warn_prf(average, modifier, msg_start, len(result))\n",
      "/Users/hundredball/anaconda3/envs/Math24_new/lib/python3.7/site-packages/sklearn/metrics/_classification.py:1221: UndefinedMetricWarning: Precision is ill-defined and being set to 0.0 due to no predicted samples. Use `zero_division` parameter to control this behavior.\n",
      "  _warn_prf(average, modifier, msg_start, len(result))\n"
     ]
    },
    {
     "name": "stdout",
     "output_type": "stream",
     "text": [
      "Confusion matrix, without normalization\n",
      "[[2]]\n",
      "Sub 16\t 80.6%\t | 80.6% | 0.0%\n",
      "Confusion matrix, without normalization\n",
      "[[104   0]\n",
      " [ 25   0]]\n"
     ]
    },
    {
     "name": "stderr",
     "output_type": "stream",
     "text": [
      "/Users/hundredball/anaconda3/envs/Math24_new/lib/python3.7/site-packages/sklearn/metrics/_classification.py:1221: UndefinedMetricWarning: Precision is ill-defined and being set to 0.0 due to no predicted samples. Use `zero_division` parameter to control this behavior.\n",
      "  _warn_prf(average, modifier, msg_start, len(result))\n"
     ]
    },
    {
     "name": "stdout",
     "output_type": "stream",
     "text": [
      "Confusion matrix, without normalization\n",
      "[[0 0]\n",
      " [1 0]]\n",
      "Sub 17\t 80.3%\t | 80.3% | 66.7%\n",
      "Confusion matrix, without normalization\n",
      "[[102   0]\n",
      " [ 25   0]]\n"
     ]
    },
    {
     "name": "stderr",
     "output_type": "stream",
     "text": [
      "/Users/hundredball/anaconda3/envs/Math24_new/lib/python3.7/site-packages/sklearn/metrics/_classification.py:1221: UndefinedMetricWarning: Precision is ill-defined and being set to 0.0 due to no predicted samples. Use `zero_division` parameter to control this behavior.\n",
      "  _warn_prf(average, modifier, msg_start, len(result))\n"
     ]
    },
    {
     "name": "stdout",
     "output_type": "stream",
     "text": [
      "Confusion matrix, without normalization\n",
      "[[2 0]\n",
      " [1 0]]\n",
      "Sub 18\t 80.2%\t | 80.2% | 75.0%\n",
      "Confusion matrix, without normalization\n",
      "[[101   0]\n",
      " [ 25   0]]\n"
     ]
    },
    {
     "name": "stderr",
     "output_type": "stream",
     "text": [
      "/Users/hundredball/anaconda3/envs/Math24_new/lib/python3.7/site-packages/sklearn/metrics/_classification.py:1221: UndefinedMetricWarning: Precision is ill-defined and being set to 0.0 due to no predicted samples. Use `zero_division` parameter to control this behavior.\n",
      "  _warn_prf(average, modifier, msg_start, len(result))\n"
     ]
    },
    {
     "name": "stdout",
     "output_type": "stream",
     "text": [
      "Confusion matrix, without normalization\n",
      "[[3 0]\n",
      " [1 0]]\n",
      "Sub 19\t 80.0%\t | 80.0% | 80.0%\n",
      "Confusion matrix, without normalization\n",
      "[[100   0]\n",
      " [ 25   0]]\n"
     ]
    },
    {
     "name": "stderr",
     "output_type": "stream",
     "text": [
      "/Users/hundredball/anaconda3/envs/Math24_new/lib/python3.7/site-packages/sklearn/metrics/_classification.py:1221: UndefinedMetricWarning: Precision is ill-defined and being set to 0.0 due to no predicted samples. Use `zero_division` parameter to control this behavior.\n",
      "  _warn_prf(average, modifier, msg_start, len(result))\n"
     ]
    },
    {
     "name": "stdout",
     "output_type": "stream",
     "text": [
      "Confusion matrix, without normalization\n",
      "[[4 0]\n",
      " [1 0]]\n",
      "Sub 20\t 80.5%\t | 80.5% | 75.0%\n",
      "Confusion matrix, without normalization\n",
      "[[95  0]\n",
      " [23  0]]\n"
     ]
    },
    {
     "name": "stderr",
     "output_type": "stream",
     "text": [
      "/Users/hundredball/anaconda3/envs/Math24_new/lib/python3.7/site-packages/sklearn/metrics/_classification.py:1221: UndefinedMetricWarning: Precision is ill-defined and being set to 0.0 due to no predicted samples. Use `zero_division` parameter to control this behavior.\n",
      "  _warn_prf(average, modifier, msg_start, len(result))\n"
     ]
    },
    {
     "name": "stdout",
     "output_type": "stream",
     "text": [
      "Confusion matrix, without normalization\n",
      "[[9 0]\n",
      " [3 0]]\n",
      "Sub 21\t 78.5%\t | 78.5% | 100.0%\n",
      "Confusion matrix, without normalization\n",
      "[[95  0]\n",
      " [26  0]]\n"
     ]
    },
    {
     "name": "stderr",
     "output_type": "stream",
     "text": [
      "/Users/hundredball/anaconda3/envs/Math24_new/lib/python3.7/site-packages/sklearn/metrics/_classification.py:1221: UndefinedMetricWarning: Recall is ill-defined and being set to 0.0 due to no true samples. Use `zero_division` parameter to control this behavior.\n",
      "  _warn_prf(average, modifier, msg_start, len(result))\n",
      "/Users/hundredball/anaconda3/envs/Math24_new/lib/python3.7/site-packages/sklearn/metrics/_classification.py:1221: UndefinedMetricWarning: Precision is ill-defined and being set to 0.0 due to no predicted samples. Use `zero_division` parameter to control this behavior.\n",
      "  _warn_prf(average, modifier, msg_start, len(result))\n"
     ]
    },
    {
     "name": "stdout",
     "output_type": "stream",
     "text": [
      "Confusion matrix, without normalization\n",
      "[[9]]\n",
      "Sub 22\t 78.3%\t | 78.3% | 100.0%\n",
      "Confusion matrix, without normalization\n",
      "[[94  0]\n",
      " [26  0]]\n"
     ]
    },
    {
     "name": "stderr",
     "output_type": "stream",
     "text": [
      "/Users/hundredball/anaconda3/envs/Math24_new/lib/python3.7/site-packages/sklearn/metrics/_classification.py:1221: UndefinedMetricWarning: Recall is ill-defined and being set to 0.0 due to no true samples. Use `zero_division` parameter to control this behavior.\n",
      "  _warn_prf(average, modifier, msg_start, len(result))\n",
      "/Users/hundredball/anaconda3/envs/Math24_new/lib/python3.7/site-packages/sklearn/metrics/_classification.py:1221: UndefinedMetricWarning: Precision is ill-defined and being set to 0.0 due to no predicted samples. Use `zero_division` parameter to control this behavior.\n",
      "  _warn_prf(average, modifier, msg_start, len(result))\n"
     ]
    },
    {
     "name": "stdout",
     "output_type": "stream",
     "text": [
      "Confusion matrix, without normalization\n",
      "[[10]]\n",
      "Sub 23\t 79.2%\t | 79.2% | 100.0%\n",
      "Confusion matrix, without normalization\n",
      "[[99  0]\n",
      " [26  0]]\n"
     ]
    },
    {
     "name": "stderr",
     "output_type": "stream",
     "text": [
      "/Users/hundredball/anaconda3/envs/Math24_new/lib/python3.7/site-packages/sklearn/metrics/_classification.py:1221: UndefinedMetricWarning: Recall is ill-defined and being set to 0.0 due to no true samples. Use `zero_division` parameter to control this behavior.\n",
      "  _warn_prf(average, modifier, msg_start, len(result))\n",
      "/Users/hundredball/anaconda3/envs/Math24_new/lib/python3.7/site-packages/sklearn/metrics/_classification.py:1221: UndefinedMetricWarning: Precision is ill-defined and being set to 0.0 due to no predicted samples. Use `zero_division` parameter to control this behavior.\n",
      "  _warn_prf(average, modifier, msg_start, len(result))\n"
     ]
    },
    {
     "name": "stdout",
     "output_type": "stream",
     "text": [
      "Confusion matrix, without normalization\n",
      "[[5]]\n",
      "Sub 24\t 79.8%\t | 79.8% | 83.3%\n",
      "Confusion matrix, without normalization\n",
      "[[99  0]\n",
      " [25  0]]\n"
     ]
    },
    {
     "name": "stderr",
     "output_type": "stream",
     "text": [
      "/Users/hundredball/anaconda3/envs/Math24_new/lib/python3.7/site-packages/sklearn/metrics/_classification.py:1221: UndefinedMetricWarning: Precision is ill-defined and being set to 0.0 due to no predicted samples. Use `zero_division` parameter to control this behavior.\n",
      "  _warn_prf(average, modifier, msg_start, len(result))\n"
     ]
    },
    {
     "name": "stdout",
     "output_type": "stream",
     "text": [
      "Confusion matrix, without normalization\n",
      "[[5 0]\n",
      " [1 0]]\n",
      "Sub 25\t 79.0%\t | 79.0% | 100.0%\n",
      "Confusion matrix, without normalization\n",
      "[[98  0]\n",
      " [26  0]]\n"
     ]
    },
    {
     "name": "stderr",
     "output_type": "stream",
     "text": [
      "/Users/hundredball/anaconda3/envs/Math24_new/lib/python3.7/site-packages/sklearn/metrics/_classification.py:1221: UndefinedMetricWarning: Recall is ill-defined and being set to 0.0 due to no true samples. Use `zero_division` parameter to control this behavior.\n",
      "  _warn_prf(average, modifier, msg_start, len(result))\n",
      "/Users/hundredball/anaconda3/envs/Math24_new/lib/python3.7/site-packages/sklearn/metrics/_classification.py:1221: UndefinedMetricWarning: Precision is ill-defined and being set to 0.0 due to no predicted samples. Use `zero_division` parameter to control this behavior.\n",
      "  _warn_prf(average, modifier, msg_start, len(result))\n"
     ]
    },
    {
     "name": "stdout",
     "output_type": "stream",
     "text": [
      "Confusion matrix, without normalization\n",
      "[[6]]\n",
      "Sub 26\t 82.1%\t | 82.1% | 42.9%\n",
      "Confusion matrix, without normalization\n",
      "[[101   0]\n",
      " [ 22   0]]\n"
     ]
    },
    {
     "name": "stderr",
     "output_type": "stream",
     "text": [
      "/Users/hundredball/anaconda3/envs/Math24_new/lib/python3.7/site-packages/sklearn/metrics/_classification.py:1221: UndefinedMetricWarning: Precision is ill-defined and being set to 0.0 due to no predicted samples. Use `zero_division` parameter to control this behavior.\n",
      "  _warn_prf(average, modifier, msg_start, len(result))\n"
     ]
    },
    {
     "name": "stdout",
     "output_type": "stream",
     "text": [
      "Confusion matrix, without normalization\n",
      "[[3 0]\n",
      " [4 0]]\n",
      "Average val acc: 80.0%\n",
      "Sub  \t Chance\t | Train | Val\n",
      "Fold 0\t 50.0%\t | 55.9% | 69.2%\n",
      "Confusion matrix, without normalization\n",
      "[[81 13]\n",
      " [70 24]]\n",
      "Confusion matrix, without normalization\n",
      "[[9 1]\n",
      " [3 0]]\n",
      "Fold 1\t 50.0%\t | 59.1% | 76.9%\n",
      "Confusion matrix, without normalization\n",
      "[[79 14]\n",
      " [62 31]]\n",
      "Confusion matrix, without normalization\n",
      "[[10  1]\n",
      " [ 2  0]]\n",
      "Fold 2\t 50.0%\t | 58.1% | 76.9%\n",
      "Confusion matrix, without normalization\n",
      "[[89  4]\n",
      " [74 19]]\n",
      "Confusion matrix, without normalization\n",
      "[[10  1]\n",
      " [ 2  0]]\n",
      "Fold 3\t 50.0%\t | 53.2% | 69.2%\n",
      "Confusion matrix, without normalization\n",
      "[[93  2]\n",
      " [87  8]]\n",
      "Confusion matrix, without normalization\n",
      "[[8 1]\n",
      " [3 1]]\n",
      "Fold 4\t 50.0%\t | 54.8% | 69.2%\n",
      "Confusion matrix, without normalization\n",
      "[[67 27]\n",
      " [58 36]]\n",
      "Confusion matrix, without normalization\n",
      "[[8 2]\n",
      " [2 1]]\n",
      "Fold 5\t 50.0%\t | 53.8% | 61.5%\n",
      "Confusion matrix, without normalization\n",
      "[[81 11]\n",
      " [74 18]]\n",
      "Confusion matrix, without normalization\n",
      "[[8 4]\n",
      " [1 0]]\n",
      "Fold 6\t 50.0%\t | 59.7% | 84.6%\n"
     ]
    },
    {
     "name": "stderr",
     "output_type": "stream",
     "text": [
      "/Users/hundredball/anaconda3/envs/Math24_new/lib/python3.7/site-packages/sklearn/metrics/_classification.py:1221: UndefinedMetricWarning: Precision is ill-defined and being set to 0.0 due to no predicted samples. Use `zero_division` parameter to control this behavior.\n",
      "  _warn_prf(average, modifier, msg_start, len(result))\n"
     ]
    },
    {
     "name": "stdout",
     "output_type": "stream",
     "text": [
      "Confusion matrix, without normalization\n",
      "[[88  5]\n",
      " [70 23]]\n",
      "Confusion matrix, without normalization\n",
      "[[11  0]\n",
      " [ 2  0]]\n"
     ]
    },
    {
     "name": "stderr",
     "output_type": "stream",
     "text": [
      "/Users/hundredball/anaconda3/envs/Math24_new/lib/python3.7/site-packages/sklearn/metrics/_classification.py:1221: UndefinedMetricWarning: Precision is ill-defined and being set to 0.0 due to no predicted samples. Use `zero_division` parameter to control this behavior.\n",
      "  _warn_prf(average, modifier, msg_start, len(result))\n"
     ]
    },
    {
     "name": "stdout",
     "output_type": "stream",
     "text": [
      "Fold 7\t 50.0%\t | 57.4% | 69.2%\n",
      "Confusion matrix, without normalization\n",
      "[[91  4]\n",
      " [77 18]]\n",
      "Confusion matrix, without normalization\n",
      "[[9 0]\n",
      " [4 0]]\n"
     ]
    },
    {
     "name": "stderr",
     "output_type": "stream",
     "text": [
      "/Users/hundredball/anaconda3/envs/Math24_new/lib/python3.7/site-packages/sklearn/metrics/_classification.py:1221: UndefinedMetricWarning: Precision is ill-defined and being set to 0.0 due to no predicted samples. Use `zero_division` parameter to control this behavior.\n",
      "  _warn_prf(average, modifier, msg_start, len(result))\n"
     ]
    },
    {
     "name": "stdout",
     "output_type": "stream",
     "text": [
      "Fold 8\t 50.0%\t | 57.5% | 84.6%\n",
      "Confusion matrix, without normalization\n",
      "[[89  4]\n",
      " [75 18]]\n",
      "Confusion matrix, without normalization\n",
      "[[11  0]\n",
      " [ 2  0]]\n",
      "Fold 9\t 50.0%\t | 55.9% | 46.2%\n",
      "Confusion matrix, without normalization\n",
      "[[59 35]\n",
      " [48 46]]\n",
      "Confusion matrix, without normalization\n",
      "[[6 4]\n",
      " [3 0]]\n",
      "Average val acc: 70.8%\n",
      "Sub  \t Chance\t | Train | Val\n",
      "Sub 1\t 50.0%\t | 58.0% | 60.0%\n",
      "Confusion matrix, without normalization\n",
      "[[76 24]\n",
      " [60 40]]\n",
      "Confusion matrix, without normalization\n",
      "[[3 1]\n",
      " [1 0]]\n"
     ]
    },
    {
     "name": "stderr",
     "output_type": "stream",
     "text": [
      "/Users/hundredball/anaconda3/envs/Math24_new/lib/python3.7/site-packages/sklearn/metrics/_classification.py:1221: UndefinedMetricWarning: Recall is ill-defined and being set to 0.0 due to no true samples. Use `zero_division` parameter to control this behavior.\n",
      "  _warn_prf(average, modifier, msg_start, len(result))\n",
      "/Users/hundredball/anaconda3/envs/Math24_new/lib/python3.7/site-packages/sklearn/metrics/_classification.py:1221: UndefinedMetricWarning: Precision is ill-defined and being set to 0.0 due to no predicted samples. Use `zero_division` parameter to control this behavior.\n",
      "  _warn_prf(average, modifier, msg_start, len(result))\n"
     ]
    },
    {
     "name": "stdout",
     "output_type": "stream",
     "text": [
      "Sub 2\t 50.0%\t | 60.2% | 100.0%\n",
      "Confusion matrix, without normalization\n",
      "[[100   3]\n",
      " [ 79  24]]\n",
      "Confusion matrix, without normalization\n",
      "[[1]]\n",
      "Sub 3\t 50.0%\t | 52.5% | 33.3%\n",
      "Confusion matrix, without normalization\n",
      "[[10 90]\n",
      " [ 5 95]]\n",
      "Confusion matrix, without normalization\n",
      "[[0 4]\n",
      " [0 2]]\n",
      "Sub 4\t 50.0%\t | 58.6% | 33.3%\n",
      "Confusion matrix, without normalization\n",
      "[[90  9]\n",
      " [73 26]]\n",
      "Confusion matrix, without normalization\n",
      "[[1 4]\n",
      " [0 1]]\n"
     ]
    },
    {
     "name": "stderr",
     "output_type": "stream",
     "text": [
      "/Users/hundredball/anaconda3/envs/Math24_new/lib/python3.7/site-packages/sklearn/metrics/_classification.py:1221: UndefinedMetricWarning: Recall is ill-defined and being set to 0.0 due to no true samples. Use `zero_division` parameter to control this behavior.\n",
      "  _warn_prf(average, modifier, msg_start, len(result))\n",
      "/Users/hundredball/anaconda3/envs/Math24_new/lib/python3.7/site-packages/sklearn/metrics/_classification.py:1221: UndefinedMetricWarning: Precision is ill-defined and being set to 0.0 due to no predicted samples. Use `zero_division` parameter to control this behavior.\n",
      "  _warn_prf(average, modifier, msg_start, len(result))\n"
     ]
    },
    {
     "name": "stdout",
     "output_type": "stream",
     "text": [
      "Sub 5\t 50.0%\t | 59.7% | 100.0%\n",
      "Confusion matrix, without normalization\n",
      "[[95  3]\n",
      " [76 22]]\n",
      "Confusion matrix, without normalization\n",
      "[[6]]\n"
     ]
    },
    {
     "name": "stderr",
     "output_type": "stream",
     "text": [
      "/Users/hundredball/anaconda3/envs/Math24_new/lib/python3.7/site-packages/sklearn/metrics/_classification.py:1221: UndefinedMetricWarning: Precision is ill-defined and being set to 0.0 due to no predicted samples. Use `zero_division` parameter to control this behavior.\n",
      "  _warn_prf(average, modifier, msg_start, len(result))\n"
     ]
    },
    {
     "name": "stdout",
     "output_type": "stream",
     "text": [
      "Sub 6\t 50.0%\t | 58.3% | 40.0%\n",
      "Confusion matrix, without normalization\n",
      "[[37 65]\n",
      " [20 82]]\n",
      "Confusion matrix, without normalization\n",
      "[[2 0]\n",
      " [3 0]]\n",
      "Sub 7\t 50.0%\t | 60.0% | 60.0%\n",
      "Confusion matrix, without normalization\n",
      "[[97  3]\n",
      " [77 23]]\n",
      "Confusion matrix, without normalization\n",
      "[[3 1]\n",
      " [1 0]]\n"
     ]
    },
    {
     "name": "stderr",
     "output_type": "stream",
     "text": [
      "/Users/hundredball/anaconda3/envs/Math24_new/lib/python3.7/site-packages/sklearn/metrics/_classification.py:1221: UndefinedMetricWarning: Recall is ill-defined and being set to 0.0 due to no true samples. Use `zero_division` parameter to control this behavior.\n",
      "  _warn_prf(average, modifier, msg_start, len(result))\n",
      "/Users/hundredball/anaconda3/envs/Math24_new/lib/python3.7/site-packages/sklearn/metrics/_classification.py:1221: UndefinedMetricWarning: Precision is ill-defined and being set to 0.0 due to no predicted samples. Use `zero_division` parameter to control this behavior.\n",
      "  _warn_prf(average, modifier, msg_start, len(result))\n"
     ]
    },
    {
     "name": "stdout",
     "output_type": "stream",
     "text": [
      "Sub 8\t 50.0%\t | 60.0% | 100.0%\n",
      "Confusion matrix, without normalization\n",
      "[[97  3]\n",
      " [77 23]]\n",
      "Confusion matrix, without normalization\n",
      "[[4]]\n"
     ]
    },
    {
     "name": "stderr",
     "output_type": "stream",
     "text": [
      "/Users/hundredball/anaconda3/envs/Math24_new/lib/python3.7/site-packages/sklearn/metrics/_classification.py:1221: UndefinedMetricWarning: Precision is ill-defined and being set to 0.0 due to no predicted samples. Use `zero_division` parameter to control this behavior.\n",
      "  _warn_prf(average, modifier, msg_start, len(result))\n"
     ]
    },
    {
     "name": "stdout",
     "output_type": "stream",
     "text": [
      "Sub 9\t 50.0%\t | 58.7% | 50.0%\n",
      "Confusion matrix, without normalization\n",
      "[[89 14]\n",
      " [71 32]]\n",
      "Confusion matrix, without normalization\n",
      "[[1 0]\n",
      " [1 0]]\n"
     ]
    },
    {
     "name": "stderr",
     "output_type": "stream",
     "text": [
      "/Users/hundredball/anaconda3/envs/Math24_new/lib/python3.7/site-packages/sklearn/metrics/_classification.py:1221: UndefinedMetricWarning: Recall is ill-defined and being set to 0.0 due to no true samples. Use `zero_division` parameter to control this behavior.\n",
      "  _warn_prf(average, modifier, msg_start, len(result))\n",
      "/Users/hundredball/anaconda3/envs/Math24_new/lib/python3.7/site-packages/sklearn/metrics/_classification.py:1221: UndefinedMetricWarning: Precision is ill-defined and being set to 0.0 due to no predicted samples. Use `zero_division` parameter to control this behavior.\n",
      "  _warn_prf(average, modifier, msg_start, len(result))\n"
     ]
    },
    {
     "name": "stdout",
     "output_type": "stream",
     "text": [
      "Sub 10\t 50.0%\t | 58.9% | 100.0%\n",
      "Confusion matrix, without normalization\n",
      "[[98  3]\n",
      " [80 21]]\n",
      "Confusion matrix, without normalization\n",
      "[[3]]\n"
     ]
    },
    {
     "name": "stderr",
     "output_type": "stream",
     "text": [
      "/Users/hundredball/anaconda3/envs/Math24_new/lib/python3.7/site-packages/sklearn/metrics/_classification.py:1221: UndefinedMetricWarning: Precision is ill-defined and being set to 0.0 due to no predicted samples. Use `zero_division` parameter to control this behavior.\n",
      "  _warn_prf(average, modifier, msg_start, len(result))\n"
     ]
    },
    {
     "name": "stdout",
     "output_type": "stream",
     "text": [
      "Sub 11\t 50.0%\t | 59.1% | 83.3%\n",
      "Confusion matrix, without normalization\n",
      "[[98  1]\n",
      " [80 19]]\n",
      "Confusion matrix, without normalization\n",
      "[[5 0]\n",
      " [1 0]]\n"
     ]
    },
    {
     "name": "stderr",
     "output_type": "stream",
     "text": [
      "/Users/hundredball/anaconda3/envs/Math24_new/lib/python3.7/site-packages/sklearn/metrics/_classification.py:1221: UndefinedMetricWarning: Precision is ill-defined and being set to 0.0 due to no predicted samples. Use `zero_division` parameter to control this behavior.\n",
      "  _warn_prf(average, modifier, msg_start, len(result))\n"
     ]
    },
    {
     "name": "stdout",
     "output_type": "stream",
     "text": [
      "Sub 12\t 50.0%\t | 58.3% | 33.3%\n",
      "Confusion matrix, without normalization\n",
      "[[98  4]\n",
      " [81 21]]\n",
      "Confusion matrix, without normalization\n",
      "[[2 0]\n",
      " [4 0]]\n"
     ]
    },
    {
     "name": "stderr",
     "output_type": "stream",
     "text": [
      "/Users/hundredball/anaconda3/envs/Math24_new/lib/python3.7/site-packages/sklearn/metrics/_classification.py:1221: UndefinedMetricWarning: Recall is ill-defined and being set to 0.0 due to no true samples. Use `zero_division` parameter to control this behavior.\n",
      "  _warn_prf(average, modifier, msg_start, len(result))\n",
      "/Users/hundredball/anaconda3/envs/Math24_new/lib/python3.7/site-packages/sklearn/metrics/_classification.py:1221: UndefinedMetricWarning: Precision is ill-defined and being set to 0.0 due to no predicted samples. Use `zero_division` parameter to control this behavior.\n",
      "  _warn_prf(average, modifier, msg_start, len(result))\n"
     ]
    },
    {
     "name": "stdout",
     "output_type": "stream",
     "text": [
      "Sub 13\t 50.0%\t | 59.1% | 100.0%\n",
      "Confusion matrix, without normalization\n",
      "[[95  4]\n",
      " [77 22]]\n",
      "Confusion matrix, without normalization\n",
      "[[5]]\n"
     ]
    },
    {
     "name": "stderr",
     "output_type": "stream",
     "text": [
      "/Users/hundredball/anaconda3/envs/Math24_new/lib/python3.7/site-packages/sklearn/metrics/_classification.py:1221: UndefinedMetricWarning: Recall is ill-defined and being set to 0.0 due to no true samples. Use `zero_division` parameter to control this behavior.\n",
      "  _warn_prf(average, modifier, msg_start, len(result))\n",
      "/Users/hundredball/anaconda3/envs/Math24_new/lib/python3.7/site-packages/sklearn/metrics/_classification.py:1221: UndefinedMetricWarning: Precision is ill-defined and being set to 0.0 due to no predicted samples. Use `zero_division` parameter to control this behavior.\n",
      "  _warn_prf(average, modifier, msg_start, len(result))\n"
     ]
    },
    {
     "name": "stdout",
     "output_type": "stream",
     "text": [
      "Sub 14\t 50.0%\t | 58.3% | 100.0%\n",
      "Confusion matrix, without normalization\n",
      "[[99  3]\n",
      " [82 20]]\n",
      "Confusion matrix, without normalization\n",
      "[[2]]\n"
     ]
    },
    {
     "name": "stderr",
     "output_type": "stream",
     "text": [
      "/Users/hundredball/anaconda3/envs/Math24_new/lib/python3.7/site-packages/sklearn/metrics/_classification.py:1221: UndefinedMetricWarning: Precision is ill-defined and being set to 0.0 due to no predicted samples. Use `zero_division` parameter to control this behavior.\n",
      "  _warn_prf(average, modifier, msg_start, len(result))\n"
     ]
    },
    {
     "name": "stdout",
     "output_type": "stream",
     "text": [
      "Sub 16\t 50.0%\t | 58.2% | 0.0%\n",
      "Confusion matrix, without normalization\n",
      "[[100   4]\n",
      " [ 83  21]]\n",
      "Confusion matrix, without normalization\n",
      "[[0 0]\n",
      " [1 0]]\n"
     ]
    },
    {
     "name": "stderr",
     "output_type": "stream",
     "text": [
      "/Users/hundredball/anaconda3/envs/Math24_new/lib/python3.7/site-packages/sklearn/metrics/_classification.py:1221: UndefinedMetricWarning: Precision is ill-defined and being set to 0.0 due to no predicted samples. Use `zero_division` parameter to control this behavior.\n",
      "  _warn_prf(average, modifier, msg_start, len(result))\n"
     ]
    },
    {
     "name": "stdout",
     "output_type": "stream",
     "text": [
      "Sub 17\t 50.0%\t | 57.8% | 66.7%\n",
      "Confusion matrix, without normalization\n",
      "[[99  3]\n",
      " [83 19]]\n",
      "Confusion matrix, without normalization\n",
      "[[2 0]\n",
      " [1 0]]\n"
     ]
    },
    {
     "name": "stderr",
     "output_type": "stream",
     "text": [
      "/Users/hundredball/anaconda3/envs/Math24_new/lib/python3.7/site-packages/sklearn/metrics/_classification.py:1221: UndefinedMetricWarning: Precision is ill-defined and being set to 0.0 due to no predicted samples. Use `zero_division` parameter to control this behavior.\n",
      "  _warn_prf(average, modifier, msg_start, len(result))\n"
     ]
    },
    {
     "name": "stdout",
     "output_type": "stream",
     "text": [
      "Sub 18\t 50.0%\t | 57.4% | 75.0%\n",
      "Confusion matrix, without normalization\n",
      "[[98  3]\n",
      " [83 18]]\n",
      "Confusion matrix, without normalization\n",
      "[[3 0]\n",
      " [1 0]]\n"
     ]
    },
    {
     "name": "stderr",
     "output_type": "stream",
     "text": [
      "/Users/hundredball/anaconda3/envs/Math24_new/lib/python3.7/site-packages/sklearn/metrics/_classification.py:1221: UndefinedMetricWarning: Precision is ill-defined and being set to 0.0 due to no predicted samples. Use `zero_division` parameter to control this behavior.\n",
      "  _warn_prf(average, modifier, msg_start, len(result))\n"
     ]
    },
    {
     "name": "stdout",
     "output_type": "stream",
     "text": [
      "Sub 19\t 50.0%\t | 59.5% | 80.0%\n",
      "Confusion matrix, without normalization\n",
      "[[96  4]\n",
      " [77 23]]\n",
      "Confusion matrix, without normalization\n",
      "[[4 0]\n",
      " [1 0]]\n",
      "Sub 20\t 50.0%\t | 58.4% | 50.0%\n",
      "Confusion matrix, without normalization\n",
      "[[71 24]\n",
      " [55 40]]\n",
      "Confusion matrix, without normalization\n",
      "[[6 3]\n",
      " [3 0]]\n"
     ]
    },
    {
     "name": "stderr",
     "output_type": "stream",
     "text": [
      "/Users/hundredball/anaconda3/envs/Math24_new/lib/python3.7/site-packages/sklearn/metrics/_classification.py:1221: UndefinedMetricWarning: Recall is ill-defined and being set to 0.0 due to no true samples. Use `zero_division` parameter to control this behavior.\n",
      "  _warn_prf(average, modifier, msg_start, len(result))\n"
     ]
    },
    {
     "name": "stdout",
     "output_type": "stream",
     "text": [
      "Sub 21\t 50.0%\t | 62.6% | 77.8%\n",
      "Confusion matrix, without normalization\n",
      "[[87  8]\n",
      " [63 32]]\n",
      "Confusion matrix, without normalization\n",
      "[[7 2]\n",
      " [0 0]]\n"
     ]
    },
    {
     "name": "stderr",
     "output_type": "stream",
     "text": [
      "/Users/hundredball/anaconda3/envs/Math24_new/lib/python3.7/site-packages/sklearn/metrics/_classification.py:1221: UndefinedMetricWarning: Recall is ill-defined and being set to 0.0 due to no true samples. Use `zero_division` parameter to control this behavior.\n",
      "  _warn_prf(average, modifier, msg_start, len(result))\n",
      "/Users/hundredball/anaconda3/envs/Math24_new/lib/python3.7/site-packages/sklearn/metrics/_classification.py:1221: UndefinedMetricWarning: Precision is ill-defined and being set to 0.0 due to no predicted samples. Use `zero_division` parameter to control this behavior.\n",
      "  _warn_prf(average, modifier, msg_start, len(result))\n"
     ]
    },
    {
     "name": "stdout",
     "output_type": "stream",
     "text": [
      "Sub 22\t 50.0%\t | 58.5% | 100.0%\n",
      "Confusion matrix, without normalization\n",
      "[[88  6]\n",
      " [72 22]]\n",
      "Confusion matrix, without normalization\n",
      "[[10]]\n"
     ]
    },
    {
     "name": "stderr",
     "output_type": "stream",
     "text": [
      "/Users/hundredball/anaconda3/envs/Math24_new/lib/python3.7/site-packages/sklearn/metrics/_classification.py:1221: UndefinedMetricWarning: Recall is ill-defined and being set to 0.0 due to no true samples. Use `zero_division` parameter to control this behavior.\n",
      "  _warn_prf(average, modifier, msg_start, len(result))\n"
     ]
    },
    {
     "name": "stdout",
     "output_type": "stream",
     "text": [
      "Sub 23\t 50.0%\t | 59.1% | 60.0%\n",
      "Confusion matrix, without normalization\n",
      "[[95  4]\n",
      " [77 22]]\n",
      "Confusion matrix, without normalization\n",
      "[[3 2]\n",
      " [0 0]]\n"
     ]
    },
    {
     "name": "stderr",
     "output_type": "stream",
     "text": [
      "/Users/hundredball/anaconda3/envs/Math24_new/lib/python3.7/site-packages/sklearn/metrics/_classification.py:1221: UndefinedMetricWarning: Precision is ill-defined and being set to 0.0 due to no predicted samples. Use `zero_division` parameter to control this behavior.\n",
      "  _warn_prf(average, modifier, msg_start, len(result))\n"
     ]
    },
    {
     "name": "stdout",
     "output_type": "stream",
     "text": [
      "Sub 24\t 50.0%\t | 58.6% | 83.3%\n",
      "Confusion matrix, without normalization\n",
      "[[96  3]\n",
      " [79 20]]\n",
      "Confusion matrix, without normalization\n",
      "[[5 0]\n",
      " [1 0]]\n"
     ]
    },
    {
     "name": "stderr",
     "output_type": "stream",
     "text": [
      "/Users/hundredball/anaconda3/envs/Math24_new/lib/python3.7/site-packages/sklearn/metrics/_classification.py:1221: UndefinedMetricWarning: Recall is ill-defined and being set to 0.0 due to no true samples. Use `zero_division` parameter to control this behavior.\n",
      "  _warn_prf(average, modifier, msg_start, len(result))\n"
     ]
    },
    {
     "name": "stdout",
     "output_type": "stream",
     "text": [
      "Sub 25\t 50.0%\t | 59.2% | 83.3%\n",
      "Confusion matrix, without normalization\n",
      "[[94  4]\n",
      " [76 22]]\n",
      "Confusion matrix, without normalization\n",
      "[[5 1]\n",
      " [0 0]]\n",
      "Sub 26\t 50.0%\t | 58.4% | 28.6%\n",
      "Confusion matrix, without normalization\n",
      "[[86 15]\n",
      " [69 32]]\n",
      "Confusion matrix, without normalization\n",
      "[[2 1]\n",
      " [4 0]]\n",
      "Average val acc: 67.7%\n",
      "Sub  \t Chance\t | Train | Val\n",
      "Fold 0\t 80.3%\t | 98.3% | 84.6%\n",
      "Confusion matrix, without normalization\n",
      "[[94  0]\n",
      " [ 2 21]]\n",
      "Confusion matrix, without normalization\n",
      "[[10  0]\n",
      " [ 2  1]]\n",
      "Fold 1\t 79.5%\t | 98.3% | 69.2%\n",
      "Confusion matrix, without normalization\n",
      "[[93  0]\n",
      " [ 2 22]]\n",
      "Confusion matrix, without normalization\n",
      "[[9 2]\n",
      " [2 0]]\n",
      "Fold 2\t 79.5%\t | 98.3% | 38.5%\n",
      "Confusion matrix, without normalization\n",
      "[[93  0]\n",
      " [ 2 22]]\n",
      "Confusion matrix, without normalization\n",
      "[[4 7]\n",
      " [1 1]]\n",
      "Fold 3\t 81.2%\t | 97.4% | 76.9%\n",
      "Confusion matrix, without normalization\n",
      "[[95  0]\n",
      " [ 3 19]]\n",
      "Confusion matrix, without normalization\n",
      "[[9 0]\n",
      " [3 1]]\n",
      "Fold 4\t 80.3%\t | 98.3% | 69.2%\n",
      "Confusion matrix, without normalization\n",
      "[[94  0]\n",
      " [ 2 21]]\n",
      "Confusion matrix, without normalization\n",
      "[[9 1]\n",
      " [3 0]]\n",
      "Fold 5\t 78.6%\t | 98.3% | 84.6%\n",
      "Confusion matrix, without normalization\n",
      "[[92  0]\n",
      " [ 2 23]]\n",
      "Confusion matrix, without normalization\n",
      "[[11  1]\n",
      " [ 1  0]]\n"
     ]
    },
    {
     "name": "stderr",
     "output_type": "stream",
     "text": [
      "/Users/hundredball/anaconda3/envs/Math24_new/lib/python3.7/site-packages/sklearn/metrics/_classification.py:1221: UndefinedMetricWarning: Precision is ill-defined and being set to 0.0 due to no predicted samples. Use `zero_division` parameter to control this behavior.\n",
      "  _warn_prf(average, modifier, msg_start, len(result))\n"
     ]
    },
    {
     "name": "stdout",
     "output_type": "stream",
     "text": [
      "Fold 6\t 79.5%\t | 98.3% | 84.6%\n",
      "Confusion matrix, without normalization\n",
      "[[93  0]\n",
      " [ 2 22]]\n",
      "Confusion matrix, without normalization\n",
      "[[11  0]\n",
      " [ 2  0]]\n",
      "Fold 7\t 81.2%\t | 98.3% | 53.8%\n",
      "Confusion matrix, without normalization\n",
      "[[95  0]\n",
      " [ 2 20]]\n",
      "Confusion matrix, without normalization\n",
      "[[7 2]\n",
      " [4 0]]\n",
      "Fold 8\t 79.5%\t | 98.3% | 69.2%\n",
      "Confusion matrix, without normalization\n",
      "[[93  0]\n",
      " [ 2 22]]\n",
      "Confusion matrix, without normalization\n",
      "[[9 2]\n",
      " [2 0]]\n",
      "Fold 9\t 80.3%\t | 98.3% | 84.6%\n",
      "Confusion matrix, without normalization\n",
      "[[94  0]\n",
      " [ 2 21]]\n",
      "Confusion matrix, without normalization\n",
      "[[9 1]\n",
      " [1 2]]\n",
      "Average val acc: 71.5%\n",
      "Sub  \t Chance\t | Train | Val\n",
      "Sub 1\t 80.0%\t | 98.4% | 60.0%\n",
      "Confusion matrix, without normalization\n",
      "[[100   0]\n",
      " [  2  23]]\n",
      "Confusion matrix, without normalization\n",
      "[[3 1]\n",
      " [1 0]]\n",
      "Sub 2\t 79.8%\t | 98.4% | 100.0%\n",
      "Confusion matrix, without normalization\n",
      "[[103   0]\n",
      " [  2  24]]\n"
     ]
    },
    {
     "name": "stderr",
     "output_type": "stream",
     "text": [
      "/Users/hundredball/anaconda3/envs/Math24_new/lib/python3.7/site-packages/sklearn/metrics/_classification.py:1221: UndefinedMetricWarning: Recall is ill-defined and being set to 0.0 due to no true samples. Use `zero_division` parameter to control this behavior.\n",
      "  _warn_prf(average, modifier, msg_start, len(result))\n",
      "/Users/hundredball/anaconda3/envs/Math24_new/lib/python3.7/site-packages/sklearn/metrics/_classification.py:1221: UndefinedMetricWarning: Precision is ill-defined and being set to 0.0 due to no predicted samples. Use `zero_division` parameter to control this behavior.\n",
      "  _warn_prf(average, modifier, msg_start, len(result))\n"
     ]
    },
    {
     "name": "stdout",
     "output_type": "stream",
     "text": [
      "Confusion matrix, without normalization\n",
      "[[1]]\n",
      "Sub 3\t 80.6%\t | 98.4% | 66.7%\n",
      "Confusion matrix, without normalization\n",
      "[[100   0]\n",
      " [  2  22]]\n"
     ]
    },
    {
     "name": "stderr",
     "output_type": "stream",
     "text": [
      "/Users/hundredball/anaconda3/envs/Math24_new/lib/python3.7/site-packages/sklearn/metrics/_classification.py:1221: UndefinedMetricWarning: Precision is ill-defined and being set to 0.0 due to no predicted samples. Use `zero_division` parameter to control this behavior.\n",
      "  _warn_prf(average, modifier, msg_start, len(result))\n"
     ]
    },
    {
     "name": "stdout",
     "output_type": "stream",
     "text": [
      "Confusion matrix, without normalization\n",
      "[[4 0]\n",
      " [2 0]]\n",
      "Sub 4\t 79.8%\t | 97.6% | 83.3%\n",
      "Confusion matrix, without normalization\n",
      "[[99  0]\n",
      " [ 3 22]]\n"
     ]
    },
    {
     "name": "stderr",
     "output_type": "stream",
     "text": [
      "/Users/hundredball/anaconda3/envs/Math24_new/lib/python3.7/site-packages/sklearn/metrics/_classification.py:1221: UndefinedMetricWarning: Precision is ill-defined and being set to 0.0 due to no predicted samples. Use `zero_division` parameter to control this behavior.\n",
      "  _warn_prf(average, modifier, msg_start, len(result))\n"
     ]
    },
    {
     "name": "stdout",
     "output_type": "stream",
     "text": [
      "Confusion matrix, without normalization\n",
      "[[5 0]\n",
      " [1 0]]\n",
      "Sub 5\t 79.0%\t | 98.4% | 100.0%\n",
      "Confusion matrix, without normalization\n",
      "[[98  0]\n",
      " [ 2 24]]\n"
     ]
    },
    {
     "name": "stderr",
     "output_type": "stream",
     "text": [
      "/Users/hundredball/anaconda3/envs/Math24_new/lib/python3.7/site-packages/sklearn/metrics/_classification.py:1221: UndefinedMetricWarning: Recall is ill-defined and being set to 0.0 due to no true samples. Use `zero_division` parameter to control this behavior.\n",
      "  _warn_prf(average, modifier, msg_start, len(result))\n",
      "/Users/hundredball/anaconda3/envs/Math24_new/lib/python3.7/site-packages/sklearn/metrics/_classification.py:1221: UndefinedMetricWarning: Precision is ill-defined and being set to 0.0 due to no predicted samples. Use `zero_division` parameter to control this behavior.\n",
      "  _warn_prf(average, modifier, msg_start, len(result))\n"
     ]
    },
    {
     "name": "stdout",
     "output_type": "stream",
     "text": [
      "Confusion matrix, without normalization\n",
      "[[6]]\n",
      "Sub 6\t 81.6%\t | 98.4% | 60.0%\n",
      "Confusion matrix, without normalization\n",
      "[[102   0]\n",
      " [  2  21]]\n",
      "Confusion matrix, without normalization\n",
      "[[2 0]\n",
      " [2 1]]\n",
      "Sub 7\t 80.0%\t | 98.4% | 60.0%\n",
      "Confusion matrix, without normalization\n",
      "[[100   0]\n",
      " [  2  23]]\n",
      "Confusion matrix, without normalization\n",
      "[[3 1]\n",
      " [1 0]]\n"
     ]
    },
    {
     "name": "stderr",
     "output_type": "stream",
     "text": [
      "/Users/hundredball/anaconda3/envs/Math24_new/lib/python3.7/site-packages/sklearn/metrics/_classification.py:1221: UndefinedMetricWarning: Recall is ill-defined and being set to 0.0 due to no true samples. Use `zero_division` parameter to control this behavior.\n",
      "  _warn_prf(average, modifier, msg_start, len(result))\n"
     ]
    },
    {
     "name": "stdout",
     "output_type": "stream",
     "text": [
      "Sub 8\t 79.4%\t | 98.4% | 50.0%\n",
      "Confusion matrix, without normalization\n",
      "[[100   0]\n",
      " [  2  24]]\n",
      "Confusion matrix, without normalization\n",
      "[[2 2]\n",
      " [0 0]]\n"
     ]
    },
    {
     "name": "stderr",
     "output_type": "stream",
     "text": [
      "/Users/hundredball/anaconda3/envs/Math24_new/lib/python3.7/site-packages/sklearn/metrics/_classification.py:1221: UndefinedMetricWarning: Precision is ill-defined and being set to 0.0 due to no predicted samples. Use `zero_division` parameter to control this behavior.\n",
      "  _warn_prf(average, modifier, msg_start, len(result))\n"
     ]
    },
    {
     "name": "stdout",
     "output_type": "stream",
     "text": [
      "Sub 9\t 80.5%\t | 98.4% | 50.0%\n",
      "Confusion matrix, without normalization\n",
      "[[103   0]\n",
      " [  2  23]]\n",
      "Confusion matrix, without normalization\n",
      "[[1 0]\n",
      " [1 0]]\n"
     ]
    },
    {
     "name": "stderr",
     "output_type": "stream",
     "text": [
      "/Users/hundredball/anaconda3/envs/Math24_new/lib/python3.7/site-packages/sklearn/metrics/_classification.py:1221: UndefinedMetricWarning: Recall is ill-defined and being set to 0.0 due to no true samples. Use `zero_division` parameter to control this behavior.\n",
      "  _warn_prf(average, modifier, msg_start, len(result))\n",
      "/Users/hundredball/anaconda3/envs/Math24_new/lib/python3.7/site-packages/sklearn/metrics/_classification.py:1221: UndefinedMetricWarning: Precision is ill-defined and being set to 0.0 due to no predicted samples. Use `zero_division` parameter to control this behavior.\n",
      "  _warn_prf(average, modifier, msg_start, len(result))\n"
     ]
    },
    {
     "name": "stdout",
     "output_type": "stream",
     "text": [
      "Sub 10\t 79.5%\t | 98.4% | 100.0%\n",
      "Confusion matrix, without normalization\n",
      "[[101   0]\n",
      " [  2  24]]\n",
      "Confusion matrix, without normalization\n",
      "[[3]]\n",
      "Sub 11\t 79.8%\t | 98.4% | 50.0%\n",
      "Confusion matrix, without normalization\n",
      "[[99  0]\n",
      " [ 2 23]]\n",
      "Confusion matrix, without normalization\n",
      "[[3 2]\n",
      " [1 0]]\n"
     ]
    },
    {
     "name": "stderr",
     "output_type": "stream",
     "text": [
      "/Users/hundredball/anaconda3/envs/Math24_new/lib/python3.7/site-packages/sklearn/metrics/_classification.py:1221: UndefinedMetricWarning: Precision is ill-defined and being set to 0.0 due to no predicted samples. Use `zero_division` parameter to control this behavior.\n",
      "  _warn_prf(average, modifier, msg_start, len(result))\n"
     ]
    },
    {
     "name": "stdout",
     "output_type": "stream",
     "text": [
      "Sub 12\t 82.3%\t | 98.4% | 33.3%\n",
      "Confusion matrix, without normalization\n",
      "[[102   0]\n",
      " [  2  20]]\n",
      "Confusion matrix, without normalization\n",
      "[[2 0]\n",
      " [4 0]]\n"
     ]
    },
    {
     "name": "stderr",
     "output_type": "stream",
     "text": [
      "/Users/hundredball/anaconda3/envs/Math24_new/lib/python3.7/site-packages/sklearn/metrics/_classification.py:1221: UndefinedMetricWarning: Recall is ill-defined and being set to 0.0 due to no true samples. Use `zero_division` parameter to control this behavior.\n",
      "  _warn_prf(average, modifier, msg_start, len(result))\n"
     ]
    },
    {
     "name": "stdout",
     "output_type": "stream",
     "text": [
      "Sub 13\t 79.2%\t | 98.4% | 80.0%\n",
      "Confusion matrix, without normalization\n",
      "[[99  0]\n",
      " [ 2 24]]\n",
      "Confusion matrix, without normalization\n",
      "[[4 1]\n",
      " [0 0]]\n"
     ]
    },
    {
     "name": "stderr",
     "output_type": "stream",
     "text": [
      "/Users/hundredball/anaconda3/envs/Math24_new/lib/python3.7/site-packages/sklearn/metrics/_classification.py:1221: UndefinedMetricWarning: Recall is ill-defined and being set to 0.0 due to no true samples. Use `zero_division` parameter to control this behavior.\n",
      "  _warn_prf(average, modifier, msg_start, len(result))\n",
      "/Users/hundredball/anaconda3/envs/Math24_new/lib/python3.7/site-packages/sklearn/metrics/_classification.py:1221: UndefinedMetricWarning: Precision is ill-defined and being set to 0.0 due to no predicted samples. Use `zero_division` parameter to control this behavior.\n",
      "  _warn_prf(average, modifier, msg_start, len(result))\n"
     ]
    },
    {
     "name": "stdout",
     "output_type": "stream",
     "text": [
      "Sub 14\t 79.7%\t | 98.4% | 100.0%\n",
      "Confusion matrix, without normalization\n",
      "[[102   0]\n",
      " [  2  24]]\n",
      "Confusion matrix, without normalization\n",
      "[[2]]\n",
      "Sub 16\t 80.6%\t | 98.4% | 0.0%\n",
      "Confusion matrix, without normalization\n",
      "[[104   0]\n",
      " [  2  23]]\n"
     ]
    },
    {
     "name": "stderr",
     "output_type": "stream",
     "text": [
      "/Users/hundredball/anaconda3/envs/Math24_new/lib/python3.7/site-packages/sklearn/metrics/_classification.py:1221: UndefinedMetricWarning: Precision is ill-defined and being set to 0.0 due to no predicted samples. Use `zero_division` parameter to control this behavior.\n",
      "  _warn_prf(average, modifier, msg_start, len(result))\n"
     ]
    },
    {
     "name": "stdout",
     "output_type": "stream",
     "text": [
      "Confusion matrix, without normalization\n",
      "[[0 0]\n",
      " [1 0]]\n",
      "Sub 17\t 80.3%\t | 98.4% | 0.0%\n",
      "Confusion matrix, without normalization\n",
      "[[102   0]\n",
      " [  2  23]]\n",
      "Confusion matrix, without normalization\n",
      "[[0 2]\n",
      " [1 0]]\n",
      "Sub 18\t 80.2%\t | 98.4% | 50.0%\n",
      "Confusion matrix, without normalization\n",
      "[[101   0]\n",
      " [  2  23]]\n",
      "Confusion matrix, without normalization\n",
      "[[2 1]\n",
      " [1 0]]\n"
     ]
    },
    {
     "name": "stderr",
     "output_type": "stream",
     "text": [
      "/Users/hundredball/anaconda3/envs/Math24_new/lib/python3.7/site-packages/sklearn/metrics/_classification.py:1221: UndefinedMetricWarning: Precision is ill-defined and being set to 0.0 due to no predicted samples. Use `zero_division` parameter to control this behavior.\n",
      "  _warn_prf(average, modifier, msg_start, len(result))\n"
     ]
    },
    {
     "name": "stdout",
     "output_type": "stream",
     "text": [
      "Sub 19\t 80.0%\t | 98.4% | 80.0%\n",
      "Confusion matrix, without normalization\n",
      "[[100   0]\n",
      " [  2  23]]\n",
      "Confusion matrix, without normalization\n",
      "[[4 0]\n",
      " [1 0]]\n"
     ]
    },
    {
     "name": "stderr",
     "output_type": "stream",
     "text": [
      "/Users/hundredball/anaconda3/envs/Math24_new/lib/python3.7/site-packages/sklearn/metrics/_classification.py:1221: UndefinedMetricWarning: Precision is ill-defined and being set to 0.0 due to no predicted samples. Use `zero_division` parameter to control this behavior.\n",
      "  _warn_prf(average, modifier, msg_start, len(result))\n"
     ]
    },
    {
     "name": "stdout",
     "output_type": "stream",
     "text": [
      "Sub 20\t 80.5%\t | 98.3% | 75.0%\n",
      "Confusion matrix, without normalization\n",
      "[[95  0]\n",
      " [ 2 21]]\n",
      "Confusion matrix, without normalization\n",
      "[[9 0]\n",
      " [3 0]]\n"
     ]
    },
    {
     "name": "stderr",
     "output_type": "stream",
     "text": [
      "/Users/hundredball/anaconda3/envs/Math24_new/lib/python3.7/site-packages/sklearn/metrics/_classification.py:1221: UndefinedMetricWarning: Recall is ill-defined and being set to 0.0 due to no true samples. Use `zero_division` parameter to control this behavior.\n",
      "  _warn_prf(average, modifier, msg_start, len(result))\n"
     ]
    },
    {
     "name": "stdout",
     "output_type": "stream",
     "text": [
      "Sub 21\t 78.5%\t | 98.3% | 88.9%\n",
      "Confusion matrix, without normalization\n",
      "[[95  0]\n",
      " [ 2 24]]\n",
      "Confusion matrix, without normalization\n",
      "[[8 1]\n",
      " [0 0]]\n"
     ]
    },
    {
     "name": "stderr",
     "output_type": "stream",
     "text": [
      "/Users/hundredball/anaconda3/envs/Math24_new/lib/python3.7/site-packages/sklearn/metrics/_classification.py:1221: UndefinedMetricWarning: Recall is ill-defined and being set to 0.0 due to no true samples. Use `zero_division` parameter to control this behavior.\n",
      "  _warn_prf(average, modifier, msg_start, len(result))\n"
     ]
    },
    {
     "name": "stdout",
     "output_type": "stream",
     "text": [
      "Sub 22\t 78.3%\t | 97.5% | 80.0%\n",
      "Confusion matrix, without normalization\n",
      "[[94  0]\n",
      " [ 3 23]]\n",
      "Confusion matrix, without normalization\n",
      "[[8 2]\n",
      " [0 0]]\n"
     ]
    },
    {
     "name": "stderr",
     "output_type": "stream",
     "text": [
      "/Users/hundredball/anaconda3/envs/Math24_new/lib/python3.7/site-packages/sklearn/metrics/_classification.py:1221: UndefinedMetricWarning: Recall is ill-defined and being set to 0.0 due to no true samples. Use `zero_division` parameter to control this behavior.\n",
      "  _warn_prf(average, modifier, msg_start, len(result))\n"
     ]
    },
    {
     "name": "stdout",
     "output_type": "stream",
     "text": [
      "Sub 23\t 79.2%\t | 98.4% | 80.0%\n",
      "Confusion matrix, without normalization\n",
      "[[99  0]\n",
      " [ 2 24]]\n",
      "Confusion matrix, without normalization\n",
      "[[4 1]\n",
      " [0 0]]\n",
      "Sub 24\t 79.8%\t | 98.4% | 66.7%\n",
      "Confusion matrix, without normalization\n",
      "[[99  0]\n",
      " [ 2 23]]\n",
      "Confusion matrix, without normalization\n",
      "[[4 1]\n",
      " [1 0]]\n"
     ]
    },
    {
     "name": "stderr",
     "output_type": "stream",
     "text": [
      "/Users/hundredball/anaconda3/envs/Math24_new/lib/python3.7/site-packages/sklearn/metrics/_classification.py:1221: UndefinedMetricWarning: Recall is ill-defined and being set to 0.0 due to no true samples. Use `zero_division` parameter to control this behavior.\n",
      "  _warn_prf(average, modifier, msg_start, len(result))\n"
     ]
    },
    {
     "name": "stdout",
     "output_type": "stream",
     "text": [
      "Sub 25\t 79.0%\t | 98.4% | 83.3%\n",
      "Confusion matrix, without normalization\n",
      "[[98  0]\n",
      " [ 2 24]]\n",
      "Confusion matrix, without normalization\n",
      "[[5 1]\n",
      " [0 0]]\n",
      "Sub 26\t 82.1%\t | 98.4% | 28.6%\n",
      "Confusion matrix, without normalization\n",
      "[[101   0]\n",
      " [  2  20]]\n",
      "Confusion matrix, without normalization\n",
      "[[2 1]\n",
      " [4 0]]\n",
      "Average val acc: 67.7%\n",
      "Sub  \t Chance\t | Train | Val\n",
      "Fold 0\t 50.0%\t | 97.3% | 69.2%\n",
      "Confusion matrix, without normalization\n",
      "[[92  2]\n",
      " [ 3 91]]\n",
      "Confusion matrix, without normalization\n",
      "[[8 2]\n",
      " [2 1]]\n",
      "Fold 1\t 50.0%\t | 97.8% | 46.2%\n",
      "Confusion matrix, without normalization\n",
      "[[91  2]\n",
      " [ 2 91]]\n",
      "Confusion matrix, without normalization\n",
      "[[6 5]\n",
      " [2 0]]\n",
      "Fold 2\t 50.0%\t | 98.9% | 23.1%\n",
      "Confusion matrix, without normalization\n",
      "[[92  1]\n",
      " [ 1 92]]\n",
      "Confusion matrix, without normalization\n",
      "[[ 1 10]\n",
      " [ 0  2]]\n",
      "Fold 3\t 50.0%\t | 94.2% | 61.5%\n",
      "Confusion matrix, without normalization\n",
      "[[92  3]\n",
      " [ 8 87]]\n",
      "Confusion matrix, without normalization\n",
      "[[7 2]\n",
      " [3 1]]\n",
      "Fold 4\t 50.0%\t | 95.2% | 46.2%\n",
      "Confusion matrix, without normalization\n",
      "[[89  5]\n",
      " [ 4 90]]\n",
      "Confusion matrix, without normalization\n",
      "[[5 5]\n",
      " [2 1]]\n",
      "Fold 5\t 50.0%\t | 95.7% | 76.9%\n",
      "Confusion matrix, without normalization\n",
      "[[89  3]\n",
      " [ 5 87]]\n",
      "Confusion matrix, without normalization\n",
      "[[10  2]\n",
      " [ 1  0]]\n",
      "Fold 6\t 50.0%\t | 95.2% | 46.2%\n",
      "Confusion matrix, without normalization\n",
      "[[88  5]\n",
      " [ 4 89]]\n",
      "Confusion matrix, without normalization\n",
      "[[5 6]\n",
      " [1 1]]\n",
      "Fold 7\t 50.0%\t | 95.3% | 53.8%\n",
      "Confusion matrix, without normalization\n",
      "[[90  5]\n",
      " [ 4 91]]\n",
      "Confusion matrix, without normalization\n",
      "[[7 2]\n",
      " [4 0]]\n",
      "Fold 8\t 50.0%\t | 96.2% | 61.5%\n",
      "Confusion matrix, without normalization\n",
      "[[88  5]\n",
      " [ 2 91]]\n",
      "Confusion matrix, without normalization\n",
      "[[7 4]\n",
      " [1 1]]\n",
      "Fold 9\t 50.0%\t | 96.3% | 76.9%\n",
      "Confusion matrix, without normalization\n",
      "[[89  5]\n",
      " [ 2 92]]\n",
      "Confusion matrix, without normalization\n",
      "[[8 2]\n",
      " [1 2]]\n",
      "Average val acc: 56.2%\n",
      "Sub  \t Chance\t | Train | Val\n",
      "Sub 1\t 50.0%\t | 94.5% | 40.0%\n",
      "Confusion matrix, without normalization\n",
      "[[93  7]\n",
      " [ 4 96]]\n",
      "Confusion matrix, without normalization\n",
      "[[2 2]\n",
      " [1 0]]\n"
     ]
    },
    {
     "name": "stderr",
     "output_type": "stream",
     "text": [
      "/Users/hundredball/anaconda3/envs/Math24_new/lib/python3.7/site-packages/sklearn/metrics/_classification.py:1221: UndefinedMetricWarning: Recall is ill-defined and being set to 0.0 due to no true samples. Use `zero_division` parameter to control this behavior.\n",
      "  _warn_prf(average, modifier, msg_start, len(result))\n"
     ]
    },
    {
     "name": "stdout",
     "output_type": "stream",
     "text": [
      "Sub 2\t 50.0%\t | 93.2% | 0.0%\n",
      "Confusion matrix, without normalization\n",
      "[[95  8]\n",
      " [ 6 97]]\n",
      "Confusion matrix, without normalization\n",
      "[[0 1]\n",
      " [0 0]]\n",
      "Sub 3\t 50.0%\t | 90.0% | 66.7%\n",
      "Confusion matrix, without normalization\n",
      "[[93  7]\n",
      " [13 87]]\n",
      "Confusion matrix, without normalization\n",
      "[[3 1]\n",
      " [1 1]]\n",
      "Sub 4\t 50.0%\t | 94.9% | 83.3%\n",
      "Confusion matrix, without normalization\n",
      "[[94  5]\n",
      " [ 5 94]]\n",
      "Confusion matrix, without normalization\n",
      "[[4 1]\n",
      " [0 1]]\n",
      "Sub 5\t 50.0%\t | 96.9% | 50.0%\n"
     ]
    },
    {
     "name": "stderr",
     "output_type": "stream",
     "text": [
      "/Users/hundredball/anaconda3/envs/Math24_new/lib/python3.7/site-packages/sklearn/metrics/_classification.py:1221: UndefinedMetricWarning: Recall is ill-defined and being set to 0.0 due to no true samples. Use `zero_division` parameter to control this behavior.\n",
      "  _warn_prf(average, modifier, msg_start, len(result))\n"
     ]
    },
    {
     "name": "stdout",
     "output_type": "stream",
     "text": [
      "Confusion matrix, without normalization\n",
      "[[93  5]\n",
      " [ 1 97]]\n",
      "Confusion matrix, without normalization\n",
      "[[3 3]\n",
      " [0 0]]\n",
      "Sub 6\t 50.0%\t | 95.6% | 60.0%\n",
      "Confusion matrix, without normalization\n",
      "[[97  5]\n",
      " [ 4 98]]\n",
      "Confusion matrix, without normalization\n",
      "[[2 0]\n",
      " [2 1]]\n",
      "Sub 7\t 50.0%\t | 97.0% | 40.0%\n",
      "Confusion matrix, without normalization\n",
      "[[98  2]\n",
      " [ 4 96]]\n",
      "Confusion matrix, without normalization\n",
      "[[2 2]\n",
      " [1 0]]\n"
     ]
    },
    {
     "name": "stderr",
     "output_type": "stream",
     "text": [
      "/Users/hundredball/anaconda3/envs/Math24_new/lib/python3.7/site-packages/sklearn/metrics/_classification.py:1221: UndefinedMetricWarning: Recall is ill-defined and being set to 0.0 due to no true samples. Use `zero_division` parameter to control this behavior.\n",
      "  _warn_prf(average, modifier, msg_start, len(result))\n"
     ]
    },
    {
     "name": "stdout",
     "output_type": "stream",
     "text": [
      "Sub 8\t 50.0%\t | 95.0% | 25.0%\n",
      "Confusion matrix, without normalization\n",
      "[[97  3]\n",
      " [ 7 93]]\n",
      "Confusion matrix, without normalization\n",
      "[[1 3]\n",
      " [0 0]]\n",
      "Sub 9\t 50.0%\t | 92.2% | 0.0%\n",
      "Confusion matrix, without normalization\n",
      "[[97  6]\n",
      " [10 93]]\n",
      "Confusion matrix, without normalization\n",
      "[[0 1]\n",
      " [1 0]]\n"
     ]
    },
    {
     "name": "stderr",
     "output_type": "stream",
     "text": [
      "/Users/hundredball/anaconda3/envs/Math24_new/lib/python3.7/site-packages/sklearn/metrics/_classification.py:1221: UndefinedMetricWarning: Recall is ill-defined and being set to 0.0 due to no true samples. Use `zero_division` parameter to control this behavior.\n",
      "  _warn_prf(average, modifier, msg_start, len(result))\n"
     ]
    },
    {
     "name": "stdout",
     "output_type": "stream",
     "text": [
      "Sub 10\t 50.0%\t | 93.6% | 66.7%\n",
      "Confusion matrix, without normalization\n",
      "[[92  9]\n",
      " [ 4 97]]\n",
      "Confusion matrix, without normalization\n",
      "[[2 1]\n",
      " [0 0]]\n",
      "Sub 11\t 50.0%\t | 94.9% | 0.0%\n",
      "Confusion matrix, without normalization\n",
      "[[96  3]\n",
      " [ 7 92]]\n",
      "Confusion matrix, without normalization\n",
      "[[0 5]\n",
      " [1 0]]\n"
     ]
    },
    {
     "name": "stderr",
     "output_type": "stream",
     "text": [
      "/Users/hundredball/anaconda3/envs/Math24_new/lib/python3.7/site-packages/sklearn/metrics/_classification.py:1221: UndefinedMetricWarning: Precision is ill-defined and being set to 0.0 due to no predicted samples. Use `zero_division` parameter to control this behavior.\n",
      "  _warn_prf(average, modifier, msg_start, len(result))\n"
     ]
    },
    {
     "name": "stdout",
     "output_type": "stream",
     "text": [
      "Sub 12\t 50.0%\t | 95.1% | 33.3%\n",
      "Confusion matrix, without normalization\n",
      "[[99  3]\n",
      " [ 7 95]]\n",
      "Confusion matrix, without normalization\n",
      "[[2 0]\n",
      " [4 0]]\n"
     ]
    },
    {
     "name": "stderr",
     "output_type": "stream",
     "text": [
      "/Users/hundredball/anaconda3/envs/Math24_new/lib/python3.7/site-packages/sklearn/metrics/_classification.py:1221: UndefinedMetricWarning: Recall is ill-defined and being set to 0.0 due to no true samples. Use `zero_division` parameter to control this behavior.\n",
      "  _warn_prf(average, modifier, msg_start, len(result))\n"
     ]
    },
    {
     "name": "stdout",
     "output_type": "stream",
     "text": [
      "Sub 13\t 50.0%\t | 95.5% | 80.0%\n",
      "Confusion matrix, without normalization\n",
      "[[96  3]\n",
      " [ 6 93]]\n",
      "Confusion matrix, without normalization\n",
      "[[4 1]\n",
      " [0 0]]\n"
     ]
    },
    {
     "name": "stderr",
     "output_type": "stream",
     "text": [
      "/Users/hundredball/anaconda3/envs/Math24_new/lib/python3.7/site-packages/sklearn/metrics/_classification.py:1221: UndefinedMetricWarning: Recall is ill-defined and being set to 0.0 due to no true samples. Use `zero_division` parameter to control this behavior.\n",
      "  _warn_prf(average, modifier, msg_start, len(result))\n"
     ]
    },
    {
     "name": "stdout",
     "output_type": "stream",
     "text": [
      "Sub 14\t 50.0%\t | 94.6% | 50.0%\n",
      "Confusion matrix, without normalization\n",
      "[[101   1]\n",
      " [ 10  92]]\n",
      "Confusion matrix, without normalization\n",
      "[[1 1]\n",
      " [0 0]]\n"
     ]
    },
    {
     "name": "stderr",
     "output_type": "stream",
     "text": [
      "/Users/hundredball/anaconda3/envs/Math24_new/lib/python3.7/site-packages/sklearn/metrics/_classification.py:1221: UndefinedMetricWarning: Precision is ill-defined and being set to 0.0 due to no predicted samples. Use `zero_division` parameter to control this behavior.\n",
      "  _warn_prf(average, modifier, msg_start, len(result))\n"
     ]
    },
    {
     "name": "stdout",
     "output_type": "stream",
     "text": [
      "Sub 16\t 50.0%\t | 93.8% | 0.0%\n",
      "Confusion matrix, without normalization\n",
      "[[99  5]\n",
      " [ 8 96]]\n",
      "Confusion matrix, without normalization\n",
      "[[0 0]\n",
      " [1 0]]\n",
      "Sub 17\t 50.0%\t | 94.1% | 33.3%\n",
      "Confusion matrix, without normalization\n",
      "[[96  6]\n",
      " [ 6 96]]\n",
      "Confusion matrix, without normalization\n",
      "[[0 2]\n",
      " [0 1]]\n",
      "Sub 18\t 50.0%\t | 94.6% | 0.0%\n",
      "Confusion matrix, without normalization\n",
      "[[98  3]\n",
      " [ 8 93]]\n",
      "Confusion matrix, without normalization\n",
      "[[0 3]\n",
      " [1 0]]\n"
     ]
    },
    {
     "name": "stderr",
     "output_type": "stream",
     "text": [
      "/Users/hundredball/anaconda3/envs/Math24_new/lib/python3.7/site-packages/sklearn/metrics/_classification.py:1221: UndefinedMetricWarning: Precision is ill-defined and being set to 0.0 due to no predicted samples. Use `zero_division` parameter to control this behavior.\n",
      "  _warn_prf(average, modifier, msg_start, len(result))\n"
     ]
    },
    {
     "name": "stdout",
     "output_type": "stream",
     "text": [
      "Sub 19\t 50.0%\t | 94.0% | 80.0%\n",
      "Confusion matrix, without normalization\n",
      "[[92  8]\n",
      " [ 4 96]]\n",
      "Confusion matrix, without normalization\n",
      "[[4 0]\n",
      " [1 0]]\n",
      "Sub 20\t 50.0%\t | 98.9% | 58.3%\n",
      "Confusion matrix, without normalization\n",
      "[[94  1]\n",
      " [ 1 94]]\n",
      "Confusion matrix, without normalization\n",
      "[[7 2]\n",
      " [3 0]]\n"
     ]
    },
    {
     "name": "stderr",
     "output_type": "stream",
     "text": [
      "/Users/hundredball/anaconda3/envs/Math24_new/lib/python3.7/site-packages/sklearn/metrics/_classification.py:1221: UndefinedMetricWarning: Recall is ill-defined and being set to 0.0 due to no true samples. Use `zero_division` parameter to control this behavior.\n",
      "  _warn_prf(average, modifier, msg_start, len(result))\n"
     ]
    },
    {
     "name": "stdout",
     "output_type": "stream",
     "text": [
      "Sub 21\t 50.0%\t | 91.6% | 55.6%\n",
      "Confusion matrix, without normalization\n",
      "[[89  6]\n",
      " [10 85]]\n",
      "Confusion matrix, without normalization\n",
      "[[5 4]\n",
      " [0 0]]\n"
     ]
    },
    {
     "name": "stderr",
     "output_type": "stream",
     "text": [
      "/Users/hundredball/anaconda3/envs/Math24_new/lib/python3.7/site-packages/sklearn/metrics/_classification.py:1221: UndefinedMetricWarning: Recall is ill-defined and being set to 0.0 due to no true samples. Use `zero_division` parameter to control this behavior.\n",
      "  _warn_prf(average, modifier, msg_start, len(result))\n"
     ]
    },
    {
     "name": "stdout",
     "output_type": "stream",
     "text": [
      "Sub 22\t 50.0%\t | 94.7% | 60.0%\n",
      "Confusion matrix, without normalization\n",
      "[[88  6]\n",
      " [ 4 90]]\n",
      "Confusion matrix, without normalization\n",
      "[[6 4]\n",
      " [0 0]]\n",
      "Sub 23\t 50.0%\t | 94.9% | 40.0%\n",
      "Confusion matrix, without normalization\n",
      "[[96  3]\n",
      " [ 7 92]]\n"
     ]
    },
    {
     "name": "stderr",
     "output_type": "stream",
     "text": [
      "/Users/hundredball/anaconda3/envs/Math24_new/lib/python3.7/site-packages/sklearn/metrics/_classification.py:1221: UndefinedMetricWarning: Recall is ill-defined and being set to 0.0 due to no true samples. Use `zero_division` parameter to control this behavior.\n",
      "  _warn_prf(average, modifier, msg_start, len(result))\n"
     ]
    },
    {
     "name": "stdout",
     "output_type": "stream",
     "text": [
      "Confusion matrix, without normalization\n",
      "[[2 3]\n",
      " [0 0]]\n",
      "Sub 24\t 50.0%\t | 93.9% | 50.0%\n",
      "Confusion matrix, without normalization\n",
      "[[95  4]\n",
      " [ 8 91]]\n",
      "Confusion matrix, without normalization\n",
      "[[3 2]\n",
      " [1 0]]\n"
     ]
    },
    {
     "name": "stderr",
     "output_type": "stream",
     "text": [
      "/Users/hundredball/anaconda3/envs/Math24_new/lib/python3.7/site-packages/sklearn/metrics/_classification.py:1221: UndefinedMetricWarning: Recall is ill-defined and being set to 0.0 due to no true samples. Use `zero_division` parameter to control this behavior.\n",
      "  _warn_prf(average, modifier, msg_start, len(result))\n"
     ]
    },
    {
     "name": "stdout",
     "output_type": "stream",
     "text": [
      "Sub 25\t 50.0%\t | 95.9% | 66.7%\n",
      "Confusion matrix, without normalization\n",
      "[[94  4]\n",
      " [ 4 94]]\n",
      "Confusion matrix, without normalization\n",
      "[[4 2]\n",
      " [0 0]]\n",
      "Sub 26\t 50.0%\t | 93.1% | 14.3%\n",
      "Confusion matrix, without normalization\n",
      "[[93  8]\n",
      " [ 6 95]]\n",
      "Confusion matrix, without normalization\n",
      "[[1 2]\n",
      " [4 0]]\n",
      "Average val acc: 47.7%\n"
     ]
    }
   ],
   "source": [
    "use_PCA = True\n",
    "preprocess_name = '_PCA' if use_PCA else ''\n",
    "\n",
    "for label_format in range(1,4):\n",
    "\n",
    "    X, Y, df_all = dataloader.read_data(label_format=label_format, data_folder='rawdata')\n",
    "\n",
    "    if use_PCA:\n",
    "        X = preprocessing.avg_channels_into_regions(X, df_all)\n",
    "    \n",
    "    # Transform into power\n",
    "    low, high = list(range(1,50)), list(range(2,51))\n",
    "    powers, _, _ = bandpower.get_bandpower(X, 1000, low=low, high=high, dB_scale=True)\n",
    "\n",
    "    # Select models\n",
    "    model_names = ['svm', 'xgboost']\n",
    "    sampling_names = ['original', 'SMOTE']\n",
    "    cv_modes = ['KFold', 'LOSO']\n",
    "\n",
    "    for model_name, sampling_name, cv_mode in itertools.product(model_names, sampling_names, cv_modes):\n",
    "\n",
    "        file_name = 'label%d_%s_%s_%s%s.csv'%(label_format, model_name, sampling_name, cv_mode, preprocess_name)\n",
    "        description = 'Label: %d, Model: %s, Sampling: %s, CV mode: %s'%(label_format, model_name, sampling_name, cv_mode)\n",
    "\n",
    "        num_sample = len(X)\n",
    "        if use_PCA:\n",
    "            X_power = np.array(powers)\n",
    "            X_power = X_power.reshape((len(X_power),-1))\n",
    "        else:\n",
    "            # Average over channels\n",
    "            X_power = np.zeros((num_sample, len(low)))\n",
    "            for i in range(len(X)):\n",
    "                X_power[i,:] = np.mean(powers[i],0)\n",
    "\n",
    "        kf = KFold(n_splits=10, shuffle=True, random_state=23)\n",
    "        S = df_all['subject'].values\n",
    "        folds = kf.split(X_power) if cv_mode=='KFold' else np.unique(S)\n",
    "\n",
    "        train_acc_list = []\n",
    "        val_acc_list = []\n",
    "        train_recall_list = []\n",
    "        val_recall_list = []\n",
    "        train_prec_list = []\n",
    "        val_prec_list = []\n",
    "        num_val_list = []\n",
    "        chance_list = []\n",
    "        fold_name_list = []\n",
    "\n",
    "        print('Sub  \\t Chance\\t | Train | Val')\n",
    "        for i_fold, fold in enumerate(folds):\n",
    "            if cv_mode == 'KFold':\n",
    "                train_indices = fold[0]\n",
    "                val_indices = fold[1]\n",
    "            else:\n",
    "                subID = fold\n",
    "                train_indices = np.where(S!=subID)[0]\n",
    "                val_indices = np.where(S==subID)[0]\n",
    "\n",
    "            X_train, Y_train = X_power[train_indices,...], Y[train_indices]\n",
    "            X_val, Y_val = X_power[val_indices,...], Y[val_indices]\n",
    "\n",
    "            # Preprocessing features\n",
    "            if use_PCA:\n",
    "                scaler, pca = StandardScaler(), PCA(n_components=0.9)\n",
    "                X_train = scaler.fit_transform(X_train)\n",
    "                X_val = scaler.transform(X_val)\n",
    "                \n",
    "                X_train = pca.fit_transform(X_train)\n",
    "                X_val = pca.transform(X_val)\n",
    "            \n",
    "            # Resample training data\n",
    "            if sampling_name == 'SMOTE':\n",
    "                sm = SMOTE(random_state=23)\n",
    "                X_train, Y_train = sm.fit_resample(X_train, Y_train)\n",
    "\n",
    "            # Train classifier\n",
    "            if model_name in ['svm','xgboost']:\n",
    "                if model_name == 'svm':\n",
    "                    clf = svm.SVC()\n",
    "                elif model_name == 'xgboost':\n",
    "                    clf = xgb.XGBClassifier()\n",
    "                clf.fit(X_train, Y_train)\n",
    "\n",
    "                # Test classifier\n",
    "                train_acc = clf.score(X_train, Y_train)\n",
    "                val_acc = clf.score(X_val, Y_val)\n",
    "                \n",
    "                pred_train = clf.predict(X_train)\n",
    "                pred_val = clf.predict(X_val)\n",
    "                \n",
    "                train_recall = recall_score(Y_train, pred_train)\n",
    "                val_recall = recall_score(Y_val, pred_val)\n",
    "                \n",
    "                train_prec = precision_score(Y_train, pred_train)\n",
    "                val_prec = precision_score(Y_val, pred_val)\n",
    "                \n",
    "            fold_name = 'Fold %d'%(i_fold) if cv_mode == 'KFold' else 'Sub %d'%(subID)\n",
    "            chance = np.sum(Y_train)/len(Y_train)\n",
    "            chance = (1-chance) if chance<0.5 else chance\n",
    "\n",
    "            train_acc_list.append(train_acc)\n",
    "            val_acc_list.append(val_acc)\n",
    "            train_recall_list.append(train_recall)\n",
    "            val_recall_list.append(val_recall)\n",
    "            train_prec_list.append(train_prec)\n",
    "            val_prec_list.append(val_prec)\n",
    "            num_val_list.append(len(Y_val))\n",
    "            fold_name_list.append(fold_name)\n",
    "            chance_list.append(chance)\n",
    "\n",
    "            print('%s\\t %.1f%%\\t | %.1f%% | %.1f%%'%(fold_name, chance*100, train_acc*100, val_acc*100))\n",
    "            \n",
    "            fileName_cm = './results/' + file_name[:file_name.find('.')] + '_' + fold_name\n",
    "            plot_confusion_matrix(Y_train, pred_train, np.array(['Normal','Increase']), \n",
    "                                 fileName='%s_train.png'%(fileName_cm), title=fold_name)\n",
    "            plot_confusion_matrix(Y_val, pred_val, np.array(['Normal','Increase']), \n",
    "                                 fileName='%s_val.png'%(fileName_cm), title=fold_name)\n",
    "\n",
    "        avg_acc = sum([val_acc_list[i]*num_val_list[i] for i in range(len(num_val_list))])/num_sample\n",
    "        avg_recall = sum([val_recall_list[i]*num_val_list[i] for i in range(len(num_val_list))])/num_sample\n",
    "        avg_prec = sum([val_prec_list[i]*num_val_list[i] for i in range(len(num_val_list))])/num_sample\n",
    "        print('Average val acc: %.1f%%'%(avg_acc*100))\n",
    "\n",
    "        # Save result as csv file\n",
    "        df_result = pd.DataFrame({description: fold_name_list, 'Chance_val_acc': chance_list, \n",
    "                                  'Train_acc': train_acc_list, 'Val_acc': val_acc_list,\n",
    "                                  'Train_recall' : train_recall_list, 'Val_recall': val_recall_list,\n",
    "                                  'Train_precision' : train_prec_list, 'Val_precision': val_prec_list})\n",
    "        df_result.loc[len(df_result),description] = 'Average'\n",
    "        df_result.loc[len(df_result)-1, 'Val_acc'] = avg_acc\n",
    "        df_result.loc[len(df_result)-1, 'Val_recall'] = avg_recall\n",
    "        df_result.loc[len(df_result)-1, 'Val_precision'] = avg_prec\n",
    "        df_result.to_csv('./results/%s'%(file_name))"
   ]
  },
  {
   "cell_type": "code",
   "execution_count": null,
   "id": "another-horizontal",
   "metadata": {},
   "outputs": [],
   "source": []
  }
 ],
 "metadata": {
  "kernelspec": {
   "display_name": "Python 3",
   "language": "python",
   "name": "python3"
  },
  "language_info": {
   "codemirror_mode": {
    "name": "ipython",
    "version": 3
   },
   "file_extension": ".py",
   "mimetype": "text/x-python",
   "name": "python",
   "nbconvert_exporter": "python",
   "pygments_lexer": "ipython3",
   "version": "3.7.9"
  }
 },
 "nbformat": 4,
 "nbformat_minor": 5
}
