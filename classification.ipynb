{
 "cells": [
  {
   "cell_type": "code",
   "execution_count": 47,
   "id": "offshore-civilization",
   "metadata": {},
   "outputs": [],
   "source": [
    "import numpy as np\n",
    "import pandas as pd\n",
    "import matplotlib.pyplot as plt\n",
    "from sklearn import svm\n",
    "from sklearn.model_selection import KFold\n",
    "import xgboost as xgb\n",
    "import elm\n",
    "from imblearn.over_sampling import SMOTE \n",
    "\n",
    "import dataloader\n",
    "import bandpower"
   ]
  },
  {
   "cell_type": "markdown",
   "id": "peripheral-noise",
   "metadata": {},
   "source": [
    "# Leave-one-subject out cross validation"
   ]
  },
  {
   "cell_type": "code",
   "execution_count": 44,
   "id": "prime-paintball",
   "metadata": {},
   "outputs": [
    {
     "name": "stdout",
     "output_type": "stream",
     "text": [
      "Load data from .mat files...\n",
      "Calculating the bandpower of time-series data...\n",
      "Shape of psd:  (8, 1251)\n"
     ]
    }
   ],
   "source": [
    "X, Y, S = dataloader.read_data(label_format=1)\n",
    "# Transform into power\n",
    "X_power = bandpower.get_bandpower(X, 500, low=[3,7,13], high=[7,13,30])"
   ]
  },
  {
   "cell_type": "code",
   "execution_count": 48,
   "id": "nominated-failure",
   "metadata": {},
   "outputs": [
    {
     "name": "stdout",
     "output_type": "stream",
     "text": [
      "Sub  \t Chance\t | Train | Val\n",
      "Sub 26\t 65.4%\t | 68.6% | 64.7%\n",
      "Sub 26\t 67.3%\t | 69.3% | 52.9%\n",
      "Sub 26\t 66.7%\t | 68.6% | 58.8%\n",
      "Sub 26\t 65.4%\t | 67.3% | 70.6%\n",
      "Sub 26\t 65.4%\t | 66.7% | 70.6%\n",
      "Sub 26\t 66.0%\t | 66.0% | 64.7%\n",
      "Sub 26\t 65.4%\t | 67.3% | 70.6%\n",
      "Sub 26\t 66.7%\t | 69.3% | 58.8%\n",
      "Sub 26\t 66.0%\t | 68.0% | 58.8%\n",
      "Sub 26\t 64.7%\t | 66.7% | 76.5%\n",
      "Average val acc: 64.7%\n"
     ]
    }
   ],
   "source": [
    "model_name = 'svm'\n",
    "sampling_name = 'original'\n",
    "num_sample = len(X)\n",
    "X_power = X_power.reshape((X_power.shape[0],-1))\n",
    "\n",
    "train_acc_list = []\n",
    "val_acc_list = []\n",
    "num_val_list = []\n",
    "kf = KFold(n_splits=10, shuffle=True, random_state=23)\n",
    "print('Sub  \\t Chance\\t | Train | Val')\n",
    "for i_sub, (train_indices, val_indices) in enumerate(kf.split(X_power)):\n",
    "    '''\n",
    "for i_sub, subID in enumerate(np.unique(S)):\n",
    "    \n",
    "    train_indices = np.where(S!=subID)[0]\n",
    "    val_indices = np.where(S==subID)[0]\n",
    "    '''\n",
    "    X_train, Y_train = X_power[train_indices,...], Y[train_indices]\n",
    "    X_val, Y_val = X_power[val_indices,...], Y[val_indices]\n",
    "    \n",
    "    # Resample training data\n",
    "    if sampling_name == 'SMOTE':\n",
    "        sm = SMOTE(random_state=23)\n",
    "        X_train, Y_train = sm.fit_resample(X_train, Y_train)\n",
    "    \n",
    "    # Train classifier\n",
    "    if model_name in ['svm','xgboost']:\n",
    "        if model_name == 'svm':\n",
    "            clf = svm.SVC()\n",
    "        elif model_name == 'xgboost':\n",
    "            clf = xgb.XGBClassifier()\n",
    "        clf.fit(X_train, Y_train)\n",
    "\n",
    "        # Test classifier\n",
    "        train_acc = clf.score(X_train, Y_train)\n",
    "        val_acc = clf.score(X_val, Y_val)\n",
    "    elif model_name == 'elm':\n",
    "        clf = elm.ELMKernel()\n",
    "        train_elm_data = np.concatenate((Y_train[:,np.newaxis], X_train), axis=1)\n",
    "        val_elm_data = np.concatenate((Y_val[:,np.newaxis], X_val), axis=1)\n",
    "        clf.search_param(train_elm_data, cv=\"kfold\", of=\"accuracy\", eval=10)\n",
    "        train_acc = clf.train(train_elm_data).get_accuracy()\n",
    "        val_acc = clf.test(val_elm_data).get_accuracy()\n",
    "    \n",
    "    train_acc_list.append(train_acc)\n",
    "    val_acc_list.append(val_acc)\n",
    "    num_val_list.append(len(Y_val))\n",
    "    \n",
    "    chance = np.sum(Y_train)/len(Y_train)\n",
    "    chance = (1-chance) if chance<0.5 else chance\n",
    "    print('Sub %d\\t %.1f%%\\t | %.1f%% | %.1f%%'%(subID, chance*100, train_acc*100, val_acc*100))\n",
    "    \n",
    "avg_acc = sum([val_acc_list[i]*num_val_list[i] for i in range(len(num_val_list))])/num_sample\n",
    "print('Average val acc: %.1f%%'%(avg_acc*100))"
   ]
  },
  {
   "cell_type": "code",
   "execution_count": null,
   "id": "danish-passenger",
   "metadata": {},
   "outputs": [],
   "source": []
  }
 ],
 "metadata": {
  "kernelspec": {
   "display_name": "Python 3",
   "language": "python",
   "name": "python3"
  },
  "language_info": {
   "codemirror_mode": {
    "name": "ipython",
    "version": 3
   },
   "file_extension": ".py",
   "mimetype": "text/x-python",
   "name": "python",
   "nbconvert_exporter": "python",
   "pygments_lexer": "ipython3",
   "version": "3.7.9"
  }
 },
 "nbformat": 4,
 "nbformat_minor": 5
}
