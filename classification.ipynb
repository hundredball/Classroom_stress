{
 "cells": [
  {
   "cell_type": "code",
   "execution_count": 1,
   "id": "alert-religion",
   "metadata": {},
   "outputs": [],
   "source": [
    "import itertools\n",
    "\n",
    "import numpy as np\n",
    "import pandas as pd\n",
    "import matplotlib.pyplot as plt\n",
    "from sklearn import svm\n",
    "from sklearn.model_selection import KFold\n",
    "from sklearn.metrics import recall_score\n",
    "from sklearn.metrics import precision_score\n",
    "import xgboost as xgb\n",
    "import elm\n",
    "from imblearn.over_sampling import SMOTE \n",
    "\n",
    "import dataloader\n",
    "import bandpower\n",
    "from plot_confusion_matrix import plot_confusion_matrix\n"
   ]
  },
  {
   "cell_type": "markdown",
   "id": "nonprofit-marine",
   "metadata": {},
   "source": [
    "# Leave-one-subject out cross validation"
   ]
  },
  {
   "cell_type": "code",
   "execution_count": 2,
   "id": "headed-berry",
   "metadata": {},
   "outputs": [
    {
     "name": "stdout",
     "output_type": "stream",
     "text": [
      "Load data from .mat files...\n"
     ]
    },
    {
     "name": "stderr",
     "output_type": "stream",
     "text": [
      "/Users/hundredball/anaconda3/envs/Math24_new/lib/python3.7/site-packages/pandas/core/dtypes/missing.py:495: VisibleDeprecationWarning: Creating an ndarray from ragged nested sequences (which is a list-or-tuple of lists-or-tuples-or ndarrays with different lengths or shapes) is deprecated. If you meant to do this, you must specify 'dtype=object' when creating the ndarray\n",
      "  val = np.array(val, copy=False)\n",
      "/Users/hundredball/anaconda3/envs/Math24_new/lib/python3.7/site-packages/numpy/core/_asarray.py:83: VisibleDeprecationWarning: Creating an ndarray from ragged nested sequences (which is a list-or-tuple of lists-or-tuples-or ndarrays with different lengths or shapes) is deprecated. If you meant to do this, you must specify 'dtype=object' when creating the ndarray\n",
      "  return array(a, dtype, copy=False, order=order)\n"
     ]
    },
    {
     "name": "stdout",
     "output_type": "stream",
     "text": [
      "Calculating the bandpower of time-series data...\n",
      "freqs:  [0.000e+00 2.000e-01 4.000e-01 ... 4.996e+02 4.998e+02 5.000e+02]\n",
      "Sub  \t Chance\t | Train | Val\n"
     ]
    },
    {
     "name": "stderr",
     "output_type": "stream",
     "text": [
      "/Users/hundredball/anaconda3/envs/Math24_new/lib/python3.7/site-packages/sklearn/metrics/_classification.py:1221: UndefinedMetricWarning: Precision is ill-defined and being set to 0.0 due to no predicted samples. Use `zero_division` parameter to control this behavior.\n",
      "  _warn_prf(average, modifier, msg_start, len(result))\n"
     ]
    },
    {
     "name": "stdout",
     "output_type": "stream",
     "text": [
      "Fold 0\t 88.0%\t | 88.9% | 92.3%\n",
      "Confusion matrix, without normalization\n",
      "[[103   0]\n",
      " [ 13   1]]\n",
      "Confusion matrix, without normalization\n",
      "[[12  0]\n",
      " [ 1  0]]\n"
     ]
    },
    {
     "name": "stderr",
     "output_type": "stream",
     "text": [
      "/Users/hundredball/anaconda3/envs/Math24_new/lib/python3.7/site-packages/sklearn/metrics/_classification.py:1221: UndefinedMetricWarning: Precision is ill-defined and being set to 0.0 due to no predicted samples. Use `zero_division` parameter to control this behavior.\n",
      "  _warn_prf(average, modifier, msg_start, len(result))\n"
     ]
    },
    {
     "name": "stdout",
     "output_type": "stream",
     "text": [
      "Fold 1\t 88.0%\t | 88.9% | 92.3%\n",
      "Confusion matrix, without normalization\n",
      "[[103   0]\n",
      " [ 13   1]]\n",
      "Confusion matrix, without normalization\n",
      "[[12  0]\n",
      " [ 1  0]]\n"
     ]
    },
    {
     "name": "stderr",
     "output_type": "stream",
     "text": [
      "/Users/hundredball/anaconda3/envs/Math24_new/lib/python3.7/site-packages/sklearn/metrics/_classification.py:1221: UndefinedMetricWarning: Precision is ill-defined and being set to 0.0 due to no predicted samples. Use `zero_division` parameter to control this behavior.\n",
      "  _warn_prf(average, modifier, msg_start, len(result))\n"
     ]
    },
    {
     "name": "stdout",
     "output_type": "stream",
     "text": [
      "Fold 2\t 89.7%\t | 89.7% | 76.9%\n",
      "Confusion matrix, without normalization\n",
      "[[105   0]\n",
      " [ 12   0]]\n",
      "Confusion matrix, without normalization\n",
      "[[10  0]\n",
      " [ 3  0]]\n"
     ]
    },
    {
     "name": "stderr",
     "output_type": "stream",
     "text": [
      "/Users/hundredball/anaconda3/envs/Math24_new/lib/python3.7/site-packages/sklearn/metrics/_classification.py:1221: UndefinedMetricWarning: Precision is ill-defined and being set to 0.0 due to no predicted samples. Use `zero_division` parameter to control this behavior.\n",
      "  _warn_prf(average, modifier, msg_start, len(result))\n"
     ]
    },
    {
     "name": "stdout",
     "output_type": "stream",
     "text": [
      "Fold 3\t 88.9%\t | 88.9% | 84.6%\n",
      "Confusion matrix, without normalization\n",
      "[[104   0]\n",
      " [ 13   0]]\n",
      "Confusion matrix, without normalization\n",
      "[[11  0]\n",
      " [ 2  0]]\n"
     ]
    },
    {
     "name": "stderr",
     "output_type": "stream",
     "text": [
      "/Users/hundredball/anaconda3/envs/Math24_new/lib/python3.7/site-packages/sklearn/metrics/_classification.py:1221: UndefinedMetricWarning: Precision is ill-defined and being set to 0.0 due to no predicted samples. Use `zero_division` parameter to control this behavior.\n",
      "  _warn_prf(average, modifier, msg_start, len(result))\n"
     ]
    },
    {
     "name": "stdout",
     "output_type": "stream",
     "text": [
      "Fold 4\t 88.0%\t | 88.0% | 92.3%\n",
      "Confusion matrix, without normalization\n",
      "[[103   0]\n",
      " [ 14   0]]\n",
      "Confusion matrix, without normalization\n",
      "[[12  0]\n",
      " [ 1  0]]\n",
      "Fold 5\t 88.0%\t | 88.0% | 92.3%\n",
      "Confusion matrix, without normalization\n",
      "[[103   0]\n",
      " [ 14   0]]\n"
     ]
    },
    {
     "name": "stderr",
     "output_type": "stream",
     "text": [
      "/Users/hundredball/anaconda3/envs/Math24_new/lib/python3.7/site-packages/sklearn/metrics/_classification.py:1221: UndefinedMetricWarning: Precision is ill-defined and being set to 0.0 due to no predicted samples. Use `zero_division` parameter to control this behavior.\n",
      "  _warn_prf(average, modifier, msg_start, len(result))\n"
     ]
    },
    {
     "name": "stdout",
     "output_type": "stream",
     "text": [
      "Confusion matrix, without normalization\n",
      "[[12  0]\n",
      " [ 1  0]]\n"
     ]
    },
    {
     "name": "stderr",
     "output_type": "stream",
     "text": [
      "/Users/hundredball/anaconda3/envs/Math24_new/lib/python3.7/site-packages/sklearn/metrics/_classification.py:1221: UndefinedMetricWarning: Precision is ill-defined and being set to 0.0 due to no predicted samples. Use `zero_division` parameter to control this behavior.\n",
      "  _warn_prf(average, modifier, msg_start, len(result))\n"
     ]
    },
    {
     "name": "stdout",
     "output_type": "stream",
     "text": [
      "Fold 6\t 88.0%\t | 88.0% | 92.3%\n",
      "Confusion matrix, without normalization\n",
      "[[103   0]\n",
      " [ 14   0]]\n",
      "Confusion matrix, without normalization\n",
      "[[12  0]\n",
      " [ 1  0]]\n"
     ]
    },
    {
     "name": "stderr",
     "output_type": "stream",
     "text": [
      "/Users/hundredball/anaconda3/envs/Math24_new/lib/python3.7/site-packages/sklearn/metrics/_classification.py:1221: UndefinedMetricWarning: Precision is ill-defined and being set to 0.0 due to no predicted samples. Use `zero_division` parameter to control this behavior.\n",
      "  _warn_prf(average, modifier, msg_start, len(result))\n"
     ]
    },
    {
     "name": "stdout",
     "output_type": "stream",
     "text": [
      "Fold 7\t 88.9%\t | 88.9% | 84.6%\n",
      "Confusion matrix, without normalization\n",
      "[[104   0]\n",
      " [ 13   0]]\n",
      "Confusion matrix, without normalization\n",
      "[[11  0]\n",
      " [ 2  0]]\n"
     ]
    },
    {
     "name": "stderr",
     "output_type": "stream",
     "text": [
      "/Users/hundredball/anaconda3/envs/Math24_new/lib/python3.7/site-packages/sklearn/metrics/_classification.py:1221: UndefinedMetricWarning: Recall is ill-defined and being set to 0.0 due to no true samples. Use `zero_division` parameter to control this behavior.\n",
      "  _warn_prf(average, modifier, msg_start, len(result))\n",
      "/Users/hundredball/anaconda3/envs/Math24_new/lib/python3.7/site-packages/sklearn/metrics/_classification.py:1221: UndefinedMetricWarning: Precision is ill-defined and being set to 0.0 due to no predicted samples. Use `zero_division` parameter to control this behavior.\n",
      "  _warn_prf(average, modifier, msg_start, len(result))\n"
     ]
    },
    {
     "name": "stdout",
     "output_type": "stream",
     "text": [
      "Fold 8\t 87.2%\t | 87.2% | 100.0%\n",
      "Confusion matrix, without normalization\n",
      "[[102   0]\n",
      " [ 15   0]]\n",
      "Confusion matrix, without normalization\n",
      "[[13]]\n",
      "Fold 9\t 89.7%\t | 89.7% | 76.9%\n",
      "Confusion matrix, without normalization\n",
      "[[105   0]\n",
      " [ 12   0]]\n"
     ]
    },
    {
     "name": "stderr",
     "output_type": "stream",
     "text": [
      "/Users/hundredball/anaconda3/envs/Math24_new/lib/python3.7/site-packages/sklearn/metrics/_classification.py:1221: UndefinedMetricWarning: Precision is ill-defined and being set to 0.0 due to no predicted samples. Use `zero_division` parameter to control this behavior.\n",
      "  _warn_prf(average, modifier, msg_start, len(result))\n"
     ]
    },
    {
     "name": "stdout",
     "output_type": "stream",
     "text": [
      "Confusion matrix, without normalization\n",
      "[[10  0]\n",
      " [ 3  0]]\n",
      "Average val acc: 88.5%\n",
      "Sub  \t Chance\t | Train | Val\n",
      "Sub 1\t 88.0%\t | 88.0% | 100.0%\n",
      "Confusion matrix, without normalization\n",
      "[[110   0]\n",
      " [ 15   0]]\n",
      "Confusion matrix, without normalization\n",
      "[[5]]"
     ]
    },
    {
     "name": "stderr",
     "output_type": "stream",
     "text": [
      "/Users/hundredball/anaconda3/envs/Math24_new/lib/python3.7/site-packages/sklearn/metrics/_classification.py:1221: UndefinedMetricWarning: Recall is ill-defined and being set to 0.0 due to no true samples. Use `zero_division` parameter to control this behavior.\n",
      "  _warn_prf(average, modifier, msg_start, len(result))\n",
      "/Users/hundredball/anaconda3/envs/Math24_new/lib/python3.7/site-packages/sklearn/metrics/_classification.py:1221: UndefinedMetricWarning: Precision is ill-defined and being set to 0.0 due to no predicted samples. Use `zero_division` parameter to control this behavior.\n",
      "  _warn_prf(average, modifier, msg_start, len(result))\n"
     ]
    },
    {
     "name": "stdout",
     "output_type": "stream",
     "text": [
      "\n",
      "Sub 2\t 88.4%\t | 88.4% | 100.0%\n",
      "Confusion matrix, without normalization\n",
      "[[114   0]\n",
      " [ 15   0]]\n"
     ]
    },
    {
     "name": "stderr",
     "output_type": "stream",
     "text": [
      "/Users/hundredball/anaconda3/envs/Math24_new/lib/python3.7/site-packages/sklearn/metrics/_classification.py:1221: UndefinedMetricWarning: Recall is ill-defined and being set to 0.0 due to no true samples. Use `zero_division` parameter to control this behavior.\n",
      "  _warn_prf(average, modifier, msg_start, len(result))\n",
      "/Users/hundredball/anaconda3/envs/Math24_new/lib/python3.7/site-packages/sklearn/metrics/_classification.py:1221: UndefinedMetricWarning: Precision is ill-defined and being set to 0.0 due to no predicted samples. Use `zero_division` parameter to control this behavior.\n",
      "  _warn_prf(average, modifier, msg_start, len(result))\n"
     ]
    },
    {
     "name": "stdout",
     "output_type": "stream",
     "text": [
      "Confusion matrix, without normalization\n",
      "[[1]]\n"
     ]
    },
    {
     "name": "stderr",
     "output_type": "stream",
     "text": [
      "/Users/hundredball/anaconda3/envs/Math24_new/lib/python3.7/site-packages/sklearn/metrics/_classification.py:1221: UndefinedMetricWarning: Recall is ill-defined and being set to 0.0 due to no true samples. Use `zero_division` parameter to control this behavior.\n",
      "  _warn_prf(average, modifier, msg_start, len(result))\n",
      "/Users/hundredball/anaconda3/envs/Math24_new/lib/python3.7/site-packages/sklearn/metrics/_classification.py:1221: UndefinedMetricWarning: Precision is ill-defined and being set to 0.0 due to no predicted samples. Use `zero_division` parameter to control this behavior.\n",
      "  _warn_prf(average, modifier, msg_start, len(result))\n"
     ]
    },
    {
     "name": "stdout",
     "output_type": "stream",
     "text": [
      "Sub 3\t 87.9%\t | 87.9% | 100.0%\n",
      "Confusion matrix, without normalization\n",
      "[[109   0]\n",
      " [ 15   0]]\n",
      "Confusion matrix, without normalization\n",
      "[[6]]\n"
     ]
    },
    {
     "name": "stderr",
     "output_type": "stream",
     "text": [
      "/Users/hundredball/anaconda3/envs/Math24_new/lib/python3.7/site-packages/sklearn/metrics/_classification.py:1221: UndefinedMetricWarning: Recall is ill-defined and being set to 0.0 due to no true samples. Use `zero_division` parameter to control this behavior.\n",
      "  _warn_prf(average, modifier, msg_start, len(result))\n",
      "/Users/hundredball/anaconda3/envs/Math24_new/lib/python3.7/site-packages/sklearn/metrics/_classification.py:1221: UndefinedMetricWarning: Precision is ill-defined and being set to 0.0 due to no predicted samples. Use `zero_division` parameter to control this behavior.\n",
      "  _warn_prf(average, modifier, msg_start, len(result))\n"
     ]
    },
    {
     "name": "stdout",
     "output_type": "stream",
     "text": [
      "Sub 4\t 87.9%\t | 87.9% | 100.0%\n",
      "Confusion matrix, without normalization\n",
      "[[109   0]\n",
      " [ 15   0]]\n",
      "Confusion matrix, without normalization\n",
      "[[6]]\n"
     ]
    },
    {
     "name": "stderr",
     "output_type": "stream",
     "text": [
      "/Users/hundredball/anaconda3/envs/Math24_new/lib/python3.7/site-packages/sklearn/metrics/_classification.py:1221: UndefinedMetricWarning: Precision is ill-defined and being set to 0.0 due to no predicted samples. Use `zero_division` parameter to control this behavior.\n",
      "  _warn_prf(average, modifier, msg_start, len(result))\n"
     ]
    },
    {
     "name": "stdout",
     "output_type": "stream",
     "text": [
      "Sub 5\t 88.7%\t | 88.7% | 83.3%\n",
      "Confusion matrix, without normalization\n",
      "[[110   0]\n",
      " [ 14   0]]\n",
      "Confusion matrix, without normalization\n",
      "[[5 0]\n",
      " [1 0]]\n"
     ]
    },
    {
     "name": "stderr",
     "output_type": "stream",
     "text": [
      "/Users/hundredball/anaconda3/envs/Math24_new/lib/python3.7/site-packages/sklearn/metrics/_classification.py:1221: UndefinedMetricWarning: Recall is ill-defined and being set to 0.0 due to no true samples. Use `zero_division` parameter to control this behavior.\n",
      "  _warn_prf(average, modifier, msg_start, len(result))\n",
      "/Users/hundredball/anaconda3/envs/Math24_new/lib/python3.7/site-packages/sklearn/metrics/_classification.py:1221: UndefinedMetricWarning: Precision is ill-defined and being set to 0.0 due to no predicted samples. Use `zero_division` parameter to control this behavior.\n",
      "  _warn_prf(average, modifier, msg_start, len(result))\n"
     ]
    },
    {
     "name": "stdout",
     "output_type": "stream",
     "text": [
      "Sub 6\t 88.0%\t | 88.0% | 100.0%\n",
      "Confusion matrix, without normalization\n",
      "[[110   0]\n",
      " [ 15   0]]\n",
      "Confusion matrix, without normalization\n",
      "[[5]]\n",
      "Sub 7\t 88.8%\t | 88.8% | 80.0%\n",
      "Confusion matrix, without normalization\n",
      "[[111   0]\n",
      " [ 14   0]]\n"
     ]
    },
    {
     "name": "stderr",
     "output_type": "stream",
     "text": [
      "/Users/hundredball/anaconda3/envs/Math24_new/lib/python3.7/site-packages/sklearn/metrics/_classification.py:1221: UndefinedMetricWarning: Precision is ill-defined and being set to 0.0 due to no predicted samples. Use `zero_division` parameter to control this behavior.\n",
      "  _warn_prf(average, modifier, msg_start, len(result))\n"
     ]
    },
    {
     "name": "stdout",
     "output_type": "stream",
     "text": [
      "Confusion matrix, without normalization\n",
      "[[4 0]\n",
      " [1 0]]\n",
      "Sub 8\t 88.1%\t | 88.1% | 100.0%\n"
     ]
    },
    {
     "name": "stderr",
     "output_type": "stream",
     "text": [
      "/Users/hundredball/anaconda3/envs/Math24_new/lib/python3.7/site-packages/sklearn/metrics/_classification.py:1221: UndefinedMetricWarning: Recall is ill-defined and being set to 0.0 due to no true samples. Use `zero_division` parameter to control this behavior.\n",
      "  _warn_prf(average, modifier, msg_start, len(result))\n",
      "/Users/hundredball/anaconda3/envs/Math24_new/lib/python3.7/site-packages/sklearn/metrics/_classification.py:1221: UndefinedMetricWarning: Precision is ill-defined and being set to 0.0 due to no predicted samples. Use `zero_division` parameter to control this behavior.\n",
      "  _warn_prf(average, modifier, msg_start, len(result))\n"
     ]
    },
    {
     "name": "stdout",
     "output_type": "stream",
     "text": [
      "Confusion matrix, without normalization\n",
      "[[111   0]\n",
      " [ 15   0]]\n",
      "Confusion matrix, without normalization\n",
      "[[4]]\n"
     ]
    },
    {
     "name": "stderr",
     "output_type": "stream",
     "text": [
      "/Users/hundredball/anaconda3/envs/Math24_new/lib/python3.7/site-packages/sklearn/metrics/_classification.py:1221: UndefinedMetricWarning: Recall is ill-defined and being set to 0.0 due to no true samples. Use `zero_division` parameter to control this behavior.\n",
      "  _warn_prf(average, modifier, msg_start, len(result))\n",
      "/Users/hundredball/anaconda3/envs/Math24_new/lib/python3.7/site-packages/sklearn/metrics/_classification.py:1221: UndefinedMetricWarning: Precision is ill-defined and being set to 0.0 due to no predicted samples. Use `zero_division` parameter to control this behavior.\n",
      "  _warn_prf(average, modifier, msg_start, len(result))\n"
     ]
    },
    {
     "name": "stdout",
     "output_type": "stream",
     "text": [
      "Sub 9\t 88.3%\t | 88.3% | 100.0%\n",
      "Confusion matrix, without normalization\n",
      "[[113   0]\n",
      " [ 15   0]]\n",
      "Confusion matrix, without normalization\n",
      "[[2]]\n"
     ]
    },
    {
     "name": "stderr",
     "output_type": "stream",
     "text": [
      "/Users/hundredball/anaconda3/envs/Math24_new/lib/python3.7/site-packages/sklearn/metrics/_classification.py:1221: UndefinedMetricWarning: Precision is ill-defined and being set to 0.0 due to no predicted samples. Use `zero_division` parameter to control this behavior.\n",
      "  _warn_prf(average, modifier, msg_start, len(result))\n"
     ]
    },
    {
     "name": "stdout",
     "output_type": "stream",
     "text": [
      "Sub 10\t 89.0%\t | 89.0% | 66.7%\n",
      "Confusion matrix, without normalization\n",
      "[[113   0]\n",
      " [ 14   0]]\n",
      "Confusion matrix, without normalization\n",
      "[[2 0]\n",
      " [1 0]]\n"
     ]
    },
    {
     "name": "stderr",
     "output_type": "stream",
     "text": [
      "/Users/hundredball/anaconda3/envs/Math24_new/lib/python3.7/site-packages/sklearn/metrics/_classification.py:1221: UndefinedMetricWarning: Precision is ill-defined and being set to 0.0 due to no predicted samples. Use `zero_division` parameter to control this behavior.\n",
      "  _warn_prf(average, modifier, msg_start, len(result))\n"
     ]
    },
    {
     "name": "stdout",
     "output_type": "stream",
     "text": [
      "Sub 11\t 88.7%\t | 88.7% | 83.3%\n",
      "Confusion matrix, without normalization\n",
      "[[110   0]\n",
      " [ 14   0]]\n",
      "Confusion matrix, without normalization\n",
      "[[5 0]\n",
      " [1 0]]\n"
     ]
    },
    {
     "name": "stderr",
     "output_type": "stream",
     "text": [
      "/Users/hundredball/anaconda3/envs/Math24_new/lib/python3.7/site-packages/sklearn/metrics/_classification.py:1221: UndefinedMetricWarning: Precision is ill-defined and being set to 0.0 due to no predicted samples. Use `zero_division` parameter to control this behavior.\n",
      "  _warn_prf(average, modifier, msg_start, len(result))\n"
     ]
    },
    {
     "name": "stdout",
     "output_type": "stream",
     "text": [
      "Sub 12\t 89.5%\t | 89.5% | 66.7%\n",
      "Confusion matrix, without normalization\n",
      "[[111   0]\n",
      " [ 13   0]]\n",
      "Confusion matrix, without normalization\n",
      "[[4 0]\n",
      " [2 0]]\n"
     ]
    },
    {
     "name": "stderr",
     "output_type": "stream",
     "text": [
      "/Users/hundredball/anaconda3/envs/Math24_new/lib/python3.7/site-packages/sklearn/metrics/_classification.py:1221: UndefinedMetricWarning: Precision is ill-defined and being set to 0.0 due to no predicted samples. Use `zero_division` parameter to control this behavior.\n",
      "  _warn_prf(average, modifier, msg_start, len(result))\n"
     ]
    },
    {
     "name": "stdout",
     "output_type": "stream",
     "text": [
      "Sub 13\t 88.8%\t | 88.8% | 80.0%\n",
      "Confusion matrix, without normalization\n",
      "[[111   0]\n",
      " [ 14   0]]\n",
      "Confusion matrix, without normalization\n",
      "[[4 0]\n",
      " [1 0]]\n"
     ]
    },
    {
     "name": "stderr",
     "output_type": "stream",
     "text": [
      "/Users/hundredball/anaconda3/envs/Math24_new/lib/python3.7/site-packages/sklearn/metrics/_classification.py:1221: UndefinedMetricWarning: Precision is ill-defined and being set to 0.0 due to no predicted samples. Use `zero_division` parameter to control this behavior.\n",
      "  _warn_prf(average, modifier, msg_start, len(result))\n"
     ]
    },
    {
     "name": "stdout",
     "output_type": "stream",
     "text": [
      "Sub 14\t 89.1%\t | 89.1% | 50.0%\n",
      "Confusion matrix, without normalization\n",
      "[[114   0]\n",
      " [ 14   0]]\n",
      "Confusion matrix, without normalization\n",
      "[[1 0]\n",
      " [1 0]]\n"
     ]
    },
    {
     "name": "stderr",
     "output_type": "stream",
     "text": [
      "/Users/hundredball/anaconda3/envs/Math24_new/lib/python3.7/site-packages/sklearn/metrics/_classification.py:1221: UndefinedMetricWarning: Recall is ill-defined and being set to 0.0 due to no true samples. Use `zero_division` parameter to control this behavior.\n",
      "  _warn_prf(average, modifier, msg_start, len(result))\n",
      "/Users/hundredball/anaconda3/envs/Math24_new/lib/python3.7/site-packages/sklearn/metrics/_classification.py:1221: UndefinedMetricWarning: Precision is ill-defined and being set to 0.0 due to no predicted samples. Use `zero_division` parameter to control this behavior.\n",
      "  _warn_prf(average, modifier, msg_start, len(result))\n"
     ]
    },
    {
     "name": "stdout",
     "output_type": "stream",
     "text": [
      "Sub 16\t 88.4%\t | 88.4% | 100.0%\n",
      "Confusion matrix, without normalization\n",
      "[[114   0]\n",
      " [ 15   0]]\n",
      "Confusion matrix, without normalization\n",
      "[[1]]\n"
     ]
    },
    {
     "name": "stderr",
     "output_type": "stream",
     "text": [
      "/Users/hundredball/anaconda3/envs/Math24_new/lib/python3.7/site-packages/sklearn/metrics/_classification.py:1221: UndefinedMetricWarning: Precision is ill-defined and being set to 0.0 due to no predicted samples. Use `zero_division` parameter to control this behavior.\n",
      "  _warn_prf(average, modifier, msg_start, len(result))\n"
     ]
    },
    {
     "name": "stdout",
     "output_type": "stream",
     "text": [
      "Sub 17\t 89.0%\t | 89.0% | 66.7%\n",
      "Confusion matrix, without normalization\n",
      "[[113   0]\n",
      " [ 14   0]]\n",
      "Confusion matrix, without normalization\n",
      "[[2 0]\n",
      " [1 0]]\n"
     ]
    },
    {
     "name": "stderr",
     "output_type": "stream",
     "text": [
      "/Users/hundredball/anaconda3/envs/Math24_new/lib/python3.7/site-packages/sklearn/metrics/_classification.py:1221: UndefinedMetricWarning: Precision is ill-defined and being set to 0.0 due to no predicted samples. Use `zero_division` parameter to control this behavior.\n",
      "  _warn_prf(average, modifier, msg_start, len(result))\n"
     ]
    },
    {
     "name": "stdout",
     "output_type": "stream",
     "text": [
      "Sub 18\t 88.9%\t | 88.9% | 75.0%\n",
      "Confusion matrix, without normalization\n",
      "[[112   0]\n",
      " [ 14   0]]\n",
      "Confusion matrix, without normalization\n",
      "[[3 0]\n",
      " [1 0]]\n"
     ]
    },
    {
     "name": "stderr",
     "output_type": "stream",
     "text": [
      "/Users/hundredball/anaconda3/envs/Math24_new/lib/python3.7/site-packages/sklearn/metrics/_classification.py:1221: UndefinedMetricWarning: Precision is ill-defined and being set to 0.0 due to no predicted samples. Use `zero_division` parameter to control this behavior.\n",
      "  _warn_prf(average, modifier, msg_start, len(result))\n"
     ]
    },
    {
     "name": "stdout",
     "output_type": "stream",
     "text": [
      "Sub 19\t 89.6%\t | 89.6% | 60.0%\n",
      "Confusion matrix, without normalization\n",
      "[[112   0]\n",
      " [ 13   0]]\n",
      "Confusion matrix, without normalization\n",
      "[[3 0]\n",
      " [2 0]]\n"
     ]
    },
    {
     "name": "stderr",
     "output_type": "stream",
     "text": [
      "/Users/hundredball/anaconda3/envs/Math24_new/lib/python3.7/site-packages/sklearn/metrics/_classification.py:1221: UndefinedMetricWarning: Recall is ill-defined and being set to 0.0 due to no true samples. Use `zero_division` parameter to control this behavior.\n",
      "  _warn_prf(average, modifier, msg_start, len(result))\n",
      "/Users/hundredball/anaconda3/envs/Math24_new/lib/python3.7/site-packages/sklearn/metrics/_classification.py:1221: UndefinedMetricWarning: Precision is ill-defined and being set to 0.0 due to no predicted samples. Use `zero_division` parameter to control this behavior.\n",
      "  _warn_prf(average, modifier, msg_start, len(result))\n"
     ]
    },
    {
     "name": "stdout",
     "output_type": "stream",
     "text": [
      "Sub 20\t 87.3%\t | 89.0% | 100.0%\n",
      "Confusion matrix, without normalization\n",
      "[[103   0]\n",
      " [ 13   2]]\n",
      "Confusion matrix, without normalization\n",
      "[[12]]\n"
     ]
    },
    {
     "name": "stderr",
     "output_type": "stream",
     "text": [
      "/Users/hundredball/anaconda3/envs/Math24_new/lib/python3.7/site-packages/sklearn/metrics/_classification.py:1221: UndefinedMetricWarning: Recall is ill-defined and being set to 0.0 due to no true samples. Use `zero_division` parameter to control this behavior.\n",
      "  _warn_prf(average, modifier, msg_start, len(result))\n",
      "/Users/hundredball/anaconda3/envs/Math24_new/lib/python3.7/site-packages/sklearn/metrics/_classification.py:1221: UndefinedMetricWarning: Precision is ill-defined and being set to 0.0 due to no predicted samples. Use `zero_division` parameter to control this behavior.\n",
      "  _warn_prf(average, modifier, msg_start, len(result))\n"
     ]
    },
    {
     "name": "stdout",
     "output_type": "stream",
     "text": [
      "Sub 21\t 87.6%\t | 88.4% | 100.0%\n",
      "Confusion matrix, without normalization\n",
      "[[106   0]\n",
      " [ 14   1]]\n",
      "Confusion matrix, without normalization\n",
      "[[9]]\n"
     ]
    },
    {
     "name": "stderr",
     "output_type": "stream",
     "text": [
      "/Users/hundredball/anaconda3/envs/Math24_new/lib/python3.7/site-packages/sklearn/metrics/_classification.py:1221: UndefinedMetricWarning: Recall is ill-defined and being set to 0.0 due to no true samples. Use `zero_division` parameter to control this behavior.\n",
      "  _warn_prf(average, modifier, msg_start, len(result))\n",
      "/Users/hundredball/anaconda3/envs/Math24_new/lib/python3.7/site-packages/sklearn/metrics/_classification.py:1221: UndefinedMetricWarning: Precision is ill-defined and being set to 0.0 due to no predicted samples. Use `zero_division` parameter to control this behavior.\n",
      "  _warn_prf(average, modifier, msg_start, len(result))\n"
     ]
    },
    {
     "name": "stdout",
     "output_type": "stream",
     "text": [
      "Sub 22\t 87.5%\t | 87.5% | 100.0%\n",
      "Confusion matrix, without normalization\n",
      "[[105   0]\n",
      " [ 15   0]]\n",
      "Confusion matrix, without normalization\n",
      "[[10]]\n"
     ]
    },
    {
     "name": "stderr",
     "output_type": "stream",
     "text": [
      "/Users/hundredball/anaconda3/envs/Math24_new/lib/python3.7/site-packages/sklearn/metrics/_classification.py:1221: UndefinedMetricWarning: Precision is ill-defined and being set to 0.0 due to no predicted samples. Use `zero_division` parameter to control this behavior.\n",
      "  _warn_prf(average, modifier, msg_start, len(result))\n"
     ]
    },
    {
     "name": "stdout",
     "output_type": "stream",
     "text": [
      "Sub 23\t 88.8%\t | 88.8% | 80.0%\n",
      "Confusion matrix, without normalization\n",
      "[[111   0]\n",
      " [ 14   0]]\n",
      "Confusion matrix, without normalization\n",
      "[[4 0]\n",
      " [1 0]]\n"
     ]
    },
    {
     "name": "stderr",
     "output_type": "stream",
     "text": [
      "/Users/hundredball/anaconda3/envs/Math24_new/lib/python3.7/site-packages/sklearn/metrics/_classification.py:1221: UndefinedMetricWarning: Precision is ill-defined and being set to 0.0 due to no predicted samples. Use `zero_division` parameter to control this behavior.\n",
      "  _warn_prf(average, modifier, msg_start, len(result))\n"
     ]
    },
    {
     "name": "stdout",
     "output_type": "stream",
     "text": [
      "Sub 24\t 88.7%\t | 88.7% | 83.3%\n",
      "Confusion matrix, without normalization\n",
      "[[110   0]\n",
      " [ 14   0]]\n",
      "Confusion matrix, without normalization\n",
      "[[5 0]\n",
      " [1 0]]\n"
     ]
    },
    {
     "name": "stderr",
     "output_type": "stream",
     "text": [
      "/Users/hundredball/anaconda3/envs/Math24_new/lib/python3.7/site-packages/sklearn/metrics/_classification.py:1221: UndefinedMetricWarning: Recall is ill-defined and being set to 0.0 due to no true samples. Use `zero_division` parameter to control this behavior.\n",
      "  _warn_prf(average, modifier, msg_start, len(result))\n",
      "/Users/hundredball/anaconda3/envs/Math24_new/lib/python3.7/site-packages/sklearn/metrics/_classification.py:1221: UndefinedMetricWarning: Precision is ill-defined and being set to 0.0 due to no predicted samples. Use `zero_division` parameter to control this behavior.\n",
      "  _warn_prf(average, modifier, msg_start, len(result))\n"
     ]
    },
    {
     "name": "stdout",
     "output_type": "stream",
     "text": [
      "Sub 25\t 87.9%\t | 87.9% | 100.0%\n",
      "Confusion matrix, without normalization\n",
      "[[109   0]\n",
      " [ 15   0]]\n",
      "Confusion matrix, without normalization\n",
      "[[6]]\n"
     ]
    },
    {
     "name": "stderr",
     "output_type": "stream",
     "text": [
      "/Users/hundredball/anaconda3/envs/Math24_new/lib/python3.7/site-packages/sklearn/metrics/_classification.py:1221: UndefinedMetricWarning: Precision is ill-defined and being set to 0.0 due to no predicted samples. Use `zero_division` parameter to control this behavior.\n",
      "  _warn_prf(average, modifier, msg_start, len(result))\n"
     ]
    },
    {
     "name": "stdout",
     "output_type": "stream",
     "text": [
      "Sub 26\t 88.6%\t | 88.6% | 85.7%\n",
      "Confusion matrix, without normalization\n",
      "[[109   0]\n",
      " [ 14   0]]\n",
      "Confusion matrix, without normalization\n",
      "[[6 0]\n",
      " [1 0]]\n",
      "Average val acc: 88.5%\n",
      "Sub  \t Chance\t | Train | Val\n",
      "Fold 0\t 50.0%\t | 63.1% | 46.2%\n",
      "Confusion matrix, without normalization\n",
      "[[54 49]\n",
      " [27 76]]\n",
      "Confusion matrix, without normalization\n",
      "[[5 7]\n",
      " [0 1]]\n",
      "Fold 1\t 50.0%\t | 66.5% | 53.8%\n",
      "Confusion matrix, without normalization\n",
      "[[53 50]\n",
      " [19 84]]\n",
      "Confusion matrix, without normalization\n",
      "[[7 5]\n",
      " [1 0]]\n",
      "Fold 2\t 50.0%\t | 71.4% | 38.5%\n",
      "Confusion matrix, without normalization\n",
      "[[61 44]\n",
      " [16 89]]\n",
      "Confusion matrix, without normalization\n",
      "[[4 6]\n",
      " [2 1]]\n",
      "Fold 3\t 50.0%\t | 69.7% | 76.9%\n",
      "Confusion matrix, without normalization\n",
      "[[59 45]\n",
      " [18 86]]\n",
      "Confusion matrix, without normalization\n",
      "[[8 3]\n",
      " [0 2]]\n",
      "Fold 4\t 50.0%\t | 66.0% | 46.2%\n",
      "Confusion matrix, without normalization\n",
      "[[55 48]\n",
      " [22 81]]\n",
      "Confusion matrix, without normalization\n",
      "[[6 6]\n",
      " [1 0]]\n",
      "Fold 5\t 50.0%\t | 66.5% | 30.8%\n",
      "Confusion matrix, without normalization\n",
      "[[56 47]\n",
      " [22 81]]\n",
      "Confusion matrix, without normalization\n",
      "[[4 8]\n",
      " [1 0]]\n",
      "Fold 6\t 50.0%\t | 69.9% | 61.5%\n",
      "Confusion matrix, without normalization\n",
      "[[51 52]\n",
      " [10 93]]\n",
      "Confusion matrix, without normalization\n",
      "[[7 5]\n",
      " [0 1]]\n",
      "Fold 7\t 50.0%\t | 64.9% | 23.1%\n",
      "Confusion matrix, without normalization\n",
      "[[ 31  73]\n",
      " [  0 104]]\n",
      "Confusion matrix, without normalization\n",
      "[[ 1 10]\n",
      " [ 0  2]]\n"
     ]
    },
    {
     "name": "stderr",
     "output_type": "stream",
     "text": [
      "/Users/hundredball/anaconda3/envs/Math24_new/lib/python3.7/site-packages/sklearn/metrics/_classification.py:1221: UndefinedMetricWarning: Recall is ill-defined and being set to 0.0 due to no true samples. Use `zero_division` parameter to control this behavior.\n",
      "  _warn_prf(average, modifier, msg_start, len(result))\n"
     ]
    },
    {
     "name": "stdout",
     "output_type": "stream",
     "text": [
      "Fold 8\t 50.0%\t | 65.2% | 84.6%\n",
      "Confusion matrix, without normalization\n",
      "[[56 46]\n",
      " [25 77]]\n",
      "Confusion matrix, without normalization\n",
      "[[11  2]\n",
      " [ 0  0]]\n",
      "Fold 9\t 50.0%\t | 69.5% | 38.5%\n",
      "Confusion matrix, without normalization\n",
      "[[63 42]\n",
      " [22 83]]\n",
      "Confusion matrix, without normalization\n",
      "[[4 6]\n",
      " [2 1]]\n",
      "Average val acc: 50.0%\n",
      "Sub  \t Chance\t | Train | Val\n",
      "Sub 1\t 50.0%\t | 64.1% | 60.0%\n",
      "Confusion matrix, without normalization\n",
      "[[57 53]\n",
      " [26 84]]\n"
     ]
    },
    {
     "name": "stderr",
     "output_type": "stream",
     "text": [
      "/Users/hundredball/anaconda3/envs/Math24_new/lib/python3.7/site-packages/sklearn/metrics/_classification.py:1221: UndefinedMetricWarning: Recall is ill-defined and being set to 0.0 due to no true samples. Use `zero_division` parameter to control this behavior.\n",
      "  _warn_prf(average, modifier, msg_start, len(result))\n"
     ]
    },
    {
     "name": "stdout",
     "output_type": "stream",
     "text": [
      "Confusion matrix, without normalization\n",
      "[[3 2]\n",
      " [0 0]]\n"
     ]
    },
    {
     "name": "stderr",
     "output_type": "stream",
     "text": [
      "/Users/hundredball/anaconda3/envs/Math24_new/lib/python3.7/site-packages/sklearn/metrics/_classification.py:1221: UndefinedMetricWarning: Recall is ill-defined and being set to 0.0 due to no true samples. Use `zero_division` parameter to control this behavior.\n",
      "  _warn_prf(average, modifier, msg_start, len(result))\n",
      "/Users/hundredball/anaconda3/envs/Math24_new/lib/python3.7/site-packages/sklearn/metrics/_classification.py:1221: UndefinedMetricWarning: Precision is ill-defined and being set to 0.0 due to no predicted samples. Use `zero_division` parameter to control this behavior.\n",
      "  _warn_prf(average, modifier, msg_start, len(result))\n"
     ]
    },
    {
     "name": "stdout",
     "output_type": "stream",
     "text": [
      "Sub 2\t 50.0%\t | 65.4% | 100.0%\n",
      "Confusion matrix, without normalization\n",
      "[[64 50]\n",
      " [29 85]]\n",
      "Confusion matrix, without normalization\n",
      "[[1]]\n"
     ]
    },
    {
     "name": "stderr",
     "output_type": "stream",
     "text": [
      "/Users/hundredball/anaconda3/envs/Math24_new/lib/python3.7/site-packages/sklearn/metrics/_classification.py:1221: UndefinedMetricWarning: Recall is ill-defined and being set to 0.0 due to no true samples. Use `zero_division` parameter to control this behavior.\n",
      "  _warn_prf(average, modifier, msg_start, len(result))\n"
     ]
    },
    {
     "name": "stdout",
     "output_type": "stream",
     "text": [
      "Sub 3\t 50.0%\t | 64.7% | 50.0%\n",
      "Confusion matrix, without normalization\n",
      "[[58 51]\n",
      " [26 83]]\n",
      "Confusion matrix, without normalization\n",
      "[[3 3]\n",
      " [0 0]]\n",
      "Sub 4\t 50.0%\t | 64.7% | 83.3%\n",
      "Confusion matrix, without normalization\n",
      "[[59 50]\n",
      " [27 82]]\n"
     ]
    },
    {
     "name": "stderr",
     "output_type": "stream",
     "text": [
      "/Users/hundredball/anaconda3/envs/Math24_new/lib/python3.7/site-packages/sklearn/metrics/_classification.py:1221: UndefinedMetricWarning: Recall is ill-defined and being set to 0.0 due to no true samples. Use `zero_division` parameter to control this behavior.\n",
      "  _warn_prf(average, modifier, msg_start, len(result))\n"
     ]
    },
    {
     "name": "stdout",
     "output_type": "stream",
     "text": [
      "Confusion matrix, without normalization\n",
      "[[5 1]\n",
      " [0 0]]\n",
      "Sub 5\t 50.0%\t | 67.7% | 100.0%\n",
      "Confusion matrix, without normalization\n",
      "[[50 60]\n",
      " [11 99]]\n",
      "Confusion matrix, without normalization\n",
      "[[5 0]\n",
      " [0 1]]\n"
     ]
    },
    {
     "name": "stderr",
     "output_type": "stream",
     "text": [
      "/Users/hundredball/anaconda3/envs/Math24_new/lib/python3.7/site-packages/sklearn/metrics/_classification.py:1221: UndefinedMetricWarning: Recall is ill-defined and being set to 0.0 due to no true samples. Use `zero_division` parameter to control this behavior.\n",
      "  _warn_prf(average, modifier, msg_start, len(result))\n"
     ]
    },
    {
     "name": "stdout",
     "output_type": "stream",
     "text": [
      "Sub 6\t 50.0%\t | 65.5% | 0.0%\n",
      "Confusion matrix, without normalization\n",
      "[[61 49]\n",
      " [27 83]]\n",
      "Confusion matrix, without normalization\n",
      "[[0 5]\n",
      " [0 0]]\n",
      "Sub 7\t 50.0%\t | 68.0% | 40.0%\n",
      "Confusion matrix, without normalization\n",
      "[[55 56]\n",
      " [15 96]]\n",
      "Confusion matrix, without normalization\n",
      "[[1 3]\n",
      " [0 1]]\n"
     ]
    },
    {
     "name": "stderr",
     "output_type": "stream",
     "text": [
      "/Users/hundredball/anaconda3/envs/Math24_new/lib/python3.7/site-packages/sklearn/metrics/_classification.py:1221: UndefinedMetricWarning: Recall is ill-defined and being set to 0.0 due to no true samples. Use `zero_division` parameter to control this behavior.\n",
      "  _warn_prf(average, modifier, msg_start, len(result))\n"
     ]
    },
    {
     "name": "stdout",
     "output_type": "stream",
     "text": [
      "Sub 8\t 50.0%\t | 65.8% | 0.0%\n",
      "Confusion matrix, without normalization\n",
      "[[63 48]\n",
      " [28 83]]\n",
      "Confusion matrix, without normalization\n",
      "[[0 4]\n",
      " [0 0]]\n"
     ]
    },
    {
     "name": "stderr",
     "output_type": "stream",
     "text": [
      "/Users/hundredball/anaconda3/envs/Math24_new/lib/python3.7/site-packages/sklearn/metrics/_classification.py:1221: UndefinedMetricWarning: Recall is ill-defined and being set to 0.0 due to no true samples. Use `zero_division` parameter to control this behavior.\n",
      "  _warn_prf(average, modifier, msg_start, len(result))\n"
     ]
    },
    {
     "name": "stdout",
     "output_type": "stream",
     "text": [
      "Sub 9\t 50.0%\t | 65.0% | 50.0%\n",
      "Confusion matrix, without normalization\n",
      "[[62 51]\n",
      " [28 85]]\n",
      "Confusion matrix, without normalization\n",
      "[[1 1]\n",
      " [0 0]]\n",
      "Sub 10\t 50.0%\t | 70.4% | 100.0%\n",
      "Confusion matrix, without normalization\n",
      "[[ 59  54]\n",
      " [ 13 100]]\n",
      "Confusion matrix, without normalization\n",
      "[[2 0]\n",
      " [0 1]]\n",
      "Sub 11\t 50.0%\t | 68.2% | 50.0%\n",
      "Confusion matrix, without normalization\n",
      "[[57 53]\n",
      " [17 93]]\n",
      "Confusion matrix, without normalization\n",
      "[[3 2]\n",
      " [1 0]]\n",
      "Sub 12\t 50.0%\t | 68.0% | 83.3%\n",
      "Confusion matrix, without normalization\n",
      "[[ 48  63]\n",
      " [  8 103]]\n",
      "Confusion matrix, without normalization\n",
      "[[3 1]\n",
      " [0 2]]\n",
      "Sub 13\t 50.0%\t | 70.7% | 20.0%\n",
      "Confusion matrix, without normalization\n",
      "[[ 56  55]\n",
      " [ 10 101]]\n",
      "Confusion matrix, without normalization\n",
      "[[0 4]\n",
      " [0 1]]\n",
      "Sub 14\t 50.0%\t | 71.9% | 50.0%\n",
      "Confusion matrix, without normalization\n",
      "[[ 64  50]\n",
      " [ 14 100]]\n",
      "Confusion matrix, without normalization\n",
      "[[0 1]\n",
      " [0 1]]\n"
     ]
    },
    {
     "name": "stderr",
     "output_type": "stream",
     "text": [
      "/Users/hundredball/anaconda3/envs/Math24_new/lib/python3.7/site-packages/sklearn/metrics/_classification.py:1221: UndefinedMetricWarning: Recall is ill-defined and being set to 0.0 due to no true samples. Use `zero_division` parameter to control this behavior.\n",
      "  _warn_prf(average, modifier, msg_start, len(result))\n",
      "/Users/hundredball/anaconda3/envs/Math24_new/lib/python3.7/site-packages/sklearn/metrics/_classification.py:1221: UndefinedMetricWarning: Precision is ill-defined and being set to 0.0 due to no predicted samples. Use `zero_division` parameter to control this behavior.\n",
      "  _warn_prf(average, modifier, msg_start, len(result))\n"
     ]
    },
    {
     "name": "stdout",
     "output_type": "stream",
     "text": [
      "Sub 16\t 50.0%\t | 65.4% | 100.0%\n",
      "Confusion matrix, without normalization\n",
      "[[64 50]\n",
      " [29 85]]\n",
      "Confusion matrix, without normalization\n",
      "[[1]]\n",
      "Sub 17\t 50.0%\t | 67.3% | 33.3%\n",
      "Confusion matrix, without normalization\n",
      "[[58 55]\n",
      " [19 94]]\n",
      "Confusion matrix, without normalization\n",
      "[[0 2]\n",
      " [0 1]]\n",
      "Sub 18\t 50.0%\t | 63.8% | 50.0%\n",
      "Confusion matrix, without normalization\n",
      "[[60 52]\n",
      " [29 83]]\n",
      "Confusion matrix, without normalization\n",
      "[[1 2]\n",
      " [0 1]]\n"
     ]
    },
    {
     "name": "stderr",
     "output_type": "stream",
     "text": [
      "/Users/hundredball/anaconda3/envs/Math24_new/lib/python3.7/site-packages/sklearn/metrics/_classification.py:1221: UndefinedMetricWarning: Precision is ill-defined and being set to 0.0 due to no predicted samples. Use `zero_division` parameter to control this behavior.\n",
      "  _warn_prf(average, modifier, msg_start, len(result))\n"
     ]
    },
    {
     "name": "stdout",
     "output_type": "stream",
     "text": [
      "Sub 19\t 50.0%\t | 71.0% | 60.0%\n",
      "Confusion matrix, without normalization\n",
      "[[60 52]\n",
      " [13 99]]\n",
      "Confusion matrix, without normalization\n",
      "[[3 0]\n",
      " [2 0]]\n"
     ]
    },
    {
     "name": "stderr",
     "output_type": "stream",
     "text": [
      "/Users/hundredball/anaconda3/envs/Math24_new/lib/python3.7/site-packages/sklearn/metrics/_classification.py:1221: UndefinedMetricWarning: Recall is ill-defined and being set to 0.0 due to no true samples. Use `zero_division` parameter to control this behavior.\n",
      "  _warn_prf(average, modifier, msg_start, len(result))\n"
     ]
    },
    {
     "name": "stdout",
     "output_type": "stream",
     "text": [
      "Sub 20\t 50.0%\t | 65.5% | 41.7%\n",
      "Confusion matrix, without normalization\n",
      "[[56 47]\n",
      " [24 79]]\n",
      "Confusion matrix, without normalization\n",
      "[[5 7]\n",
      " [0 0]]\n",
      "Sub 21\t 50.0%\t | 61.3% | 66.7%\n",
      "Confusion matrix, without normalization\n",
      "[[53 53]\n",
      " [29 77]]\n"
     ]
    },
    {
     "name": "stderr",
     "output_type": "stream",
     "text": [
      "/Users/hundredball/anaconda3/envs/Math24_new/lib/python3.7/site-packages/sklearn/metrics/_classification.py:1221: UndefinedMetricWarning: Recall is ill-defined and being set to 0.0 due to no true samples. Use `zero_division` parameter to control this behavior.\n",
      "  _warn_prf(average, modifier, msg_start, len(result))\n"
     ]
    },
    {
     "name": "stdout",
     "output_type": "stream",
     "text": [
      "Confusion matrix, without normalization\n",
      "[[6 3]\n",
      " [0 0]]\n"
     ]
    },
    {
     "name": "stderr",
     "output_type": "stream",
     "text": [
      "/Users/hundredball/anaconda3/envs/Math24_new/lib/python3.7/site-packages/sklearn/metrics/_classification.py:1221: UndefinedMetricWarning: Recall is ill-defined and being set to 0.0 due to no true samples. Use `zero_division` parameter to control this behavior.\n",
      "  _warn_prf(average, modifier, msg_start, len(result))\n"
     ]
    },
    {
     "name": "stdout",
     "output_type": "stream",
     "text": [
      "Sub 22\t 50.0%\t | 67.6% | 20.0%\n",
      "Confusion matrix, without normalization\n",
      "[[62 43]\n",
      " [25 80]]\n",
      "Confusion matrix, without normalization\n",
      "[[2 8]\n",
      " [0 0]]\n",
      "Sub 23\t 50.0%\t | 65.8% | 0.0%\n",
      "Confusion matrix, without normalization\n",
      "[[60 51]\n",
      " [25 86]]\n",
      "Confusion matrix, without normalization\n",
      "[[0 4]\n",
      " [1 0]]\n",
      "Sub 24\t 50.0%\t | 65.5% | 66.7%\n",
      "Confusion matrix, without normalization\n",
      "[[58 52]\n",
      " [24 86]]\n",
      "Confusion matrix, without normalization\n",
      "[[4 1]\n",
      " [1 0]]\n"
     ]
    },
    {
     "name": "stderr",
     "output_type": "stream",
     "text": [
      "/Users/hundredball/anaconda3/envs/Math24_new/lib/python3.7/site-packages/sklearn/metrics/_classification.py:1221: UndefinedMetricWarning: Recall is ill-defined and being set to 0.0 due to no true samples. Use `zero_division` parameter to control this behavior.\n",
      "  _warn_prf(average, modifier, msg_start, len(result))\n"
     ]
    },
    {
     "name": "stdout",
     "output_type": "stream",
     "text": [
      "Sub 25\t 50.0%\t | 66.5% | 16.7%\n",
      "Confusion matrix, without normalization\n",
      "[[61 48]\n",
      " [25 84]]\n",
      "Confusion matrix, without normalization\n",
      "[[1 5]\n",
      " [0 0]]\n",
      "Sub 26\t 50.0%\t | 72.0% | 28.6%\n",
      "Confusion matrix, without normalization\n",
      "[[61 48]\n",
      " [13 96]]\n",
      "Confusion matrix, without normalization\n",
      "[[1 5]\n",
      " [0 1]]\n",
      "Average val acc: 46.9%\n",
      "Sub  \t Chance\t | Train | Val\n"
     ]
    },
    {
     "name": "stderr",
     "output_type": "stream",
     "text": [
      "/Users/hundredball/anaconda3/envs/Math24_new/lib/python3.7/site-packages/sklearn/metrics/_classification.py:1221: UndefinedMetricWarning: Precision is ill-defined and being set to 0.0 due to no predicted samples. Use `zero_division` parameter to control this behavior.\n",
      "  _warn_prf(average, modifier, msg_start, len(result))\n"
     ]
    },
    {
     "name": "stdout",
     "output_type": "stream",
     "text": [
      "Fold 0\t 88.0%\t | 99.1% | 92.3%\n",
      "Confusion matrix, without normalization\n",
      "[[103   0]\n",
      " [  1  13]]\n",
      "Confusion matrix, without normalization\n",
      "[[12  0]\n",
      " [ 1  0]]\n",
      "Fold 1\t 88.0%\t | 99.1% | 84.6%\n",
      "Confusion matrix, without normalization\n",
      "[[103   0]\n",
      " [  1  13]]\n",
      "Confusion matrix, without normalization\n",
      "[[11  1]\n",
      " [ 1  0]]\n",
      "Fold 2\t 89.7%\t | 99.1% | 76.9%\n",
      "Confusion matrix, without normalization\n",
      "[[105   0]\n",
      " [  1  11]]\n",
      "Confusion matrix, without normalization\n",
      "[[10  0]\n",
      " [ 3  0]]\n",
      "Fold 3\t 88.9%\t | 99.1% | 84.6%\n",
      "Confusion matrix, without normalization\n",
      "[[104   0]\n",
      " [  1  12]]\n",
      "Confusion matrix, without normalization\n",
      "[[11  0]\n",
      " [ 2  0]]\n",
      "Fold 4\t 88.0%\t | 99.1% | 92.3%\n",
      "Confusion matrix, without normalization\n",
      "[[103   0]\n",
      " [  1  13]]\n",
      "Confusion matrix, without normalization\n",
      "[[12  0]\n",
      " [ 1  0]]\n",
      "Fold 5\t 88.0%\t | 99.1% | 92.3%\n",
      "Confusion matrix, without normalization\n",
      "[[103   0]\n",
      " [  1  13]]\n",
      "Confusion matrix, without normalization\n",
      "[[12  0]\n",
      " [ 1  0]]\n",
      "Fold 6\t 88.0%\t | 99.1% | 92.3%\n",
      "Confusion matrix, without normalization\n",
      "[[103   0]\n",
      " [  1  13]]\n",
      "Confusion matrix, without normalization\n",
      "[[12  0]\n",
      " [ 1  0]]\n",
      "Fold 7\t 88.9%\t | 99.1% | 76.9%\n",
      "Confusion matrix, without normalization\n",
      "[[104   0]\n",
      " [  1  12]]\n",
      "Confusion matrix, without normalization\n",
      "[[10  1]\n",
      " [ 2  0]]\n"
     ]
    },
    {
     "name": "stderr",
     "output_type": "stream",
     "text": [
      "/Users/hundredball/anaconda3/envs/Math24_new/lib/python3.7/site-packages/sklearn/metrics/_classification.py:1221: UndefinedMetricWarning: Recall is ill-defined and being set to 0.0 due to no true samples. Use `zero_division` parameter to control this behavior.\n",
      "  _warn_prf(average, modifier, msg_start, len(result))\n"
     ]
    },
    {
     "name": "stdout",
     "output_type": "stream",
     "text": [
      "Fold 8\t 87.2%\t | 99.1% | 92.3%\n",
      "Confusion matrix, without normalization\n",
      "[[102   0]\n",
      " [  1  14]]\n",
      "Confusion matrix, without normalization\n",
      "[[12  1]\n",
      " [ 0  0]]\n",
      "Fold 9\t 89.7%\t | 99.1% | 76.9%\n",
      "Confusion matrix, without normalization\n",
      "[[105   0]\n",
      " [  1  11]]\n",
      "Confusion matrix, without normalization\n",
      "[[10  0]\n",
      " [ 3  0]]\n",
      "Average val acc: 86.2%\n",
      "Sub  \t Chance\t | Train | Val\n",
      "Sub 1\t 88.0%\t | 99.2% | 100.0%\n",
      "Confusion matrix, without normalization\n",
      "[[110   0]\n",
      " [  1  14]]\n",
      "Confusion matrix, without normalization\n",
      "[[5]]\n",
      "Sub 2\t 88.4%\t | 99.2% | 100.0%\n",
      "Confusion matrix, without normalization\n",
      "[[114   0]\n",
      " [  1  14]]\n",
      "Confusion matrix, without normalization\n",
      "[[1]]\n",
      "Sub 3\t 87.9%\t | 99.2% | 100.0%\n",
      "Confusion matrix, without normalization\n",
      "[[109   0]\n",
      " [  1  14]]\n",
      "Confusion matrix, without normalization\n",
      "[[6]]\n",
      "Sub 4\t 87.9%\t | 99.2% | 83.3%\n",
      "Confusion matrix, without normalization\n",
      "[[109   0]\n",
      " [  1  14]]\n",
      "Confusion matrix, without normalization\n",
      "[[5 1]\n",
      " [0 0]]\n",
      "Sub 5\t 88.7%\t | 99.2% | 83.3%\n",
      "Confusion matrix, without normalization\n",
      "[[110   0]\n",
      " [  1  13]]\n",
      "Confusion matrix, without normalization\n",
      "[[5 0]\n",
      " [1 0]]\n",
      "Sub 6\t 88.0%\t | 99.2% | 100.0%\n",
      "Confusion matrix, without normalization\n",
      "[[110   0]\n",
      " [  1  14]]\n",
      "Confusion matrix, without normalization\n",
      "[[5]]\n",
      "Sub 7\t 88.8%\t | 99.2% | 80.0%\n",
      "Confusion matrix, without normalization\n",
      "[[111   0]\n",
      " [  1  13]]\n",
      "Confusion matrix, without normalization\n",
      "[[4 0]\n",
      " [1 0]]\n",
      "Sub 8\t 88.1%\t | 99.2% | 75.0%\n",
      "Confusion matrix, without normalization\n",
      "[[111   0]\n",
      " [  1  14]]\n",
      "Confusion matrix, without normalization\n",
      "[[3 1]\n",
      " [0 0]]\n",
      "Sub 9\t 88.3%\t | 99.2% | 100.0%\n",
      "Confusion matrix, without normalization\n",
      "[[113   0]\n",
      " [  1  14]]\n",
      "Confusion matrix, without normalization\n",
      "[[2]]\n",
      "Sub 10\t 89.0%\t | 99.2% | 66.7%\n",
      "Confusion matrix, without normalization\n",
      "[[113   0]\n",
      " [  1  13]]\n",
      "Confusion matrix, without normalization\n",
      "[[2 0]\n",
      " [1 0]]\n",
      "Sub 11\t 88.7%\t | 99.2% | 83.3%\n",
      "Confusion matrix, without normalization\n",
      "[[110   0]\n",
      " [  1  13]]\n",
      "Confusion matrix, without normalization\n",
      "[[5 0]\n",
      " [1 0]]\n",
      "Sub 12\t 89.5%\t | 99.2% | 66.7%\n",
      "Confusion matrix, without normalization\n",
      "[[111   0]\n",
      " [  1  12]]\n",
      "Confusion matrix, without normalization\n",
      "[[4 0]\n",
      " [2 0]]\n",
      "Sub 13\t 88.8%\t | 99.2% | 80.0%\n",
      "Confusion matrix, without normalization\n",
      "[[111   0]\n",
      " [  1  13]]\n",
      "Confusion matrix, without normalization\n",
      "[[4 0]\n",
      " [1 0]]\n",
      "Sub 14\t 89.1%\t | 99.2% | 50.0%\n",
      "Confusion matrix, without normalization\n",
      "[[114   0]\n",
      " [  1  13]]\n",
      "Confusion matrix, without normalization\n",
      "[[1 0]\n",
      " [1 0]]\n",
      "Sub 16\t 88.4%\t | 99.2% | 100.0%\n",
      "Confusion matrix, without normalization\n",
      "[[114   0]\n",
      " [  1  14]]\n",
      "Confusion matrix, without normalization\n",
      "[[1]]\n",
      "Sub 17\t 89.0%\t | 99.2% | 33.3%\n",
      "Confusion matrix, without normalization\n",
      "[[113   0]\n",
      " [  1  13]]\n",
      "Confusion matrix, without normalization\n",
      "[[1 1]\n",
      " [1 0]]\n",
      "Sub 18\t 88.9%\t | 99.2% | 25.0%\n",
      "Confusion matrix, without normalization\n",
      "[[112   0]\n",
      " [  1  13]]\n",
      "Confusion matrix, without normalization\n",
      "[[1 2]\n",
      " [1 0]]\n",
      "Sub 19\t 89.6%\t | 99.2% | 60.0%\n",
      "Confusion matrix, without normalization\n",
      "[[112   0]\n",
      " [  1  12]]\n",
      "Confusion matrix, without normalization\n",
      "[[3 0]\n",
      " [2 0]]\n",
      "Sub 20\t 87.3%\t | 98.3% | 100.0%\n",
      "Confusion matrix, without normalization\n",
      "[[103   0]\n",
      " [  2  13]]\n",
      "Confusion matrix, without normalization\n",
      "[[12]]\n",
      "Sub 21\t 87.6%\t | 99.2% | 100.0%\n",
      "Confusion matrix, without normalization\n",
      "[[106   0]\n",
      " [  1  14]]\n",
      "Confusion matrix, without normalization\n",
      "[[9]]\n",
      "Sub 22\t 87.5%\t | 99.2% | 100.0%\n",
      "Confusion matrix, without normalization\n",
      "[[105   0]\n",
      " [  1  14]]\n",
      "Confusion matrix, without normalization\n",
      "[[10]]\n",
      "Sub 23\t 88.8%\t | 99.2% | 80.0%\n",
      "Confusion matrix, without normalization\n",
      "[[111   0]\n",
      " [  1  13]]\n",
      "Confusion matrix, without normalization\n",
      "[[4 0]\n",
      " [1 0]]\n",
      "Sub 24\t 88.7%\t | 99.2% | 83.3%\n",
      "Confusion matrix, without normalization\n",
      "[[110   0]\n",
      " [  1  13]]\n",
      "Confusion matrix, without normalization\n",
      "[[5 0]\n",
      " [1 0]]\n",
      "Sub 25\t 87.9%\t | 99.2% | 100.0%\n",
      "Confusion matrix, without normalization\n",
      "[[109   0]\n",
      " [  1  14]]\n",
      "Confusion matrix, without normalization\n",
      "[[6]]\n",
      "Sub 26\t 88.6%\t | 99.2% | 71.4%\n",
      "Confusion matrix, without normalization\n",
      "[[109   0]\n",
      " [  1  13]]\n",
      "Confusion matrix, without normalization\n",
      "[[5 1]\n",
      " [1 0]]\n",
      "Average val acc: 83.8%\n",
      "Sub  \t Chance\t | Train | Val\n",
      "Fold 0\t 50.0%\t | 100.0% | 84.6%\n",
      "Confusion matrix, without normalization\n",
      "[[103   0]\n",
      " [  0 103]]\n",
      "Confusion matrix, without normalization\n",
      "[[10  2]\n",
      " [ 0  1]]\n",
      "Fold 1\t 50.0%\t | 99.5% | 69.2%\n",
      "Confusion matrix, without normalization\n",
      "[[103   0]\n",
      " [  1 102]]\n",
      "Confusion matrix, without normalization\n",
      "[[9 3]\n",
      " [1 0]]\n",
      "Fold 2\t 50.0%\t | 100.0% | 61.5%\n",
      "Confusion matrix, without normalization\n",
      "[[105   0]\n",
      " [  0 105]]\n",
      "Confusion matrix, without normalization\n",
      "[[8 2]\n",
      " [3 0]]\n",
      "Fold 3\t 50.0%\t | 100.0% | 84.6%\n",
      "Confusion matrix, without normalization\n",
      "[[104   0]\n",
      " [  0 104]]\n",
      "Confusion matrix, without normalization\n",
      "[[10  1]\n",
      " [ 1  1]]\n"
     ]
    },
    {
     "name": "stderr",
     "output_type": "stream",
     "text": [
      "/Users/hundredball/anaconda3/envs/Math24_new/lib/python3.7/site-packages/sklearn/metrics/_classification.py:1221: UndefinedMetricWarning: Precision is ill-defined and being set to 0.0 due to no predicted samples. Use `zero_division` parameter to control this behavior.\n",
      "  _warn_prf(average, modifier, msg_start, len(result))\n"
     ]
    },
    {
     "name": "stdout",
     "output_type": "stream",
     "text": [
      "Fold 4\t 50.0%\t | 100.0% | 92.3%\n",
      "Confusion matrix, without normalization\n",
      "[[103   0]\n",
      " [  0 103]]\n",
      "Confusion matrix, without normalization\n",
      "[[12  0]\n",
      " [ 1  0]]\n",
      "Fold 5\t 50.0%\t | 100.0% | 92.3%\n",
      "Confusion matrix, without normalization\n",
      "[[103   0]\n",
      " [  0 103]]\n",
      "Confusion matrix, without normalization\n",
      "[[11  1]\n",
      " [ 0  1]]\n",
      "Fold 6\t 50.0%\t | 100.0% | 76.9%\n",
      "Confusion matrix, without normalization\n",
      "[[103   0]\n",
      " [  0 103]]\n",
      "Confusion matrix, without normalization\n",
      "[[10  2]\n",
      " [ 1  0]]\n",
      "Fold 7\t 50.0%\t | 100.0% | 76.9%\n",
      "Confusion matrix, without normalization\n",
      "[[104   0]\n",
      " [  0 104]]\n",
      "Confusion matrix, without normalization\n",
      "[[10  1]\n",
      " [ 2  0]]\n"
     ]
    },
    {
     "name": "stderr",
     "output_type": "stream",
     "text": [
      "/Users/hundredball/anaconda3/envs/Math24_new/lib/python3.7/site-packages/sklearn/metrics/_classification.py:1221: UndefinedMetricWarning: Recall is ill-defined and being set to 0.0 due to no true samples. Use `zero_division` parameter to control this behavior.\n",
      "  _warn_prf(average, modifier, msg_start, len(result))\n"
     ]
    },
    {
     "name": "stdout",
     "output_type": "stream",
     "text": [
      "Fold 8\t 50.0%\t | 100.0% | 84.6%\n",
      "Confusion matrix, without normalization\n",
      "[[102   0]\n",
      " [  0 102]]\n",
      "Confusion matrix, without normalization\n",
      "[[11  2]\n",
      " [ 0  0]]\n",
      "Fold 9\t 50.0%\t | 100.0% | 76.9%\n",
      "Confusion matrix, without normalization\n",
      "[[105   0]\n",
      " [  0 105]]\n",
      "Confusion matrix, without normalization\n",
      "[[9 1]\n",
      " [2 1]]\n",
      "Average val acc: 80.0%\n",
      "Sub  \t Chance\t | Train | Val\n"
     ]
    },
    {
     "name": "stderr",
     "output_type": "stream",
     "text": [
      "/Users/hundredball/anaconda3/envs/Math24_new/lib/python3.7/site-packages/sklearn/metrics/_classification.py:1221: UndefinedMetricWarning: Recall is ill-defined and being set to 0.0 due to no true samples. Use `zero_division` parameter to control this behavior.\n",
      "  _warn_prf(average, modifier, msg_start, len(result))\n",
      "/Users/hundredball/anaconda3/envs/Math24_new/lib/python3.7/site-packages/sklearn/metrics/_classification.py:1221: UndefinedMetricWarning: Precision is ill-defined and being set to 0.0 due to no predicted samples. Use `zero_division` parameter to control this behavior.\n",
      "  _warn_prf(average, modifier, msg_start, len(result))\n"
     ]
    },
    {
     "name": "stdout",
     "output_type": "stream",
     "text": [
      "Sub 1\t 50.0%\t | 100.0% | 100.0%\n",
      "Confusion matrix, without normalization\n",
      "[[110   0]\n",
      " [  0 110]]\n",
      "Confusion matrix, without normalization\n",
      "[[5]]\n"
     ]
    },
    {
     "name": "stderr",
     "output_type": "stream",
     "text": [
      "/Users/hundredball/anaconda3/envs/Math24_new/lib/python3.7/site-packages/sklearn/metrics/_classification.py:1221: UndefinedMetricWarning: Recall is ill-defined and being set to 0.0 due to no true samples. Use `zero_division` parameter to control this behavior.\n",
      "  _warn_prf(average, modifier, msg_start, len(result))\n",
      "/Users/hundredball/anaconda3/envs/Math24_new/lib/python3.7/site-packages/sklearn/metrics/_classification.py:1221: UndefinedMetricWarning: Precision is ill-defined and being set to 0.0 due to no predicted samples. Use `zero_division` parameter to control this behavior.\n",
      "  _warn_prf(average, modifier, msg_start, len(result))\n"
     ]
    },
    {
     "name": "stdout",
     "output_type": "stream",
     "text": [
      "Sub 2\t 50.0%\t | 100.0% | 100.0%\n",
      "Confusion matrix, without normalization\n",
      "[[114   0]\n",
      " [  0 114]]\n",
      "Confusion matrix, without normalization\n",
      "[[1]]\n"
     ]
    },
    {
     "name": "stderr",
     "output_type": "stream",
     "text": [
      "/Users/hundredball/anaconda3/envs/Math24_new/lib/python3.7/site-packages/sklearn/metrics/_classification.py:1221: UndefinedMetricWarning: Recall is ill-defined and being set to 0.0 due to no true samples. Use `zero_division` parameter to control this behavior.\n",
      "  _warn_prf(average, modifier, msg_start, len(result))\n",
      "/Users/hundredball/anaconda3/envs/Math24_new/lib/python3.7/site-packages/sklearn/metrics/_classification.py:1221: UndefinedMetricWarning: Precision is ill-defined and being set to 0.0 due to no predicted samples. Use `zero_division` parameter to control this behavior.\n",
      "  _warn_prf(average, modifier, msg_start, len(result))\n"
     ]
    },
    {
     "name": "stdout",
     "output_type": "stream",
     "text": [
      "Sub 3\t 50.0%\t | 100.0% | 100.0%\n",
      "Confusion matrix, without normalization\n",
      "[[109   0]\n",
      " [  0 109]]\n",
      "Confusion matrix, without normalization\n",
      "[[6]]\n"
     ]
    },
    {
     "name": "stderr",
     "output_type": "stream",
     "text": [
      "/Users/hundredball/anaconda3/envs/Math24_new/lib/python3.7/site-packages/sklearn/metrics/_classification.py:1221: UndefinedMetricWarning: Recall is ill-defined and being set to 0.0 due to no true samples. Use `zero_division` parameter to control this behavior.\n",
      "  _warn_prf(average, modifier, msg_start, len(result))\n"
     ]
    },
    {
     "name": "stdout",
     "output_type": "stream",
     "text": [
      "Sub 4\t 50.0%\t | 100.0% | 83.3%\n",
      "Confusion matrix, without normalization\n",
      "[[109   0]\n",
      " [  0 109]]\n",
      "Confusion matrix, without normalization\n",
      "[[5 1]\n",
      " [0 0]]\n"
     ]
    },
    {
     "name": "stderr",
     "output_type": "stream",
     "text": [
      "/Users/hundredball/anaconda3/envs/Math24_new/lib/python3.7/site-packages/sklearn/metrics/_classification.py:1221: UndefinedMetricWarning: Precision is ill-defined and being set to 0.0 due to no predicted samples. Use `zero_division` parameter to control this behavior.\n",
      "  _warn_prf(average, modifier, msg_start, len(result))\n"
     ]
    },
    {
     "name": "stdout",
     "output_type": "stream",
     "text": [
      "Sub 5\t 50.0%\t | 100.0% | 83.3%\n",
      "Confusion matrix, without normalization\n",
      "[[110   0]\n",
      " [  0 110]]\n",
      "Confusion matrix, without normalization\n",
      "[[5 0]\n",
      " [1 0]]\n"
     ]
    },
    {
     "name": "stderr",
     "output_type": "stream",
     "text": [
      "/Users/hundredball/anaconda3/envs/Math24_new/lib/python3.7/site-packages/sklearn/metrics/_classification.py:1221: UndefinedMetricWarning: Recall is ill-defined and being set to 0.0 due to no true samples. Use `zero_division` parameter to control this behavior.\n",
      "  _warn_prf(average, modifier, msg_start, len(result))\n"
     ]
    },
    {
     "name": "stdout",
     "output_type": "stream",
     "text": [
      "Sub 6\t 50.0%\t | 100.0% | 40.0%\n",
      "Confusion matrix, without normalization\n",
      "[[110   0]\n",
      " [  0 110]]\n",
      "Confusion matrix, without normalization\n",
      "[[2 3]\n",
      " [0 0]]\n"
     ]
    },
    {
     "name": "stderr",
     "output_type": "stream",
     "text": [
      "/Users/hundredball/anaconda3/envs/Math24_new/lib/python3.7/site-packages/sklearn/metrics/_classification.py:1221: UndefinedMetricWarning: Precision is ill-defined and being set to 0.0 due to no predicted samples. Use `zero_division` parameter to control this behavior.\n",
      "  _warn_prf(average, modifier, msg_start, len(result))\n"
     ]
    },
    {
     "name": "stdout",
     "output_type": "stream",
     "text": [
      "Sub 7\t 50.0%\t | 100.0% | 80.0%\n",
      "Confusion matrix, without normalization\n",
      "[[111   0]\n",
      " [  0 111]]\n",
      "Confusion matrix, without normalization\n",
      "[[4 0]\n",
      " [1 0]]\n"
     ]
    },
    {
     "name": "stderr",
     "output_type": "stream",
     "text": [
      "/Users/hundredball/anaconda3/envs/Math24_new/lib/python3.7/site-packages/sklearn/metrics/_classification.py:1221: UndefinedMetricWarning: Recall is ill-defined and being set to 0.0 due to no true samples. Use `zero_division` parameter to control this behavior.\n",
      "  _warn_prf(average, modifier, msg_start, len(result))\n"
     ]
    },
    {
     "name": "stdout",
     "output_type": "stream",
     "text": [
      "Sub 8\t 50.0%\t | 100.0% | 0.0%\n",
      "Confusion matrix, without normalization\n",
      "[[111   0]\n",
      " [  0 111]]\n",
      "Confusion matrix, without normalization\n",
      "[[0 4]\n",
      " [0 0]]\n"
     ]
    },
    {
     "name": "stderr",
     "output_type": "stream",
     "text": [
      "/Users/hundredball/anaconda3/envs/Math24_new/lib/python3.7/site-packages/sklearn/metrics/_classification.py:1221: UndefinedMetricWarning: Recall is ill-defined and being set to 0.0 due to no true samples. Use `zero_division` parameter to control this behavior.\n",
      "  _warn_prf(average, modifier, msg_start, len(result))\n"
     ]
    },
    {
     "name": "stdout",
     "output_type": "stream",
     "text": [
      "Sub 9\t 50.0%\t | 100.0% | 50.0%\n",
      "Confusion matrix, without normalization\n",
      "[[113   0]\n",
      " [  0 113]]\n",
      "Confusion matrix, without normalization\n",
      "[[1 1]\n",
      " [0 0]]\n"
     ]
    },
    {
     "name": "stderr",
     "output_type": "stream",
     "text": [
      "/Users/hundredball/anaconda3/envs/Math24_new/lib/python3.7/site-packages/sklearn/metrics/_classification.py:1221: UndefinedMetricWarning: Precision is ill-defined and being set to 0.0 due to no predicted samples. Use `zero_division` parameter to control this behavior.\n",
      "  _warn_prf(average, modifier, msg_start, len(result))\n"
     ]
    },
    {
     "name": "stdout",
     "output_type": "stream",
     "text": [
      "Sub 10\t 50.0%\t | 100.0% | 66.7%\n",
      "Confusion matrix, without normalization\n",
      "[[113   0]\n",
      " [  0 113]]\n",
      "Confusion matrix, without normalization\n",
      "[[2 0]\n",
      " [1 0]]\n",
      "Sub 11\t 50.0%\t | 100.0% | 33.3%\n",
      "Confusion matrix, without normalization\n",
      "[[110   0]\n",
      " [  0 110]]\n",
      "Confusion matrix, without normalization\n",
      "[[1 4]\n",
      " [0 1]]\n"
     ]
    },
    {
     "name": "stderr",
     "output_type": "stream",
     "text": [
      "/Users/hundredball/anaconda3/envs/Math24_new/lib/python3.7/site-packages/sklearn/metrics/_classification.py:1221: UndefinedMetricWarning: Precision is ill-defined and being set to 0.0 due to no predicted samples. Use `zero_division` parameter to control this behavior.\n",
      "  _warn_prf(average, modifier, msg_start, len(result))\n"
     ]
    },
    {
     "name": "stdout",
     "output_type": "stream",
     "text": [
      "Sub 12\t 50.0%\t | 100.0% | 66.7%\n",
      "Confusion matrix, without normalization\n",
      "[[111   0]\n",
      " [  0 111]]\n",
      "Confusion matrix, without normalization\n",
      "[[4 0]\n",
      " [2 0]]\n"
     ]
    },
    {
     "name": "stderr",
     "output_type": "stream",
     "text": [
      "/Users/hundredball/anaconda3/envs/Math24_new/lib/python3.7/site-packages/sklearn/metrics/_classification.py:1221: UndefinedMetricWarning: Precision is ill-defined and being set to 0.0 due to no predicted samples. Use `zero_division` parameter to control this behavior.\n",
      "  _warn_prf(average, modifier, msg_start, len(result))\n"
     ]
    },
    {
     "name": "stdout",
     "output_type": "stream",
     "text": [
      "Sub 13\t 50.0%\t | 100.0% | 80.0%\n",
      "Confusion matrix, without normalization\n",
      "[[111   0]\n",
      " [  0 111]]\n",
      "Confusion matrix, without normalization\n",
      "[[4 0]\n",
      " [1 0]]\n",
      "Sub 14\t 50.0%\t | 100.0% | 0.0%\n",
      "Confusion matrix, without normalization\n",
      "[[114   0]\n",
      " [  0 114]]\n",
      "Confusion matrix, without normalization\n",
      "[[0 1]\n",
      " [1 0]]\n"
     ]
    },
    {
     "name": "stderr",
     "output_type": "stream",
     "text": [
      "/Users/hundredball/anaconda3/envs/Math24_new/lib/python3.7/site-packages/sklearn/metrics/_classification.py:1221: UndefinedMetricWarning: Recall is ill-defined and being set to 0.0 due to no true samples. Use `zero_division` parameter to control this behavior.\n",
      "  _warn_prf(average, modifier, msg_start, len(result))\n",
      "/Users/hundredball/anaconda3/envs/Math24_new/lib/python3.7/site-packages/sklearn/metrics/_classification.py:1221: UndefinedMetricWarning: Precision is ill-defined and being set to 0.0 due to no predicted samples. Use `zero_division` parameter to control this behavior.\n",
      "  _warn_prf(average, modifier, msg_start, len(result))\n"
     ]
    },
    {
     "name": "stdout",
     "output_type": "stream",
     "text": [
      "Sub 16\t 50.0%\t | 100.0% | 100.0%\n",
      "Confusion matrix, without normalization\n",
      "[[114   0]\n",
      " [  0 114]]\n",
      "Confusion matrix, without normalization\n",
      "[[1]]\n",
      "Sub 17\t 50.0%\t | 100.0% | 33.3%\n",
      "Confusion matrix, without normalization\n",
      "[[113   0]\n",
      " [  0 113]]\n",
      "Confusion matrix, without normalization\n",
      "[[0 2]\n",
      " [0 1]]\n",
      "Sub 18\t 50.0%\t | 100.0% | 25.0%\n",
      "Confusion matrix, without normalization\n",
      "[[112   0]\n",
      " [  0 112]]\n",
      "Confusion matrix, without normalization\n",
      "[[1 2]\n",
      " [1 0]]\n"
     ]
    },
    {
     "name": "stderr",
     "output_type": "stream",
     "text": [
      "/Users/hundredball/anaconda3/envs/Math24_new/lib/python3.7/site-packages/sklearn/metrics/_classification.py:1221: UndefinedMetricWarning: Precision is ill-defined and being set to 0.0 due to no predicted samples. Use `zero_division` parameter to control this behavior.\n",
      "  _warn_prf(average, modifier, msg_start, len(result))\n"
     ]
    },
    {
     "name": "stdout",
     "output_type": "stream",
     "text": [
      "Sub 19\t 50.0%\t | 100.0% | 60.0%\n",
      "Confusion matrix, without normalization\n",
      "[[112   0]\n",
      " [  0 112]]\n",
      "Confusion matrix, without normalization\n",
      "[[3 0]\n",
      " [2 0]]\n"
     ]
    },
    {
     "name": "stderr",
     "output_type": "stream",
     "text": [
      "/Users/hundredball/anaconda3/envs/Math24_new/lib/python3.7/site-packages/sklearn/metrics/_classification.py:1221: UndefinedMetricWarning: Recall is ill-defined and being set to 0.0 due to no true samples. Use `zero_division` parameter to control this behavior.\n",
      "  _warn_prf(average, modifier, msg_start, len(result))\n"
     ]
    },
    {
     "name": "stdout",
     "output_type": "stream",
     "text": [
      "Sub 20\t 50.0%\t | 99.5% | 50.0%\n",
      "Confusion matrix, without normalization\n",
      "[[102   1]\n",
      " [  0 103]]\n",
      "Confusion matrix, without normalization\n",
      "[[6 6]\n",
      " [0 0]]\n"
     ]
    },
    {
     "name": "stderr",
     "output_type": "stream",
     "text": [
      "/Users/hundredball/anaconda3/envs/Math24_new/lib/python3.7/site-packages/sklearn/metrics/_classification.py:1221: UndefinedMetricWarning: Recall is ill-defined and being set to 0.0 due to no true samples. Use `zero_division` parameter to control this behavior.\n",
      "  _warn_prf(average, modifier, msg_start, len(result))\n"
     ]
    },
    {
     "name": "stdout",
     "output_type": "stream",
     "text": [
      "Sub 21\t 50.0%\t | 100.0% | 88.9%\n",
      "Confusion matrix, without normalization\n",
      "[[106   0]\n",
      " [  0 106]]\n",
      "Confusion matrix, without normalization\n",
      "[[8 1]\n",
      " [0 0]]\n"
     ]
    },
    {
     "name": "stderr",
     "output_type": "stream",
     "text": [
      "/Users/hundredball/anaconda3/envs/Math24_new/lib/python3.7/site-packages/sklearn/metrics/_classification.py:1221: UndefinedMetricWarning: Recall is ill-defined and being set to 0.0 due to no true samples. Use `zero_division` parameter to control this behavior.\n",
      "  _warn_prf(average, modifier, msg_start, len(result))\n",
      "/Users/hundredball/anaconda3/envs/Math24_new/lib/python3.7/site-packages/sklearn/metrics/_classification.py:1221: UndefinedMetricWarning: Precision is ill-defined and being set to 0.0 due to no predicted samples. Use `zero_division` parameter to control this behavior.\n",
      "  _warn_prf(average, modifier, msg_start, len(result))\n"
     ]
    },
    {
     "name": "stdout",
     "output_type": "stream",
     "text": [
      "Sub 22\t 50.0%\t | 100.0% | 100.0%\n",
      "Confusion matrix, without normalization\n",
      "[[105   0]\n",
      " [  0 105]]\n",
      "Confusion matrix, without normalization\n",
      "[[10]]\n",
      "Sub 23\t 50.0%\t | 100.0% | 100.0%\n",
      "Confusion matrix, without normalization\n",
      "[[111   0]\n",
      " [  0 111]]\n",
      "Confusion matrix, without normalization\n",
      "[[4 0]\n",
      " [0 1]]\n",
      "Sub 24\t 50.0%\t | 100.0% | 100.0%\n",
      "Confusion matrix, without normalization\n",
      "[[110   0]\n",
      " [  0 110]]\n",
      "Confusion matrix, without normalization\n",
      "[[5 0]\n",
      " [0 1]]\n"
     ]
    },
    {
     "name": "stderr",
     "output_type": "stream",
     "text": [
      "/Users/hundredball/anaconda3/envs/Math24_new/lib/python3.7/site-packages/sklearn/metrics/_classification.py:1221: UndefinedMetricWarning: Recall is ill-defined and being set to 0.0 due to no true samples. Use `zero_division` parameter to control this behavior.\n",
      "  _warn_prf(average, modifier, msg_start, len(result))\n"
     ]
    },
    {
     "name": "stdout",
     "output_type": "stream",
     "text": [
      "Sub 25\t 50.0%\t | 100.0% | 83.3%\n",
      "Confusion matrix, without normalization\n",
      "[[109   0]\n",
      " [  0 109]]\n",
      "Confusion matrix, without normalization\n",
      "[[5 1]\n",
      " [0 0]]\n",
      "Sub 26\t 50.0%\t | 100.0% | 71.4%\n",
      "Confusion matrix, without normalization\n",
      "[[109   0]\n",
      " [  0 109]]\n",
      "Confusion matrix, without normalization\n",
      "[[4 2]\n",
      " [0 1]]\n",
      "Average val acc: 70.8%\n",
      "Load data from .mat files...\n"
     ]
    },
    {
     "name": "stderr",
     "output_type": "stream",
     "text": [
      "/Users/hundredball/anaconda3/envs/Math24_new/lib/python3.7/site-packages/pandas/core/dtypes/missing.py:495: VisibleDeprecationWarning: Creating an ndarray from ragged nested sequences (which is a list-or-tuple of lists-or-tuples-or ndarrays with different lengths or shapes) is deprecated. If you meant to do this, you must specify 'dtype=object' when creating the ndarray\n",
      "  val = np.array(val, copy=False)\n",
      "/Users/hundredball/anaconda3/envs/Math24_new/lib/python3.7/site-packages/numpy/core/_asarray.py:83: VisibleDeprecationWarning: Creating an ndarray from ragged nested sequences (which is a list-or-tuple of lists-or-tuples-or ndarrays with different lengths or shapes) is deprecated. If you meant to do this, you must specify 'dtype=object' when creating the ndarray\n",
      "  return array(a, dtype, copy=False, order=order)\n"
     ]
    },
    {
     "name": "stdout",
     "output_type": "stream",
     "text": [
      "Calculating the bandpower of time-series data...\n",
      "freqs:  [0.000e+00 2.000e-01 4.000e-01 ... 4.996e+02 4.998e+02 5.000e+02]\n",
      "Sub  \t Chance\t | Train | Val\n"
     ]
    },
    {
     "name": "stderr",
     "output_type": "stream",
     "text": [
      "/Users/hundredball/anaconda3/envs/Math24_new/lib/python3.7/site-packages/sklearn/metrics/_classification.py:1221: UndefinedMetricWarning: Precision is ill-defined and being set to 0.0 due to no predicted samples. Use `zero_division` parameter to control this behavior.\n",
      "  _warn_prf(average, modifier, msg_start, len(result))\n"
     ]
    },
    {
     "name": "stdout",
     "output_type": "stream",
     "text": [
      "Fold 0\t 88.9%\t | 88.9% | 84.6%\n",
      "Confusion matrix, without normalization\n",
      "[[104   0]\n",
      " [ 13   0]]\n",
      "Confusion matrix, without normalization\n",
      "[[11  0]\n",
      " [ 2  0]]\n"
     ]
    },
    {
     "name": "stderr",
     "output_type": "stream",
     "text": [
      "/Users/hundredball/anaconda3/envs/Math24_new/lib/python3.7/site-packages/sklearn/metrics/_classification.py:1221: UndefinedMetricWarning: Precision is ill-defined and being set to 0.0 due to no predicted samples. Use `zero_division` parameter to control this behavior.\n",
      "  _warn_prf(average, modifier, msg_start, len(result))\n"
     ]
    },
    {
     "name": "stdout",
     "output_type": "stream",
     "text": [
      "Fold 1\t 88.0%\t | 88.0% | 92.3%\n",
      "Confusion matrix, without normalization\n",
      "[[103   0]\n",
      " [ 14   0]]\n",
      "Confusion matrix, without normalization\n",
      "[[12  0]\n",
      " [ 1  0]]\n"
     ]
    },
    {
     "name": "stderr",
     "output_type": "stream",
     "text": [
      "/Users/hundredball/anaconda3/envs/Math24_new/lib/python3.7/site-packages/sklearn/metrics/_classification.py:1221: UndefinedMetricWarning: Precision is ill-defined and being set to 0.0 due to no predicted samples. Use `zero_division` parameter to control this behavior.\n",
      "  _warn_prf(average, modifier, msg_start, len(result))\n"
     ]
    },
    {
     "name": "stdout",
     "output_type": "stream",
     "text": [
      "Fold 2\t 88.9%\t | 88.9% | 84.6%\n",
      "Confusion matrix, without normalization\n",
      "[[104   0]\n",
      " [ 13   0]]\n",
      "Confusion matrix, without normalization\n",
      "[[11  0]\n",
      " [ 2  0]]\n"
     ]
    },
    {
     "name": "stderr",
     "output_type": "stream",
     "text": [
      "/Users/hundredball/anaconda3/envs/Math24_new/lib/python3.7/site-packages/sklearn/metrics/_classification.py:1221: UndefinedMetricWarning: Recall is ill-defined and being set to 0.0 due to no true samples. Use `zero_division` parameter to control this behavior.\n",
      "  _warn_prf(average, modifier, msg_start, len(result))\n",
      "/Users/hundredball/anaconda3/envs/Math24_new/lib/python3.7/site-packages/sklearn/metrics/_classification.py:1221: UndefinedMetricWarning: Precision is ill-defined and being set to 0.0 due to no predicted samples. Use `zero_division` parameter to control this behavior.\n",
      "  _warn_prf(average, modifier, msg_start, len(result))\n"
     ]
    },
    {
     "name": "stdout",
     "output_type": "stream",
     "text": [
      "Fold 3\t 87.2%\t | 87.2% | 100.0%\n",
      "Confusion matrix, without normalization\n",
      "[[102   0]\n",
      " [ 15   0]]\n",
      "Confusion matrix, without normalization\n",
      "[[13]]\n"
     ]
    },
    {
     "name": "stderr",
     "output_type": "stream",
     "text": [
      "/Users/hundredball/anaconda3/envs/Math24_new/lib/python3.7/site-packages/sklearn/metrics/_classification.py:1221: UndefinedMetricWarning: Precision is ill-defined and being set to 0.0 due to no predicted samples. Use `zero_division` parameter to control this behavior.\n",
      "  _warn_prf(average, modifier, msg_start, len(result))\n"
     ]
    },
    {
     "name": "stdout",
     "output_type": "stream",
     "text": [
      "Fold 4\t 90.6%\t | 90.6% | 69.2%\n",
      "Confusion matrix, without normalization\n",
      "[[106   0]\n",
      " [ 11   0]]\n",
      "Confusion matrix, without normalization\n",
      "[[9 0]\n",
      " [4 0]]\n"
     ]
    },
    {
     "name": "stderr",
     "output_type": "stream",
     "text": [
      "/Users/hundredball/anaconda3/envs/Math24_new/lib/python3.7/site-packages/sklearn/metrics/_classification.py:1221: UndefinedMetricWarning: Precision is ill-defined and being set to 0.0 due to no predicted samples. Use `zero_division` parameter to control this behavior.\n",
      "  _warn_prf(average, modifier, msg_start, len(result))\n"
     ]
    },
    {
     "name": "stdout",
     "output_type": "stream",
     "text": [
      "Fold 5\t 88.0%\t | 88.0% | 92.3%\n",
      "Confusion matrix, without normalization\n",
      "[[103   0]\n",
      " [ 14   0]]\n",
      "Confusion matrix, without normalization\n",
      "[[12  0]\n",
      " [ 1  0]]\n",
      "Fold 6\t 87.2%\t | 87.2% | 100.0%\n",
      "Confusion matrix, without normalization\n",
      "[[102   0]\n",
      " [ 15   0]]\n"
     ]
    },
    {
     "name": "stderr",
     "output_type": "stream",
     "text": [
      "/Users/hundredball/anaconda3/envs/Math24_new/lib/python3.7/site-packages/sklearn/metrics/_classification.py:1221: UndefinedMetricWarning: Recall is ill-defined and being set to 0.0 due to no true samples. Use `zero_division` parameter to control this behavior.\n",
      "  _warn_prf(average, modifier, msg_start, len(result))\n",
      "/Users/hundredball/anaconda3/envs/Math24_new/lib/python3.7/site-packages/sklearn/metrics/_classification.py:1221: UndefinedMetricWarning: Precision is ill-defined and being set to 0.0 due to no predicted samples. Use `zero_division` parameter to control this behavior.\n",
      "  _warn_prf(average, modifier, msg_start, len(result))\n"
     ]
    },
    {
     "name": "stdout",
     "output_type": "stream",
     "text": [
      "Confusion matrix, without normalization\n",
      "[[13]]\n",
      "Fold 7\t 88.9%\t | 88.9% | 84.6%\n",
      "Confusion matrix, without normalization\n",
      "[[104   0]\n",
      " [ 13   0]]\n"
     ]
    },
    {
     "name": "stderr",
     "output_type": "stream",
     "text": [
      "/Users/hundredball/anaconda3/envs/Math24_new/lib/python3.7/site-packages/sklearn/metrics/_classification.py:1221: UndefinedMetricWarning: Precision is ill-defined and being set to 0.0 due to no predicted samples. Use `zero_division` parameter to control this behavior.\n",
      "  _warn_prf(average, modifier, msg_start, len(result))\n"
     ]
    },
    {
     "name": "stdout",
     "output_type": "stream",
     "text": [
      "Confusion matrix, without normalization\n",
      "[[11  0]\n",
      " [ 2  0]]\n",
      "Fold 8\t 88.9%\t | 88.9% | 84.6%\n",
      "Confusion matrix, without normalization\n",
      "[[104   0]\n",
      " [ 13   0]]\n"
     ]
    },
    {
     "name": "stderr",
     "output_type": "stream",
     "text": [
      "/Users/hundredball/anaconda3/envs/Math24_new/lib/python3.7/site-packages/sklearn/metrics/_classification.py:1221: UndefinedMetricWarning: Precision is ill-defined and being set to 0.0 due to no predicted samples. Use `zero_division` parameter to control this behavior.\n",
      "  _warn_prf(average, modifier, msg_start, len(result))\n"
     ]
    },
    {
     "name": "stdout",
     "output_type": "stream",
     "text": [
      "Confusion matrix, without normalization\n",
      "[[11  0]\n",
      " [ 2  0]]\n",
      "Fold 9\t 88.0%\t | 88.0% | 92.3%\n",
      "Confusion matrix, without normalization\n",
      "[[103   0]\n",
      " [ 14   0]]\n"
     ]
    },
    {
     "name": "stderr",
     "output_type": "stream",
     "text": [
      "/Users/hundredball/anaconda3/envs/Math24_new/lib/python3.7/site-packages/sklearn/metrics/_classification.py:1221: UndefinedMetricWarning: Precision is ill-defined and being set to 0.0 due to no predicted samples. Use `zero_division` parameter to control this behavior.\n",
      "  _warn_prf(average, modifier, msg_start, len(result))\n"
     ]
    },
    {
     "name": "stdout",
     "output_type": "stream",
     "text": [
      "Confusion matrix, without normalization\n",
      "[[12  0]\n",
      " [ 1  0]]\n",
      "Average val acc: 88.5%\n",
      "Sub  \t Chance\t | Train | Val\n",
      "Sub 1\t 92.0%\t | 92.0% | 0.0%\n",
      "Confusion matrix, without normalization\n",
      "[[115   0]\n",
      " [ 10   0]]\n",
      "Confusion matrix, without normalization\n",
      "[[0 0]\n",
      " [5 0]]\n"
     ]
    },
    {
     "name": "stderr",
     "output_type": "stream",
     "text": [
      "/Users/hundredball/anaconda3/envs/Math24_new/lib/python3.7/site-packages/sklearn/metrics/_classification.py:1221: UndefinedMetricWarning: Precision is ill-defined and being set to 0.0 due to no predicted samples. Use `zero_division` parameter to control this behavior.\n",
      "  _warn_prf(average, modifier, msg_start, len(result))\n",
      "/Users/hundredball/anaconda3/envs/Math24_new/lib/python3.7/site-packages/sklearn/metrics/_classification.py:1221: UndefinedMetricWarning: Recall is ill-defined and being set to 0.0 due to no true samples. Use `zero_division` parameter to control this behavior.\n",
      "  _warn_prf(average, modifier, msg_start, len(result))\n",
      "/Users/hundredball/anaconda3/envs/Math24_new/lib/python3.7/site-packages/sklearn/metrics/_classification.py:1221: UndefinedMetricWarning: Precision is ill-defined and being set to 0.0 due to no predicted samples. Use `zero_division` parameter to control this behavior.\n",
      "  _warn_prf(average, modifier, msg_start, len(result))\n"
     ]
    },
    {
     "name": "stdout",
     "output_type": "stream",
     "text": [
      "Sub 2\t 88.4%\t | 88.4% | 100.0%\n",
      "Confusion matrix, without normalization\n",
      "[[114   0]\n",
      " [ 15   0]]\n",
      "Confusion matrix, without normalization\n",
      "[[1]]\n"
     ]
    },
    {
     "name": "stderr",
     "output_type": "stream",
     "text": [
      "/Users/hundredball/anaconda3/envs/Math24_new/lib/python3.7/site-packages/sklearn/metrics/_classification.py:1221: UndefinedMetricWarning: Precision is ill-defined and being set to 0.0 due to no predicted samples. Use `zero_division` parameter to control this behavior.\n",
      "  _warn_prf(average, modifier, msg_start, len(result))\n"
     ]
    },
    {
     "name": "stdout",
     "output_type": "stream",
     "text": [
      "Sub 3\t 90.3%\t | 90.3% | 50.0%\n",
      "Confusion matrix, without normalization\n",
      "[[112   0]\n",
      " [ 12   0]]\n",
      "Confusion matrix, without normalization\n",
      "[[3 0]\n",
      " [3 0]]\n"
     ]
    },
    {
     "name": "stderr",
     "output_type": "stream",
     "text": [
      "/Users/hundredball/anaconda3/envs/Math24_new/lib/python3.7/site-packages/sklearn/metrics/_classification.py:1221: UndefinedMetricWarning: Recall is ill-defined and being set to 0.0 due to no true samples. Use `zero_division` parameter to control this behavior.\n",
      "  _warn_prf(average, modifier, msg_start, len(result))\n",
      "/Users/hundredball/anaconda3/envs/Math24_new/lib/python3.7/site-packages/sklearn/metrics/_classification.py:1221: UndefinedMetricWarning: Precision is ill-defined and being set to 0.0 due to no predicted samples. Use `zero_division` parameter to control this behavior.\n",
      "  _warn_prf(average, modifier, msg_start, len(result))\n"
     ]
    },
    {
     "name": "stdout",
     "output_type": "stream",
     "text": [
      "Sub 4\t 87.9%\t | 87.9% | 100.0%\n",
      "Confusion matrix, without normalization\n",
      "[[109   0]\n",
      " [ 15   0]]\n",
      "Confusion matrix, without normalization\n",
      "[[6]]\n"
     ]
    },
    {
     "name": "stderr",
     "output_type": "stream",
     "text": [
      "/Users/hundredball/anaconda3/envs/Math24_new/lib/python3.7/site-packages/sklearn/metrics/_classification.py:1221: UndefinedMetricWarning: Recall is ill-defined and being set to 0.0 due to no true samples. Use `zero_division` parameter to control this behavior.\n",
      "  _warn_prf(average, modifier, msg_start, len(result))\n",
      "/Users/hundredball/anaconda3/envs/Math24_new/lib/python3.7/site-packages/sklearn/metrics/_classification.py:1221: UndefinedMetricWarning: Precision is ill-defined and being set to 0.0 due to no predicted samples. Use `zero_division` parameter to control this behavior.\n",
      "  _warn_prf(average, modifier, msg_start, len(result))\n"
     ]
    },
    {
     "name": "stdout",
     "output_type": "stream",
     "text": [
      "Sub 5\t 87.9%\t | 87.9% | 100.0%\n",
      "Confusion matrix, without normalization\n",
      "[[109   0]\n",
      " [ 15   0]]\n",
      "Confusion matrix, without normalization\n",
      "[[6]]\n"
     ]
    },
    {
     "name": "stderr",
     "output_type": "stream",
     "text": [
      "/Users/hundredball/anaconda3/envs/Math24_new/lib/python3.7/site-packages/sklearn/metrics/_classification.py:1221: UndefinedMetricWarning: Recall is ill-defined and being set to 0.0 due to no true samples. Use `zero_division` parameter to control this behavior.\n",
      "  _warn_prf(average, modifier, msg_start, len(result))\n",
      "/Users/hundredball/anaconda3/envs/Math24_new/lib/python3.7/site-packages/sklearn/metrics/_classification.py:1221: UndefinedMetricWarning: Precision is ill-defined and being set to 0.0 due to no predicted samples. Use `zero_division` parameter to control this behavior.\n",
      "  _warn_prf(average, modifier, msg_start, len(result))\n"
     ]
    },
    {
     "name": "stdout",
     "output_type": "stream",
     "text": [
      "Sub 6\t 88.0%\t | 88.0% | 100.0%\n",
      "Confusion matrix, without normalization\n",
      "[[110   0]\n",
      " [ 15   0]]\n",
      "Confusion matrix, without normalization\n",
      "[[5]]\n",
      "Sub 7\t 88.0%\t | 88.0% | 100.0%\n",
      "Confusion matrix, without normalization\n",
      "[[110   0]\n",
      " [ 15   0]]\n"
     ]
    },
    {
     "name": "stderr",
     "output_type": "stream",
     "text": [
      "/Users/hundredball/anaconda3/envs/Math24_new/lib/python3.7/site-packages/sklearn/metrics/_classification.py:1221: UndefinedMetricWarning: Recall is ill-defined and being set to 0.0 due to no true samples. Use `zero_division` parameter to control this behavior.\n",
      "  _warn_prf(average, modifier, msg_start, len(result))\n",
      "/Users/hundredball/anaconda3/envs/Math24_new/lib/python3.7/site-packages/sklearn/metrics/_classification.py:1221: UndefinedMetricWarning: Precision is ill-defined and being set to 0.0 due to no predicted samples. Use `zero_division` parameter to control this behavior.\n",
      "  _warn_prf(average, modifier, msg_start, len(result))\n"
     ]
    },
    {
     "name": "stdout",
     "output_type": "stream",
     "text": [
      "Confusion matrix, without normalization\n",
      "[[5]]\n",
      "Sub 8\t 88.1%\t | 88.1% | 100.0%\n",
      "Confusion matrix, without normalization\n",
      "[[111   0]\n",
      " [ 15   0]]\n"
     ]
    },
    {
     "name": "stderr",
     "output_type": "stream",
     "text": [
      "/Users/hundredball/anaconda3/envs/Math24_new/lib/python3.7/site-packages/sklearn/metrics/_classification.py:1221: UndefinedMetricWarning: Recall is ill-defined and being set to 0.0 due to no true samples. Use `zero_division` parameter to control this behavior.\n",
      "  _warn_prf(average, modifier, msg_start, len(result))\n",
      "/Users/hundredball/anaconda3/envs/Math24_new/lib/python3.7/site-packages/sklearn/metrics/_classification.py:1221: UndefinedMetricWarning: Precision is ill-defined and being set to 0.0 due to no predicted samples. Use `zero_division` parameter to control this behavior.\n",
      "  _warn_prf(average, modifier, msg_start, len(result))\n"
     ]
    },
    {
     "name": "stdout",
     "output_type": "stream",
     "text": [
      "Confusion matrix, without normalization\n",
      "[[4]]\n",
      "Sub 9\t 88.3%\t | 88.3% | 100.0%\n",
      "Confusion matrix, without normalization\n",
      "[[113   0]\n",
      " [ 15   0]]\n"
     ]
    },
    {
     "name": "stderr",
     "output_type": "stream",
     "text": [
      "/Users/hundredball/anaconda3/envs/Math24_new/lib/python3.7/site-packages/sklearn/metrics/_classification.py:1221: UndefinedMetricWarning: Recall is ill-defined and being set to 0.0 due to no true samples. Use `zero_division` parameter to control this behavior.\n",
      "  _warn_prf(average, modifier, msg_start, len(result))\n",
      "/Users/hundredball/anaconda3/envs/Math24_new/lib/python3.7/site-packages/sklearn/metrics/_classification.py:1221: UndefinedMetricWarning: Precision is ill-defined and being set to 0.0 due to no predicted samples. Use `zero_division` parameter to control this behavior.\n",
      "  _warn_prf(average, modifier, msg_start, len(result))\n"
     ]
    },
    {
     "name": "stdout",
     "output_type": "stream",
     "text": [
      "Confusion matrix, without normalization\n",
      "[[2]]\n",
      "Sub 10\t 90.6%\t | 90.6% | 0.0%\n",
      "Confusion matrix, without normalization\n",
      "[[115   0]\n",
      " [ 12   0]]\n"
     ]
    },
    {
     "name": "stderr",
     "output_type": "stream",
     "text": [
      "/Users/hundredball/anaconda3/envs/Math24_new/lib/python3.7/site-packages/sklearn/metrics/_classification.py:1221: UndefinedMetricWarning: Precision is ill-defined and being set to 0.0 due to no predicted samples. Use `zero_division` parameter to control this behavior.\n",
      "  _warn_prf(average, modifier, msg_start, len(result))\n"
     ]
    },
    {
     "name": "stdout",
     "output_type": "stream",
     "text": [
      "Confusion matrix, without normalization\n",
      "[[0 0]\n",
      " [3 0]]\n",
      "Sub 11\t 88.7%\t | 88.7% | 83.3%\n",
      "Confusion matrix, without normalization\n",
      "[[110   0]\n",
      " [ 14   0]]\n"
     ]
    },
    {
     "name": "stderr",
     "output_type": "stream",
     "text": [
      "/Users/hundredball/anaconda3/envs/Math24_new/lib/python3.7/site-packages/sklearn/metrics/_classification.py:1221: UndefinedMetricWarning: Precision is ill-defined and being set to 0.0 due to no predicted samples. Use `zero_division` parameter to control this behavior.\n",
      "  _warn_prf(average, modifier, msg_start, len(result))\n"
     ]
    },
    {
     "name": "stdout",
     "output_type": "stream",
     "text": [
      "Confusion matrix, without normalization\n",
      "[[5 0]\n",
      " [1 0]]\n",
      "Sub 12\t 87.9%\t | 87.9% | 100.0%\n",
      "Confusion matrix, without normalization\n",
      "[[109   0]\n",
      " [ 15   0]]\n"
     ]
    },
    {
     "name": "stderr",
     "output_type": "stream",
     "text": [
      "/Users/hundredball/anaconda3/envs/Math24_new/lib/python3.7/site-packages/sklearn/metrics/_classification.py:1221: UndefinedMetricWarning: Recall is ill-defined and being set to 0.0 due to no true samples. Use `zero_division` parameter to control this behavior.\n",
      "  _warn_prf(average, modifier, msg_start, len(result))\n",
      "/Users/hundredball/anaconda3/envs/Math24_new/lib/python3.7/site-packages/sklearn/metrics/_classification.py:1221: UndefinedMetricWarning: Precision is ill-defined and being set to 0.0 due to no predicted samples. Use `zero_division` parameter to control this behavior.\n",
      "  _warn_prf(average, modifier, msg_start, len(result))\n"
     ]
    },
    {
     "name": "stdout",
     "output_type": "stream",
     "text": [
      "Confusion matrix, without normalization\n",
      "[[6]]\n",
      "Sub 13\t 88.0%\t | 88.0% | 100.0%\n",
      "Confusion matrix, without normalization\n",
      "[[110   0]\n",
      " [ 15   0]]\n"
     ]
    },
    {
     "name": "stderr",
     "output_type": "stream",
     "text": [
      "/Users/hundredball/anaconda3/envs/Math24_new/lib/python3.7/site-packages/sklearn/metrics/_classification.py:1221: UndefinedMetricWarning: Recall is ill-defined and being set to 0.0 due to no true samples. Use `zero_division` parameter to control this behavior.\n",
      "  _warn_prf(average, modifier, msg_start, len(result))\n",
      "/Users/hundredball/anaconda3/envs/Math24_new/lib/python3.7/site-packages/sklearn/metrics/_classification.py:1221: UndefinedMetricWarning: Precision is ill-defined and being set to 0.0 due to no predicted samples. Use `zero_division` parameter to control this behavior.\n",
      "  _warn_prf(average, modifier, msg_start, len(result))\n"
     ]
    },
    {
     "name": "stdout",
     "output_type": "stream",
     "text": [
      "Confusion matrix, without normalization\n",
      "[[5]]\n",
      "Sub 14\t 88.3%\t | 88.3% | 100.0%"
     ]
    },
    {
     "name": "stderr",
     "output_type": "stream",
     "text": [
      "/Users/hundredball/anaconda3/envs/Math24_new/lib/python3.7/site-packages/sklearn/metrics/_classification.py:1221: UndefinedMetricWarning: Recall is ill-defined and being set to 0.0 due to no true samples. Use `zero_division` parameter to control this behavior.\n",
      "  _warn_prf(average, modifier, msg_start, len(result))\n",
      "/Users/hundredball/anaconda3/envs/Math24_new/lib/python3.7/site-packages/sklearn/metrics/_classification.py:1221: UndefinedMetricWarning: Precision is ill-defined and being set to 0.0 due to no predicted samples. Use `zero_division` parameter to control this behavior.\n",
      "  _warn_prf(average, modifier, msg_start, len(result))\n"
     ]
    },
    {
     "name": "stdout",
     "output_type": "stream",
     "text": [
      "\n",
      "Confusion matrix, without normalization\n",
      "[[113   0]\n",
      " [ 15   0]]\n",
      "Confusion matrix, without normalization\n",
      "[[2]]\n"
     ]
    },
    {
     "name": "stderr",
     "output_type": "stream",
     "text": [
      "/Users/hundredball/anaconda3/envs/Math24_new/lib/python3.7/site-packages/sklearn/metrics/_classification.py:1221: UndefinedMetricWarning: Recall is ill-defined and being set to 0.0 due to no true samples. Use `zero_division` parameter to control this behavior.\n",
      "  _warn_prf(average, modifier, msg_start, len(result))\n",
      "/Users/hundredball/anaconda3/envs/Math24_new/lib/python3.7/site-packages/sklearn/metrics/_classification.py:1221: UndefinedMetricWarning: Precision is ill-defined and being set to 0.0 due to no predicted samples. Use `zero_division` parameter to control this behavior.\n",
      "  _warn_prf(average, modifier, msg_start, len(result))\n"
     ]
    },
    {
     "name": "stdout",
     "output_type": "stream",
     "text": [
      "Sub 16\t 88.4%\t | 88.4% | 100.0%\n",
      "Confusion matrix, without normalization\n",
      "[[114   0]\n",
      " [ 15   0]]\n",
      "Confusion matrix, without normalization\n",
      "[[1]]\n"
     ]
    },
    {
     "name": "stderr",
     "output_type": "stream",
     "text": [
      "/Users/hundredball/anaconda3/envs/Math24_new/lib/python3.7/site-packages/sklearn/metrics/_classification.py:1221: UndefinedMetricWarning: Precision is ill-defined and being set to 0.0 due to no predicted samples. Use `zero_division` parameter to control this behavior.\n",
      "  _warn_prf(average, modifier, msg_start, len(result))\n"
     ]
    },
    {
     "name": "stdout",
     "output_type": "stream",
     "text": [
      "Sub 17\t 89.8%\t | 89.8% | 33.3%\n",
      "Confusion matrix, without normalization\n",
      "[[114   0]\n",
      " [ 13   0]]\n",
      "Confusion matrix, without normalization\n",
      "[[1 0]\n",
      " [2 0]]\n"
     ]
    },
    {
     "name": "stderr",
     "output_type": "stream",
     "text": [
      "/Users/hundredball/anaconda3/envs/Math24_new/lib/python3.7/site-packages/sklearn/metrics/_classification.py:1221: UndefinedMetricWarning: Recall is ill-defined and being set to 0.0 due to no true samples. Use `zero_division` parameter to control this behavior.\n",
      "  _warn_prf(average, modifier, msg_start, len(result))\n",
      "/Users/hundredball/anaconda3/envs/Math24_new/lib/python3.7/site-packages/sklearn/metrics/_classification.py:1221: UndefinedMetricWarning: Precision is ill-defined and being set to 0.0 due to no predicted samples. Use `zero_division` parameter to control this behavior.\n",
      "  _warn_prf(average, modifier, msg_start, len(result))\n"
     ]
    },
    {
     "name": "stdout",
     "output_type": "stream",
     "text": [
      "Sub 18\t 88.1%\t | 88.1% | 100.0%\n",
      "Confusion matrix, without normalization\n",
      "[[111   0]\n",
      " [ 15   0]]\n",
      "Confusion matrix, without normalization\n",
      "[[4]]\n",
      "Sub 19\t 88.0%\t | 88.0% | 100.0%\n",
      "Confusion matrix, without normalization\n",
      "[[110   0]\n",
      " [ 15   0]]\n"
     ]
    },
    {
     "name": "stderr",
     "output_type": "stream",
     "text": [
      "/Users/hundredball/anaconda3/envs/Math24_new/lib/python3.7/site-packages/sklearn/metrics/_classification.py:1221: UndefinedMetricWarning: Recall is ill-defined and being set to 0.0 due to no true samples. Use `zero_division` parameter to control this behavior.\n",
      "  _warn_prf(average, modifier, msg_start, len(result))\n",
      "/Users/hundredball/anaconda3/envs/Math24_new/lib/python3.7/site-packages/sklearn/metrics/_classification.py:1221: UndefinedMetricWarning: Precision is ill-defined and being set to 0.0 due to no predicted samples. Use `zero_division` parameter to control this behavior.\n",
      "  _warn_prf(average, modifier, msg_start, len(result))\n"
     ]
    },
    {
     "name": "stdout",
     "output_type": "stream",
     "text": [
      "Confusion matrix, without normalization\n",
      "[[5]]\n",
      "Sub 20\t 87.3%\t | 87.3% | 100.0%\n",
      "Confusion matrix, without normalization\n",
      "[[103   0]\n",
      " [ 15   0]]\n"
     ]
    },
    {
     "name": "stderr",
     "output_type": "stream",
     "text": [
      "/Users/hundredball/anaconda3/envs/Math24_new/lib/python3.7/site-packages/sklearn/metrics/_classification.py:1221: UndefinedMetricWarning: Recall is ill-defined and being set to 0.0 due to no true samples. Use `zero_division` parameter to control this behavior.\n",
      "  _warn_prf(average, modifier, msg_start, len(result))\n",
      "/Users/hundredball/anaconda3/envs/Math24_new/lib/python3.7/site-packages/sklearn/metrics/_classification.py:1221: UndefinedMetricWarning: Precision is ill-defined and being set to 0.0 due to no predicted samples. Use `zero_division` parameter to control this behavior.\n",
      "  _warn_prf(average, modifier, msg_start, len(result))\n"
     ]
    },
    {
     "name": "stdout",
     "output_type": "stream",
     "text": [
      "Confusion matrix, without normalization\n",
      "[[12]]\n",
      "Sub 21\t 87.6%\t | 87.6% | 100.0%\n",
      "Confusion matrix, without normalization\n",
      "[[106   0]\n",
      " [ 15   0]]\n"
     ]
    },
    {
     "name": "stderr",
     "output_type": "stream",
     "text": [
      "/Users/hundredball/anaconda3/envs/Math24_new/lib/python3.7/site-packages/sklearn/metrics/_classification.py:1221: UndefinedMetricWarning: Recall is ill-defined and being set to 0.0 due to no true samples. Use `zero_division` parameter to control this behavior.\n",
      "  _warn_prf(average, modifier, msg_start, len(result))\n",
      "/Users/hundredball/anaconda3/envs/Math24_new/lib/python3.7/site-packages/sklearn/metrics/_classification.py:1221: UndefinedMetricWarning: Precision is ill-defined and being set to 0.0 due to no predicted samples. Use `zero_division` parameter to control this behavior.\n",
      "  _warn_prf(average, modifier, msg_start, len(result))\n"
     ]
    },
    {
     "name": "stdout",
     "output_type": "stream",
     "text": [
      "Confusion matrix, without normalization\n",
      "[[9]]\n",
      "Sub 22\t 87.5%\t | 87.5% | 100.0%\n",
      "Confusion matrix, without normalization\n",
      "[[105   0]\n",
      " [ 15   0]]\n"
     ]
    },
    {
     "name": "stderr",
     "output_type": "stream",
     "text": [
      "/Users/hundredball/anaconda3/envs/Math24_new/lib/python3.7/site-packages/sklearn/metrics/_classification.py:1221: UndefinedMetricWarning: Recall is ill-defined and being set to 0.0 due to no true samples. Use `zero_division` parameter to control this behavior.\n",
      "  _warn_prf(average, modifier, msg_start, len(result))\n",
      "/Users/hundredball/anaconda3/envs/Math24_new/lib/python3.7/site-packages/sklearn/metrics/_classification.py:1221: UndefinedMetricWarning: Precision is ill-defined and being set to 0.0 due to no predicted samples. Use `zero_division` parameter to control this behavior.\n",
      "  _warn_prf(average, modifier, msg_start, len(result))\n"
     ]
    },
    {
     "name": "stdout",
     "output_type": "stream",
     "text": [
      "Confusion matrix, without normalization\n",
      "[[10]]\n",
      "Sub 23\t 88.0%\t | 88.0% | 100.0%\n",
      "Confusion matrix, without normalization\n",
      "[[110   0]\n",
      " [ 15   0]]\n"
     ]
    },
    {
     "name": "stderr",
     "output_type": "stream",
     "text": [
      "/Users/hundredball/anaconda3/envs/Math24_new/lib/python3.7/site-packages/sklearn/metrics/_classification.py:1221: UndefinedMetricWarning: Recall is ill-defined and being set to 0.0 due to no true samples. Use `zero_division` parameter to control this behavior.\n",
      "  _warn_prf(average, modifier, msg_start, len(result))\n",
      "/Users/hundredball/anaconda3/envs/Math24_new/lib/python3.7/site-packages/sklearn/metrics/_classification.py:1221: UndefinedMetricWarning: Precision is ill-defined and being set to 0.0 due to no predicted samples. Use `zero_division` parameter to control this behavior.\n",
      "  _warn_prf(average, modifier, msg_start, len(result))\n"
     ]
    },
    {
     "name": "stdout",
     "output_type": "stream",
     "text": [
      "Confusion matrix, without normalization\n",
      "[[5]]\n",
      "Sub 24\t 88.7%\t | 88.7% | 83.3%\n",
      "Confusion matrix, without normalization\n",
      "[[110   0]\n",
      " [ 14   0]]\n"
     ]
    },
    {
     "name": "stderr",
     "output_type": "stream",
     "text": [
      "/Users/hundredball/anaconda3/envs/Math24_new/lib/python3.7/site-packages/sklearn/metrics/_classification.py:1221: UndefinedMetricWarning: Precision is ill-defined and being set to 0.0 due to no predicted samples. Use `zero_division` parameter to control this behavior.\n",
      "  _warn_prf(average, modifier, msg_start, len(result))\n"
     ]
    },
    {
     "name": "stdout",
     "output_type": "stream",
     "text": [
      "Confusion matrix, without normalization\n",
      "[[5 0]\n",
      " [1 0]]\n",
      "Sub 25\t 87.9%\t | 87.9% | 100.0%\n",
      "Confusion matrix, without normalization\n",
      "[[109   0]\n",
      " [ 15   0]]\n"
     ]
    },
    {
     "name": "stderr",
     "output_type": "stream",
     "text": [
      "/Users/hundredball/anaconda3/envs/Math24_new/lib/python3.7/site-packages/sklearn/metrics/_classification.py:1221: UndefinedMetricWarning: Recall is ill-defined and being set to 0.0 due to no true samples. Use `zero_division` parameter to control this behavior.\n",
      "  _warn_prf(average, modifier, msg_start, len(result))\n",
      "/Users/hundredball/anaconda3/envs/Math24_new/lib/python3.7/site-packages/sklearn/metrics/_classification.py:1221: UndefinedMetricWarning: Precision is ill-defined and being set to 0.0 due to no predicted samples. Use `zero_division` parameter to control this behavior.\n",
      "  _warn_prf(average, modifier, msg_start, len(result))\n"
     ]
    },
    {
     "name": "stdout",
     "output_type": "stream",
     "text": [
      "Confusion matrix, without normalization\n",
      "[[6]]\n",
      "Sub 26\t 87.8%\t | 87.8% | 100.0%\n",
      "Confusion matrix, without normalization\n",
      "[[108   0]\n",
      " [ 15   0]]\n"
     ]
    },
    {
     "name": "stderr",
     "output_type": "stream",
     "text": [
      "/Users/hundredball/anaconda3/envs/Math24_new/lib/python3.7/site-packages/sklearn/metrics/_classification.py:1221: UndefinedMetricWarning: Recall is ill-defined and being set to 0.0 due to no true samples. Use `zero_division` parameter to control this behavior.\n",
      "  _warn_prf(average, modifier, msg_start, len(result))\n",
      "/Users/hundredball/anaconda3/envs/Math24_new/lib/python3.7/site-packages/sklearn/metrics/_classification.py:1221: UndefinedMetricWarning: Precision is ill-defined and being set to 0.0 due to no predicted samples. Use `zero_division` parameter to control this behavior.\n",
      "  _warn_prf(average, modifier, msg_start, len(result))\n"
     ]
    },
    {
     "name": "stdout",
     "output_type": "stream",
     "text": [
      "Confusion matrix, without normalization\n",
      "[[7]]\n",
      "Average val acc: 88.5%\n",
      "Sub  \t Chance\t | Train | Val\n",
      "Fold 0\t 50.0%\t | 77.4% | 69.2%\n",
      "Confusion matrix, without normalization\n",
      "[[75 29]\n",
      " [18 86]]\n",
      "Confusion matrix, without normalization\n",
      "[[8 3]\n",
      " [1 1]]\n",
      "Fold 1\t 50.0%\t | 68.0% | 38.5%\n",
      "Confusion matrix, without normalization\n",
      "[[60 43]\n",
      " [23 80]]\n",
      "Confusion matrix, without normalization\n",
      "[[4 8]\n",
      " [0 1]]\n",
      "Fold 2\t 50.0%\t | 68.3% | 69.2%\n",
      "Confusion matrix, without normalization\n",
      "[[51 53]\n",
      " [13 91]]\n",
      "Confusion matrix, without normalization\n",
      "[[7 4]\n",
      " [0 2]]\n",
      "Fold 3\t 50.0%\t | 69.6% | 69.2%\n",
      "Confusion matrix, without normalization\n",
      "[[63 39]\n",
      " [23 79]]\n"
     ]
    },
    {
     "name": "stderr",
     "output_type": "stream",
     "text": [
      "/Users/hundredball/anaconda3/envs/Math24_new/lib/python3.7/site-packages/sklearn/metrics/_classification.py:1221: UndefinedMetricWarning: Recall is ill-defined and being set to 0.0 due to no true samples. Use `zero_division` parameter to control this behavior.\n",
      "  _warn_prf(average, modifier, msg_start, len(result))\n"
     ]
    },
    {
     "name": "stdout",
     "output_type": "stream",
     "text": [
      "Confusion matrix, without normalization\n",
      "[[9 4]\n",
      " [0 0]]\n",
      "Fold 4\t 50.0%\t | 72.6% | 61.5%\n",
      "Confusion matrix, without normalization\n",
      "[[64 42]\n",
      " [16 90]]\n",
      "Confusion matrix, without normalization\n",
      "[[5 4]\n",
      " [1 3]]\n",
      "Fold 5\t 50.0%\t | 67.5% | 53.8%\n",
      "Confusion matrix, without normalization\n",
      "[[52 51]\n",
      " [16 87]]\n",
      "Confusion matrix, without normalization\n",
      "[[6 6]\n",
      " [0 1]]\n"
     ]
    },
    {
     "name": "stderr",
     "output_type": "stream",
     "text": [
      "/Users/hundredball/anaconda3/envs/Math24_new/lib/python3.7/site-packages/sklearn/metrics/_classification.py:1221: UndefinedMetricWarning: Recall is ill-defined and being set to 0.0 due to no true samples. Use `zero_division` parameter to control this behavior.\n",
      "  _warn_prf(average, modifier, msg_start, len(result))\n"
     ]
    },
    {
     "name": "stdout",
     "output_type": "stream",
     "text": [
      "Fold 6\t 50.0%\t | 64.2% | 53.8%\n",
      "Confusion matrix, without normalization\n",
      "[[47 55]\n",
      " [18 84]]\n",
      "Confusion matrix, without normalization\n",
      "[[7 6]\n",
      " [0 0]]\n",
      "Fold 7\t 50.0%\t | 74.5% | 53.8%\n",
      "Confusion matrix, without normalization\n",
      "[[65 39]\n",
      " [14 90]]\n",
      "Confusion matrix, without normalization\n",
      "[[6 5]\n",
      " [1 1]]\n",
      "Fold 8\t 50.0%\t | 77.9% | 61.5%\n",
      "Confusion matrix, without normalization\n",
      "[[74 30]\n",
      " [16 88]]\n",
      "Confusion matrix, without normalization\n",
      "[[7 4]\n",
      " [1 1]]\n",
      "Fold 9\t 50.0%\t | 67.5% | 69.2%\n",
      "Confusion matrix, without normalization\n",
      "[[55 48]\n",
      " [19 84]]\n",
      "Confusion matrix, without normalization\n",
      "[[9 3]\n",
      " [1 0]]\n",
      "Average val acc: 60.0%\n",
      "Sub  \t Chance\t | Train | Val\n",
      "Sub 1\t 50.0%\t | 66.5% | 60.0%\n",
      "Confusion matrix, without normalization\n",
      "[[ 41  74]\n",
      " [  3 112]]\n",
      "Confusion matrix, without normalization\n",
      "[[0 0]\n",
      " [2 3]]\n"
     ]
    },
    {
     "name": "stderr",
     "output_type": "stream",
     "text": [
      "/Users/hundredball/anaconda3/envs/Math24_new/lib/python3.7/site-packages/sklearn/metrics/_classification.py:1221: UndefinedMetricWarning: Recall is ill-defined and being set to 0.0 due to no true samples. Use `zero_division` parameter to control this behavior.\n",
      "  _warn_prf(average, modifier, msg_start, len(result))\n",
      "/Users/hundredball/anaconda3/envs/Math24_new/lib/python3.7/site-packages/sklearn/metrics/_classification.py:1221: UndefinedMetricWarning: Precision is ill-defined and being set to 0.0 due to no predicted samples. Use `zero_division` parameter to control this behavior.\n",
      "  _warn_prf(average, modifier, msg_start, len(result))\n"
     ]
    },
    {
     "name": "stdout",
     "output_type": "stream",
     "text": [
      "Sub 2\t 50.0%\t | 66.7% | 100.0%\n",
      "Confusion matrix, without normalization\n",
      "[[59 55]\n",
      " [21 93]]\n",
      "Confusion matrix, without normalization\n",
      "[[1]]\n",
      "Sub 3\t 50.0%\t | 79.0% | 50.0%\n",
      "Confusion matrix, without normalization\n",
      "[[78 34]\n",
      " [13 99]]\n",
      "Confusion matrix, without normalization\n",
      "[[1 2]\n",
      " [1 2]]\n"
     ]
    },
    {
     "name": "stderr",
     "output_type": "stream",
     "text": [
      "/Users/hundredball/anaconda3/envs/Math24_new/lib/python3.7/site-packages/sklearn/metrics/_classification.py:1221: UndefinedMetricWarning: Recall is ill-defined and being set to 0.0 due to no true samples. Use `zero_division` parameter to control this behavior.\n",
      "  _warn_prf(average, modifier, msg_start, len(result))\n"
     ]
    },
    {
     "name": "stdout",
     "output_type": "stream",
     "text": [
      "Sub 4\t 50.0%\t | 65.1% | 83.3%\n",
      "Confusion matrix, without normalization\n",
      "[[50 59]\n",
      " [17 92]]\n",
      "Confusion matrix, without normalization\n",
      "[[5 1]\n",
      " [0 0]]\n",
      "Sub 5\t 50.0%\t | 67.0% | 0.0%\n",
      "Confusion matrix, without normalization\n",
      "[[55 54]\n",
      " [18 91]]\n"
     ]
    },
    {
     "name": "stderr",
     "output_type": "stream",
     "text": [
      "/Users/hundredball/anaconda3/envs/Math24_new/lib/python3.7/site-packages/sklearn/metrics/_classification.py:1221: UndefinedMetricWarning: Recall is ill-defined and being set to 0.0 due to no true samples. Use `zero_division` parameter to control this behavior.\n",
      "  _warn_prf(average, modifier, msg_start, len(result))\n"
     ]
    },
    {
     "name": "stdout",
     "output_type": "stream",
     "text": [
      "Confusion matrix, without normalization\n",
      "[[0 6]\n",
      " [0 0]]\n"
     ]
    },
    {
     "name": "stderr",
     "output_type": "stream",
     "text": [
      "/Users/hundredball/anaconda3/envs/Math24_new/lib/python3.7/site-packages/sklearn/metrics/_classification.py:1221: UndefinedMetricWarning: Recall is ill-defined and being set to 0.0 due to no true samples. Use `zero_division` parameter to control this behavior.\n",
      "  _warn_prf(average, modifier, msg_start, len(result))\n"
     ]
    },
    {
     "name": "stdout",
     "output_type": "stream",
     "text": [
      "Sub 6\t 50.0%\t | 72.3% | 0.0%\n",
      "Confusion matrix, without normalization\n",
      "[[66 44]\n",
      " [17 93]]\n",
      "Confusion matrix, without normalization\n",
      "[[0 5]\n",
      " [0 0]]\n"
     ]
    },
    {
     "name": "stderr",
     "output_type": "stream",
     "text": [
      "/Users/hundredball/anaconda3/envs/Math24_new/lib/python3.7/site-packages/sklearn/metrics/_classification.py:1221: UndefinedMetricWarning: Recall is ill-defined and being set to 0.0 due to no true samples. Use `zero_division` parameter to control this behavior.\n",
      "  _warn_prf(average, modifier, msg_start, len(result))\n",
      "/Users/hundredball/anaconda3/envs/Math24_new/lib/python3.7/site-packages/sklearn/metrics/_classification.py:1221: UndefinedMetricWarning: Precision is ill-defined and being set to 0.0 due to no predicted samples. Use `zero_division` parameter to control this behavior.\n",
      "  _warn_prf(average, modifier, msg_start, len(result))\n"
     ]
    },
    {
     "name": "stdout",
     "output_type": "stream",
     "text": [
      "Sub 7\t 50.0%\t | 67.3% | 100.0%\n",
      "Confusion matrix, without normalization\n",
      "[[57 53]\n",
      " [19 91]]\n",
      "Confusion matrix, without normalization\n",
      "[[5]]\n",
      "Sub 8\t 50.0%\t | 68.0% | 50.0%\n",
      "Confusion matrix, without normalization\n",
      "[[59 52]\n",
      " [19 92]]\n"
     ]
    },
    {
     "name": "stderr",
     "output_type": "stream",
     "text": [
      "/Users/hundredball/anaconda3/envs/Math24_new/lib/python3.7/site-packages/sklearn/metrics/_classification.py:1221: UndefinedMetricWarning: Recall is ill-defined and being set to 0.0 due to no true samples. Use `zero_division` parameter to control this behavior.\n",
      "  _warn_prf(average, modifier, msg_start, len(result))\n"
     ]
    },
    {
     "name": "stdout",
     "output_type": "stream",
     "text": [
      "Confusion matrix, without normalization\n",
      "[[2 2]\n",
      " [0 0]]\n"
     ]
    },
    {
     "name": "stderr",
     "output_type": "stream",
     "text": [
      "/Users/hundredball/anaconda3/envs/Math24_new/lib/python3.7/site-packages/sklearn/metrics/_classification.py:1221: UndefinedMetricWarning: Recall is ill-defined and being set to 0.0 due to no true samples. Use `zero_division` parameter to control this behavior.\n",
      "  _warn_prf(average, modifier, msg_start, len(result))\n"
     ]
    },
    {
     "name": "stdout",
     "output_type": "stream",
     "text": [
      "Sub 9\t 50.0%\t | 69.5% | 50.0%\n",
      "Confusion matrix, without normalization\n",
      "[[67 46]\n",
      " [23 90]]\n",
      "Confusion matrix, without normalization\n",
      "[[1 1]\n",
      " [0 0]]\n",
      "Sub 10\t 50.0%\t | 71.3% | 66.7%\n",
      "Confusion matrix, without normalization\n",
      "[[68 47]\n",
      " [19 96]]\n",
      "Confusion matrix, without normalization\n",
      "[[0 0]\n",
      " [1 2]]\n",
      "Sub 11\t 50.0%\t | 69.5% | 16.7%\n",
      "Confusion matrix, without normalization\n",
      "[[66 44]\n",
      " [23 87]]\n",
      "Confusion matrix, without normalization\n",
      "[[0 5]\n",
      " [0 1]]\n",
      "Sub 12\t 50.0%\t | 64.2% | 100.0%\n",
      "Confusion matrix, without normalization\n",
      "[[44 65]\n",
      " [13 96]]\n"
     ]
    },
    {
     "name": "stderr",
     "output_type": "stream",
     "text": [
      "/Users/hundredball/anaconda3/envs/Math24_new/lib/python3.7/site-packages/sklearn/metrics/_classification.py:1221: UndefinedMetricWarning: Recall is ill-defined and being set to 0.0 due to no true samples. Use `zero_division` parameter to control this behavior.\n",
      "  _warn_prf(average, modifier, msg_start, len(result))\n",
      "/Users/hundredball/anaconda3/envs/Math24_new/lib/python3.7/site-packages/sklearn/metrics/_classification.py:1221: UndefinedMetricWarning: Precision is ill-defined and being set to 0.0 due to no predicted samples. Use `zero_division` parameter to control this behavior.\n",
      "  _warn_prf(average, modifier, msg_start, len(result))\n"
     ]
    },
    {
     "name": "stdout",
     "output_type": "stream",
     "text": [
      "Confusion matrix, without normalization\n",
      "[[6]]\n"
     ]
    },
    {
     "name": "stderr",
     "output_type": "stream",
     "text": [
      "/Users/hundredball/anaconda3/envs/Math24_new/lib/python3.7/site-packages/sklearn/metrics/_classification.py:1221: UndefinedMetricWarning: Recall is ill-defined and being set to 0.0 due to no true samples. Use `zero_division` parameter to control this behavior.\n",
      "  _warn_prf(average, modifier, msg_start, len(result))\n"
     ]
    },
    {
     "name": "stdout",
     "output_type": "stream",
     "text": [
      "Sub 13\t 50.0%\t | 69.1% | 80.0%\n",
      "Confusion matrix, without normalization\n",
      "[[59 51]\n",
      " [17 93]]\n",
      "Confusion matrix, without normalization\n",
      "[[4 1]\n",
      " [0 0]]\n",
      "Sub 14\t 50.0%\t | 70.8% | 0.0%\n",
      "Confusion matrix, without normalization\n",
      "[[70 43]\n",
      " [23 90]]\n"
     ]
    },
    {
     "name": "stderr",
     "output_type": "stream",
     "text": [
      "/Users/hundredball/anaconda3/envs/Math24_new/lib/python3.7/site-packages/sklearn/metrics/_classification.py:1221: UndefinedMetricWarning: Recall is ill-defined and being set to 0.0 due to no true samples. Use `zero_division` parameter to control this behavior.\n",
      "  _warn_prf(average, modifier, msg_start, len(result))\n"
     ]
    },
    {
     "name": "stdout",
     "output_type": "stream",
     "text": [
      "Confusion matrix, without normalization\n",
      "[[0 2]\n",
      " [0 0]]\n",
      "Sub 16\t 50.0%\t | 66.2% | 0.0%\n",
      "Confusion matrix, without normalization\n",
      "[[61 53]\n",
      " [24 90]]\n"
     ]
    },
    {
     "name": "stderr",
     "output_type": "stream",
     "text": [
      "/Users/hundredball/anaconda3/envs/Math24_new/lib/python3.7/site-packages/sklearn/metrics/_classification.py:1221: UndefinedMetricWarning: Recall is ill-defined and being set to 0.0 due to no true samples. Use `zero_division` parameter to control this behavior.\n",
      "  _warn_prf(average, modifier, msg_start, len(result))\n"
     ]
    },
    {
     "name": "stdout",
     "output_type": "stream",
     "text": [
      "Confusion matrix, without normalization\n",
      "[[0 1]\n",
      " [0 0]]\n",
      "Sub 17\t 50.0%\t | 84.2% | 33.3%\n",
      "Confusion matrix, without normalization\n",
      "[[ 85  29]\n",
      " [  7 107]]\n"
     ]
    },
    {
     "name": "stderr",
     "output_type": "stream",
     "text": [
      "/Users/hundredball/anaconda3/envs/Math24_new/lib/python3.7/site-packages/sklearn/metrics/_classification.py:1221: UndefinedMetricWarning: Precision is ill-defined and being set to 0.0 due to no predicted samples. Use `zero_division` parameter to control this behavior.\n",
      "  _warn_prf(average, modifier, msg_start, len(result))\n"
     ]
    },
    {
     "name": "stdout",
     "output_type": "stream",
     "text": [
      "Confusion matrix, without normalization\n",
      "[[1 0]\n",
      " [2 0]]\n"
     ]
    },
    {
     "name": "stderr",
     "output_type": "stream",
     "text": [
      "/Users/hundredball/anaconda3/envs/Math24_new/lib/python3.7/site-packages/sklearn/metrics/_classification.py:1221: UndefinedMetricWarning: Recall is ill-defined and being set to 0.0 due to no true samples. Use `zero_division` parameter to control this behavior.\n",
      "  _warn_prf(average, modifier, msg_start, len(result))\n"
     ]
    },
    {
     "name": "stdout",
     "output_type": "stream",
     "text": [
      "Sub 18\t 50.0%\t | 67.6% | 50.0%\n",
      "Confusion matrix, without normalization\n",
      "[[58 53]\n",
      " [19 92]]\n",
      "Confusion matrix, without normalization\n",
      "[[2 2]\n",
      " [0 0]]\n"
     ]
    },
    {
     "name": "stderr",
     "output_type": "stream",
     "text": [
      "/Users/hundredball/anaconda3/envs/Math24_new/lib/python3.7/site-packages/sklearn/metrics/_classification.py:1221: UndefinedMetricWarning: Recall is ill-defined and being set to 0.0 due to no true samples. Use `zero_division` parameter to control this behavior.\n",
      "  _warn_prf(average, modifier, msg_start, len(result))\n"
     ]
    },
    {
     "name": "stdout",
     "output_type": "stream",
     "text": [
      "Sub 19\t 50.0%\t | 70.5% | 60.0%\n",
      "Confusion matrix, without normalization\n",
      "[[66 44]\n",
      " [21 89]]\n",
      "Confusion matrix, without normalization\n",
      "[[3 2]\n",
      " [0 0]]\n"
     ]
    },
    {
     "name": "stderr",
     "output_type": "stream",
     "text": [
      "/Users/hundredball/anaconda3/envs/Math24_new/lib/python3.7/site-packages/sklearn/metrics/_classification.py:1221: UndefinedMetricWarning: Recall is ill-defined and being set to 0.0 due to no true samples. Use `zero_division` parameter to control this behavior.\n",
      "  _warn_prf(average, modifier, msg_start, len(result))\n"
     ]
    },
    {
     "name": "stdout",
     "output_type": "stream",
     "text": [
      "Sub 20\t 50.0%\t | 72.8% | 75.0%\n",
      "Confusion matrix, without normalization\n",
      "[[71 32]\n",
      " [24 79]]\n",
      "Confusion matrix, without normalization\n",
      "[[9 3]\n",
      " [0 0]]\n"
     ]
    },
    {
     "name": "stderr",
     "output_type": "stream",
     "text": [
      "/Users/hundredball/anaconda3/envs/Math24_new/lib/python3.7/site-packages/sklearn/metrics/_classification.py:1221: UndefinedMetricWarning: Recall is ill-defined and being set to 0.0 due to no true samples. Use `zero_division` parameter to control this behavior.\n",
      "  _warn_prf(average, modifier, msg_start, len(result))\n",
      "/Users/hundredball/anaconda3/envs/Math24_new/lib/python3.7/site-packages/sklearn/metrics/_classification.py:1221: UndefinedMetricWarning: Precision is ill-defined and being set to 0.0 due to no predicted samples. Use `zero_division` parameter to control this behavior.\n",
      "  _warn_prf(average, modifier, msg_start, len(result))\n"
     ]
    },
    {
     "name": "stdout",
     "output_type": "stream",
     "text": [
      "Sub 21\t 50.0%\t | 65.6% | 100.0%\n",
      "Confusion matrix, without normalization\n",
      "[[56 50]\n",
      " [23 83]]\n"
     ]
    },
    {
     "name": "stderr",
     "output_type": "stream",
     "text": [
      "/Users/hundredball/anaconda3/envs/Math24_new/lib/python3.7/site-packages/sklearn/metrics/_classification.py:1221: UndefinedMetricWarning: Recall is ill-defined and being set to 0.0 due to no true samples. Use `zero_division` parameter to control this behavior.\n",
      "  _warn_prf(average, modifier, msg_start, len(result))\n"
     ]
    },
    {
     "name": "stdout",
     "output_type": "stream",
     "text": [
      "Confusion matrix, without normalization\n",
      "[[9]]\n",
      "Sub 22\t 50.0%\t | 63.8% | 20.0%\n",
      "Confusion matrix, without normalization\n",
      "[[43 62]\n",
      " [14 91]]\n",
      "Confusion matrix, without normalization\n",
      "[[2 8]\n",
      " [0 0]]\n",
      "Sub 23\t 50.0%\t | 71.4% | 0.0%\n",
      "Confusion matrix, without normalization\n",
      "[[68 42]\n",
      " [21 89]]\n"
     ]
    },
    {
     "name": "stderr",
     "output_type": "stream",
     "text": [
      "/Users/hundredball/anaconda3/envs/Math24_new/lib/python3.7/site-packages/sklearn/metrics/_classification.py:1221: UndefinedMetricWarning: Recall is ill-defined and being set to 0.0 due to no true samples. Use `zero_division` parameter to control this behavior.\n",
      "  _warn_prf(average, modifier, msg_start, len(result))\n"
     ]
    },
    {
     "name": "stdout",
     "output_type": "stream",
     "text": [
      "Confusion matrix, without normalization\n",
      "[[0 5]\n",
      " [0 0]]\n",
      "Sub 24\t 50.0%\t | 66.4% | 16.7%\n",
      "Confusion matrix, without normalization\n",
      "[[60 50]\n",
      " [24 86]]\n",
      "Confusion matrix, without normalization\n",
      "[[1 4]\n",
      " [1 0]]\n"
     ]
    },
    {
     "name": "stderr",
     "output_type": "stream",
     "text": [
      "/Users/hundredball/anaconda3/envs/Math24_new/lib/python3.7/site-packages/sklearn/metrics/_classification.py:1221: UndefinedMetricWarning: Recall is ill-defined and being set to 0.0 due to no true samples. Use `zero_division` parameter to control this behavior.\n",
      "  _warn_prf(average, modifier, msg_start, len(result))\n"
     ]
    },
    {
     "name": "stdout",
     "output_type": "stream",
     "text": [
      "Sub 25\t 50.0%\t | 64.7% | 0.0%\n",
      "Confusion matrix, without normalization\n",
      "[[42 67]\n",
      " [10 99]]\n",
      "Confusion matrix, without normalization\n",
      "[[0 6]\n",
      " [0 0]]\n",
      "Sub 26\t 50.0%\t | 68.5% | 14.3%\n",
      "Confusion matrix, without normalization\n",
      "[[58 50]\n",
      " [18 90]]\n"
     ]
    },
    {
     "name": "stderr",
     "output_type": "stream",
     "text": [
      "/Users/hundredball/anaconda3/envs/Math24_new/lib/python3.7/site-packages/sklearn/metrics/_classification.py:1221: UndefinedMetricWarning: Recall is ill-defined and being set to 0.0 due to no true samples. Use `zero_division` parameter to control this behavior.\n",
      "  _warn_prf(average, modifier, msg_start, len(result))\n"
     ]
    },
    {
     "name": "stdout",
     "output_type": "stream",
     "text": [
      "Confusion matrix, without normalization\n",
      "[[1 6]\n",
      " [0 0]]\n",
      "Average val acc: 46.9%\n",
      "Sub  \t Chance\t | Train | Val\n"
     ]
    },
    {
     "name": "stderr",
     "output_type": "stream",
     "text": [
      "/Users/hundredball/anaconda3/envs/Math24_new/lib/python3.7/site-packages/sklearn/metrics/_classification.py:1221: UndefinedMetricWarning: Precision is ill-defined and being set to 0.0 due to no predicted samples. Use `zero_division` parameter to control this behavior.\n",
      "  _warn_prf(average, modifier, msg_start, len(result))\n"
     ]
    },
    {
     "name": "stdout",
     "output_type": "stream",
     "text": [
      "Fold 0\t 88.9%\t | 100.0% | 84.6%\n",
      "Confusion matrix, without normalization\n",
      "[[104   0]\n",
      " [  0  13]]\n",
      "Confusion matrix, without normalization\n",
      "[[11  0]\n",
      " [ 2  0]]\n",
      "Fold 1\t 88.0%\t | 100.0% | 84.6%\n",
      "Confusion matrix, without normalization\n",
      "[[103   0]\n",
      " [  0  14]]\n",
      "Confusion matrix, without normalization\n",
      "[[11  1]\n",
      " [ 1  0]]\n",
      "Fold 2\t 88.9%\t | 100.0% | 84.6%\n",
      "Confusion matrix, without normalization\n",
      "[[104   0]\n",
      " [  0  13]]\n",
      "Confusion matrix, without normalization\n",
      "[[11  0]\n",
      " [ 2  0]]\n",
      "Fold 3\t 87.2%\t | 100.0% | 100.0%\n",
      "Confusion matrix, without normalization\n",
      "[[102   0]\n",
      " [  0  15]]\n",
      "Confusion matrix, without normalization\n",
      "[[13]]\n",
      "Fold 4\t 90.6%\t | 100.0% | 61.5%\n",
      "Confusion matrix, without normalization\n",
      "[[106   0]\n",
      " [  0  11]]\n",
      "Confusion matrix, without normalization\n",
      "[[8 1]\n",
      " [4 0]]\n",
      "Fold 5\t 88.0%\t | 100.0% | 92.3%\n",
      "Confusion matrix, without normalization\n",
      "[[103   0]\n",
      " [  0  14]]\n",
      "Confusion matrix, without normalization\n",
      "[[12  0]\n",
      " [ 1  0]]\n",
      "Fold 6\t 87.2%\t | 100.0% | 100.0%\n",
      "Confusion matrix, without normalization\n",
      "[[102   0]\n",
      " [  0  15]]\n",
      "Confusion matrix, without normalization\n",
      "[[13]]\n",
      "Fold 7\t 88.9%\t | 100.0% | 84.6%\n",
      "Confusion matrix, without normalization\n",
      "[[104   0]\n",
      " [  0  13]]\n",
      "Confusion matrix, without normalization\n",
      "[[10  1]\n",
      " [ 1  1]]\n",
      "Fold 8\t 88.9%\t | 100.0% | 61.5%\n",
      "Confusion matrix, without normalization\n",
      "[[104   0]\n",
      " [  0  13]]\n",
      "Confusion matrix, without normalization\n",
      "[[8 3]\n",
      " [2 0]]\n",
      "Fold 9\t 88.0%\t | 100.0% | 92.3%\n",
      "Confusion matrix, without normalization\n",
      "[[103   0]\n",
      " [  0  14]]\n",
      "Confusion matrix, without normalization\n",
      "[[12  0]\n",
      " [ 1  0]]\n",
      "Average val acc: 84.6%\n",
      "Sub  \t Chance\t | Train | Val\n",
      "Sub 1\t 92.0%\t | 100.0% | 0.0%\n",
      "Confusion matrix, without normalization\n",
      "[[115   0]\n",
      " [  0  10]]\n",
      "Confusion matrix, without normalization\n",
      "[[0 0]\n",
      " [5 0]]\n",
      "Sub 2\t 88.4%\t | 100.0% | 100.0%\n",
      "Confusion matrix, without normalization\n",
      "[[114   0]\n",
      " [  0  15]]\n",
      "Confusion matrix, without normalization\n",
      "[[1]]\n",
      "Sub 3\t 90.3%\t | 100.0% | 33.3%\n",
      "Confusion matrix, without normalization\n",
      "[[112   0]\n",
      " [  0  12]]\n",
      "Confusion matrix, without normalization\n",
      "[[2 1]\n",
      " [3 0]]\n",
      "Sub 4\t 87.9%\t | 100.0% | 100.0%\n",
      "Confusion matrix, without normalization\n",
      "[[109   0]\n",
      " [  0  15]]\n",
      "Confusion matrix, without normalization\n",
      "[[6]]\n",
      "Sub 5\t 87.9%\t | 100.0% | 83.3%\n",
      "Confusion matrix, without normalization\n",
      "[[109   0]\n",
      " [  0  15]]\n",
      "Confusion matrix, without normalization\n",
      "[[5 1]\n",
      " [0 0]]\n",
      "Sub 6\t 88.0%\t | 100.0% | 100.0%\n",
      "Confusion matrix, without normalization\n",
      "[[110   0]\n",
      " [  0  15]]\n",
      "Confusion matrix, without normalization\n",
      "[[5]]\n",
      "Sub 7\t 88.0%\t | 100.0% | 100.0%\n",
      "Confusion matrix, without normalization\n",
      "[[110   0]\n",
      " [  0  15]]\n",
      "Confusion matrix, without normalization\n",
      "[[5]]\n",
      "Sub 8\t 88.1%\t | 100.0% | 100.0%\n",
      "Confusion matrix, without normalization\n",
      "[[111   0]\n",
      " [  0  15]]\n",
      "Confusion matrix, without normalization\n",
      "[[4]]\n",
      "Sub 9\t 88.3%\t | 100.0% | 100.0%\n",
      "Confusion matrix, without normalization\n",
      "[[113   0]\n",
      " [  0  15]]\n",
      "Confusion matrix, without normalization\n",
      "[[2]]\n",
      "Sub 10\t 90.6%\t | 100.0% | 0.0%\n",
      "Confusion matrix, without normalization\n",
      "[[115   0]\n",
      " [  0  12]]\n",
      "Confusion matrix, without normalization\n",
      "[[0 0]\n",
      " [3 0]]\n",
      "Sub 11\t 88.7%\t | 100.0% | 83.3%\n",
      "Confusion matrix, without normalization\n",
      "[[110   0]\n",
      " [  0  14]]\n",
      "Confusion matrix, without normalization\n",
      "[[5 0]\n",
      " [1 0]]\n",
      "Sub 12\t 87.9%\t | 100.0% | 100.0%\n",
      "Confusion matrix, without normalization\n",
      "[[109   0]\n",
      " [  0  15]]\n",
      "Confusion matrix, without normalization\n",
      "[[6]]\n",
      "Sub 13\t 88.0%\t | 100.0% | 100.0%\n",
      "Confusion matrix, without normalization\n",
      "[[110   0]\n",
      " [  0  15]]\n",
      "Confusion matrix, without normalization\n",
      "[[5]]\n",
      "Sub 14\t 88.3%\t | 100.0% | 100.0%\n",
      "Confusion matrix, without normalization\n",
      "[[113   0]\n",
      " [  0  15]]\n",
      "Confusion matrix, without normalization\n",
      "[[2]]\n",
      "Sub 16\t 88.4%\t | 100.0% | 0.0%\n",
      "Confusion matrix, without normalization\n",
      "[[114   0]\n",
      " [  0  15]]\n",
      "Confusion matrix, without normalization\n",
      "[[0 1]\n",
      " [0 0]]\n",
      "Sub 17\t 89.8%\t | 100.0% | 33.3%\n",
      "Confusion matrix, without normalization\n",
      "[[114   0]\n",
      " [  0  13]]\n",
      "Confusion matrix, without normalization\n",
      "[[1 0]\n",
      " [2 0]]\n",
      "Sub 18\t 88.1%\t | 100.0% | 100.0%\n",
      "Confusion matrix, without normalization\n",
      "[[111   0]\n",
      " [  0  15]]\n",
      "Confusion matrix, without normalization\n",
      "[[4]]\n",
      "Sub 19\t 88.0%\t | 100.0% | 100.0%\n",
      "Confusion matrix, without normalization\n",
      "[[110   0]\n",
      " [  0  15]]\n",
      "Confusion matrix, without normalization\n",
      "[[5]]\n",
      "Sub 20\t 87.3%\t | 100.0% | 100.0%\n",
      "Confusion matrix, without normalization\n",
      "[[103   0]\n",
      " [  0  15]]\n",
      "Confusion matrix, without normalization\n",
      "[[12]]\n",
      "Sub 21\t 87.6%\t | 100.0% | 100.0%\n",
      "Confusion matrix, without normalization\n",
      "[[106   0]\n",
      " [  0  15]]\n",
      "Confusion matrix, without normalization\n",
      "[[9]]\n",
      "Sub 22\t 87.5%\t | 100.0% | 100.0%\n",
      "Confusion matrix, without normalization\n",
      "[[105   0]\n",
      " [  0  15]]\n",
      "Confusion matrix, without normalization\n",
      "[[10]]\n",
      "Sub 23\t 88.0%\t | 100.0% | 100.0%\n",
      "Confusion matrix, without normalization\n",
      "[[110   0]\n",
      " [  0  15]]\n",
      "Confusion matrix, without normalization\n",
      "[[5]]\n",
      "Sub 24\t 88.7%\t | 100.0% | 83.3%\n",
      "Confusion matrix, without normalization\n",
      "[[110   0]\n",
      " [  0  14]]\n",
      "Confusion matrix, without normalization\n",
      "[[5 0]\n",
      " [1 0]]\n",
      "Sub 25\t 87.9%\t | 100.0% | 100.0%\n",
      "Confusion matrix, without normalization\n",
      "[[109   0]\n",
      " [  0  15]]\n",
      "Confusion matrix, without normalization\n",
      "[[6]]\n",
      "Sub 26\t 87.8%\t | 100.0% | 71.4%\n",
      "Confusion matrix, without normalization\n",
      "[[108   0]\n",
      " [  0  15]]\n",
      "Confusion matrix, without normalization\n",
      "[[5 2]\n",
      " [0 0]]\n",
      "Average val acc: 84.6%\n",
      "Sub  \t Chance\t | Train | Val\n",
      "Fold 0\t 50.0%\t | 100.0% | 84.6%\n",
      "Confusion matrix, without normalization\n",
      "[[104   0]\n",
      " [  0 104]]\n",
      "Confusion matrix, without normalization\n",
      "[[10  1]\n",
      " [ 1  1]]\n",
      "Fold 1\t 50.0%\t | 100.0% | 69.2%\n",
      "Confusion matrix, without normalization\n",
      "[[103   0]\n",
      " [  0 103]]\n",
      "Confusion matrix, without normalization\n",
      "[[8 4]\n",
      " [0 1]]\n",
      "Fold 2\t 50.0%\t | 100.0% | 76.9%\n",
      "Confusion matrix, without normalization\n",
      "[[104   0]\n",
      " [  0 104]]\n",
      "Confusion matrix, without normalization\n",
      "[[10  1]\n",
      " [ 2  0]]\n"
     ]
    },
    {
     "name": "stderr",
     "output_type": "stream",
     "text": [
      "/Users/hundredball/anaconda3/envs/Math24_new/lib/python3.7/site-packages/sklearn/metrics/_classification.py:1221: UndefinedMetricWarning: Recall is ill-defined and being set to 0.0 due to no true samples. Use `zero_division` parameter to control this behavior.\n",
      "  _warn_prf(average, modifier, msg_start, len(result))\n"
     ]
    },
    {
     "name": "stdout",
     "output_type": "stream",
     "text": [
      "Fold 3\t 50.0%\t | 100.0% | 92.3%\n",
      "Confusion matrix, without normalization\n",
      "[[102   0]\n",
      " [  0 102]]\n",
      "Confusion matrix, without normalization\n",
      "[[12  1]\n",
      " [ 0  0]]\n",
      "Fold 4\t 50.0%\t | 100.0% | 69.2%\n",
      "Confusion matrix, without normalization\n",
      "[[106   0]\n",
      " [  0 106]]\n",
      "Confusion matrix, without normalization\n",
      "[[7 2]\n",
      " [2 2]]\n",
      "Fold 5\t 50.0%\t | 100.0% | 46.2%\n",
      "Confusion matrix, without normalization\n",
      "[[103   0]\n",
      " [  0 103]]\n",
      "Confusion matrix, without normalization\n",
      "[[6 6]\n",
      " [1 0]]\n"
     ]
    },
    {
     "name": "stderr",
     "output_type": "stream",
     "text": [
      "/Users/hundredball/anaconda3/envs/Math24_new/lib/python3.7/site-packages/sklearn/metrics/_classification.py:1221: UndefinedMetricWarning: Recall is ill-defined and being set to 0.0 due to no true samples. Use `zero_division` parameter to control this behavior.\n",
      "  _warn_prf(average, modifier, msg_start, len(result))\n",
      "/Users/hundredball/anaconda3/envs/Math24_new/lib/python3.7/site-packages/sklearn/metrics/_classification.py:1221: UndefinedMetricWarning: Precision is ill-defined and being set to 0.0 due to no predicted samples. Use `zero_division` parameter to control this behavior.\n",
      "  _warn_prf(average, modifier, msg_start, len(result))\n"
     ]
    },
    {
     "name": "stdout",
     "output_type": "stream",
     "text": [
      "Fold 6\t 50.0%\t | 100.0% | 100.0%\n",
      "Confusion matrix, without normalization\n",
      "[[102   0]\n",
      " [  0 102]]\n",
      "Confusion matrix, without normalization\n",
      "[[13]]\n",
      "Fold 7\t 50.0%\t | 100.0% | 84.6%\n",
      "Confusion matrix, without normalization\n",
      "[[104   0]\n",
      " [  0 104]]\n",
      "Confusion matrix, without normalization\n",
      "[[10  1]\n",
      " [ 1  1]]\n",
      "Fold 8\t 50.0%\t | 100.0% | 53.8%\n",
      "Confusion matrix, without normalization\n",
      "[[104   0]\n",
      " [  0 104]]\n",
      "Confusion matrix, without normalization\n",
      "[[7 4]\n",
      " [2 0]]\n"
     ]
    },
    {
     "name": "stderr",
     "output_type": "stream",
     "text": [
      "/Users/hundredball/anaconda3/envs/Math24_new/lib/python3.7/site-packages/sklearn/metrics/_classification.py:1221: UndefinedMetricWarning: Precision is ill-defined and being set to 0.0 due to no predicted samples. Use `zero_division` parameter to control this behavior.\n",
      "  _warn_prf(average, modifier, msg_start, len(result))\n"
     ]
    },
    {
     "name": "stdout",
     "output_type": "stream",
     "text": [
      "Fold 9\t 50.0%\t | 100.0% | 92.3%\n",
      "Confusion matrix, without normalization\n",
      "[[103   0]\n",
      " [  0 103]]\n",
      "Confusion matrix, without normalization\n",
      "[[12  0]\n",
      " [ 1  0]]\n",
      "Average val acc: 76.9%\n",
      "Sub  \t Chance\t | Train | Val\n"
     ]
    },
    {
     "name": "stderr",
     "output_type": "stream",
     "text": [
      "/Users/hundredball/anaconda3/envs/Math24_new/lib/python3.7/site-packages/sklearn/metrics/_classification.py:1221: UndefinedMetricWarning: Precision is ill-defined and being set to 0.0 due to no predicted samples. Use `zero_division` parameter to control this behavior.\n",
      "  _warn_prf(average, modifier, msg_start, len(result))\n"
     ]
    },
    {
     "name": "stdout",
     "output_type": "stream",
     "text": [
      "Sub 1\t 50.0%\t | 100.0% | 0.0%\n",
      "Confusion matrix, without normalization\n",
      "[[115   0]\n",
      " [  0 115]]\n",
      "Confusion matrix, without normalization\n",
      "[[0 0]\n",
      " [5 0]]\n"
     ]
    },
    {
     "name": "stderr",
     "output_type": "stream",
     "text": [
      "/Users/hundredball/anaconda3/envs/Math24_new/lib/python3.7/site-packages/sklearn/metrics/_classification.py:1221: UndefinedMetricWarning: Recall is ill-defined and being set to 0.0 due to no true samples. Use `zero_division` parameter to control this behavior.\n",
      "  _warn_prf(average, modifier, msg_start, len(result))\n",
      "/Users/hundredball/anaconda3/envs/Math24_new/lib/python3.7/site-packages/sklearn/metrics/_classification.py:1221: UndefinedMetricWarning: Precision is ill-defined and being set to 0.0 due to no predicted samples. Use `zero_division` parameter to control this behavior.\n",
      "  _warn_prf(average, modifier, msg_start, len(result))\n"
     ]
    },
    {
     "name": "stdout",
     "output_type": "stream",
     "text": [
      "Sub 2\t 50.0%\t | 100.0% | 100.0%\n",
      "Confusion matrix, without normalization\n",
      "[[114   0]\n",
      " [  0 114]]\n",
      "Confusion matrix, without normalization\n",
      "[[1]]\n"
     ]
    },
    {
     "name": "stderr",
     "output_type": "stream",
     "text": [
      "/Users/hundredball/anaconda3/envs/Math24_new/lib/python3.7/site-packages/sklearn/metrics/_classification.py:1221: UndefinedMetricWarning: Precision is ill-defined and being set to 0.0 due to no predicted samples. Use `zero_division` parameter to control this behavior.\n",
      "  _warn_prf(average, modifier, msg_start, len(result))\n"
     ]
    },
    {
     "name": "stdout",
     "output_type": "stream",
     "text": [
      "Sub 3\t 50.0%\t | 100.0% | 50.0%\n",
      "Confusion matrix, without normalization\n",
      "[[112   0]\n",
      " [  0 112]]\n",
      "Confusion matrix, without normalization\n",
      "[[3 0]\n",
      " [3 0]]\n"
     ]
    },
    {
     "name": "stderr",
     "output_type": "stream",
     "text": [
      "/Users/hundredball/anaconda3/envs/Math24_new/lib/python3.7/site-packages/sklearn/metrics/_classification.py:1221: UndefinedMetricWarning: Recall is ill-defined and being set to 0.0 due to no true samples. Use `zero_division` parameter to control this behavior.\n",
      "  _warn_prf(average, modifier, msg_start, len(result))\n"
     ]
    },
    {
     "name": "stdout",
     "output_type": "stream",
     "text": [
      "Sub 4\t 50.0%\t | 100.0% | 83.3%\n",
      "Confusion matrix, without normalization\n",
      "[[109   0]\n",
      " [  0 109]]\n",
      "Confusion matrix, without normalization\n",
      "[[5 1]\n",
      " [0 0]]\n",
      "Sub 5\t 50.0%\t | 100.0% | 50.0%\n",
      "Confusion matrix, without normalization\n",
      "[[109   0]\n",
      " [  0 109]]\n"
     ]
    },
    {
     "name": "stderr",
     "output_type": "stream",
     "text": [
      "/Users/hundredball/anaconda3/envs/Math24_new/lib/python3.7/site-packages/sklearn/metrics/_classification.py:1221: UndefinedMetricWarning: Recall is ill-defined and being set to 0.0 due to no true samples. Use `zero_division` parameter to control this behavior.\n",
      "  _warn_prf(average, modifier, msg_start, len(result))\n"
     ]
    },
    {
     "name": "stdout",
     "output_type": "stream",
     "text": [
      "Confusion matrix, without normalization\n",
      "[[3 3]\n",
      " [0 0]]\n",
      "Sub 6\t 50.0%\t | 100.0% | 80.0%\n",
      "Confusion matrix, without normalization\n",
      "[[110   0]\n",
      " [  0 110]]\n"
     ]
    },
    {
     "name": "stderr",
     "output_type": "stream",
     "text": [
      "/Users/hundredball/anaconda3/envs/Math24_new/lib/python3.7/site-packages/sklearn/metrics/_classification.py:1221: UndefinedMetricWarning: Recall is ill-defined and being set to 0.0 due to no true samples. Use `zero_division` parameter to control this behavior.\n",
      "  _warn_prf(average, modifier, msg_start, len(result))\n"
     ]
    },
    {
     "name": "stdout",
     "output_type": "stream",
     "text": [
      "Confusion matrix, without normalization\n",
      "[[4 1]\n",
      " [0 0]]\n"
     ]
    },
    {
     "name": "stderr",
     "output_type": "stream",
     "text": [
      "/Users/hundredball/anaconda3/envs/Math24_new/lib/python3.7/site-packages/sklearn/metrics/_classification.py:1221: UndefinedMetricWarning: Recall is ill-defined and being set to 0.0 due to no true samples. Use `zero_division` parameter to control this behavior.\n",
      "  _warn_prf(average, modifier, msg_start, len(result))\n",
      "/Users/hundredball/anaconda3/envs/Math24_new/lib/python3.7/site-packages/sklearn/metrics/_classification.py:1221: UndefinedMetricWarning: Precision is ill-defined and being set to 0.0 due to no predicted samples. Use `zero_division` parameter to control this behavior.\n",
      "  _warn_prf(average, modifier, msg_start, len(result))\n"
     ]
    },
    {
     "name": "stdout",
     "output_type": "stream",
     "text": [
      "Sub 7\t 50.0%\t | 100.0% | 100.0%\n",
      "Confusion matrix, without normalization\n",
      "[[110   0]\n",
      " [  0 110]]\n",
      "Confusion matrix, without normalization\n",
      "[[5]]\n"
     ]
    },
    {
     "name": "stderr",
     "output_type": "stream",
     "text": [
      "/Users/hundredball/anaconda3/envs/Math24_new/lib/python3.7/site-packages/sklearn/metrics/_classification.py:1221: UndefinedMetricWarning: Recall is ill-defined and being set to 0.0 due to no true samples. Use `zero_division` parameter to control this behavior.\n",
      "  _warn_prf(average, modifier, msg_start, len(result))\n",
      "/Users/hundredball/anaconda3/envs/Math24_new/lib/python3.7/site-packages/sklearn/metrics/_classification.py:1221: UndefinedMetricWarning: Precision is ill-defined and being set to 0.0 due to no predicted samples. Use `zero_division` parameter to control this behavior.\n",
      "  _warn_prf(average, modifier, msg_start, len(result))\n"
     ]
    },
    {
     "name": "stdout",
     "output_type": "stream",
     "text": [
      "Sub 8\t 50.0%\t | 100.0% | 100.0%\n",
      "Confusion matrix, without normalization\n",
      "[[111   0]\n",
      " [  0 111]]\n",
      "Confusion matrix, without normalization\n",
      "[[4]]\n"
     ]
    },
    {
     "name": "stderr",
     "output_type": "stream",
     "text": [
      "/Users/hundredball/anaconda3/envs/Math24_new/lib/python3.7/site-packages/sklearn/metrics/_classification.py:1221: UndefinedMetricWarning: Recall is ill-defined and being set to 0.0 due to no true samples. Use `zero_division` parameter to control this behavior.\n",
      "  _warn_prf(average, modifier, msg_start, len(result))\n"
     ]
    },
    {
     "name": "stdout",
     "output_type": "stream",
     "text": [
      "Sub 9\t 50.0%\t | 100.0% | 50.0%\n",
      "Confusion matrix, without normalization\n",
      "[[113   0]\n",
      " [  0 113]]\n",
      "Confusion matrix, without normalization\n",
      "[[1 1]\n",
      " [0 0]]\n"
     ]
    },
    {
     "name": "stderr",
     "output_type": "stream",
     "text": [
      "/Users/hundredball/anaconda3/envs/Math24_new/lib/python3.7/site-packages/sklearn/metrics/_classification.py:1221: UndefinedMetricWarning: Precision is ill-defined and being set to 0.0 due to no predicted samples. Use `zero_division` parameter to control this behavior.\n",
      "  _warn_prf(average, modifier, msg_start, len(result))\n"
     ]
    },
    {
     "name": "stdout",
     "output_type": "stream",
     "text": [
      "Sub 10\t 50.0%\t | 100.0% | 0.0%\n",
      "Confusion matrix, without normalization\n",
      "[[115   0]\n",
      " [  0 115]]\n",
      "Confusion matrix, without normalization\n",
      "[[0 0]\n",
      " [3 0]]\n",
      "Sub 11\t 50.0%\t | 100.0% | 83.3%\n",
      "Confusion matrix, without normalization\n",
      "[[110   0]\n",
      " [  0 110]]\n",
      "Confusion matrix, without normalization\n",
      "[[4 1]\n",
      " [0 1]]\n"
     ]
    },
    {
     "name": "stderr",
     "output_type": "stream",
     "text": [
      "/Users/hundredball/anaconda3/envs/Math24_new/lib/python3.7/site-packages/sklearn/metrics/_classification.py:1221: UndefinedMetricWarning: Recall is ill-defined and being set to 0.0 due to no true samples. Use `zero_division` parameter to control this behavior.\n",
      "  _warn_prf(average, modifier, msg_start, len(result))\n",
      "/Users/hundredball/anaconda3/envs/Math24_new/lib/python3.7/site-packages/sklearn/metrics/_classification.py:1221: UndefinedMetricWarning: Precision is ill-defined and being set to 0.0 due to no predicted samples. Use `zero_division` parameter to control this behavior.\n",
      "  _warn_prf(average, modifier, msg_start, len(result))\n"
     ]
    },
    {
     "name": "stdout",
     "output_type": "stream",
     "text": [
      "Sub 12\t 50.0%\t | 100.0% | 100.0%\n",
      "Confusion matrix, without normalization\n",
      "[[109   0]\n",
      " [  0 109]]\n",
      "Confusion matrix, without normalization\n",
      "[[6]]\n"
     ]
    },
    {
     "name": "stderr",
     "output_type": "stream",
     "text": [
      "/Users/hundredball/anaconda3/envs/Math24_new/lib/python3.7/site-packages/sklearn/metrics/_classification.py:1221: UndefinedMetricWarning: Recall is ill-defined and being set to 0.0 due to no true samples. Use `zero_division` parameter to control this behavior.\n",
      "  _warn_prf(average, modifier, msg_start, len(result))\n",
      "/Users/hundredball/anaconda3/envs/Math24_new/lib/python3.7/site-packages/sklearn/metrics/_classification.py:1221: UndefinedMetricWarning: Precision is ill-defined and being set to 0.0 due to no predicted samples. Use `zero_division` parameter to control this behavior.\n",
      "  _warn_prf(average, modifier, msg_start, len(result))\n"
     ]
    },
    {
     "name": "stdout",
     "output_type": "stream",
     "text": [
      "Sub 13\t 50.0%\t | 100.0% | 100.0%\n",
      "Confusion matrix, without normalization\n",
      "[[110   0]\n",
      " [  0 110]]\n",
      "Confusion matrix, without normalization\n",
      "[[5]]\n"
     ]
    },
    {
     "name": "stderr",
     "output_type": "stream",
     "text": [
      "/Users/hundredball/anaconda3/envs/Math24_new/lib/python3.7/site-packages/sklearn/metrics/_classification.py:1221: UndefinedMetricWarning: Recall is ill-defined and being set to 0.0 due to no true samples. Use `zero_division` parameter to control this behavior.\n",
      "  _warn_prf(average, modifier, msg_start, len(result))\n",
      "/Users/hundredball/anaconda3/envs/Math24_new/lib/python3.7/site-packages/sklearn/metrics/_classification.py:1221: UndefinedMetricWarning: Precision is ill-defined and being set to 0.0 due to no predicted samples. Use `zero_division` parameter to control this behavior.\n",
      "  _warn_prf(average, modifier, msg_start, len(result))\n"
     ]
    },
    {
     "name": "stdout",
     "output_type": "stream",
     "text": [
      "Sub 14\t 50.0%\t | 100.0% | 100.0%\n",
      "Confusion matrix, without normalization\n",
      "[[113   0]\n",
      " [  0 113]]\n",
      "Confusion matrix, without normalization\n",
      "[[2]]\n"
     ]
    },
    {
     "name": "stderr",
     "output_type": "stream",
     "text": [
      "/Users/hundredball/anaconda3/envs/Math24_new/lib/python3.7/site-packages/sklearn/metrics/_classification.py:1221: UndefinedMetricWarning: Recall is ill-defined and being set to 0.0 due to no true samples. Use `zero_division` parameter to control this behavior.\n",
      "  _warn_prf(average, modifier, msg_start, len(result))\n"
     ]
    },
    {
     "name": "stdout",
     "output_type": "stream",
     "text": [
      "Sub 16\t 50.0%\t | 100.0% | 0.0%\n",
      "Confusion matrix, without normalization\n",
      "[[114   0]\n",
      " [  0 114]]\n",
      "Confusion matrix, without normalization\n",
      "[[0 1]\n",
      " [0 0]]\n"
     ]
    },
    {
     "name": "stderr",
     "output_type": "stream",
     "text": [
      "/Users/hundredball/anaconda3/envs/Math24_new/lib/python3.7/site-packages/sklearn/metrics/_classification.py:1221: UndefinedMetricWarning: Precision is ill-defined and being set to 0.0 due to no predicted samples. Use `zero_division` parameter to control this behavior.\n",
      "  _warn_prf(average, modifier, msg_start, len(result))\n"
     ]
    },
    {
     "name": "stdout",
     "output_type": "stream",
     "text": [
      "Sub 17\t 50.0%\t | 100.0% | 33.3%\n",
      "Confusion matrix, without normalization\n",
      "[[114   0]\n",
      " [  0 114]]\n",
      "Confusion matrix, without normalization\n",
      "[[1 0]\n",
      " [2 0]]\n"
     ]
    },
    {
     "name": "stderr",
     "output_type": "stream",
     "text": [
      "/Users/hundredball/anaconda3/envs/Math24_new/lib/python3.7/site-packages/sklearn/metrics/_classification.py:1221: UndefinedMetricWarning: Recall is ill-defined and being set to 0.0 due to no true samples. Use `zero_division` parameter to control this behavior.\n",
      "  _warn_prf(average, modifier, msg_start, len(result))\n"
     ]
    },
    {
     "name": "stdout",
     "output_type": "stream",
     "text": [
      "Sub 18\t 50.0%\t | 100.0% | 50.0%\n",
      "Confusion matrix, without normalization\n",
      "[[111   0]\n",
      " [  0 111]]\n",
      "Confusion matrix, without normalization\n",
      "[[2 2]\n",
      " [0 0]]\n"
     ]
    },
    {
     "name": "stderr",
     "output_type": "stream",
     "text": [
      "/Users/hundredball/anaconda3/envs/Math24_new/lib/python3.7/site-packages/sklearn/metrics/_classification.py:1221: UndefinedMetricWarning: Recall is ill-defined and being set to 0.0 due to no true samples. Use `zero_division` parameter to control this behavior.\n",
      "  _warn_prf(average, modifier, msg_start, len(result))\n",
      "/Users/hundredball/anaconda3/envs/Math24_new/lib/python3.7/site-packages/sklearn/metrics/_classification.py:1221: UndefinedMetricWarning: Precision is ill-defined and being set to 0.0 due to no predicted samples. Use `zero_division` parameter to control this behavior.\n",
      "  _warn_prf(average, modifier, msg_start, len(result))\n"
     ]
    },
    {
     "name": "stdout",
     "output_type": "stream",
     "text": [
      "Sub 19\t 50.0%\t | 100.0% | 100.0%\n",
      "Confusion matrix, without normalization\n",
      "[[110   0]\n",
      " [  0 110]]\n",
      "Confusion matrix, without normalization\n",
      "[[5]]\n"
     ]
    },
    {
     "name": "stderr",
     "output_type": "stream",
     "text": [
      "/Users/hundredball/anaconda3/envs/Math24_new/lib/python3.7/site-packages/sklearn/metrics/_classification.py:1221: UndefinedMetricWarning: Recall is ill-defined and being set to 0.0 due to no true samples. Use `zero_division` parameter to control this behavior.\n",
      "  _warn_prf(average, modifier, msg_start, len(result))\n",
      "/Users/hundredball/anaconda3/envs/Math24_new/lib/python3.7/site-packages/sklearn/metrics/_classification.py:1221: UndefinedMetricWarning: Precision is ill-defined and being set to 0.0 due to no predicted samples. Use `zero_division` parameter to control this behavior.\n",
      "  _warn_prf(average, modifier, msg_start, len(result))\n"
     ]
    },
    {
     "name": "stdout",
     "output_type": "stream",
     "text": [
      "Sub 20\t 50.0%\t | 100.0% | 100.0%\n",
      "Confusion matrix, without normalization\n",
      "[[103   0]\n",
      " [  0 103]]\n",
      "Confusion matrix, without normalization\n",
      "[[12]]\n"
     ]
    },
    {
     "name": "stderr",
     "output_type": "stream",
     "text": [
      "/Users/hundredball/anaconda3/envs/Math24_new/lib/python3.7/site-packages/sklearn/metrics/_classification.py:1221: UndefinedMetricWarning: Recall is ill-defined and being set to 0.0 due to no true samples. Use `zero_division` parameter to control this behavior.\n",
      "  _warn_prf(average, modifier, msg_start, len(result))\n",
      "/Users/hundredball/anaconda3/envs/Math24_new/lib/python3.7/site-packages/sklearn/metrics/_classification.py:1221: UndefinedMetricWarning: Precision is ill-defined and being set to 0.0 due to no predicted samples. Use `zero_division` parameter to control this behavior.\n",
      "  _warn_prf(average, modifier, msg_start, len(result))\n"
     ]
    },
    {
     "name": "stdout",
     "output_type": "stream",
     "text": [
      "Sub 21\t 50.0%\t | 100.0% | 100.0%\n",
      "Confusion matrix, without normalization\n",
      "[[106   0]\n",
      " [  0 106]]\n",
      "Confusion matrix, without normalization\n",
      "[[9]]\n"
     ]
    },
    {
     "name": "stderr",
     "output_type": "stream",
     "text": [
      "/Users/hundredball/anaconda3/envs/Math24_new/lib/python3.7/site-packages/sklearn/metrics/_classification.py:1221: UndefinedMetricWarning: Recall is ill-defined and being set to 0.0 due to no true samples. Use `zero_division` parameter to control this behavior.\n",
      "  _warn_prf(average, modifier, msg_start, len(result))\n"
     ]
    },
    {
     "name": "stdout",
     "output_type": "stream",
     "text": [
      "Sub 22\t 50.0%\t | 100.0% | 70.0%\n",
      "Confusion matrix, without normalization\n",
      "[[105   0]\n",
      " [  0 105]]\n",
      "Confusion matrix, without normalization\n",
      "[[7 3]\n",
      " [0 0]]\n"
     ]
    },
    {
     "name": "stderr",
     "output_type": "stream",
     "text": [
      "/Users/hundredball/anaconda3/envs/Math24_new/lib/python3.7/site-packages/sklearn/metrics/_classification.py:1221: UndefinedMetricWarning: Recall is ill-defined and being set to 0.0 due to no true samples. Use `zero_division` parameter to control this behavior.\n",
      "  _warn_prf(average, modifier, msg_start, len(result))\n"
     ]
    },
    {
     "name": "stdout",
     "output_type": "stream",
     "text": [
      "Sub 23\t 50.0%\t | 100.0% | 60.0%\n",
      "Confusion matrix, without normalization\n",
      "[[110   0]\n",
      " [  0 110]]\n",
      "Confusion matrix, without normalization\n",
      "[[3 2]\n",
      " [0 0]]\n",
      "Sub 24\t 50.0%\t | 100.0% | 50.0%\n",
      "Confusion matrix, without normalization\n",
      "[[110   0]\n",
      " [  0 110]]\n",
      "Confusion matrix, without normalization\n",
      "[[3 2]\n",
      " [1 0]]\n"
     ]
    },
    {
     "name": "stderr",
     "output_type": "stream",
     "text": [
      "/Users/hundredball/anaconda3/envs/Math24_new/lib/python3.7/site-packages/sklearn/metrics/_classification.py:1221: UndefinedMetricWarning: Recall is ill-defined and being set to 0.0 due to no true samples. Use `zero_division` parameter to control this behavior.\n",
      "  _warn_prf(average, modifier, msg_start, len(result))\n"
     ]
    },
    {
     "name": "stdout",
     "output_type": "stream",
     "text": [
      "Sub 25\t 50.0%\t | 100.0% | 83.3%\n",
      "Confusion matrix, without normalization\n",
      "[[109   0]\n",
      " [  0 109]]\n",
      "Confusion matrix, without normalization\n",
      "[[5 1]\n",
      " [0 0]]\n"
     ]
    },
    {
     "name": "stderr",
     "output_type": "stream",
     "text": [
      "/Users/hundredball/anaconda3/envs/Math24_new/lib/python3.7/site-packages/sklearn/metrics/_classification.py:1221: UndefinedMetricWarning: Recall is ill-defined and being set to 0.0 due to no true samples. Use `zero_division` parameter to control this behavior.\n",
      "  _warn_prf(average, modifier, msg_start, len(result))\n"
     ]
    },
    {
     "name": "stdout",
     "output_type": "stream",
     "text": [
      "Sub 26\t 50.0%\t | 100.0% | 28.6%\n",
      "Confusion matrix, without normalization\n",
      "[[108   0]\n",
      " [  0 108]]\n",
      "Confusion matrix, without normalization\n",
      "[[2 5]\n",
      " [0 0]]\n",
      "Average val acc: 71.5%\n",
      "Load data from .mat files...\n"
     ]
    },
    {
     "name": "stderr",
     "output_type": "stream",
     "text": [
      "/Users/hundredball/anaconda3/envs/Math24_new/lib/python3.7/site-packages/pandas/core/dtypes/missing.py:495: VisibleDeprecationWarning: Creating an ndarray from ragged nested sequences (which is a list-or-tuple of lists-or-tuples-or ndarrays with different lengths or shapes) is deprecated. If you meant to do this, you must specify 'dtype=object' when creating the ndarray\n",
      "  val = np.array(val, copy=False)\n",
      "/Users/hundredball/anaconda3/envs/Math24_new/lib/python3.7/site-packages/numpy/core/_asarray.py:83: VisibleDeprecationWarning: Creating an ndarray from ragged nested sequences (which is a list-or-tuple of lists-or-tuples-or ndarrays with different lengths or shapes) is deprecated. If you meant to do this, you must specify 'dtype=object' when creating the ndarray\n",
      "  return array(a, dtype, copy=False, order=order)\n"
     ]
    },
    {
     "name": "stdout",
     "output_type": "stream",
     "text": [
      "Calculating the bandpower of time-series data...\n",
      "freqs:  [0.000e+00 2.000e-01 4.000e-01 ... 4.996e+02 4.998e+02 5.000e+02]\n",
      "Sub  \t Chance\t | Train | Val\n",
      "Fold 0\t 80.3%\t | 80.3% | 76.9%\n"
     ]
    },
    {
     "name": "stderr",
     "output_type": "stream",
     "text": [
      "/Users/hundredball/anaconda3/envs/Math24_new/lib/python3.7/site-packages/sklearn/metrics/_classification.py:1221: UndefinedMetricWarning: Precision is ill-defined and being set to 0.0 due to no predicted samples. Use `zero_division` parameter to control this behavior.\n",
      "  _warn_prf(average, modifier, msg_start, len(result))\n"
     ]
    },
    {
     "name": "stdout",
     "output_type": "stream",
     "text": [
      "Confusion matrix, without normalization\n",
      "[[94  0]\n",
      " [23  0]]\n",
      "Confusion matrix, without normalization\n",
      "[[10  0]\n",
      " [ 3  0]]\n",
      "Fold 1\t 79.5%\t | 79.5% | 84.6%\n",
      "Confusion matrix, without normalization\n",
      "[[93  0]\n",
      " [24  0]]\n"
     ]
    },
    {
     "name": "stderr",
     "output_type": "stream",
     "text": [
      "/Users/hundredball/anaconda3/envs/Math24_new/lib/python3.7/site-packages/sklearn/metrics/_classification.py:1221: UndefinedMetricWarning: Precision is ill-defined and being set to 0.0 due to no predicted samples. Use `zero_division` parameter to control this behavior.\n",
      "  _warn_prf(average, modifier, msg_start, len(result))\n"
     ]
    },
    {
     "name": "stdout",
     "output_type": "stream",
     "text": [
      "Confusion matrix, without normalization\n",
      "[[11  0]\n",
      " [ 2  0]]\n",
      "Fold 2\t 79.5%\t | 79.5% | 84.6%\n",
      "Confusion matrix, without normalization\n",
      "[[93  0]\n",
      " [24  0]]\n"
     ]
    },
    {
     "name": "stderr",
     "output_type": "stream",
     "text": [
      "/Users/hundredball/anaconda3/envs/Math24_new/lib/python3.7/site-packages/sklearn/metrics/_classification.py:1221: UndefinedMetricWarning: Precision is ill-defined and being set to 0.0 due to no predicted samples. Use `zero_division` parameter to control this behavior.\n",
      "  _warn_prf(average, modifier, msg_start, len(result))\n"
     ]
    },
    {
     "name": "stdout",
     "output_type": "stream",
     "text": [
      "Confusion matrix, without normalization\n",
      "[[11  0]\n",
      " [ 2  0]]\n",
      "Fold 3\t 81.2%\t | 81.2% | 69.2%\n",
      "Confusion matrix, without normalization\n",
      "[[95  0]\n",
      " [22  0]]\n"
     ]
    },
    {
     "name": "stderr",
     "output_type": "stream",
     "text": [
      "/Users/hundredball/anaconda3/envs/Math24_new/lib/python3.7/site-packages/sklearn/metrics/_classification.py:1221: UndefinedMetricWarning: Precision is ill-defined and being set to 0.0 due to no predicted samples. Use `zero_division` parameter to control this behavior.\n",
      "  _warn_prf(average, modifier, msg_start, len(result))\n"
     ]
    },
    {
     "name": "stdout",
     "output_type": "stream",
     "text": [
      "Confusion matrix, without normalization\n",
      "[[9 0]\n",
      " [4 0]]\n",
      "Fold 4\t 80.3%\t | 80.3% | 76.9%\n"
     ]
    },
    {
     "name": "stderr",
     "output_type": "stream",
     "text": [
      "/Users/hundredball/anaconda3/envs/Math24_new/lib/python3.7/site-packages/sklearn/metrics/_classification.py:1221: UndefinedMetricWarning: Precision is ill-defined and being set to 0.0 due to no predicted samples. Use `zero_division` parameter to control this behavior.\n",
      "  _warn_prf(average, modifier, msg_start, len(result))\n"
     ]
    },
    {
     "name": "stdout",
     "output_type": "stream",
     "text": [
      "Confusion matrix, without normalization\n",
      "[[94  0]\n",
      " [23  0]]\n",
      "Confusion matrix, without normalization\n",
      "[[10  0]\n",
      " [ 3  0]]\n"
     ]
    },
    {
     "name": "stderr",
     "output_type": "stream",
     "text": [
      "/Users/hundredball/anaconda3/envs/Math24_new/lib/python3.7/site-packages/sklearn/metrics/_classification.py:1221: UndefinedMetricWarning: Precision is ill-defined and being set to 0.0 due to no predicted samples. Use `zero_division` parameter to control this behavior.\n",
      "  _warn_prf(average, modifier, msg_start, len(result))\n"
     ]
    },
    {
     "name": "stdout",
     "output_type": "stream",
     "text": [
      "Fold 5\t 78.6%\t | 78.6% | 92.3%\n",
      "Confusion matrix, without normalization\n",
      "[[92  0]\n",
      " [25  0]]\n",
      "Confusion matrix, without normalization\n",
      "[[12  0]\n",
      " [ 1  0]]\n"
     ]
    },
    {
     "name": "stderr",
     "output_type": "stream",
     "text": [
      "/Users/hundredball/anaconda3/envs/Math24_new/lib/python3.7/site-packages/sklearn/metrics/_classification.py:1221: UndefinedMetricWarning: Precision is ill-defined and being set to 0.0 due to no predicted samples. Use `zero_division` parameter to control this behavior.\n",
      "  _warn_prf(average, modifier, msg_start, len(result))\n"
     ]
    },
    {
     "name": "stdout",
     "output_type": "stream",
     "text": [
      "Fold 6\t 79.5%\t | 79.5% | 84.6%\n",
      "Confusion matrix, without normalization\n",
      "[[93  0]\n",
      " [24  0]]\n",
      "Confusion matrix, without normalization\n",
      "[[11  0]\n",
      " [ 2  0]]\n"
     ]
    },
    {
     "name": "stderr",
     "output_type": "stream",
     "text": [
      "/Users/hundredball/anaconda3/envs/Math24_new/lib/python3.7/site-packages/sklearn/metrics/_classification.py:1221: UndefinedMetricWarning: Precision is ill-defined and being set to 0.0 due to no predicted samples. Use `zero_division` parameter to control this behavior.\n",
      "  _warn_prf(average, modifier, msg_start, len(result))\n"
     ]
    },
    {
     "name": "stdout",
     "output_type": "stream",
     "text": [
      "Fold 7\t 81.2%\t | 81.2% | 69.2%\n",
      "Confusion matrix, without normalization\n",
      "[[95  0]\n",
      " [22  0]]\n",
      "Confusion matrix, without normalization\n",
      "[[9 0]\n",
      " [4 0]]\n"
     ]
    },
    {
     "name": "stderr",
     "output_type": "stream",
     "text": [
      "/Users/hundredball/anaconda3/envs/Math24_new/lib/python3.7/site-packages/sklearn/metrics/_classification.py:1221: UndefinedMetricWarning: Precision is ill-defined and being set to 0.0 due to no predicted samples. Use `zero_division` parameter to control this behavior.\n",
      "  _warn_prf(average, modifier, msg_start, len(result))\n"
     ]
    },
    {
     "name": "stdout",
     "output_type": "stream",
     "text": [
      "Fold 8\t 79.5%\t | 79.5% | 84.6%\n",
      "Confusion matrix, without normalization\n",
      "[[93  0]\n",
      " [24  0]]\n",
      "Confusion matrix, without normalization\n",
      "[[11  0]\n",
      " [ 2  0]]\n"
     ]
    },
    {
     "name": "stderr",
     "output_type": "stream",
     "text": [
      "/Users/hundredball/anaconda3/envs/Math24_new/lib/python3.7/site-packages/sklearn/metrics/_classification.py:1221: UndefinedMetricWarning: Precision is ill-defined and being set to 0.0 due to no predicted samples. Use `zero_division` parameter to control this behavior.\n",
      "  _warn_prf(average, modifier, msg_start, len(result))\n"
     ]
    },
    {
     "name": "stdout",
     "output_type": "stream",
     "text": [
      "Fold 9\t 80.3%\t | 80.3% | 76.9%\n",
      "Confusion matrix, without normalization\n",
      "[[94  0]\n",
      " [23  0]]\n",
      "Confusion matrix, without normalization\n",
      "[[10  0]\n",
      " [ 3  0]]\n",
      "Average val acc: 80.0%\n",
      "Sub  \t Chance\t | Train | Val\n",
      "Sub 1\t 80.0%\t | 80.0% | 80.0%\n",
      "Confusion matrix, without normalization\n",
      "[[100   0]\n",
      " [ 25   0]]\n"
     ]
    },
    {
     "name": "stderr",
     "output_type": "stream",
     "text": [
      "/Users/hundredball/anaconda3/envs/Math24_new/lib/python3.7/site-packages/sklearn/metrics/_classification.py:1221: UndefinedMetricWarning: Precision is ill-defined and being set to 0.0 due to no predicted samples. Use `zero_division` parameter to control this behavior.\n",
      "  _warn_prf(average, modifier, msg_start, len(result))\n"
     ]
    },
    {
     "name": "stdout",
     "output_type": "stream",
     "text": [
      "Confusion matrix, without normalization\n",
      "[[4 0]\n",
      " [1 0]]\n"
     ]
    },
    {
     "name": "stderr",
     "output_type": "stream",
     "text": [
      "/Users/hundredball/anaconda3/envs/Math24_new/lib/python3.7/site-packages/sklearn/metrics/_classification.py:1221: UndefinedMetricWarning: Recall is ill-defined and being set to 0.0 due to no true samples. Use `zero_division` parameter to control this behavior.\n",
      "  _warn_prf(average, modifier, msg_start, len(result))\n",
      "/Users/hundredball/anaconda3/envs/Math24_new/lib/python3.7/site-packages/sklearn/metrics/_classification.py:1221: UndefinedMetricWarning: Precision is ill-defined and being set to 0.0 due to no predicted samples. Use `zero_division` parameter to control this behavior.\n",
      "  _warn_prf(average, modifier, msg_start, len(result))\n"
     ]
    },
    {
     "name": "stdout",
     "output_type": "stream",
     "text": [
      "Sub 2\t 79.8%\t | 79.8% | 100.0%\n",
      "Confusion matrix, without normalization\n",
      "[[103   0]\n",
      " [ 26   0]]\n",
      "Confusion matrix, without normalization\n",
      "[[1]]\n"
     ]
    },
    {
     "name": "stderr",
     "output_type": "stream",
     "text": [
      "/Users/hundredball/anaconda3/envs/Math24_new/lib/python3.7/site-packages/sklearn/metrics/_classification.py:1221: UndefinedMetricWarning: Precision is ill-defined and being set to 0.0 due to no predicted samples. Use `zero_division` parameter to control this behavior.\n",
      "  _warn_prf(average, modifier, msg_start, len(result))\n"
     ]
    },
    {
     "name": "stdout",
     "output_type": "stream",
     "text": [
      "Sub 3\t 80.6%\t | 80.6% | 66.7%\n",
      "Confusion matrix, without normalization\n",
      "[[100   0]\n",
      " [ 24   0]]\n",
      "Confusion matrix, without normalization\n",
      "[[4 0]\n",
      " [2 0]]\n",
      "Sub 4\t 79.8%\t | 79.8% | 83.3%\n",
      "Confusion matrix, without normalization"
     ]
    },
    {
     "name": "stderr",
     "output_type": "stream",
     "text": [
      "/Users/hundredball/anaconda3/envs/Math24_new/lib/python3.7/site-packages/sklearn/metrics/_classification.py:1221: UndefinedMetricWarning: Precision is ill-defined and being set to 0.0 due to no predicted samples. Use `zero_division` parameter to control this behavior.\n",
      "  _warn_prf(average, modifier, msg_start, len(result))\n"
     ]
    },
    {
     "name": "stdout",
     "output_type": "stream",
     "text": [
      "\n",
      "[[99  0]\n",
      " [25  0]]\n",
      "Confusion matrix, without normalization\n",
      "[[5 0]\n",
      " [1 0]]\n"
     ]
    },
    {
     "name": "stderr",
     "output_type": "stream",
     "text": [
      "/Users/hundredball/anaconda3/envs/Math24_new/lib/python3.7/site-packages/sklearn/metrics/_classification.py:1221: UndefinedMetricWarning: Recall is ill-defined and being set to 0.0 due to no true samples. Use `zero_division` parameter to control this behavior.\n",
      "  _warn_prf(average, modifier, msg_start, len(result))\n",
      "/Users/hundredball/anaconda3/envs/Math24_new/lib/python3.7/site-packages/sklearn/metrics/_classification.py:1221: UndefinedMetricWarning: Precision is ill-defined and being set to 0.0 due to no predicted samples. Use `zero_division` parameter to control this behavior.\n",
      "  _warn_prf(average, modifier, msg_start, len(result))\n"
     ]
    },
    {
     "name": "stdout",
     "output_type": "stream",
     "text": [
      "Sub 5\t 79.0%\t | 79.0% | 100.0%\n",
      "Confusion matrix, without normalization\n",
      "[[98  0]\n",
      " [26  0]]\n",
      "Confusion matrix, without normalization\n",
      "[[6]]\n"
     ]
    },
    {
     "name": "stderr",
     "output_type": "stream",
     "text": [
      "/Users/hundredball/anaconda3/envs/Math24_new/lib/python3.7/site-packages/sklearn/metrics/_classification.py:1221: UndefinedMetricWarning: Precision is ill-defined and being set to 0.0 due to no predicted samples. Use `zero_division` parameter to control this behavior.\n",
      "  _warn_prf(average, modifier, msg_start, len(result))\n"
     ]
    },
    {
     "name": "stdout",
     "output_type": "stream",
     "text": [
      "Sub 6\t 81.6%\t | 81.6% | 40.0%\n",
      "Confusion matrix, without normalization\n",
      "[[102   0]\n",
      " [ 23   0]]\n",
      "Confusion matrix, without normalization\n",
      "[[2 0]\n",
      " [3 0]]\n",
      "Sub 7\t 80.0%\t | 80.0% | 80.0%\n",
      "Confusion matrix, without normalization\n",
      "[[100   0]\n",
      " [ 25   0]]\n"
     ]
    },
    {
     "name": "stderr",
     "output_type": "stream",
     "text": [
      "/Users/hundredball/anaconda3/envs/Math24_new/lib/python3.7/site-packages/sklearn/metrics/_classification.py:1221: UndefinedMetricWarning: Precision is ill-defined and being set to 0.0 due to no predicted samples. Use `zero_division` parameter to control this behavior.\n",
      "  _warn_prf(average, modifier, msg_start, len(result))\n"
     ]
    },
    {
     "name": "stdout",
     "output_type": "stream",
     "text": [
      "Confusion matrix, without normalization\n",
      "[[4 0]\n",
      " [1 0]]\n",
      "Sub 8\t 79.4%\t | 79.4% | 100.0%\n"
     ]
    },
    {
     "name": "stderr",
     "output_type": "stream",
     "text": [
      "/Users/hundredball/anaconda3/envs/Math24_new/lib/python3.7/site-packages/sklearn/metrics/_classification.py:1221: UndefinedMetricWarning: Recall is ill-defined and being set to 0.0 due to no true samples. Use `zero_division` parameter to control this behavior.\n",
      "  _warn_prf(average, modifier, msg_start, len(result))\n",
      "/Users/hundredball/anaconda3/envs/Math24_new/lib/python3.7/site-packages/sklearn/metrics/_classification.py:1221: UndefinedMetricWarning: Precision is ill-defined and being set to 0.0 due to no predicted samples. Use `zero_division` parameter to control this behavior.\n",
      "  _warn_prf(average, modifier, msg_start, len(result))\n"
     ]
    },
    {
     "name": "stdout",
     "output_type": "stream",
     "text": [
      "Confusion matrix, without normalization\n",
      "[[100   0]\n",
      " [ 26   0]]\n",
      "Confusion matrix, without normalization\n",
      "[[4]]\n"
     ]
    },
    {
     "name": "stderr",
     "output_type": "stream",
     "text": [
      "/Users/hundredball/anaconda3/envs/Math24_new/lib/python3.7/site-packages/sklearn/metrics/_classification.py:1221: UndefinedMetricWarning: Precision is ill-defined and being set to 0.0 due to no predicted samples. Use `zero_division` parameter to control this behavior.\n",
      "  _warn_prf(average, modifier, msg_start, len(result))\n"
     ]
    },
    {
     "name": "stdout",
     "output_type": "stream",
     "text": [
      "Sub 9\t 80.5%\t | 80.5% | 50.0%\n",
      "Confusion matrix, without normalization\n",
      "[[103   0]\n",
      " [ 25   0]]\n",
      "Confusion matrix, without normalization\n",
      "[[1 0]\n",
      " [1 0]]\n"
     ]
    },
    {
     "name": "stderr",
     "output_type": "stream",
     "text": [
      "/Users/hundredball/anaconda3/envs/Math24_new/lib/python3.7/site-packages/sklearn/metrics/_classification.py:1221: UndefinedMetricWarning: Recall is ill-defined and being set to 0.0 due to no true samples. Use `zero_division` parameter to control this behavior.\n",
      "  _warn_prf(average, modifier, msg_start, len(result))\n",
      "/Users/hundredball/anaconda3/envs/Math24_new/lib/python3.7/site-packages/sklearn/metrics/_classification.py:1221: UndefinedMetricWarning: Precision is ill-defined and being set to 0.0 due to no predicted samples. Use `zero_division` parameter to control this behavior.\n",
      "  _warn_prf(average, modifier, msg_start, len(result))\n"
     ]
    },
    {
     "name": "stdout",
     "output_type": "stream",
     "text": [
      "Sub 10\t 79.5%\t | 79.5% | 100.0%\n",
      "Confusion matrix, without normalization\n",
      "[[101   0]\n",
      " [ 26   0]]\n",
      "Confusion matrix, without normalization\n",
      "[[3]]\n",
      "Sub 11\t 79.8%\t | 79.8% | 83.3%\n",
      "Confusion matrix, without normalization\n",
      "[[99  0]\n",
      " [25  0]]\n"
     ]
    },
    {
     "name": "stderr",
     "output_type": "stream",
     "text": [
      "/Users/hundredball/anaconda3/envs/Math24_new/lib/python3.7/site-packages/sklearn/metrics/_classification.py:1221: UndefinedMetricWarning: Precision is ill-defined and being set to 0.0 due to no predicted samples. Use `zero_division` parameter to control this behavior.\n",
      "  _warn_prf(average, modifier, msg_start, len(result))\n"
     ]
    },
    {
     "name": "stdout",
     "output_type": "stream",
     "text": [
      "Confusion matrix, without normalization\n",
      "[[5 0]\n",
      " [1 0]]\n",
      "Sub 12\t 82.3%\t | 82.3% | 33.3%\n",
      "Confusion matrix, without normalization\n",
      "[[102   0]\n",
      " [ 22   0]]\n"
     ]
    },
    {
     "name": "stderr",
     "output_type": "stream",
     "text": [
      "/Users/hundredball/anaconda3/envs/Math24_new/lib/python3.7/site-packages/sklearn/metrics/_classification.py:1221: UndefinedMetricWarning: Precision is ill-defined and being set to 0.0 due to no predicted samples. Use `zero_division` parameter to control this behavior.\n",
      "  _warn_prf(average, modifier, msg_start, len(result))\n"
     ]
    },
    {
     "name": "stdout",
     "output_type": "stream",
     "text": [
      "Confusion matrix, without normalization\n",
      "[[2 0]\n",
      " [4 0]]\n"
     ]
    },
    {
     "name": "stderr",
     "output_type": "stream",
     "text": [
      "/Users/hundredball/anaconda3/envs/Math24_new/lib/python3.7/site-packages/sklearn/metrics/_classification.py:1221: UndefinedMetricWarning: Recall is ill-defined and being set to 0.0 due to no true samples. Use `zero_division` parameter to control this behavior.\n",
      "  _warn_prf(average, modifier, msg_start, len(result))\n",
      "/Users/hundredball/anaconda3/envs/Math24_new/lib/python3.7/site-packages/sklearn/metrics/_classification.py:1221: UndefinedMetricWarning: Precision is ill-defined and being set to 0.0 due to no predicted samples. Use `zero_division` parameter to control this behavior.\n",
      "  _warn_prf(average, modifier, msg_start, len(result))\n"
     ]
    },
    {
     "name": "stdout",
     "output_type": "stream",
     "text": [
      "Sub 13\t 79.2%\t | 79.2% | 100.0%\n",
      "Confusion matrix, without normalization\n",
      "[[99  0]\n",
      " [26  0]]\n",
      "Confusion matrix, without normalization\n",
      "[[5]]\n"
     ]
    },
    {
     "name": "stderr",
     "output_type": "stream",
     "text": [
      "/Users/hundredball/anaconda3/envs/Math24_new/lib/python3.7/site-packages/sklearn/metrics/_classification.py:1221: UndefinedMetricWarning: Recall is ill-defined and being set to 0.0 due to no true samples. Use `zero_division` parameter to control this behavior.\n",
      "  _warn_prf(average, modifier, msg_start, len(result))\n",
      "/Users/hundredball/anaconda3/envs/Math24_new/lib/python3.7/site-packages/sklearn/metrics/_classification.py:1221: UndefinedMetricWarning: Precision is ill-defined and being set to 0.0 due to no predicted samples. Use `zero_division` parameter to control this behavior.\n",
      "  _warn_prf(average, modifier, msg_start, len(result))\n"
     ]
    },
    {
     "name": "stdout",
     "output_type": "stream",
     "text": [
      "Sub 14\t 79.7%\t | 79.7% | 100.0%\n",
      "Confusion matrix, without normalization\n",
      "[[102   0]\n",
      " [ 26   0]]\n",
      "Confusion matrix, without normalization\n",
      "[[2]]\n"
     ]
    },
    {
     "name": "stderr",
     "output_type": "stream",
     "text": [
      "/Users/hundredball/anaconda3/envs/Math24_new/lib/python3.7/site-packages/sklearn/metrics/_classification.py:1221: UndefinedMetricWarning: Precision is ill-defined and being set to 0.0 due to no predicted samples. Use `zero_division` parameter to control this behavior.\n",
      "  _warn_prf(average, modifier, msg_start, len(result))\n"
     ]
    },
    {
     "name": "stdout",
     "output_type": "stream",
     "text": [
      "Sub 16\t 80.6%\t | 80.6% | 0.0%\n",
      "Confusion matrix, without normalization\n",
      "[[104   0]\n",
      " [ 25   0]]\n",
      "Confusion matrix, without normalization\n",
      "[[0 0]\n",
      " [1 0]]\n"
     ]
    },
    {
     "name": "stderr",
     "output_type": "stream",
     "text": [
      "/Users/hundredball/anaconda3/envs/Math24_new/lib/python3.7/site-packages/sklearn/metrics/_classification.py:1221: UndefinedMetricWarning: Precision is ill-defined and being set to 0.0 due to no predicted samples. Use `zero_division` parameter to control this behavior.\n",
      "  _warn_prf(average, modifier, msg_start, len(result))\n"
     ]
    },
    {
     "name": "stdout",
     "output_type": "stream",
     "text": [
      "Sub 17\t 80.3%\t | 80.3% | 66.7%\n",
      "Confusion matrix, without normalization\n",
      "[[102   0]\n",
      " [ 25   0]]\n",
      "Confusion matrix, without normalization\n",
      "[[2 0]\n",
      " [1 0]]\n"
     ]
    },
    {
     "name": "stderr",
     "output_type": "stream",
     "text": [
      "/Users/hundredball/anaconda3/envs/Math24_new/lib/python3.7/site-packages/sklearn/metrics/_classification.py:1221: UndefinedMetricWarning: Precision is ill-defined and being set to 0.0 due to no predicted samples. Use `zero_division` parameter to control this behavior.\n",
      "  _warn_prf(average, modifier, msg_start, len(result))\n"
     ]
    },
    {
     "name": "stdout",
     "output_type": "stream",
     "text": [
      "Sub 18\t 80.2%\t | 80.2% | 75.0%\n",
      "Confusion matrix, without normalization\n",
      "[[101   0]\n",
      " [ 25   0]]\n",
      "Confusion matrix, without normalization\n",
      "[[3 0]\n",
      " [1 0]]\n"
     ]
    },
    {
     "name": "stderr",
     "output_type": "stream",
     "text": [
      "/Users/hundredball/anaconda3/envs/Math24_new/lib/python3.7/site-packages/sklearn/metrics/_classification.py:1221: UndefinedMetricWarning: Precision is ill-defined and being set to 0.0 due to no predicted samples. Use `zero_division` parameter to control this behavior.\n",
      "  _warn_prf(average, modifier, msg_start, len(result))\n"
     ]
    },
    {
     "name": "stdout",
     "output_type": "stream",
     "text": [
      "Sub 19\t 80.0%\t | 80.0% | 80.0%\n",
      "Confusion matrix, without normalization\n",
      "[[100   0]\n",
      " [ 25   0]]\n",
      "Confusion matrix, without normalization\n",
      "[[4 0]\n",
      " [1 0]]\n"
     ]
    },
    {
     "name": "stderr",
     "output_type": "stream",
     "text": [
      "/Users/hundredball/anaconda3/envs/Math24_new/lib/python3.7/site-packages/sklearn/metrics/_classification.py:1221: UndefinedMetricWarning: Precision is ill-defined and being set to 0.0 due to no predicted samples. Use `zero_division` parameter to control this behavior.\n",
      "  _warn_prf(average, modifier, msg_start, len(result))\n"
     ]
    },
    {
     "name": "stdout",
     "output_type": "stream",
     "text": [
      "Sub 20\t 80.5%\t | 80.5% | 75.0%\n",
      "Confusion matrix, without normalization\n",
      "[[95  0]\n",
      " [23  0]]\n",
      "Confusion matrix, without normalization\n",
      "[[9 0]\n",
      " [3 0]]\n"
     ]
    },
    {
     "name": "stderr",
     "output_type": "stream",
     "text": [
      "/Users/hundredball/anaconda3/envs/Math24_new/lib/python3.7/site-packages/sklearn/metrics/_classification.py:1221: UndefinedMetricWarning: Recall is ill-defined and being set to 0.0 due to no true samples. Use `zero_division` parameter to control this behavior.\n",
      "  _warn_prf(average, modifier, msg_start, len(result))\n",
      "/Users/hundredball/anaconda3/envs/Math24_new/lib/python3.7/site-packages/sklearn/metrics/_classification.py:1221: UndefinedMetricWarning: Precision is ill-defined and being set to 0.0 due to no predicted samples. Use `zero_division` parameter to control this behavior.\n",
      "  _warn_prf(average, modifier, msg_start, len(result))\n"
     ]
    },
    {
     "name": "stdout",
     "output_type": "stream",
     "text": [
      "Sub 21\t 78.5%\t | 78.5% | 100.0%\n",
      "Confusion matrix, without normalization\n",
      "[[95  0]\n",
      " [26  0]]\n",
      "Confusion matrix, without normalization\n",
      "[[9]]\n"
     ]
    },
    {
     "name": "stderr",
     "output_type": "stream",
     "text": [
      "/Users/hundredball/anaconda3/envs/Math24_new/lib/python3.7/site-packages/sklearn/metrics/_classification.py:1221: UndefinedMetricWarning: Recall is ill-defined and being set to 0.0 due to no true samples. Use `zero_division` parameter to control this behavior.\n",
      "  _warn_prf(average, modifier, msg_start, len(result))\n",
      "/Users/hundredball/anaconda3/envs/Math24_new/lib/python3.7/site-packages/sklearn/metrics/_classification.py:1221: UndefinedMetricWarning: Precision is ill-defined and being set to 0.0 due to no predicted samples. Use `zero_division` parameter to control this behavior.\n",
      "  _warn_prf(average, modifier, msg_start, len(result))\n"
     ]
    },
    {
     "name": "stdout",
     "output_type": "stream",
     "text": [
      "Sub 22\t 78.3%\t | 78.3% | 100.0%\n",
      "Confusion matrix, without normalization\n",
      "[[94  0]\n",
      " [26  0]]\n",
      "Confusion matrix, without normalization\n",
      "[[10]]\n"
     ]
    },
    {
     "name": "stderr",
     "output_type": "stream",
     "text": [
      "/Users/hundredball/anaconda3/envs/Math24_new/lib/python3.7/site-packages/sklearn/metrics/_classification.py:1221: UndefinedMetricWarning: Recall is ill-defined and being set to 0.0 due to no true samples. Use `zero_division` parameter to control this behavior.\n",
      "  _warn_prf(average, modifier, msg_start, len(result))\n",
      "/Users/hundredball/anaconda3/envs/Math24_new/lib/python3.7/site-packages/sklearn/metrics/_classification.py:1221: UndefinedMetricWarning: Precision is ill-defined and being set to 0.0 due to no predicted samples. Use `zero_division` parameter to control this behavior.\n",
      "  _warn_prf(average, modifier, msg_start, len(result))\n"
     ]
    },
    {
     "name": "stdout",
     "output_type": "stream",
     "text": [
      "Sub 23\t 79.2%\t | 79.2% | 100.0%\n",
      "Confusion matrix, without normalization\n",
      "[[99  0]\n",
      " [26  0]]\n",
      "Confusion matrix, without normalization\n",
      "[[5]]\n",
      "Sub 24\t 79.8%\t | 79.8% | 83.3%\n",
      "Confusion matrix, without normalization\n",
      "[[99  0]\n",
      " [25  0]]\n"
     ]
    },
    {
     "name": "stderr",
     "output_type": "stream",
     "text": [
      "/Users/hundredball/anaconda3/envs/Math24_new/lib/python3.7/site-packages/sklearn/metrics/_classification.py:1221: UndefinedMetricWarning: Precision is ill-defined and being set to 0.0 due to no predicted samples. Use `zero_division` parameter to control this behavior.\n",
      "  _warn_prf(average, modifier, msg_start, len(result))\n"
     ]
    },
    {
     "name": "stdout",
     "output_type": "stream",
     "text": [
      "Confusion matrix, without normalization\n",
      "[[5 0]\n",
      " [1 0]]\n",
      "Sub 25\t 79.0%\t | 79.0% | 100.0%\n",
      "Confusion matrix, without normalization\n",
      "[[98  0]\n",
      " [26  0]]\n"
     ]
    },
    {
     "name": "stderr",
     "output_type": "stream",
     "text": [
      "/Users/hundredball/anaconda3/envs/Math24_new/lib/python3.7/site-packages/sklearn/metrics/_classification.py:1221: UndefinedMetricWarning: Recall is ill-defined and being set to 0.0 due to no true samples. Use `zero_division` parameter to control this behavior.\n",
      "  _warn_prf(average, modifier, msg_start, len(result))\n",
      "/Users/hundredball/anaconda3/envs/Math24_new/lib/python3.7/site-packages/sklearn/metrics/_classification.py:1221: UndefinedMetricWarning: Precision is ill-defined and being set to 0.0 due to no predicted samples. Use `zero_division` parameter to control this behavior.\n",
      "  _warn_prf(average, modifier, msg_start, len(result))\n"
     ]
    },
    {
     "name": "stdout",
     "output_type": "stream",
     "text": [
      "Confusion matrix, without normalization\n",
      "[[6]]\n",
      "Sub 26\t 82.1%\t | 82.1% | 42.9%\n",
      "Confusion matrix, without normalization\n",
      "[[101   0]\n",
      " [ 22   0]]\n"
     ]
    },
    {
     "name": "stderr",
     "output_type": "stream",
     "text": [
      "/Users/hundredball/anaconda3/envs/Math24_new/lib/python3.7/site-packages/sklearn/metrics/_classification.py:1221: UndefinedMetricWarning: Precision is ill-defined and being set to 0.0 due to no predicted samples. Use `zero_division` parameter to control this behavior.\n",
      "  _warn_prf(average, modifier, msg_start, len(result))\n"
     ]
    },
    {
     "name": "stdout",
     "output_type": "stream",
     "text": [
      "Confusion matrix, without normalization\n",
      "[[3 0]\n",
      " [4 0]]\n",
      "Average val acc: 80.0%\n",
      "Sub  \t Chance\t | Train | Val\n",
      "Fold 0\t 50.0%\t | 68.1% | 53.8%\n",
      "Confusion matrix, without normalization\n",
      "[[62 32]\n",
      " [28 66]]\n",
      "Confusion matrix, without normalization\n",
      "[[6 4]\n",
      " [2 1]]\n",
      "Fold 1\t 50.0%\t | 59.7% | 38.5%\n",
      "Confusion matrix, without normalization\n",
      "[[19 74]\n",
      " [ 1 92]]\n",
      "Confusion matrix, without normalization\n",
      "[[4 7]\n",
      " [1 1]]\n",
      "Fold 2\t 50.0%\t | 65.6% | 61.5%\n",
      "Confusion matrix, without normalization\n",
      "[[77 16]\n",
      " [48 45]]\n",
      "Confusion matrix, without normalization\n",
      "[[8 3]\n",
      " [2 0]]\n",
      "Fold 3\t 50.0%\t | 63.7% | 53.8%\n",
      "Confusion matrix, without normalization\n",
      "[[50 45]\n",
      " [24 71]]\n",
      "Confusion matrix, without normalization\n",
      "[[3 6]\n",
      " [0 4]]\n",
      "Fold 4\t 50.0%\t | 63.3% | 69.2%\n",
      "Confusion matrix, without normalization\n",
      "[[64 30]\n",
      " [39 55]]\n",
      "Confusion matrix, without normalization\n",
      "[[8 2]\n",
      " [2 1]]\n",
      "Fold 5\t 50.0%\t | 63.6% | 15.4%\n",
      "Confusion matrix, without normalization\n",
      "[[49 43]\n",
      " [24 68]]\n",
      "Confusion matrix, without normalization\n",
      "[[ 2 10]\n",
      " [ 1  0]]\n",
      "Fold 6\t 50.0%\t | 59.7% | 61.5%\n",
      "Confusion matrix, without normalization\n",
      "[[78 15]\n",
      " [60 33]]\n",
      "Confusion matrix, without normalization\n",
      "[[8 3]\n",
      " [2 0]]\n",
      "Fold 7\t 50.0%\t | 60.0% | 61.5%\n",
      "Confusion matrix, without normalization\n",
      "[[63 32]\n",
      " [44 51]]\n",
      "Confusion matrix, without normalization\n",
      "[[6 3]\n",
      " [2 2]]\n"
     ]
    },
    {
     "name": "stderr",
     "output_type": "stream",
     "text": [
      "/Users/hundredball/anaconda3/envs/Math24_new/lib/python3.7/site-packages/sklearn/metrics/_classification.py:1221: UndefinedMetricWarning: Precision is ill-defined and being set to 0.0 due to no predicted samples. Use `zero_division` parameter to control this behavior.\n",
      "  _warn_prf(average, modifier, msg_start, len(result))\n"
     ]
    },
    {
     "name": "stdout",
     "output_type": "stream",
     "text": [
      "Fold 8\t 50.0%\t | 54.8% | 84.6%\n",
      "Confusion matrix, without normalization\n",
      "[[83 10]\n",
      " [74 19]]\n",
      "Confusion matrix, without normalization\n",
      "[[11  0]\n",
      " [ 2  0]]\n",
      "Fold 9\t 50.0%\t | 64.4% | 30.8%\n",
      "Confusion matrix, without normalization\n",
      "[[55 39]\n",
      " [28 66]]\n",
      "Confusion matrix, without normalization\n",
      "[[4 6]\n",
      " [3 0]]\n",
      "Average val acc: 53.1%\n",
      "Sub  \t Chance\t | Train | Val\n",
      "Sub 1\t 50.0%\t | 64.0% | 60.0%\n",
      "Confusion matrix, without normalization\n",
      "[[63 37]\n",
      " [35 65]]\n",
      "Confusion matrix, without normalization\n",
      "[[2 2]\n",
      " [0 1]]\n",
      "Sub 2\t 50.0%\t | 57.3% | 100.0%\n",
      "Confusion matrix, without normalization\n",
      "[[93 10]\n",
      " [78 25]]\n"
     ]
    },
    {
     "name": "stderr",
     "output_type": "stream",
     "text": [
      "/Users/hundredball/anaconda3/envs/Math24_new/lib/python3.7/site-packages/sklearn/metrics/_classification.py:1221: UndefinedMetricWarning: Recall is ill-defined and being set to 0.0 due to no true samples. Use `zero_division` parameter to control this behavior.\n",
      "  _warn_prf(average, modifier, msg_start, len(result))\n",
      "/Users/hundredball/anaconda3/envs/Math24_new/lib/python3.7/site-packages/sklearn/metrics/_classification.py:1221: UndefinedMetricWarning: Precision is ill-defined and being set to 0.0 due to no predicted samples. Use `zero_division` parameter to control this behavior.\n",
      "  _warn_prf(average, modifier, msg_start, len(result))\n"
     ]
    },
    {
     "name": "stdout",
     "output_type": "stream",
     "text": [
      "Confusion matrix, without normalization\n",
      "[[1]]\n",
      "Sub 3\t 50.0%\t | 60.0% | 66.7%\n",
      "Confusion matrix, without normalization\n",
      "[[25 75]\n",
      " [ 5 95]]\n",
      "Confusion matrix, without normalization\n",
      "[[2 2]\n",
      " [0 2]]\n",
      "Sub 4\t 50.0%\t | 60.1% | 66.7%\n",
      "Confusion matrix, without normalization\n",
      "[[87 12]\n",
      " [67 32]]\n",
      "Confusion matrix, without normalization\n",
      "[[4 1]\n",
      " [1 0]]\n"
     ]
    },
    {
     "name": "stderr",
     "output_type": "stream",
     "text": [
      "/Users/hundredball/anaconda3/envs/Math24_new/lib/python3.7/site-packages/sklearn/metrics/_classification.py:1221: UndefinedMetricWarning: Recall is ill-defined and being set to 0.0 due to no true samples. Use `zero_division` parameter to control this behavior.\n",
      "  _warn_prf(average, modifier, msg_start, len(result))\n",
      "/Users/hundredball/anaconda3/envs/Math24_new/lib/python3.7/site-packages/sklearn/metrics/_classification.py:1221: UndefinedMetricWarning: Precision is ill-defined and being set to 0.0 due to no predicted samples. Use `zero_division` parameter to control this behavior.\n",
      "  _warn_prf(average, modifier, msg_start, len(result))\n"
     ]
    },
    {
     "name": "stdout",
     "output_type": "stream",
     "text": [
      "Sub 5\t 50.0%\t | 58.2% | 100.0%\n",
      "Confusion matrix, without normalization\n",
      "[[90  8]\n",
      " [74 24]]\n",
      "Confusion matrix, without normalization\n",
      "[[6]]\n"
     ]
    },
    {
     "name": "stderr",
     "output_type": "stream",
     "text": [
      "/Users/hundredball/anaconda3/envs/Math24_new/lib/python3.7/site-packages/sklearn/metrics/_classification.py:1221: UndefinedMetricWarning: Precision is ill-defined and being set to 0.0 due to no predicted samples. Use `zero_division` parameter to control this behavior.\n",
      "  _warn_prf(average, modifier, msg_start, len(result))\n"
     ]
    },
    {
     "name": "stdout",
     "output_type": "stream",
     "text": [
      "Sub 6\t 50.0%\t | 63.2% | 40.0%\n",
      "Confusion matrix, without normalization\n",
      "[[34 68]\n",
      " [ 7 95]]\n",
      "Confusion matrix, without normalization\n",
      "[[2 0]\n",
      " [3 0]]\n",
      "Sub 7\t 50.0%\t | 64.0% | 60.0%\n",
      "Confusion matrix, without normalization\n",
      "[[85 15]\n",
      " [57 43]]\n",
      "Confusion matrix, without normalization\n",
      "[[3 1]\n",
      " [1 0]]\n"
     ]
    },
    {
     "name": "stderr",
     "output_type": "stream",
     "text": [
      "/Users/hundredball/anaconda3/envs/Math24_new/lib/python3.7/site-packages/sklearn/metrics/_classification.py:1221: UndefinedMetricWarning: Recall is ill-defined and being set to 0.0 due to no true samples. Use `zero_division` parameter to control this behavior.\n",
      "  _warn_prf(average, modifier, msg_start, len(result))\n"
     ]
    },
    {
     "name": "stdout",
     "output_type": "stream",
     "text": [
      "Sub 8\t 50.0%\t | 63.5% | 50.0%\n",
      "Confusion matrix, without normalization\n",
      "[[83 17]\n",
      " [56 44]]\n",
      "Confusion matrix, without normalization\n",
      "[[2 2]\n",
      " [0 0]]\n",
      "Sub 9\t 50.0%\t | 62.1% | 0.0%\n",
      "Confusion matrix, without normalization\n",
      "[[78 25]\n",
      " [53 50]]\n",
      "Confusion matrix, without normalization\n",
      "[[0 1]\n",
      " [1 0]]\n",
      "Sub 10\t 50.0%\t | 63.4% | 66.7%\n",
      "Confusion matrix, without normalization\n",
      "[[86 15]\n",
      " [59 42]]\n"
     ]
    },
    {
     "name": "stderr",
     "output_type": "stream",
     "text": [
      "/Users/hundredball/anaconda3/envs/Math24_new/lib/python3.7/site-packages/sklearn/metrics/_classification.py:1221: UndefinedMetricWarning: Recall is ill-defined and being set to 0.0 due to no true samples. Use `zero_division` parameter to control this behavior.\n",
      "  _warn_prf(average, modifier, msg_start, len(result))\n"
     ]
    },
    {
     "name": "stdout",
     "output_type": "stream",
     "text": [
      "Confusion matrix, without normalization\n",
      "[[2 1]\n",
      " [0 0]]\n",
      "Sub 11\t 50.0%\t | 56.6% | 83.3%\n",
      "Confusion matrix, without normalization\n",
      "[[93  6]\n",
      " [80 19]]\n"
     ]
    },
    {
     "name": "stderr",
     "output_type": "stream",
     "text": [
      "/Users/hundredball/anaconda3/envs/Math24_new/lib/python3.7/site-packages/sklearn/metrics/_classification.py:1221: UndefinedMetricWarning: Precision is ill-defined and being set to 0.0 due to no predicted samples. Use `zero_division` parameter to control this behavior.\n",
      "  _warn_prf(average, modifier, msg_start, len(result))\n"
     ]
    },
    {
     "name": "stdout",
     "output_type": "stream",
     "text": [
      "Confusion matrix, without normalization\n",
      "[[5 0]\n",
      " [1 0]]\n",
      "Sub 12\t 50.0%\t | 59.3% | 33.3%\n",
      "Confusion matrix, without normalization\n",
      "[[89 13]\n",
      " [70 32]]\n"
     ]
    },
    {
     "name": "stderr",
     "output_type": "stream",
     "text": [
      "/Users/hundredball/anaconda3/envs/Math24_new/lib/python3.7/site-packages/sklearn/metrics/_classification.py:1221: UndefinedMetricWarning: Precision is ill-defined and being set to 0.0 due to no predicted samples. Use `zero_division` parameter to control this behavior.\n",
      "  _warn_prf(average, modifier, msg_start, len(result))\n"
     ]
    },
    {
     "name": "stdout",
     "output_type": "stream",
     "text": [
      "Confusion matrix, without normalization\n",
      "[[2 0]\n",
      " [4 0]]\n"
     ]
    },
    {
     "name": "stderr",
     "output_type": "stream",
     "text": [
      "/Users/hundredball/anaconda3/envs/Math24_new/lib/python3.7/site-packages/sklearn/metrics/_classification.py:1221: UndefinedMetricWarning: Recall is ill-defined and being set to 0.0 due to no true samples. Use `zero_division` parameter to control this behavior.\n",
      "  _warn_prf(average, modifier, msg_start, len(result))\n"
     ]
    },
    {
     "name": "stdout",
     "output_type": "stream",
     "text": [
      "Sub 13\t 50.0%\t | 65.7% | 40.0%\n",
      "Confusion matrix, without normalization\n",
      "[[81 18]\n",
      " [50 49]]\n",
      "Confusion matrix, without normalization\n",
      "[[2 3]\n",
      " [0 0]]\n",
      "Sub 14\t 50.0%\t | 59.8% | 50.0%\n",
      "Confusion matrix, without normalization\n",
      "[[90 12]\n",
      " [70 32]]\n"
     ]
    },
    {
     "name": "stderr",
     "output_type": "stream",
     "text": [
      "/Users/hundredball/anaconda3/envs/Math24_new/lib/python3.7/site-packages/sklearn/metrics/_classification.py:1221: UndefinedMetricWarning: Recall is ill-defined and being set to 0.0 due to no true samples. Use `zero_division` parameter to control this behavior.\n",
      "  _warn_prf(average, modifier, msg_start, len(result))\n"
     ]
    },
    {
     "name": "stdout",
     "output_type": "stream",
     "text": [
      "Confusion matrix, without normalization\n",
      "[[1 1]\n",
      " [0 0]]\n",
      "Sub 16\t 50.0%\t | 53.8% | 0.0%\n",
      "Confusion matrix, without normalization\n",
      "[[91 13]\n",
      " [83 21]]\n"
     ]
    },
    {
     "name": "stderr",
     "output_type": "stream",
     "text": [
      "/Users/hundredball/anaconda3/envs/Math24_new/lib/python3.7/site-packages/sklearn/metrics/_classification.py:1221: UndefinedMetricWarning: Precision is ill-defined and being set to 0.0 due to no predicted samples. Use `zero_division` parameter to control this behavior.\n",
      "  _warn_prf(average, modifier, msg_start, len(result))\n"
     ]
    },
    {
     "name": "stdout",
     "output_type": "stream",
     "text": [
      "Confusion matrix, without normalization\n",
      "[[0 0]\n",
      " [1 0]]\n",
      "Sub 17\t 50.0%\t | 55.9% | 66.7%\n",
      "Confusion matrix, without normalization\n",
      "[[92 10]\n",
      " [80 22]]\n"
     ]
    },
    {
     "name": "stderr",
     "output_type": "stream",
     "text": [
      "/Users/hundredball/anaconda3/envs/Math24_new/lib/python3.7/site-packages/sklearn/metrics/_classification.py:1221: UndefinedMetricWarning: Precision is ill-defined and being set to 0.0 due to no predicted samples. Use `zero_division` parameter to control this behavior.\n",
      "  _warn_prf(average, modifier, msg_start, len(result))\n"
     ]
    },
    {
     "name": "stdout",
     "output_type": "stream",
     "text": [
      "Confusion matrix, without normalization\n",
      "[[2 0]\n",
      " [1 0]]\n",
      "Sub 18\t 50.0%\t | 64.9% | 50.0%\n",
      "Confusion matrix, without normalization\n",
      "[[85 16]\n",
      " [55 46]]\n",
      "Confusion matrix, without normalization\n",
      "[[2 1]\n",
      " [1 0]]\n"
     ]
    },
    {
     "name": "stderr",
     "output_type": "stream",
     "text": [
      "/Users/hundredball/anaconda3/envs/Math24_new/lib/python3.7/site-packages/sklearn/metrics/_classification.py:1221: UndefinedMetricWarning: Precision is ill-defined and being set to 0.0 due to no predicted samples. Use `zero_division` parameter to control this behavior.\n",
      "  _warn_prf(average, modifier, msg_start, len(result))\n"
     ]
    },
    {
     "name": "stdout",
     "output_type": "stream",
     "text": [
      "Sub 19\t 50.0%\t | 63.5% | 80.0%\n",
      "Confusion matrix, without normalization\n",
      "[[64 36]\n",
      " [37 63]]\n",
      "Confusion matrix, without normalization\n",
      "[[4 0]\n",
      " [1 0]]\n",
      "Sub 20\t 50.0%\t | 73.2% | 58.3%\n",
      "Confusion matrix, without normalization\n",
      "[[50 45]\n",
      " [ 6 89]]\n",
      "Confusion matrix, without normalization\n",
      "[[7 2]\n",
      " [3 0]]\n"
     ]
    },
    {
     "name": "stderr",
     "output_type": "stream",
     "text": [
      "/Users/hundredball/anaconda3/envs/Math24_new/lib/python3.7/site-packages/sklearn/metrics/_classification.py:1221: UndefinedMetricWarning: Recall is ill-defined and being set to 0.0 due to no true samples. Use `zero_division` parameter to control this behavior.\n",
      "  _warn_prf(average, modifier, msg_start, len(result))\n"
     ]
    },
    {
     "name": "stdout",
     "output_type": "stream",
     "text": [
      "Sub 21\t 50.0%\t | 62.1% | 33.3%\n",
      "Confusion matrix, without normalization\n",
      "[[77 18]\n",
      " [54 41]]\n",
      "Confusion matrix, without normalization\n",
      "[[3 6]\n",
      " [0 0]]\n"
     ]
    },
    {
     "name": "stderr",
     "output_type": "stream",
     "text": [
      "/Users/hundredball/anaconda3/envs/Math24_new/lib/python3.7/site-packages/sklearn/metrics/_classification.py:1221: UndefinedMetricWarning: Recall is ill-defined and being set to 0.0 due to no true samples. Use `zero_division` parameter to control this behavior.\n",
      "  _warn_prf(average, modifier, msg_start, len(result))\n"
     ]
    },
    {
     "name": "stdout",
     "output_type": "stream",
     "text": [
      "Sub 22\t 50.0%\t | 59.0% | 30.0%\n",
      "Confusion matrix, without normalization\n",
      "[[63 31]\n",
      " [46 48]]\n",
      "Confusion matrix, without normalization\n",
      "[[3 7]\n",
      " [0 0]]\n"
     ]
    },
    {
     "name": "stderr",
     "output_type": "stream",
     "text": [
      "/Users/hundredball/anaconda3/envs/Math24_new/lib/python3.7/site-packages/sklearn/metrics/_classification.py:1221: UndefinedMetricWarning: Recall is ill-defined and being set to 0.0 due to no true samples. Use `zero_division` parameter to control this behavior.\n",
      "  _warn_prf(average, modifier, msg_start, len(result))\n"
     ]
    },
    {
     "name": "stdout",
     "output_type": "stream",
     "text": [
      "Sub 23\t 50.0%\t | 62.1% | 40.0%\n",
      "Confusion matrix, without normalization\n",
      "[[86 13]\n",
      " [62 37]]\n",
      "Confusion matrix, without normalization\n",
      "[[2 3]\n",
      " [0 0]]\n"
     ]
    },
    {
     "name": "stderr",
     "output_type": "stream",
     "text": [
      "/Users/hundredball/anaconda3/envs/Math24_new/lib/python3.7/site-packages/sklearn/metrics/_classification.py:1221: UndefinedMetricWarning: Precision is ill-defined and being set to 0.0 due to no predicted samples. Use `zero_division` parameter to control this behavior.\n",
      "  _warn_prf(average, modifier, msg_start, len(result))\n"
     ]
    },
    {
     "name": "stdout",
     "output_type": "stream",
     "text": [
      "Sub 24\t 50.0%\t | 66.7% | 83.3%\n",
      "Confusion matrix, without normalization\n",
      "[[57 42]\n",
      " [24 75]]\n",
      "Confusion matrix, without normalization\n",
      "[[5 0]\n",
      " [1 0]]\n"
     ]
    },
    {
     "name": "stderr",
     "output_type": "stream",
     "text": [
      "/Users/hundredball/anaconda3/envs/Math24_new/lib/python3.7/site-packages/sklearn/metrics/_classification.py:1221: UndefinedMetricWarning: Recall is ill-defined and being set to 0.0 due to no true samples. Use `zero_division` parameter to control this behavior.\n",
      "  _warn_prf(average, modifier, msg_start, len(result))\n",
      "/Users/hundredball/anaconda3/envs/Math24_new/lib/python3.7/site-packages/sklearn/metrics/_classification.py:1221: UndefinedMetricWarning: Precision is ill-defined and being set to 0.0 due to no predicted samples. Use `zero_division` parameter to control this behavior.\n",
      "  _warn_prf(average, modifier, msg_start, len(result))\n"
     ]
    },
    {
     "name": "stdout",
     "output_type": "stream",
     "text": [
      "Sub 25\t 50.0%\t | 56.6% | 100.0%\n",
      "Confusion matrix, without normalization\n",
      "[[84 14]\n",
      " [71 27]]\n",
      "Confusion matrix, without normalization\n",
      "[[6]]\n",
      "Sub 26\t 50.0%\t | 68.8% | 28.6%\n",
      "Confusion matrix, without normalization\n",
      "[[74 27]\n",
      " [36 65]]\n",
      "Confusion matrix, without normalization\n",
      "[[2 1]\n",
      " [4 0]]\n",
      "Average val acc: 56.2%\n",
      "Sub  \t Chance\t | Train | Val\n",
      "Fold 0\t 80.3%\t | 99.1% | 76.9%\n",
      "Confusion matrix, without normalization\n",
      "[[94  0]\n",
      " [ 1 22]]\n"
     ]
    },
    {
     "name": "stderr",
     "output_type": "stream",
     "text": [
      "/Users/hundredball/anaconda3/envs/Math24_new/lib/python3.7/site-packages/sklearn/metrics/_classification.py:1221: UndefinedMetricWarning: Precision is ill-defined and being set to 0.0 due to no predicted samples. Use `zero_division` parameter to control this behavior.\n",
      "  _warn_prf(average, modifier, msg_start, len(result))\n"
     ]
    },
    {
     "name": "stdout",
     "output_type": "stream",
     "text": [
      "Confusion matrix, without normalization\n",
      "[[10  0]\n",
      " [ 3  0]]\n",
      "Fold 1\t 79.5%\t | 100.0% | 76.9%\n",
      "Confusion matrix, without normalization\n",
      "[[93  0]\n",
      " [ 0 24]]\n",
      "Confusion matrix, without normalization\n",
      "[[10  1]\n",
      " [ 2  0]]\n",
      "Fold 2\t 79.5%\t | 99.1% | 61.5%\n",
      "Confusion matrix, without normalization\n",
      "[[93  0]\n",
      " [ 1 23]]\n",
      "Confusion matrix, without normalization\n",
      "[[8 3]\n",
      " [2 0]]\n",
      "Fold 3\t 81.2%\t | 99.1% | 69.2%\n",
      "Confusion matrix, without normalization\n",
      "[[95  0]\n",
      " [ 1 21]]\n",
      "Confusion matrix, without normalization\n",
      "[[9 0]\n",
      " [4 0]]\n",
      "Fold 4\t 80.3%\t | 99.1% | 84.6%\n",
      "Confusion matrix, without normalization\n",
      "[[94  0]\n",
      " [ 1 22]]\n",
      "Confusion matrix, without normalization\n",
      "[[10  0]\n",
      " [ 2  1]]\n",
      "Fold 5\t 78.6%\t | 99.1% | 84.6%\n",
      "Confusion matrix, without normalization\n",
      "[[92  0]\n",
      " [ 1 24]]\n",
      "Confusion matrix, without normalization\n",
      "[[11  1]\n",
      " [ 1  0]]\n",
      "Fold 6\t 79.5%\t | 99.1% | 84.6%\n",
      "Confusion matrix, without normalization\n",
      "[[93  0]\n",
      " [ 1 23]]\n",
      "Confusion matrix, without normalization\n",
      "[[11  0]\n",
      " [ 2  0]]\n",
      "Fold 7\t 81.2%\t | 99.1% | 69.2%\n",
      "Confusion matrix, without normalization\n",
      "[[95  0]\n",
      " [ 1 21]]\n",
      "Confusion matrix, without normalization\n",
      "[[8 1]\n",
      " [3 1]]\n",
      "Fold 8\t 79.5%\t | 99.1% | 76.9%\n",
      "Confusion matrix, without normalization\n",
      "[[93  0]\n",
      " [ 1 23]]\n",
      "Confusion matrix, without normalization\n",
      "[[10  1]\n",
      " [ 2  0]]\n",
      "Fold 9\t 80.3%\t | 99.1% | 76.9%\n",
      "Confusion matrix, without normalization\n",
      "[[94  0]\n",
      " [ 1 22]]\n",
      "Confusion matrix, without normalization\n",
      "[[9 1]\n",
      " [2 1]]\n",
      "Average val acc: 76.2%\n",
      "Sub  \t Chance\t | Train | Val\n",
      "Sub 1\t 80.0%\t | 99.2% | 80.0%\n",
      "Confusion matrix, without normalization\n",
      "[[100   0]\n",
      " [  1  24]]\n",
      "Confusion matrix, without normalization\n",
      "[[3 1]\n",
      " [0 1]]\n"
     ]
    },
    {
     "name": "stderr",
     "output_type": "stream",
     "text": [
      "/Users/hundredball/anaconda3/envs/Math24_new/lib/python3.7/site-packages/sklearn/metrics/_classification.py:1221: UndefinedMetricWarning: Recall is ill-defined and being set to 0.0 due to no true samples. Use `zero_division` parameter to control this behavior.\n",
      "  _warn_prf(average, modifier, msg_start, len(result))\n"
     ]
    },
    {
     "name": "stdout",
     "output_type": "stream",
     "text": [
      "Sub 2\t 79.8%\t | 99.2% | 100.0%\n",
      "Confusion matrix, without normalization\n",
      "[[103   0]\n",
      " [  1  25]]\n",
      "Confusion matrix, without normalization\n",
      "[[1]]\n",
      "Sub 3\t 80.6%\t | 99.2% | 66.7%\n",
      "Confusion matrix, without normalization\n",
      "[[100   0]\n",
      " [  1  23]]\n",
      "Confusion matrix, without normalization\n",
      "[[4 0]\n",
      " [2 0]]\n",
      "Sub 4\t 79.8%\t | 99.2% | 83.3%\n",
      "Confusion matrix, without normalization\n",
      "[[99  0]\n",
      " [ 1 24]]\n",
      "Confusion matrix, without normalization\n",
      "[[5 0]\n",
      " [1 0]]\n",
      "Sub 5\t 79.0%\t | 99.2% | 100.0%\n",
      "Confusion matrix, without normalization\n",
      "[[98  0]\n",
      " [ 1 25]]\n",
      "Confusion matrix, without normalization\n",
      "[[6]]\n",
      "Sub 6\t 81.6%\t | 99.2% | 40.0%\n",
      "Confusion matrix, without normalization\n",
      "[[102   0]\n",
      " [  1  22]]\n",
      "Confusion matrix, without normalization\n",
      "[[2 0]\n",
      " [3 0]]\n",
      "Sub 7\t 80.0%\t | 99.2% | 60.0%\n",
      "Confusion matrix, without normalization\n",
      "[[100   0]\n",
      " [  1  24]]\n",
      "Confusion matrix, without normalization\n",
      "[[3 1]\n",
      " [1 0]]\n",
      "Sub 8\t 79.4%\t | 99.2% | 100.0%\n",
      "Confusion matrix, without normalization\n",
      "[[100   0]\n",
      " [  1  25]]\n",
      "Confusion matrix, without normalization\n",
      "[[4]]\n",
      "Sub 9\t 80.5%\t | 99.2% | 50.0%\n",
      "Confusion matrix, without normalization\n",
      "[[103   0]\n",
      " [  1  24]]\n",
      "Confusion matrix, without normalization\n",
      "[[1 0]\n",
      " [1 0]]\n",
      "Sub 10\t 79.5%\t | 99.2% | 100.0%\n",
      "Confusion matrix, without normalization\n",
      "[[101   0]\n",
      " [  1  25]]\n",
      "Confusion matrix, without normalization\n",
      "[[3]]\n",
      "Sub 11\t 79.8%\t | 99.2% | 66.7%\n",
      "Confusion matrix, without normalization\n",
      "[[99  0]\n",
      " [ 1 24]]\n",
      "Confusion matrix, without normalization\n",
      "[[4 1]\n",
      " [1 0]]\n",
      "Sub 12\t 82.3%\t | 99.2% | 33.3%\n",
      "Confusion matrix, without normalization\n",
      "[[102   0]\n",
      " [  1  21]]\n",
      "Confusion matrix, without normalization\n",
      "[[2 0]\n",
      " [4 0]]\n",
      "Sub 13\t 79.2%\t | 99.2% | 60.0%\n",
      "Confusion matrix, without normalization\n",
      "[[99  0]\n",
      " [ 1 25]]\n",
      "Confusion matrix, without normalization\n",
      "[[3 2]\n",
      " [0 0]]\n",
      "Sub 14\t 79.7%\t | 99.2% | 50.0%\n",
      "Confusion matrix, without normalization\n",
      "[[102   0]\n",
      " [  1  25]]\n",
      "Confusion matrix, without normalization\n",
      "[[1 1]\n",
      " [0 0]]\n",
      "Sub 16\t 80.6%\t | 99.2% | 0.0%\n",
      "Confusion matrix, without normalization\n",
      "[[104   0]\n",
      " [  1  24]]\n",
      "Confusion matrix, without normalization\n",
      "[[0 0]\n",
      " [1 0]]\n",
      "Sub 17\t 80.3%\t | 99.2% | 66.7%\n",
      "Confusion matrix, without normalization\n",
      "[[102   0]\n",
      " [  1  24]]\n",
      "Confusion matrix, without normalization\n",
      "[[2 0]\n",
      " [1 0]]\n",
      "Sub 18\t 80.2%\t | 99.2% | 75.0%\n",
      "Confusion matrix, without normalization\n",
      "[[101   0]\n",
      " [  1  24]]\n",
      "Confusion matrix, without normalization\n",
      "[[3 0]\n",
      " [1 0]]\n",
      "Sub 19\t 80.0%\t | 99.2% | 80.0%\n",
      "Confusion matrix, without normalization\n",
      "[[100   0]\n",
      " [  1  24]]\n",
      "Confusion matrix, without normalization\n",
      "[[4 0]\n",
      " [1 0]]\n",
      "Sub 20\t 80.5%\t | 100.0% | 75.0%\n",
      "Confusion matrix, without normalization\n",
      "[[95  0]\n",
      " [ 0 23]]\n",
      "Confusion matrix, without normalization\n",
      "[[9 0]\n",
      " [3 0]]\n",
      "Sub 21\t 78.5%\t | 99.2% | 88.9%\n",
      "Confusion matrix, without normalization\n",
      "[[95  0]\n",
      " [ 1 25]]\n",
      "Confusion matrix, without normalization\n",
      "[[8 1]\n",
      " [0 0]]\n",
      "Sub 22\t 78.3%\t | 99.2% | 100.0%\n",
      "Confusion matrix, without normalization\n",
      "[[94  0]\n",
      " [ 1 25]]\n",
      "Confusion matrix, without normalization\n",
      "[[10]]\n",
      "Sub 23\t 79.2%\t | 99.2% | 100.0%\n",
      "Confusion matrix, without normalization\n",
      "[[99  0]\n",
      " [ 1 25]]\n",
      "Confusion matrix, without normalization\n",
      "[[5]]\n",
      "Sub 24\t 79.8%\t | 99.2% | 83.3%\n",
      "Confusion matrix, without normalization\n",
      "[[99  0]\n",
      " [ 1 24]]\n",
      "Confusion matrix, without normalization\n",
      "[[5 0]\n",
      " [1 0]]\n",
      "Sub 25\t 79.0%\t | 99.2% | 100.0%\n",
      "Confusion matrix, without normalization\n",
      "[[98  0]\n",
      " [ 1 25]]\n",
      "Confusion matrix, without normalization\n",
      "[[6]]\n",
      "Sub 26\t 82.1%\t | 99.2% | 28.6%\n",
      "Confusion matrix, without normalization\n",
      "[[101   0]\n",
      " [  1  21]]\n",
      "Confusion matrix, without normalization\n",
      "[[2 1]\n",
      " [4 0]]\n",
      "Average val acc: 74.6%\n",
      "Sub  \t Chance\t | Train | Val\n",
      "Fold 0\t 50.0%\t | 99.5% | 61.5%\n",
      "Confusion matrix, without normalization\n",
      "[[94  0]\n",
      " [ 1 93]]\n",
      "Confusion matrix, without normalization\n",
      "[[8 2]\n",
      " [3 0]]\n",
      "Fold 1\t 50.0%\t | 100.0% | 76.9%\n",
      "Confusion matrix, without normalization\n",
      "[[93  0]\n",
      " [ 0 93]]\n",
      "Confusion matrix, without normalization\n",
      "[[9 2]\n",
      " [1 1]]\n",
      "Fold 2\t 50.0%\t | 99.5% | 69.2%\n",
      "Confusion matrix, without normalization\n",
      "[[93  0]\n",
      " [ 1 92]]\n",
      "Confusion matrix, without normalization\n",
      "[[8 3]\n",
      " [1 1]]\n",
      "Fold 3\t 50.0%\t | 99.5% | 46.2%\n",
      "Confusion matrix, without normalization\n",
      "[[95  0]\n",
      " [ 1 94]]\n",
      "Confusion matrix, without normalization\n",
      "[[4 5]\n",
      " [2 2]]\n",
      "Fold 4\t 50.0%\t | 99.5% | 76.9%\n",
      "Confusion matrix, without normalization\n",
      "[[94  0]\n",
      " [ 1 93]]\n",
      "Confusion matrix, without normalization\n",
      "[[7 3]\n",
      " [0 3]]\n",
      "Fold 5\t 50.0%\t | 100.0% | 46.2%\n",
      "Confusion matrix, without normalization\n",
      "[[92  0]\n",
      " [ 0 92]]\n",
      "Confusion matrix, without normalization\n",
      "[[6 6]\n",
      " [1 0]]\n",
      "Fold 6\t 50.0%\t | 99.5% | 69.2%\n",
      "Confusion matrix, without normalization\n",
      "[[93  0]\n",
      " [ 1 92]]\n",
      "Confusion matrix, without normalization\n",
      "[[8 3]\n",
      " [1 1]]\n",
      "Fold 7\t 50.0%\t | 99.5% | 61.5%\n",
      "Confusion matrix, without normalization\n",
      "[[95  0]\n",
      " [ 1 94]]\n",
      "Confusion matrix, without normalization\n",
      "[[7 2]\n",
      " [3 1]]\n",
      "Fold 8\t 50.0%\t | 99.5% | 61.5%\n",
      "Confusion matrix, without normalization\n",
      "[[93  0]\n",
      " [ 1 92]]\n",
      "Confusion matrix, without normalization\n",
      "[[7 4]\n",
      " [1 1]]\n",
      "Fold 9\t 50.0%\t | 99.5% | 76.9%\n",
      "Confusion matrix, without normalization\n",
      "[[94  0]\n",
      " [ 1 93]]\n",
      "Confusion matrix, without normalization\n",
      "[[8 2]\n",
      " [1 2]]\n",
      "Average val acc: 64.6%\n",
      "Sub  \t Chance\t | Train | Val\n",
      "Sub 1\t 50.0%\t | 99.5% | 80.0%\n",
      "Confusion matrix, without normalization\n",
      "[[100   0]\n",
      " [  1  99]]\n",
      "Confusion matrix, without normalization\n",
      "[[3 1]\n",
      " [0 1]]\n"
     ]
    },
    {
     "name": "stderr",
     "output_type": "stream",
     "text": [
      "/Users/hundredball/anaconda3/envs/Math24_new/lib/python3.7/site-packages/sklearn/metrics/_classification.py:1221: UndefinedMetricWarning: Recall is ill-defined and being set to 0.0 due to no true samples. Use `zero_division` parameter to control this behavior.\n",
      "  _warn_prf(average, modifier, msg_start, len(result))\n",
      "/Users/hundredball/anaconda3/envs/Math24_new/lib/python3.7/site-packages/sklearn/metrics/_classification.py:1221: UndefinedMetricWarning: Precision is ill-defined and being set to 0.0 due to no predicted samples. Use `zero_division` parameter to control this behavior.\n",
      "  _warn_prf(average, modifier, msg_start, len(result))\n"
     ]
    },
    {
     "name": "stdout",
     "output_type": "stream",
     "text": [
      "Sub 2\t 50.0%\t | 99.5% | 100.0%\n",
      "Confusion matrix, without normalization\n",
      "[[103   0]\n",
      " [  1 102]]\n",
      "Confusion matrix, without normalization\n",
      "[[1]]\n",
      "Sub 3\t 50.0%\t | 100.0% | 50.0%\n",
      "Confusion matrix, without normalization\n",
      "[[100   0]\n",
      " [  0 100]]\n",
      "Confusion matrix, without normalization\n",
      "[[3 1]\n",
      " [2 0]]\n",
      "Sub 4\t 50.0%\t | 99.5% | 66.7%\n",
      "Confusion matrix, without normalization\n",
      "[[99  0]\n",
      " [ 1 98]]\n",
      "Confusion matrix, without normalization\n",
      "[[4 1]\n",
      " [1 0]]\n"
     ]
    },
    {
     "name": "stderr",
     "output_type": "stream",
     "text": [
      "/Users/hundredball/anaconda3/envs/Math24_new/lib/python3.7/site-packages/sklearn/metrics/_classification.py:1221: UndefinedMetricWarning: Recall is ill-defined and being set to 0.0 due to no true samples. Use `zero_division` parameter to control this behavior.\n",
      "  _warn_prf(average, modifier, msg_start, len(result))\n"
     ]
    },
    {
     "name": "stdout",
     "output_type": "stream",
     "text": [
      "Sub 5\t 50.0%\t | 99.5% | 83.3%\n",
      "Confusion matrix, without normalization\n",
      "[[98  0]\n",
      " [ 1 97]]\n",
      "Confusion matrix, without normalization\n",
      "[[5 1]\n",
      " [0 0]]\n"
     ]
    },
    {
     "name": "stderr",
     "output_type": "stream",
     "text": [
      "/Users/hundredball/anaconda3/envs/Math24_new/lib/python3.7/site-packages/sklearn/metrics/_classification.py:1221: UndefinedMetricWarning: Precision is ill-defined and being set to 0.0 due to no predicted samples. Use `zero_division` parameter to control this behavior.\n",
      "  _warn_prf(average, modifier, msg_start, len(result))\n"
     ]
    },
    {
     "name": "stdout",
     "output_type": "stream",
     "text": [
      "Sub 6\t 50.0%\t | 100.0% | 40.0%\n",
      "Confusion matrix, without normalization\n",
      "[[102   0]\n",
      " [  0 102]]\n",
      "Confusion matrix, without normalization\n",
      "[[2 0]\n",
      " [3 0]]\n",
      "Sub 7\t 50.0%\t | 99.5% | 40.0%\n",
      "Confusion matrix, without normalization\n",
      "[[100   0]\n",
      " [  1  99]]\n",
      "Confusion matrix, without normalization\n",
      "[[2 2]\n",
      " [1 0]]\n"
     ]
    },
    {
     "name": "stderr",
     "output_type": "stream",
     "text": [
      "/Users/hundredball/anaconda3/envs/Math24_new/lib/python3.7/site-packages/sklearn/metrics/_classification.py:1221: UndefinedMetricWarning: Recall is ill-defined and being set to 0.0 due to no true samples. Use `zero_division` parameter to control this behavior.\n",
      "  _warn_prf(average, modifier, msg_start, len(result))\n"
     ]
    },
    {
     "name": "stdout",
     "output_type": "stream",
     "text": [
      "Sub 8\t 50.0%\t | 99.5% | 75.0%\n",
      "Confusion matrix, without normalization\n",
      "[[100   0]\n",
      " [  1  99]]\n"
     ]
    },
    {
     "name": "stderr",
     "output_type": "stream",
     "text": [
      "/Users/hundredball/anaconda3/envs/Math24_new/lib/python3.7/site-packages/sklearn/metrics/_classification.py:1221: UndefinedMetricWarning: Precision is ill-defined and being set to 0.0 due to no predicted samples. Use `zero_division` parameter to control this behavior.\n",
      "  _warn_prf(average, modifier, msg_start, len(result))\n"
     ]
    },
    {
     "name": "stdout",
     "output_type": "stream",
     "text": [
      "Confusion matrix, without normalization\n",
      "[[3 1]\n",
      " [0 0]]\n",
      "Sub 9\t 50.0%\t | 99.5% | 50.0%\n",
      "Confusion matrix, without normalization\n",
      "[[103   0]\n",
      " [  1 102]]\n",
      "Confusion matrix, without normalization\n",
      "[[1 0]\n",
      " [1 0]]\n"
     ]
    },
    {
     "name": "stderr",
     "output_type": "stream",
     "text": [
      "/Users/hundredball/anaconda3/envs/Math24_new/lib/python3.7/site-packages/sklearn/metrics/_classification.py:1221: UndefinedMetricWarning: Recall is ill-defined and being set to 0.0 due to no true samples. Use `zero_division` parameter to control this behavior.\n",
      "  _warn_prf(average, modifier, msg_start, len(result))\n",
      "/Users/hundredball/anaconda3/envs/Math24_new/lib/python3.7/site-packages/sklearn/metrics/_classification.py:1221: UndefinedMetricWarning: Precision is ill-defined and being set to 0.0 due to no predicted samples. Use `zero_division` parameter to control this behavior.\n",
      "  _warn_prf(average, modifier, msg_start, len(result))\n"
     ]
    },
    {
     "name": "stdout",
     "output_type": "stream",
     "text": [
      "Sub 10\t 50.0%\t | 99.5% | 100.0%\n",
      "Confusion matrix, without normalization\n",
      "[[101   0]\n",
      " [  1 100]]\n",
      "Confusion matrix, without normalization\n",
      "[[3]]\n",
      "Sub 11\t 50.0%\t | 100.0% | 50.0%\n",
      "Confusion matrix, without normalization\n",
      "[[99  0]\n",
      " [ 0 99]]\n",
      "Confusion matrix, without normalization\n",
      "[[2 3]\n",
      " [0 1]]\n",
      "Sub 12\t 50.0%\t | 99.5% | 50.0%\n",
      "Confusion matrix, without normalization\n",
      "[[102   0]\n",
      " [  1 101]]\n",
      "Confusion matrix, without normalization\n",
      "[[2 0]\n",
      " [3 1]]\n"
     ]
    },
    {
     "name": "stderr",
     "output_type": "stream",
     "text": [
      "/Users/hundredball/anaconda3/envs/Math24_new/lib/python3.7/site-packages/sklearn/metrics/_classification.py:1221: UndefinedMetricWarning: Recall is ill-defined and being set to 0.0 due to no true samples. Use `zero_division` parameter to control this behavior.\n",
      "  _warn_prf(average, modifier, msg_start, len(result))\n"
     ]
    },
    {
     "name": "stdout",
     "output_type": "stream",
     "text": [
      "Sub 13\t 50.0%\t | 99.5% | 40.0%\n",
      "Confusion matrix, without normalization\n",
      "[[99  0]\n",
      " [ 1 98]]\n",
      "Confusion matrix, without normalization\n",
      "[[2 3]\n",
      " [0 0]]\n"
     ]
    },
    {
     "name": "stderr",
     "output_type": "stream",
     "text": [
      "/Users/hundredball/anaconda3/envs/Math24_new/lib/python3.7/site-packages/sklearn/metrics/_classification.py:1221: UndefinedMetricWarning: Recall is ill-defined and being set to 0.0 due to no true samples. Use `zero_division` parameter to control this behavior.\n",
      "  _warn_prf(average, modifier, msg_start, len(result))\n"
     ]
    },
    {
     "name": "stdout",
     "output_type": "stream",
     "text": [
      "Sub 14\t 50.0%\t | 99.5% | 0.0%\n",
      "Confusion matrix, without normalization\n",
      "[[102   0]\n",
      " [  1 101]]\n",
      "Confusion matrix, without normalization\n",
      "[[0 2]\n",
      " [0 0]]\n"
     ]
    },
    {
     "name": "stderr",
     "output_type": "stream",
     "text": [
      "/Users/hundredball/anaconda3/envs/Math24_new/lib/python3.7/site-packages/sklearn/metrics/_classification.py:1221: UndefinedMetricWarning: Precision is ill-defined and being set to 0.0 due to no predicted samples. Use `zero_division` parameter to control this behavior.\n",
      "  _warn_prf(average, modifier, msg_start, len(result))\n"
     ]
    },
    {
     "name": "stdout",
     "output_type": "stream",
     "text": [
      "Sub 16\t 50.0%\t | 99.5% | 0.0%\n",
      "Confusion matrix, without normalization\n",
      "[[104   0]\n",
      " [  1 103]]\n",
      "Confusion matrix, without normalization\n",
      "[[0 0]\n",
      " [1 0]]\n"
     ]
    },
    {
     "name": "stderr",
     "output_type": "stream",
     "text": [
      "/Users/hundredball/anaconda3/envs/Math24_new/lib/python3.7/site-packages/sklearn/metrics/_classification.py:1221: UndefinedMetricWarning: Precision is ill-defined and being set to 0.0 due to no predicted samples. Use `zero_division` parameter to control this behavior.\n",
      "  _warn_prf(average, modifier, msg_start, len(result))\n"
     ]
    },
    {
     "name": "stdout",
     "output_type": "stream",
     "text": [
      "Sub 17\t 50.0%\t | 99.5% | 66.7%\n",
      "Confusion matrix, without normalization\n",
      "[[102   0]\n",
      " [  1 101]]\n",
      "Confusion matrix, without normalization\n",
      "[[2 0]\n",
      " [1 0]]\n",
      "Sub 18\t 50.0%\t | 100.0% | 50.0%\n",
      "Confusion matrix, without normalization\n",
      "[[101   0]\n",
      " [  0 101]]\n",
      "Confusion matrix, without normalization\n",
      "[[1 2]\n",
      " [0 1]]\n",
      "Sub 19\t 50.0%\t | 99.5% | 60.0%\n",
      "Confusion matrix, without normalization\n",
      "[[100   0]\n",
      " [  1  99]]\n",
      "Confusion matrix, without normalization\n",
      "[[3 1]\n",
      " [1 0]]\n",
      "Sub 20\t 50.0%\t | 100.0% | 66.7%\n",
      "Confusion matrix, without normalization\n",
      "[[95  0]\n",
      " [ 0 95]]\n",
      "Confusion matrix, without normalization\n",
      "[[8 1]\n",
      " [3 0]]\n"
     ]
    },
    {
     "name": "stderr",
     "output_type": "stream",
     "text": [
      "/Users/hundredball/anaconda3/envs/Math24_new/lib/python3.7/site-packages/sklearn/metrics/_classification.py:1221: UndefinedMetricWarning: Recall is ill-defined and being set to 0.0 due to no true samples. Use `zero_division` parameter to control this behavior.\n",
      "  _warn_prf(average, modifier, msg_start, len(result))\n"
     ]
    },
    {
     "name": "stdout",
     "output_type": "stream",
     "text": [
      "Sub 21\t 50.0%\t | 99.5% | 44.4%\n",
      "Confusion matrix, without normalization\n",
      "[[95  0]\n",
      " [ 1 94]]\n",
      "Confusion matrix, without normalization\n",
      "[[4 5]\n",
      " [0 0]]\n"
     ]
    },
    {
     "name": "stderr",
     "output_type": "stream",
     "text": [
      "/Users/hundredball/anaconda3/envs/Math24_new/lib/python3.7/site-packages/sklearn/metrics/_classification.py:1221: UndefinedMetricWarning: Recall is ill-defined and being set to 0.0 due to no true samples. Use `zero_division` parameter to control this behavior.\n",
      "  _warn_prf(average, modifier, msg_start, len(result))\n"
     ]
    },
    {
     "name": "stdout",
     "output_type": "stream",
     "text": [
      "Sub 22\t 50.0%\t | 99.5% | 80.0%\n",
      "Confusion matrix, without normalization\n",
      "[[94  0]\n",
      " [ 1 93]]\n",
      "Confusion matrix, without normalization\n",
      "[[8 2]\n",
      " [0 0]]\n"
     ]
    },
    {
     "name": "stderr",
     "output_type": "stream",
     "text": [
      "/Users/hundredball/anaconda3/envs/Math24_new/lib/python3.7/site-packages/sklearn/metrics/_classification.py:1221: UndefinedMetricWarning: Recall is ill-defined and being set to 0.0 due to no true samples. Use `zero_division` parameter to control this behavior.\n",
      "  _warn_prf(average, modifier, msg_start, len(result))\n"
     ]
    },
    {
     "name": "stdout",
     "output_type": "stream",
     "text": [
      "Sub 23\t 50.0%\t | 99.5% | 80.0%\n",
      "Confusion matrix, without normalization\n",
      "[[99  0]\n",
      " [ 1 98]]\n",
      "Confusion matrix, without normalization\n",
      "[[4 1]\n",
      " [0 0]]\n",
      "Sub 24\t 50.0%\t | 99.5% | 66.7%\n",
      "Confusion matrix, without normalization\n",
      "[[99  0]\n",
      " [ 1 98]]\n",
      "Confusion matrix, without normalization\n",
      "[[3 2]\n",
      " [0 1]]\n"
     ]
    },
    {
     "name": "stderr",
     "output_type": "stream",
     "text": [
      "/Users/hundredball/anaconda3/envs/Math24_new/lib/python3.7/site-packages/sklearn/metrics/_classification.py:1221: UndefinedMetricWarning: Recall is ill-defined and being set to 0.0 due to no true samples. Use `zero_division` parameter to control this behavior.\n",
      "  _warn_prf(average, modifier, msg_start, len(result))\n"
     ]
    },
    {
     "name": "stdout",
     "output_type": "stream",
     "text": [
      "Sub 25\t 50.0%\t | 99.5% | 83.3%\n",
      "Confusion matrix, without normalization\n",
      "[[98  0]\n",
      " [ 1 97]]\n",
      "Confusion matrix, without normalization\n",
      "[[5 1]\n",
      " [0 0]]\n",
      "Sub 26\t 50.0%\t | 99.5% | 57.1%\n",
      "Confusion matrix, without normalization\n",
      "[[101   0]\n",
      " [  1 100]]\n",
      "Confusion matrix, without normalization\n",
      "[[2 1]\n",
      " [2 2]]\n",
      "Average val acc: 61.5%\n"
     ]
    }
   ],
   "source": [
    "for label_format in range(1,4):\n",
    "\n",
    "    X, Y, df_all = dataloader.read_data(label_format=label_format)\n",
    "\n",
    "    # Transform into power\n",
    "    low, high = list(range(1,50)), list(range(2,51))\n",
    "    powers, _, _ = bandpower.get_bandpower(X, 1000, low=low, high=high, dB_scale=True)\n",
    "\n",
    "    # Select models\n",
    "    model_names = ['svm', 'xgboost']\n",
    "    sampling_names = ['original', 'SMOTE']\n",
    "    cv_modes = ['KFold', 'LOSO']\n",
    "\n",
    "    for model_name, sampling_name, cv_mode in itertools.product(model_names, sampling_names, cv_modes):\n",
    "\n",
    "        file_name = 'label%d_%s_%s_%s.csv'%(label_format, model_name, sampling_name, cv_mode)\n",
    "        description = 'Label: %d, Model: %s, Sampling: %s, CV mode: %s'%(label_format, model_name, sampling_name, cv_mode)\n",
    "\n",
    "        # Average band power over channels\n",
    "        num_sample = len(X)\n",
    "        X_power = np.zeros((num_sample, len(low)))\n",
    "        for i in range(len(X)):\n",
    "            X_power[i,:] = np.mean(powers[i],0)\n",
    "\n",
    "        kf = KFold(n_splits=10, shuffle=True, random_state=23)\n",
    "        S = df_all['subject'].values\n",
    "        folds = kf.split(X_power) if cv_mode=='KFold' else np.unique(S)\n",
    "\n",
    "        train_acc_list = []\n",
    "        val_acc_list = []\n",
    "        train_recall_list = []\n",
    "        val_recall_list = []\n",
    "        train_prec_list = []\n",
    "        val_prec_list = []\n",
    "        num_val_list = []\n",
    "        chance_list = []\n",
    "        fold_name_list = []\n",
    "\n",
    "        print('Sub  \\t Chance\\t | Train | Val')\n",
    "        for i_fold, fold in enumerate(folds):\n",
    "            if cv_mode == 'KFold':\n",
    "                train_indices = fold[0]\n",
    "                val_indices = fold[1]\n",
    "            else:\n",
    "                subID = fold\n",
    "                train_indices = np.where(S!=subID)[0]\n",
    "                val_indices = np.where(S==subID)[0]\n",
    "\n",
    "            X_train, Y_train = X_power[train_indices,...], Y[train_indices]\n",
    "            X_val, Y_val = X_power[val_indices,...], Y[val_indices]\n",
    "\n",
    "            # Resample training data\n",
    "            if sampling_name == 'SMOTE':\n",
    "                sm = SMOTE(random_state=23)\n",
    "                X_train, Y_train = sm.fit_resample(X_train, Y_train)\n",
    "\n",
    "            # Train classifier\n",
    "            if model_name in ['svm','xgboost']:\n",
    "                if model_name == 'svm':\n",
    "                    clf = svm.SVC()\n",
    "                elif model_name == 'xgboost':\n",
    "                    clf = xgb.XGBClassifier()\n",
    "                clf.fit(X_train, Y_train)\n",
    "\n",
    "                # Test classifier\n",
    "                train_acc = clf.score(X_train, Y_train)\n",
    "                val_acc = clf.score(X_val, Y_val)\n",
    "                \n",
    "                pred_train = clf.predict(X_train)\n",
    "                pred_val = clf.predict(X_val)\n",
    "                \n",
    "                train_recall = recall_score(Y_train, pred_train)\n",
    "                val_recall = recall_score(Y_val, pred_val)\n",
    "                \n",
    "                train_prec = precision_score(Y_train, pred_train)\n",
    "                val_prec = precision_score(Y_val, pred_val)\n",
    "                \n",
    "            fold_name = 'Fold %d'%(i_fold) if cv_mode == 'KFold' else 'Sub %d'%(subID)\n",
    "            chance = np.sum(Y_train)/len(Y_train)\n",
    "            chance = (1-chance) if chance<0.5 else chance\n",
    "\n",
    "            train_acc_list.append(train_acc)\n",
    "            val_acc_list.append(val_acc)\n",
    "            train_recall_list.append(train_recall)\n",
    "            val_recall_list.append(val_recall)\n",
    "            train_prec_list.append(train_prec)\n",
    "            val_prec_list.append(val_prec)\n",
    "            num_val_list.append(len(Y_val))\n",
    "            fold_name_list.append(fold_name)\n",
    "            chance_list.append(chance)\n",
    "\n",
    "            print('%s\\t %.1f%%\\t | %.1f%% | %.1f%%'%(fold_name, chance*100, train_acc*100, val_acc*100))\n",
    "            \n",
    "            fileName_cm = './results/' + file_name[:file_name.find('.')] + '_' + fold_name\n",
    "            plot_confusion_matrix(Y_train, pred_train, np.array(['Normal','Increase']), \n",
    "                                 fileName='%s_train.png'%(fileName_cm), title=fold_name)\n",
    "            plot_confusion_matrix(Y_val, pred_val, np.array(['Normal','Increase']), \n",
    "                                 fileName='%s_val.png'%(fileName_cm), title=fold_name)\n",
    "\n",
    "        avg_acc = sum([val_acc_list[i]*num_val_list[i] for i in range(len(num_val_list))])/num_sample\n",
    "        avg_recall = sum([val_recall_list[i]*num_val_list[i] for i in range(len(num_val_list))])/num_sample\n",
    "        avg_prec = sum([val_prec_list[i]*num_val_list[i] for i in range(len(num_val_list))])/num_sample\n",
    "        print('Average val acc: %.1f%%'%(avg_acc*100))\n",
    "\n",
    "        # Save result as csv file\n",
    "        df_result = pd.DataFrame({description: fold_name_list, 'Chance_val_acc': chance_list, \n",
    "                                  'Train_acc': train_acc_list, 'Val_acc': val_acc_list,\n",
    "                                  'Train_recall' : train_recall_list, 'Val_recall': val_recall_list,\n",
    "                                  'Train_precision' : train_prec_list, 'Val_precision': val_prec_list})\n",
    "        df_result.loc[len(df_result),description] = 'Average'\n",
    "        df_result.loc[len(df_result)-1, 'Val_acc'] = avg_acc\n",
    "        df_result.loc[len(df_result)-1, 'Val_recall'] = avg_recall\n",
    "        df_result.loc[len(df_result)-1, 'Val_precision'] = avg_prec\n",
    "        df_result.to_csv('./results/%s'%(file_name))"
   ]
  },
  {
   "cell_type": "code",
   "execution_count": null,
   "id": "organizational-forwarding",
   "metadata": {},
   "outputs": [],
   "source": []
  }
 ],
 "metadata": {
  "kernelspec": {
   "display_name": "Python 3",
   "language": "python",
   "name": "python3"
  },
  "language_info": {
   "codemirror_mode": {
    "name": "ipython",
    "version": 3
   },
   "file_extension": ".py",
   "mimetype": "text/x-python",
   "name": "python",
   "nbconvert_exporter": "python",
   "pygments_lexer": "ipython3",
   "version": "3.7.9"
  }
 },
 "nbformat": 4,
 "nbformat_minor": 5
}
