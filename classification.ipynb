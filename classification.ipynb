{
 "cells": [
  {
   "cell_type": "code",
   "execution_count": 1,
   "id": "retired-window",
   "metadata": {},
   "outputs": [],
   "source": [
    "import itertools\n",
    "\n",
    "import numpy as np\n",
    "import pandas as pd\n",
    "import matplotlib.pyplot as plt\n",
    "from sklearn import svm\n",
    "from sklearn.model_selection import KFold\n",
    "from sklearn.metrics import accuracy_score, recall_score, precision_score\n",
    "from sklearn.preprocessing import StandardScaler\n",
    "from sklearn.decomposition import PCA\n",
    "from sklearn.naive_bayes import GaussianNB\n",
    "import xgboost as xgb\n",
    "from imblearn.over_sampling import SMOTE \n",
    "\n",
    "import dataloader\n",
    "import bandpower\n",
    "import preprocessing\n",
    "from plot_confusion_matrix import plot_confusion_matrix\n"
   ]
  },
  {
   "cell_type": "markdown",
   "id": "romance-fluid",
   "metadata": {},
   "source": [
    "# Leave-one-subject out cross validation"
   ]
  },
  {
   "cell_type": "code",
   "execution_count": 2,
   "id": "stable-croatia",
   "metadata": {},
   "outputs": [
    {
     "name": "stdout",
     "output_type": "stream",
     "text": [
      "Load data from .mat files...\n"
     ]
    },
    {
     "name": "stderr",
     "output_type": "stream",
     "text": [
      "/Users/hundredball/anaconda3/envs/Math24_new/lib/python3.7/site-packages/pandas/core/dtypes/missing.py:495: VisibleDeprecationWarning: Creating an ndarray from ragged nested sequences (which is a list-or-tuple of lists-or-tuples-or ndarrays with different lengths or shapes) is deprecated. If you meant to do this, you must specify 'dtype=object' when creating the ndarray\n",
      "  val = np.array(val, copy=False)\n",
      "/Users/hundredball/anaconda3/envs/Math24_new/lib/python3.7/site-packages/numpy/core/_asarray.py:83: VisibleDeprecationWarning: Creating an ndarray from ragged nested sequences (which is a list-or-tuple of lists-or-tuples-or ndarrays with different lengths or shapes) is deprecated. If you meant to do this, you must specify 'dtype=object' when creating the ndarray\n",
      "  return array(a, dtype, copy=False, order=order)\n"
     ]
    },
    {
     "name": "stdout",
     "output_type": "stream",
     "text": [
      "Calculating the bandpower of time-series data...\n",
      "freqs:  [0.000e+00 2.000e-01 4.000e-01 ... 4.996e+02 4.998e+02 5.000e+02]\n",
      "Confusion matrix, without normalization\n",
      "[[34 89]\n",
      " [ 3 15]]\n",
      "Confusion matrix, without normalization\n",
      "[[4 7]\n",
      " [2 3]]\n",
      "Confusion matrix, without normalization\n",
      "[[28 93]\n",
      " [ 3 17]]\n",
      "Confusion matrix, without normalization\n",
      "[[ 2 11]\n",
      " [ 0  3]]\n",
      "Confusion matrix, without normalization\n",
      "[[29 90]\n",
      " [ 4 18]]\n",
      "Confusion matrix, without normalization\n",
      "[[ 5 10]\n",
      " [ 0  1]]\n",
      "Confusion matrix, without normalization\n",
      "[[32 87]\n",
      " [ 4 18]]\n",
      "Confusion matrix, without normalization\n",
      "[[ 4 11]\n",
      " [ 1  0]]\n",
      "Confusion matrix, without normalization\n",
      "[[32 88]\n",
      " [ 4 17]]\n",
      "Confusion matrix, without normalization\n",
      "[[ 1 13]\n",
      " [ 0  2]]\n",
      "Confusion matrix, without normalization\n",
      "[[35 86]\n",
      " [ 3 17]]\n",
      "Confusion matrix, without normalization\n",
      "[[4 9]\n",
      " [1 2]]\n",
      "Confusion matrix, without normalization\n",
      "[[66 56]\n",
      " [ 6 13]]\n",
      "Confusion matrix, without normalization\n",
      "[[4 8]\n",
      " [2 2]]\n",
      "Confusion matrix, without normalization\n",
      "[[26 95]\n",
      " [ 3 18]]\n",
      "Confusion matrix, without normalization\n",
      "[[6 7]\n",
      " [0 2]]\n",
      "Confusion matrix, without normalization\n",
      "[[30 90]\n",
      " [ 4 18]]\n",
      "Confusion matrix, without normalization\n",
      "[[ 2 12]\n",
      " [ 1  0]]\n",
      "Confusion matrix, without normalization\n",
      "[[32 88]\n",
      " [ 3 19]]\n",
      "Confusion matrix, without normalization\n",
      "[[ 4 10]\n",
      " [ 1  0]]\n",
      "Confusion matrix, without normalization\n",
      "[[36 93]\n",
      " [ 4 18]]\n",
      "Confusion matrix, without normalization\n",
      "[[0 5]\n",
      " [0 1]]\n",
      "Confusion matrix, without normalization\n",
      "[[ 29 100]\n",
      " [  3  19]]\n",
      "Confusion matrix, without normalization\n",
      "[[3 2]\n",
      " [0 1]]\n",
      "Confusion matrix, without normalization\n",
      "[[35 92]\n",
      " [ 4 18]]\n",
      "Confusion matrix, without normalization\n",
      "[[1 6]\n",
      " [0 1]]\n",
      "Confusion matrix, without normalization\n",
      "[[32 96]\n",
      " [ 3 19]]\n",
      "Confusion matrix, without normalization\n",
      "[[4 2]\n",
      " [1 0]]\n",
      "Confusion matrix, without normalization\n",
      "[[36 92]\n",
      " [ 5 17]]\n",
      "Confusion matrix, without normalization\n",
      "[[0 6]\n",
      " [0 1]]\n"
     ]
    },
    {
     "name": "stderr",
     "output_type": "stream",
     "text": [
      "/Users/hundredball/anaconda3/envs/Math24_new/lib/python3.7/site-packages/sklearn/metrics/_classification.py:1221: UndefinedMetricWarning: Recall is ill-defined and being set to 0.0 due to no true samples. Use `zero_division` parameter to control this behavior.\n",
      "  _warn_prf(average, modifier, msg_start, len(result))\n"
     ]
    },
    {
     "name": "stdout",
     "output_type": "stream",
     "text": [
      "Confusion matrix, without normalization\n",
      "[[32 96]\n",
      " [ 5 18]]\n",
      "Confusion matrix, without normalization\n",
      "[[3 3]\n",
      " [0 0]]\n",
      "Confusion matrix, without normalization\n",
      "[[33 97]\n",
      " [ 4 18]]\n",
      "Confusion matrix, without normalization\n",
      "[[3 1]\n",
      " [0 1]]\n",
      "Confusion matrix, without normalization\n",
      "[[36 94]\n",
      " [ 4 18]]\n",
      "Confusion matrix, without normalization\n",
      "[[0 4]\n",
      " [0 1]]\n",
      "Confusion matrix, without normalization\n",
      "[[35 94]\n",
      " [ 5 17]]\n",
      "Confusion matrix, without normalization\n",
      "[[0 5]\n",
      " [0 1]]\n",
      "Confusion matrix, without normalization\n",
      "[[40 92]\n",
      " [ 4 18]]\n",
      "Confusion matrix, without normalization\n",
      "[[0 2]\n",
      " [1 0]]\n",
      "Confusion matrix, without normalization\n",
      "[[34 95]\n",
      " [ 4 18]]\n",
      "Confusion matrix, without normalization\n",
      "[[1 4]\n",
      " [0 1]]\n",
      "Confusion matrix, without normalization\n",
      "[[32 98]\n",
      " [ 4 17]]\n",
      "Confusion matrix, without normalization\n",
      "[[0 4]\n",
      " [0 2]]\n",
      "Confusion matrix, without normalization\n",
      "[[35 94]\n",
      " [ 3 19]]\n",
      "Confusion matrix, without normalization\n",
      "[[2 3]\n",
      " [1 0]]\n",
      "Confusion matrix, without normalization\n",
      "[[36 96]\n",
      " [ 3 19]]\n",
      "Confusion matrix, without normalization\n",
      "[[0 2]\n",
      " [1 0]]\n"
     ]
    },
    {
     "name": "stderr",
     "output_type": "stream",
     "text": [
      "/Users/hundredball/anaconda3/envs/Math24_new/lib/python3.7/site-packages/sklearn/metrics/_classification.py:1221: UndefinedMetricWarning: Recall is ill-defined and being set to 0.0 due to no true samples. Use `zero_division` parameter to control this behavior.\n",
      "  _warn_prf(average, modifier, msg_start, len(result))\n"
     ]
    },
    {
     "name": "stdout",
     "output_type": "stream",
     "text": [
      "Confusion matrix, without normalization\n",
      "[[37 95]\n",
      " [ 4 19]]\n",
      "Confusion matrix, without normalization\n",
      "[[0 2]\n",
      " [0 0]]\n",
      "Confusion matrix, without normalization\n",
      "[[36 94]\n",
      " [ 4 18]]\n",
      "Confusion matrix, without normalization\n",
      "[[2 2]\n",
      " [1 0]]\n",
      "Confusion matrix, without normalization\n",
      "[[36 94]\n",
      " [ 4 18]]\n",
      "Confusion matrix, without normalization\n",
      "[[0 4]\n",
      " [0 1]]\n",
      "Confusion matrix, without normalization\n",
      "[[42 85]\n",
      " [ 4 16]]\n",
      "Confusion matrix, without normalization\n",
      "[[3 4]\n",
      " [2 1]]\n",
      "Confusion matrix, without normalization\n",
      "[[33 94]\n",
      " [ 5 17]]\n",
      "Confusion matrix, without normalization\n",
      "[[5 2]\n",
      " [0 1]]\n",
      "Confusion matrix, without normalization\n",
      "[[59 65]\n",
      " [ 8 14]]\n",
      "Confusion matrix, without normalization\n",
      "[[5 5]\n",
      " [1 0]]\n"
     ]
    },
    {
     "name": "stderr",
     "output_type": "stream",
     "text": [
      "/Users/hundredball/anaconda3/envs/Math24_new/lib/python3.7/site-packages/sklearn/metrics/_classification.py:1221: UndefinedMetricWarning: Recall is ill-defined and being set to 0.0 due to no true samples. Use `zero_division` parameter to control this behavior.\n",
      "  _warn_prf(average, modifier, msg_start, len(result))\n"
     ]
    },
    {
     "name": "stdout",
     "output_type": "stream",
     "text": [
      "Confusion matrix, without normalization\n",
      "[[34 89]\n",
      " [ 4 19]]\n",
      "Confusion matrix, without normalization\n",
      "[[2 9]\n",
      " [0 0]]\n",
      "Confusion matrix, without normalization\n",
      "[[34 96]\n",
      " [ 5 17]]\n",
      "Confusion matrix, without normalization\n",
      "[[2 2]\n",
      " [1 0]]\n",
      "Confusion matrix, without normalization\n",
      "[[35 94]\n",
      " [ 4 18]]\n",
      "Confusion matrix, without normalization\n",
      "[[0 5]\n",
      " [1 0]]\n"
     ]
    },
    {
     "name": "stderr",
     "output_type": "stream",
     "text": [
      "/Users/hundredball/anaconda3/envs/Math24_new/lib/python3.7/site-packages/sklearn/metrics/_classification.py:1221: UndefinedMetricWarning: Recall is ill-defined and being set to 0.0 due to no true samples. Use `zero_division` parameter to control this behavior.\n",
      "  _warn_prf(average, modifier, msg_start, len(result))\n"
     ]
    },
    {
     "name": "stdout",
     "output_type": "stream",
     "text": [
      "Confusion matrix, without normalization\n",
      "[[32 95]\n",
      " [ 4 19]]\n",
      "Confusion matrix, without normalization\n",
      "[[3 4]\n",
      " [0 0]]\n"
     ]
    },
    {
     "name": "stderr",
     "output_type": "stream",
     "text": [
      "/Users/hundredball/anaconda3/envs/Math24_new/lib/python3.7/site-packages/sklearn/metrics/_classification.py:1221: UndefinedMetricWarning: Recall is ill-defined and being set to 0.0 due to no true samples. Use `zero_division` parameter to control this behavior.\n",
      "  _warn_prf(average, modifier, msg_start, len(result))\n"
     ]
    },
    {
     "name": "stdout",
     "output_type": "stream",
     "text": [
      "Confusion matrix, without normalization\n",
      "[[35 92]\n",
      " [ 4 19]]\n",
      "Confusion matrix, without normalization\n",
      "[[1 6]\n",
      " [0 0]]\n",
      "Confusion matrix, without normalization\n",
      "[[ 44  79]\n",
      " [ 19 104]]\n",
      "Confusion matrix, without normalization\n",
      "[[4 7]\n",
      " [3 2]]\n",
      "Confusion matrix, without normalization\n",
      "[[39 82]\n",
      " [22 99]]\n",
      "Confusion matrix, without normalization\n",
      "[[ 2 11]\n",
      " [ 0  3]]\n",
      "Confusion matrix, without normalization\n",
      "[[38 81]\n",
      " [22 97]]\n",
      "Confusion matrix, without normalization\n",
      "[[ 5 10]\n",
      " [ 0  1]]\n",
      "Confusion matrix, without normalization\n",
      "[[38 81]\n",
      " [20 99]]\n",
      "Confusion matrix, without normalization\n",
      "[[ 5 10]\n",
      " [ 1  0]]\n",
      "Confusion matrix, without normalization\n",
      "[[40 80]\n",
      " [25 95]]\n",
      "Confusion matrix, without normalization\n",
      "[[ 1 13]\n",
      " [ 0  2]]\n",
      "Confusion matrix, without normalization\n",
      "[[ 42  79]\n",
      " [ 16 105]]\n",
      "Confusion matrix, without normalization\n",
      "[[4 9]\n",
      " [1 2]]\n",
      "Confusion matrix, without normalization\n",
      "[[56 66]\n",
      " [27 95]]\n",
      "Confusion matrix, without normalization\n",
      "[[4 8]\n",
      " [3 1]]\n",
      "Confusion matrix, without normalization\n",
      "[[ 32  89]\n",
      " [ 19 102]]\n",
      "Confusion matrix, without normalization\n",
      "[[7 6]\n",
      " [0 2]]\n",
      "Confusion matrix, without normalization\n",
      "[[39 81]\n",
      " [21 99]]\n",
      "Confusion matrix, without normalization\n",
      "[[ 3 11]\n",
      " [ 1  0]]\n",
      "Confusion matrix, without normalization\n",
      "[[36 84]\n",
      " [22 98]]\n",
      "Confusion matrix, without normalization\n",
      "[[6 8]\n",
      " [1 0]]\n",
      "Confusion matrix, without normalization\n",
      "[[ 42  87]\n",
      " [ 26 103]]\n",
      "Confusion matrix, without normalization\n",
      "[[0 5]\n",
      " [0 1]]\n",
      "Confusion matrix, without normalization\n",
      "[[ 39  90]\n",
      " [ 25 104]]\n",
      "Confusion matrix, without normalization\n",
      "[[3 2]\n",
      " [0 1]]\n",
      "Confusion matrix, without normalization\n",
      "[[ 44  83]\n",
      " [ 19 108]]\n",
      "Confusion matrix, without normalization\n",
      "[[1 6]\n",
      " [0 1]]\n",
      "Confusion matrix, without normalization\n",
      "[[ 40  88]\n",
      " [ 19 109]]\n",
      "Confusion matrix, without normalization\n",
      "[[4 2]\n",
      " [1 0]]\n",
      "Confusion matrix, without normalization\n",
      "[[ 46  82]\n",
      " [ 27 101]]\n",
      "Confusion matrix, without normalization\n",
      "[[0 6]\n",
      " [0 1]]\n"
     ]
    },
    {
     "name": "stderr",
     "output_type": "stream",
     "text": [
      "/Users/hundredball/anaconda3/envs/Math24_new/lib/python3.7/site-packages/sklearn/metrics/_classification.py:1221: UndefinedMetricWarning: Recall is ill-defined and being set to 0.0 due to no true samples. Use `zero_division` parameter to control this behavior.\n",
      "  _warn_prf(average, modifier, msg_start, len(result))\n"
     ]
    },
    {
     "name": "stdout",
     "output_type": "stream",
     "text": [
      "Confusion matrix, without normalization\n",
      "[[ 37  91]\n",
      " [ 20 108]]\n",
      "Confusion matrix, without normalization\n",
      "[[4 2]\n",
      " [0 0]]\n",
      "Confusion matrix, without normalization\n",
      "[[ 37  93]\n",
      " [ 25 105]]\n",
      "Confusion matrix, without normalization\n",
      "[[3 1]\n",
      " [0 1]]\n",
      "Confusion matrix, without normalization\n",
      "[[ 39  91]\n",
      " [ 22 108]]\n",
      "Confusion matrix, without normalization\n",
      "[[0 4]\n",
      " [0 1]]\n",
      "Confusion matrix, without normalization\n",
      "[[ 44  85]\n",
      " [ 24 105]]\n",
      "Confusion matrix, without normalization\n",
      "[[0 5]\n",
      " [0 1]]\n",
      "Confusion matrix, without normalization\n",
      "[[ 44  88]\n",
      " [ 24 108]]\n",
      "Confusion matrix, without normalization\n",
      "[[0 2]\n",
      " [1 0]]\n",
      "Confusion matrix, without normalization\n",
      "[[ 38  91]\n",
      " [ 25 104]]\n",
      "Confusion matrix, without normalization\n",
      "[[1 4]\n",
      " [0 1]]\n",
      "Confusion matrix, without normalization\n",
      "[[ 42  88]\n",
      " [ 22 108]]\n",
      "Confusion matrix, without normalization\n",
      "[[1 3]\n",
      " [1 1]]\n",
      "Confusion matrix, without normalization\n",
      "[[ 43  86]\n",
      " [ 19 110]]\n",
      "Confusion matrix, without normalization\n",
      "[[2 3]\n",
      " [1 0]]\n",
      "Confusion matrix, without normalization\n",
      "[[ 44  88]\n",
      " [ 19 113]]\n",
      "Confusion matrix, without normalization\n",
      "[[0 2]\n",
      " [1 0]]\n"
     ]
    },
    {
     "name": "stderr",
     "output_type": "stream",
     "text": [
      "/Users/hundredball/anaconda3/envs/Math24_new/lib/python3.7/site-packages/sklearn/metrics/_classification.py:1221: UndefinedMetricWarning: Recall is ill-defined and being set to 0.0 due to no true samples. Use `zero_division` parameter to control this behavior.\n",
      "  _warn_prf(average, modifier, msg_start, len(result))\n"
     ]
    },
    {
     "name": "stdout",
     "output_type": "stream",
     "text": [
      "Confusion matrix, without normalization\n",
      "[[ 41  91]\n",
      " [ 20 112]]\n",
      "Confusion matrix, without normalization\n",
      "[[0 2]\n",
      " [0 0]]\n",
      "Confusion matrix, without normalization\n",
      "[[ 47  83]\n",
      " [ 26 104]]\n",
      "Confusion matrix, without normalization\n",
      "[[2 2]\n",
      " [1 0]]\n",
      "Confusion matrix, without normalization\n",
      "[[ 49  81]\n",
      " [ 26 104]]\n",
      "Confusion matrix, without normalization\n",
      "[[0 4]\n",
      " [0 1]]\n",
      "Confusion matrix, without normalization\n",
      "[[ 45  82]\n",
      " [ 21 106]]\n",
      "Confusion matrix, without normalization\n",
      "[[3 4]\n",
      " [2 1]]\n",
      "Confusion matrix, without normalization\n",
      "[[ 40  87]\n",
      " [ 26 101]]\n",
      "Confusion matrix, without normalization\n",
      "[[6 1]\n",
      " [0 1]]\n",
      "Confusion matrix, without normalization\n",
      "[[52 72]\n",
      " [33 91]]\n",
      "Confusion matrix, without normalization\n",
      "[[4 6]\n",
      " [1 0]]\n"
     ]
    },
    {
     "name": "stderr",
     "output_type": "stream",
     "text": [
      "/Users/hundredball/anaconda3/envs/Math24_new/lib/python3.7/site-packages/sklearn/metrics/_classification.py:1221: UndefinedMetricWarning: Recall is ill-defined and being set to 0.0 due to no true samples. Use `zero_division` parameter to control this behavior.\n",
      "  _warn_prf(average, modifier, msg_start, len(result))\n"
     ]
    },
    {
     "name": "stdout",
     "output_type": "stream",
     "text": [
      "Confusion matrix, without normalization\n",
      "[[ 38  85]\n",
      " [ 20 103]]\n",
      "Confusion matrix, without normalization\n",
      "[[2 9]\n",
      " [0 0]]\n",
      "Confusion matrix, without normalization\n",
      "[[ 41  89]\n",
      " [ 21 109]]\n",
      "Confusion matrix, without normalization\n",
      "[[2 2]\n",
      " [1 0]]\n",
      "Confusion matrix, without normalization\n",
      "[[ 42  87]\n",
      " [ 19 110]]\n",
      "Confusion matrix, without normalization\n",
      "[[0 5]\n",
      " [1 0]]\n"
     ]
    },
    {
     "name": "stderr",
     "output_type": "stream",
     "text": [
      "/Users/hundredball/anaconda3/envs/Math24_new/lib/python3.7/site-packages/sklearn/metrics/_classification.py:1221: UndefinedMetricWarning: Recall is ill-defined and being set to 0.0 due to no true samples. Use `zero_division` parameter to control this behavior.\n",
      "  _warn_prf(average, modifier, msg_start, len(result))\n"
     ]
    },
    {
     "name": "stdout",
     "output_type": "stream",
     "text": [
      "Confusion matrix, without normalization\n",
      "[[ 35  92]\n",
      " [ 20 107]]\n",
      "Confusion matrix, without normalization\n",
      "[[5 2]\n",
      " [0 0]]\n"
     ]
    },
    {
     "name": "stderr",
     "output_type": "stream",
     "text": [
      "/Users/hundredball/anaconda3/envs/Math24_new/lib/python3.7/site-packages/sklearn/metrics/_classification.py:1221: UndefinedMetricWarning: Recall is ill-defined and being set to 0.0 due to no true samples. Use `zero_division` parameter to control this behavior.\n",
      "  _warn_prf(average, modifier, msg_start, len(result))\n"
     ]
    },
    {
     "name": "stdout",
     "output_type": "stream",
     "text": [
      "Confusion matrix, without normalization\n",
      "[[ 39  88]\n",
      " [ 20 107]]\n",
      "Confusion matrix, without normalization\n",
      "[[2 5]\n",
      " [0 0]]\n",
      "Load data from .mat files...\n"
     ]
    },
    {
     "name": "stderr",
     "output_type": "stream",
     "text": [
      "/Users/hundredball/anaconda3/envs/Math24_new/lib/python3.7/site-packages/pandas/core/dtypes/missing.py:495: VisibleDeprecationWarning: Creating an ndarray from ragged nested sequences (which is a list-or-tuple of lists-or-tuples-or ndarrays with different lengths or shapes) is deprecated. If you meant to do this, you must specify 'dtype=object' when creating the ndarray\n",
      "  val = np.array(val, copy=False)\n",
      "/Users/hundredball/anaconda3/envs/Math24_new/lib/python3.7/site-packages/numpy/core/_asarray.py:83: VisibleDeprecationWarning: Creating an ndarray from ragged nested sequences (which is a list-or-tuple of lists-or-tuples-or ndarrays with different lengths or shapes) is deprecated. If you meant to do this, you must specify 'dtype=object' when creating the ndarray\n",
      "  return array(a, dtype, copy=False, order=order)\n"
     ]
    },
    {
     "name": "stdout",
     "output_type": "stream",
     "text": [
      "Calculating the bandpower of time-series data...\n",
      "freqs:  [0.000e+00 2.000e-01 4.000e-01 ... 4.996e+02 4.998e+02 5.000e+02]\n",
      "Confusion matrix, without normalization\n",
      "[[49 74]\n",
      " [ 4 14]]\n",
      "Confusion matrix, without normalization\n",
      "[[3 8]\n",
      " [3 2]]\n",
      "Confusion matrix, without normalization\n",
      "[[44 76]\n",
      " [ 2 19]]\n",
      "Confusion matrix, without normalization\n",
      "[[ 2 12]\n",
      " [ 0  2]]\n",
      "Confusion matrix, without normalization\n",
      "[[39 80]\n",
      " [ 5 17]]\n",
      "Confusion matrix, without normalization\n",
      "[[ 4 11]\n",
      " [ 0  1]]\n",
      "Confusion matrix, without normalization\n",
      "[[37 83]\n",
      " [ 2 19]]\n",
      "Confusion matrix, without normalization\n",
      "[[6 8]\n",
      " [0 2]]\n",
      "Confusion matrix, without normalization\n",
      "[[41 79]\n",
      " [ 2 19]]\n",
      "Confusion matrix, without normalization\n",
      "[[ 2 12]\n",
      " [ 0  2]]\n",
      "Confusion matrix, without normalization\n",
      "[[45 76]\n",
      " [ 2 18]]\n",
      "Confusion matrix, without normalization\n",
      "[[5 8]\n",
      " [1 2]]\n",
      "Confusion matrix, without normalization\n",
      "[[55 67]\n",
      " [ 4 15]]\n",
      "Confusion matrix, without normalization\n",
      "[[5 7]\n",
      " [2 2]]\n",
      "Confusion matrix, without normalization\n",
      "[[39 82]\n",
      " [ 3 18]]\n",
      "Confusion matrix, without normalization\n",
      "[[6 7]\n",
      " [0 2]]\n",
      "Confusion matrix, without normalization\n",
      "[[40 81]\n",
      " [ 4 17]]\n",
      "Confusion matrix, without normalization\n",
      "[[5 8]\n",
      " [1 1]]\n"
     ]
    },
    {
     "name": "stderr",
     "output_type": "stream",
     "text": [
      "/Users/hundredball/anaconda3/envs/Math24_new/lib/python3.7/site-packages/sklearn/metrics/_classification.py:1221: UndefinedMetricWarning: Recall is ill-defined and being set to 0.0 due to no true samples. Use `zero_division` parameter to control this behavior.\n",
      "  _warn_prf(average, modifier, msg_start, len(result))\n"
     ]
    },
    {
     "name": "stdout",
     "output_type": "stream",
     "text": [
      "Confusion matrix, without normalization\n",
      "[[37 82]\n",
      " [ 4 19]]\n",
      "Confusion matrix, without normalization\n",
      "[[6 9]\n",
      " [0 0]]\n",
      "Confusion matrix, without normalization\n",
      "[[51 83]\n",
      " [ 2 15]]\n",
      "Confusion matrix, without normalization\n",
      "[[0 0]\n",
      " [1 5]]\n"
     ]
    },
    {
     "name": "stderr",
     "output_type": "stream",
     "text": [
      "/Users/hundredball/anaconda3/envs/Math24_new/lib/python3.7/site-packages/sklearn/metrics/_classification.py:1221: UndefinedMetricWarning: Recall is ill-defined and being set to 0.0 due to no true samples. Use `zero_division` parameter to control this behavior.\n",
      "  _warn_prf(average, modifier, msg_start, len(result))\n"
     ]
    },
    {
     "name": "stdout",
     "output_type": "stream",
     "text": [
      "Confusion matrix, without normalization\n",
      "[[42 86]\n",
      " [ 4 19]]\n",
      "Confusion matrix, without normalization\n",
      "[[3 3]\n",
      " [0 0]]\n",
      "Confusion matrix, without normalization\n",
      "[[46 84]\n",
      " [ 5 14]]\n",
      "Confusion matrix, without normalization\n",
      "[[0 4]\n",
      " [1 3]]\n",
      "Confusion matrix, without normalization\n",
      "[[45 83]\n",
      " [ 3 19]]\n",
      "Confusion matrix, without normalization\n",
      "[[4 2]\n",
      " [1 0]]\n"
     ]
    },
    {
     "name": "stderr",
     "output_type": "stream",
     "text": [
      "/Users/hundredball/anaconda3/envs/Math24_new/lib/python3.7/site-packages/sklearn/metrics/_classification.py:1221: UndefinedMetricWarning: Recall is ill-defined and being set to 0.0 due to no true samples. Use `zero_division` parameter to control this behavior.\n",
      "  _warn_prf(average, modifier, msg_start, len(result))\n"
     ]
    },
    {
     "name": "stdout",
     "output_type": "stream",
     "text": [
      "Confusion matrix, without normalization\n",
      "[[45 82]\n",
      " [ 4 19]]\n",
      "Confusion matrix, without normalization\n",
      "[[0 7]\n",
      " [0 0]]\n"
     ]
    },
    {
     "name": "stderr",
     "output_type": "stream",
     "text": [
      "/Users/hundredball/anaconda3/envs/Math24_new/lib/python3.7/site-packages/sklearn/metrics/_classification.py:1221: UndefinedMetricWarning: Recall is ill-defined and being set to 0.0 due to no true samples. Use `zero_division` parameter to control this behavior.\n",
      "  _warn_prf(average, modifier, msg_start, len(result))\n"
     ]
    },
    {
     "name": "stdout",
     "output_type": "stream",
     "text": [
      "Confusion matrix, without normalization\n",
      "[[40 88]\n",
      " [ 2 21]]\n",
      "Confusion matrix, without normalization\n",
      "[[3 3]\n",
      " [0 0]]\n"
     ]
    },
    {
     "name": "stderr",
     "output_type": "stream",
     "text": [
      "/Users/hundredball/anaconda3/envs/Math24_new/lib/python3.7/site-packages/sklearn/metrics/_classification.py:1221: UndefinedMetricWarning: Recall is ill-defined and being set to 0.0 due to no true samples. Use `zero_division` parameter to control this behavior.\n",
      "  _warn_prf(average, modifier, msg_start, len(result))\n"
     ]
    },
    {
     "name": "stdout",
     "output_type": "stream",
     "text": [
      "Confusion matrix, without normalization\n",
      "[[41 88]\n",
      " [ 4 19]]\n",
      "Confusion matrix, without normalization\n",
      "[[3 2]\n",
      " [0 0]]\n"
     ]
    },
    {
     "name": "stderr",
     "output_type": "stream",
     "text": [
      "/Users/hundredball/anaconda3/envs/Math24_new/lib/python3.7/site-packages/sklearn/metrics/_classification.py:1221: UndefinedMetricWarning: Recall is ill-defined and being set to 0.0 due to no true samples. Use `zero_division` parameter to control this behavior.\n",
      "  _warn_prf(average, modifier, msg_start, len(result))\n"
     ]
    },
    {
     "name": "stdout",
     "output_type": "stream",
     "text": [
      "Confusion matrix, without normalization\n",
      "[[45 84]\n",
      " [ 4 19]]\n",
      "Confusion matrix, without normalization\n",
      "[[0 5]\n",
      " [0 0]]\n",
      "Confusion matrix, without normalization\n",
      "[[44 86]\n",
      " [ 3 18]]\n",
      "Confusion matrix, without normalization\n",
      "[[0 4]\n",
      " [0 2]]\n",
      "Confusion matrix, without normalization\n",
      "[[46 88]\n",
      " [ 4 16]]\n",
      "Confusion matrix, without normalization\n",
      "[[0 0]\n",
      " [2 1]]\n",
      "Confusion matrix, without normalization\n",
      "[[42 87]\n",
      " [ 4 18]]\n",
      "Confusion matrix, without normalization\n",
      "[[0 5]\n",
      " [0 1]]\n"
     ]
    },
    {
     "name": "stderr",
     "output_type": "stream",
     "text": [
      "/Users/hundredball/anaconda3/envs/Math24_new/lib/python3.7/site-packages/sklearn/metrics/_classification.py:1221: UndefinedMetricWarning: Recall is ill-defined and being set to 0.0 due to no true samples. Use `zero_division` parameter to control this behavior.\n",
      "  _warn_prf(average, modifier, msg_start, len(result))\n"
     ]
    },
    {
     "name": "stdout",
     "output_type": "stream",
     "text": [
      "Confusion matrix, without normalization\n",
      "[[43 85]\n",
      " [ 4 19]]\n",
      "Confusion matrix, without normalization\n",
      "[[2 4]\n",
      " [0 0]]\n"
     ]
    },
    {
     "name": "stderr",
     "output_type": "stream",
     "text": [
      "/Users/hundredball/anaconda3/envs/Math24_new/lib/python3.7/site-packages/sklearn/metrics/_classification.py:1221: UndefinedMetricWarning: Recall is ill-defined and being set to 0.0 due to no true samples. Use `zero_division` parameter to control this behavior.\n",
      "  _warn_prf(average, modifier, msg_start, len(result))\n"
     ]
    },
    {
     "name": "stdout",
     "output_type": "stream",
     "text": [
      "Confusion matrix, without normalization\n",
      "[[42 86]\n",
      " [ 2 21]]\n",
      "Confusion matrix, without normalization\n",
      "[[3 3]\n",
      " [0 0]]\n"
     ]
    },
    {
     "name": "stderr",
     "output_type": "stream",
     "text": [
      "/Users/hundredball/anaconda3/envs/Math24_new/lib/python3.7/site-packages/sklearn/metrics/_classification.py:1221: UndefinedMetricWarning: Recall is ill-defined and being set to 0.0 due to no true samples. Use `zero_division` parameter to control this behavior.\n",
      "  _warn_prf(average, modifier, msg_start, len(result))\n"
     ]
    },
    {
     "name": "stdout",
     "output_type": "stream",
     "text": [
      "Confusion matrix, without normalization\n",
      "[[44 87]\n",
      " [ 4 19]]\n",
      "Confusion matrix, without normalization\n",
      "[[1 2]\n",
      " [0 0]]\n",
      "Confusion matrix, without normalization\n",
      "[[45 88]\n",
      " [ 4 18]]\n",
      "Confusion matrix, without normalization\n",
      "[[0 1]\n",
      " [1 0]]\n",
      "Confusion matrix, without normalization\n",
      "[[47 85]\n",
      " [ 3 17]]\n",
      "Confusion matrix, without normalization\n",
      "[[1 1]\n",
      " [2 1]]\n"
     ]
    },
    {
     "name": "stderr",
     "output_type": "stream",
     "text": [
      "/Users/hundredball/anaconda3/envs/Math24_new/lib/python3.7/site-packages/sklearn/metrics/_classification.py:1221: UndefinedMetricWarning: Recall is ill-defined and being set to 0.0 due to no true samples. Use `zero_division` parameter to control this behavior.\n",
      "  _warn_prf(average, modifier, msg_start, len(result))\n"
     ]
    },
    {
     "name": "stdout",
     "output_type": "stream",
     "text": [
      "Confusion matrix, without normalization\n",
      "[[46 83]\n",
      " [ 4 19]]\n",
      "Confusion matrix, without normalization\n",
      "[[0 5]\n",
      " [0 0]]\n"
     ]
    },
    {
     "name": "stderr",
     "output_type": "stream",
     "text": [
      "/Users/hundredball/anaconda3/envs/Math24_new/lib/python3.7/site-packages/sklearn/metrics/_classification.py:1221: UndefinedMetricWarning: Recall is ill-defined and being set to 0.0 due to no true samples. Use `zero_division` parameter to control this behavior.\n",
      "  _warn_prf(average, modifier, msg_start, len(result))\n"
     ]
    },
    {
     "name": "stdout",
     "output_type": "stream",
     "text": [
      "Confusion matrix, without normalization\n",
      "[[41 83]\n",
      " [ 4 19]]\n",
      "Confusion matrix, without normalization\n",
      "[[4 6]\n",
      " [0 0]]\n",
      "Confusion matrix, without normalization\n",
      "[[40 87]\n",
      " [ 4 18]]\n",
      "Confusion matrix, without normalization\n",
      "[[6 1]\n",
      " [0 1]]\n"
     ]
    },
    {
     "name": "stderr",
     "output_type": "stream",
     "text": [
      "/Users/hundredball/anaconda3/envs/Math24_new/lib/python3.7/site-packages/sklearn/metrics/_classification.py:1221: UndefinedMetricWarning: Recall is ill-defined and being set to 0.0 due to no true samples. Use `zero_division` parameter to control this behavior.\n",
      "  _warn_prf(average, modifier, msg_start, len(result))\n"
     ]
    },
    {
     "name": "stdout",
     "output_type": "stream",
     "text": [
      "Confusion matrix, without normalization\n",
      "[[54 69]\n",
      " [ 6 17]]\n",
      "Confusion matrix, without normalization\n",
      "[[3 8]\n",
      " [0 0]]\n"
     ]
    },
    {
     "name": "stderr",
     "output_type": "stream",
     "text": [
      "/Users/hundredball/anaconda3/envs/Math24_new/lib/python3.7/site-packages/sklearn/metrics/_classification.py:1221: UndefinedMetricWarning: Recall is ill-defined and being set to 0.0 due to no true samples. Use `zero_division` parameter to control this behavior.\n",
      "  _warn_prf(average, modifier, msg_start, len(result))\n"
     ]
    },
    {
     "name": "stdout",
     "output_type": "stream",
     "text": [
      "Confusion matrix, without normalization\n",
      "[[42 81]\n",
      " [ 4 19]]\n",
      "Confusion matrix, without normalization\n",
      "[[3 8]\n",
      " [0 0]]\n"
     ]
    },
    {
     "name": "stderr",
     "output_type": "stream",
     "text": [
      "/Users/hundredball/anaconda3/envs/Math24_new/lib/python3.7/site-packages/sklearn/metrics/_classification.py:1221: UndefinedMetricWarning: Recall is ill-defined and being set to 0.0 due to no true samples. Use `zero_division` parameter to control this behavior.\n",
      "  _warn_prf(average, modifier, msg_start, len(result))\n"
     ]
    },
    {
     "name": "stdout",
     "output_type": "stream",
     "text": [
      "Confusion matrix, without normalization\n",
      "[[41 88]\n",
      " [ 4 19]]\n",
      "Confusion matrix, without normalization\n",
      "[[3 2]\n",
      " [0 0]]\n",
      "Confusion matrix, without normalization\n",
      "[[49 80]\n",
      " [ 4 18]]\n",
      "Confusion matrix, without normalization\n",
      "[[0 5]\n",
      " [1 0]]\n"
     ]
    },
    {
     "name": "stderr",
     "output_type": "stream",
     "text": [
      "/Users/hundredball/anaconda3/envs/Math24_new/lib/python3.7/site-packages/sklearn/metrics/_classification.py:1221: UndefinedMetricWarning: Recall is ill-defined and being set to 0.0 due to no true samples. Use `zero_division` parameter to control this behavior.\n",
      "  _warn_prf(average, modifier, msg_start, len(result))\n"
     ]
    },
    {
     "name": "stdout",
     "output_type": "stream",
     "text": [
      "Confusion matrix, without normalization\n",
      "[[40 87]\n",
      " [ 4 19]]\n",
      "Confusion matrix, without normalization\n",
      "[[5 2]\n",
      " [0 0]]\n"
     ]
    },
    {
     "name": "stderr",
     "output_type": "stream",
     "text": [
      "/Users/hundredball/anaconda3/envs/Math24_new/lib/python3.7/site-packages/sklearn/metrics/_classification.py:1221: UndefinedMetricWarning: Recall is ill-defined and being set to 0.0 due to no true samples. Use `zero_division` parameter to control this behavior.\n",
      "  _warn_prf(average, modifier, msg_start, len(result))\n"
     ]
    },
    {
     "name": "stdout",
     "output_type": "stream",
     "text": [
      "Confusion matrix, without normalization\n",
      "[[43 84]\n",
      " [ 4 19]]\n",
      "Confusion matrix, without normalization\n",
      "[[2 5]\n",
      " [0 0]]\n",
      "Confusion matrix, without normalization\n",
      "[[ 56  67]\n",
      " [ 16 107]]\n",
      "Confusion matrix, without normalization\n",
      "[[3 8]\n",
      " [3 2]]\n",
      "Confusion matrix, without normalization\n",
      "[[ 50  70]\n",
      " [ 11 109]]\n",
      "Confusion matrix, without normalization\n",
      "[[ 2 12]\n",
      " [ 1  1]]\n",
      "Confusion matrix, without normalization\n",
      "[[ 47  72]\n",
      " [ 16 103]]\n",
      "Confusion matrix, without normalization\n",
      "[[6 9]\n",
      " [0 1]]\n",
      "Confusion matrix, without normalization\n",
      "[[ 41  79]\n",
      " [  9 111]]\n",
      "Confusion matrix, without normalization\n",
      "[[7 7]\n",
      " [0 2]]\n",
      "Confusion matrix, without normalization\n",
      "[[ 48  72]\n",
      " [  7 113]]\n",
      "Confusion matrix, without normalization\n",
      "[[ 3 11]\n",
      " [ 0  2]]\n",
      "Confusion matrix, without normalization\n",
      "[[ 48  73]\n",
      " [ 11 110]]\n",
      "Confusion matrix, without normalization\n",
      "[[6 7]\n",
      " [1 2]]\n",
      "Confusion matrix, without normalization\n",
      "[[60 62]\n",
      " [27 95]]\n",
      "Confusion matrix, without normalization\n",
      "[[6 6]\n",
      " [2 2]]\n",
      "Confusion matrix, without normalization\n",
      "[[ 44  77]\n",
      " [ 11 110]]\n",
      "Confusion matrix, without normalization\n",
      "[[7 6]\n",
      " [0 2]]\n",
      "Confusion matrix, without normalization\n",
      "[[ 48  73]\n",
      " [ 11 110]]\n",
      "Confusion matrix, without normalization\n",
      "[[5 8]\n",
      " [1 1]]\n"
     ]
    },
    {
     "name": "stderr",
     "output_type": "stream",
     "text": [
      "/Users/hundredball/anaconda3/envs/Math24_new/lib/python3.7/site-packages/sklearn/metrics/_classification.py:1221: UndefinedMetricWarning: Recall is ill-defined and being set to 0.0 due to no true samples. Use `zero_division` parameter to control this behavior.\n",
      "  _warn_prf(average, modifier, msg_start, len(result))\n"
     ]
    },
    {
     "name": "stdout",
     "output_type": "stream",
     "text": [
      "Confusion matrix, without normalization\n",
      "[[ 47  72]\n",
      " [  9 110]]\n",
      "Confusion matrix, without normalization\n",
      "[[7 8]\n",
      " [0 0]]\n",
      "Confusion matrix, without normalization\n",
      "[[ 54  80]\n",
      " [ 12 122]]\n",
      "Confusion matrix, without normalization\n",
      "[[0 0]\n",
      " [1 5]]\n"
     ]
    },
    {
     "name": "stderr",
     "output_type": "stream",
     "text": [
      "/Users/hundredball/anaconda3/envs/Math24_new/lib/python3.7/site-packages/sklearn/metrics/_classification.py:1221: UndefinedMetricWarning: Recall is ill-defined and being set to 0.0 due to no true samples. Use `zero_division` parameter to control this behavior.\n",
      "  _warn_prf(average, modifier, msg_start, len(result))\n"
     ]
    },
    {
     "name": "stdout",
     "output_type": "stream",
     "text": [
      "Confusion matrix, without normalization\n",
      "[[ 48  80]\n",
      " [  7 121]]\n",
      "Confusion matrix, without normalization\n",
      "[[5 1]\n",
      " [0 0]]\n",
      "Confusion matrix, without normalization\n",
      "[[ 51  79]\n",
      " [ 20 110]]\n",
      "Confusion matrix, without normalization\n",
      "[[0 4]\n",
      " [1 3]]\n",
      "Confusion matrix, without normalization\n",
      "[[ 50  78]\n",
      " [ 12 116]]\n",
      "Confusion matrix, without normalization\n",
      "[[5 1]\n",
      " [1 0]]\n"
     ]
    },
    {
     "name": "stderr",
     "output_type": "stream",
     "text": [
      "/Users/hundredball/anaconda3/envs/Math24_new/lib/python3.7/site-packages/sklearn/metrics/_classification.py:1221: UndefinedMetricWarning: Recall is ill-defined and being set to 0.0 due to no true samples. Use `zero_division` parameter to control this behavior.\n",
      "  _warn_prf(average, modifier, msg_start, len(result))\n"
     ]
    },
    {
     "name": "stdout",
     "output_type": "stream",
     "text": [
      "Confusion matrix, without normalization\n",
      "[[ 54  73]\n",
      " [ 12 115]]\n",
      "Confusion matrix, without normalization\n",
      "[[0 7]\n",
      " [0 0]]\n"
     ]
    },
    {
     "name": "stderr",
     "output_type": "stream",
     "text": [
      "/Users/hundredball/anaconda3/envs/Math24_new/lib/python3.7/site-packages/sklearn/metrics/_classification.py:1221: UndefinedMetricWarning: Recall is ill-defined and being set to 0.0 due to no true samples. Use `zero_division` parameter to control this behavior.\n",
      "  _warn_prf(average, modifier, msg_start, len(result))\n"
     ]
    },
    {
     "name": "stdout",
     "output_type": "stream",
     "text": [
      "Confusion matrix, without normalization\n",
      "[[ 52  76]\n",
      " [ 12 116]]\n",
      "Confusion matrix, without normalization\n",
      "[[3 3]\n",
      " [0 0]]\n"
     ]
    },
    {
     "name": "stderr",
     "output_type": "stream",
     "text": [
      "/Users/hundredball/anaconda3/envs/Math24_new/lib/python3.7/site-packages/sklearn/metrics/_classification.py:1221: UndefinedMetricWarning: Recall is ill-defined and being set to 0.0 due to no true samples. Use `zero_division` parameter to control this behavior.\n",
      "  _warn_prf(average, modifier, msg_start, len(result))\n"
     ]
    },
    {
     "name": "stdout",
     "output_type": "stream",
     "text": [
      "Confusion matrix, without normalization\n",
      "[[ 52  77]\n",
      " [ 14 115]]\n",
      "Confusion matrix, without normalization\n",
      "[[3 2]\n",
      " [0 0]]\n"
     ]
    },
    {
     "name": "stderr",
     "output_type": "stream",
     "text": [
      "/Users/hundredball/anaconda3/envs/Math24_new/lib/python3.7/site-packages/sklearn/metrics/_classification.py:1221: UndefinedMetricWarning: Recall is ill-defined and being set to 0.0 due to no true samples. Use `zero_division` parameter to control this behavior.\n",
      "  _warn_prf(average, modifier, msg_start, len(result))\n"
     ]
    },
    {
     "name": "stdout",
     "output_type": "stream",
     "text": [
      "Confusion matrix, without normalization\n",
      "[[ 55  74]\n",
      " [ 13 116]]\n",
      "Confusion matrix, without normalization\n",
      "[[0 5]\n",
      " [0 0]]\n",
      "Confusion matrix, without normalization\n",
      "[[ 53  77]\n",
      " [ 13 117]]\n",
      "Confusion matrix, without normalization\n",
      "[[0 4]\n",
      " [0 2]]\n",
      "Confusion matrix, without normalization\n",
      "[[ 58  76]\n",
      " [ 13 121]]\n",
      "Confusion matrix, without normalization\n",
      "[[0 0]\n",
      " [2 1]]\n",
      "Confusion matrix, without normalization\n",
      "[[ 52  77]\n",
      " [ 10 119]]\n",
      "Confusion matrix, without normalization\n",
      "[[1 4]\n",
      " [0 1]]\n"
     ]
    },
    {
     "name": "stderr",
     "output_type": "stream",
     "text": [
      "/Users/hundredball/anaconda3/envs/Math24_new/lib/python3.7/site-packages/sklearn/metrics/_classification.py:1221: UndefinedMetricWarning: Recall is ill-defined and being set to 0.0 due to no true samples. Use `zero_division` parameter to control this behavior.\n",
      "  _warn_prf(average, modifier, msg_start, len(result))\n"
     ]
    },
    {
     "name": "stdout",
     "output_type": "stream",
     "text": [
      "Confusion matrix, without normalization\n",
      "[[ 52  76]\n",
      " [  8 120]]\n",
      "Confusion matrix, without normalization\n",
      "[[2 4]\n",
      " [0 0]]\n"
     ]
    },
    {
     "name": "stderr",
     "output_type": "stream",
     "text": [
      "/Users/hundredball/anaconda3/envs/Math24_new/lib/python3.7/site-packages/sklearn/metrics/_classification.py:1221: UndefinedMetricWarning: Recall is ill-defined and being set to 0.0 due to no true samples. Use `zero_division` parameter to control this behavior.\n",
      "  _warn_prf(average, modifier, msg_start, len(result))\n"
     ]
    },
    {
     "name": "stdout",
     "output_type": "stream",
     "text": [
      "Confusion matrix, without normalization\n",
      "[[ 52  76]\n",
      " [ 12 116]]\n",
      "Confusion matrix, without normalization\n",
      "[[3 3]\n",
      " [0 0]]\n"
     ]
    },
    {
     "name": "stderr",
     "output_type": "stream",
     "text": [
      "/Users/hundredball/anaconda3/envs/Math24_new/lib/python3.7/site-packages/sklearn/metrics/_classification.py:1221: UndefinedMetricWarning: Recall is ill-defined and being set to 0.0 due to no true samples. Use `zero_division` parameter to control this behavior.\n",
      "  _warn_prf(average, modifier, msg_start, len(result))\n"
     ]
    },
    {
     "name": "stdout",
     "output_type": "stream",
     "text": [
      "Confusion matrix, without normalization\n",
      "[[ 52  79]\n",
      " [ 11 120]]\n",
      "Confusion matrix, without normalization\n",
      "[[1 2]\n",
      " [0 0]]\n",
      "Confusion matrix, without normalization\n",
      "[[ 56  77]\n",
      " [ 11 122]]\n",
      "Confusion matrix, without normalization\n",
      "[[0 1]\n",
      " [1 0]]\n",
      "Confusion matrix, without normalization\n",
      "[[ 57  75]\n",
      " [ 16 116]]\n",
      "Confusion matrix, without normalization\n",
      "[[1 1]\n",
      " [2 1]]\n"
     ]
    },
    {
     "name": "stderr",
     "output_type": "stream",
     "text": [
      "/Users/hundredball/anaconda3/envs/Math24_new/lib/python3.7/site-packages/sklearn/metrics/_classification.py:1221: UndefinedMetricWarning: Recall is ill-defined and being set to 0.0 due to no true samples. Use `zero_division` parameter to control this behavior.\n",
      "  _warn_prf(average, modifier, msg_start, len(result))\n"
     ]
    },
    {
     "name": "stdout",
     "output_type": "stream",
     "text": [
      "Confusion matrix, without normalization\n",
      "[[ 55  74]\n",
      " [ 13 116]]\n",
      "Confusion matrix, without normalization\n",
      "[[0 5]\n",
      " [0 0]]\n"
     ]
    },
    {
     "name": "stderr",
     "output_type": "stream",
     "text": [
      "/Users/hundredball/anaconda3/envs/Math24_new/lib/python3.7/site-packages/sklearn/metrics/_classification.py:1221: UndefinedMetricWarning: Recall is ill-defined and being set to 0.0 due to no true samples. Use `zero_division` parameter to control this behavior.\n",
      "  _warn_prf(average, modifier, msg_start, len(result))\n"
     ]
    },
    {
     "name": "stdout",
     "output_type": "stream",
     "text": [
      "Confusion matrix, without normalization\n",
      "[[ 48  76]\n",
      " [  8 116]]\n",
      "Confusion matrix, without normalization\n",
      "[[5 5]\n",
      " [0 0]]\n",
      "Confusion matrix, without normalization\n",
      "[[ 47  80]\n",
      " [ 15 112]]\n",
      "Confusion matrix, without normalization\n",
      "[[6 1]\n",
      " [0 1]]\n"
     ]
    },
    {
     "name": "stderr",
     "output_type": "stream",
     "text": [
      "/Users/hundredball/anaconda3/envs/Math24_new/lib/python3.7/site-packages/sklearn/metrics/_classification.py:1221: UndefinedMetricWarning: Recall is ill-defined and being set to 0.0 due to no true samples. Use `zero_division` parameter to control this behavior.\n",
      "  _warn_prf(average, modifier, msg_start, len(result))\n"
     ]
    },
    {
     "name": "stdout",
     "output_type": "stream",
     "text": [
      "Confusion matrix, without normalization\n",
      "[[ 54  69]\n",
      " [ 14 109]]\n",
      "Confusion matrix, without normalization\n",
      "[[3 8]\n",
      " [0 0]]\n"
     ]
    },
    {
     "name": "stderr",
     "output_type": "stream",
     "text": [
      "/Users/hundredball/anaconda3/envs/Math24_new/lib/python3.7/site-packages/sklearn/metrics/_classification.py:1221: UndefinedMetricWarning: Recall is ill-defined and being set to 0.0 due to no true samples. Use `zero_division` parameter to control this behavior.\n",
      "  _warn_prf(average, modifier, msg_start, len(result))\n"
     ]
    },
    {
     "name": "stdout",
     "output_type": "stream",
     "text": [
      "Confusion matrix, without normalization\n",
      "[[ 49  74]\n",
      " [  9 114]]\n",
      "Confusion matrix, without normalization\n",
      "[[4 7]\n",
      " [0 0]]\n"
     ]
    },
    {
     "name": "stderr",
     "output_type": "stream",
     "text": [
      "/Users/hundredball/anaconda3/envs/Math24_new/lib/python3.7/site-packages/sklearn/metrics/_classification.py:1221: UndefinedMetricWarning: Recall is ill-defined and being set to 0.0 due to no true samples. Use `zero_division` parameter to control this behavior.\n",
      "  _warn_prf(average, modifier, msg_start, len(result))\n"
     ]
    },
    {
     "name": "stdout",
     "output_type": "stream",
     "text": [
      "Confusion matrix, without normalization\n",
      "[[ 52  77]\n",
      " [ 14 115]]\n",
      "Confusion matrix, without normalization\n",
      "[[3 2]\n",
      " [0 0]]\n",
      "Confusion matrix, without normalization\n",
      "[[ 55  74]\n",
      " [ 11 118]]\n",
      "Confusion matrix, without normalization\n",
      "[[0 5]\n",
      " [1 0]]\n"
     ]
    },
    {
     "name": "stderr",
     "output_type": "stream",
     "text": [
      "/Users/hundredball/anaconda3/envs/Math24_new/lib/python3.7/site-packages/sklearn/metrics/_classification.py:1221: UndefinedMetricWarning: Recall is ill-defined and being set to 0.0 due to no true samples. Use `zero_division` parameter to control this behavior.\n",
      "  _warn_prf(average, modifier, msg_start, len(result))\n"
     ]
    },
    {
     "name": "stdout",
     "output_type": "stream",
     "text": [
      "Confusion matrix, without normalization\n",
      "[[ 50  77]\n",
      " [ 12 115]]\n",
      "Confusion matrix, without normalization\n",
      "[[5 2]\n",
      " [0 0]]\n"
     ]
    },
    {
     "name": "stderr",
     "output_type": "stream",
     "text": [
      "/Users/hundredball/anaconda3/envs/Math24_new/lib/python3.7/site-packages/sklearn/metrics/_classification.py:1221: UndefinedMetricWarning: Recall is ill-defined and being set to 0.0 due to no true samples. Use `zero_division` parameter to control this behavior.\n",
      "  _warn_prf(average, modifier, msg_start, len(result))\n"
     ]
    },
    {
     "name": "stdout",
     "output_type": "stream",
     "text": [
      "Confusion matrix, without normalization\n",
      "[[ 51  76]\n",
      " [ 12 115]]\n",
      "Confusion matrix, without normalization\n",
      "[[4 3]\n",
      " [0 0]]\n",
      "Load data from .mat files...\n"
     ]
    },
    {
     "name": "stderr",
     "output_type": "stream",
     "text": [
      "/Users/hundredball/anaconda3/envs/Math24_new/lib/python3.7/site-packages/pandas/core/dtypes/missing.py:495: VisibleDeprecationWarning: Creating an ndarray from ragged nested sequences (which is a list-or-tuple of lists-or-tuples-or ndarrays with different lengths or shapes) is deprecated. If you meant to do this, you must specify 'dtype=object' when creating the ndarray\n",
      "  val = np.array(val, copy=False)\n",
      "/Users/hundredball/anaconda3/envs/Math24_new/lib/python3.7/site-packages/numpy/core/_asarray.py:83: VisibleDeprecationWarning: Creating an ndarray from ragged nested sequences (which is a list-or-tuple of lists-or-tuples-or ndarrays with different lengths or shapes) is deprecated. If you meant to do this, you must specify 'dtype=object' when creating the ndarray\n",
      "  return array(a, dtype, copy=False, order=order)\n"
     ]
    },
    {
     "name": "stdout",
     "output_type": "stream",
     "text": [
      "Calculating the bandpower of time-series data...\n",
      "freqs:  [0.000e+00 2.000e-01 4.000e-01 ... 4.996e+02 4.998e+02 5.000e+02]\n",
      "Confusion matrix, without normalization\n",
      "[[16 71]\n",
      " [ 2 19]]\n",
      "Confusion matrix, without normalization\n",
      "[[4 5]\n",
      " [1 3]]\n",
      "Confusion matrix, without normalization\n",
      "[[11 74]\n",
      " [ 2 22]]\n",
      "Confusion matrix, without normalization\n",
      "[[3 8]\n",
      " [0 1]]\n",
      "Confusion matrix, without normalization\n",
      "[[13 73]\n",
      " [ 1 22]]\n",
      "Confusion matrix, without normalization\n",
      "[[ 0 10]\n",
      " [ 0  2]]\n",
      "Confusion matrix, without normalization\n",
      "[[18 67]\n",
      " [ 3 21]]\n",
      "Confusion matrix, without normalization\n",
      "[[3 8]\n",
      " [1 0]]\n",
      "Confusion matrix, without normalization\n",
      "[[14 73]\n",
      " [ 2 20]]\n",
      "Confusion matrix, without normalization\n",
      "[[0 9]\n",
      " [0 3]]\n",
      "Confusion matrix, without normalization\n",
      "[[11 76]\n",
      " [ 1 21]]\n",
      "Confusion matrix, without normalization\n",
      "[[0 9]\n",
      " [0 3]]\n",
      "Confusion matrix, without normalization\n",
      "[[11 77]\n",
      " [ 1 20]]\n",
      "Confusion matrix, without normalization\n",
      "[[0 8]\n",
      " [0 4]]\n",
      "Confusion matrix, without normalization\n",
      "[[10 76]\n",
      " [ 1 22]]\n",
      "Confusion matrix, without normalization\n",
      "[[2 8]\n",
      " [0 2]]\n",
      "Confusion matrix, without normalization\n",
      "[[19 68]\n",
      " [ 2 20]]\n",
      "Confusion matrix, without normalization\n",
      "[[1 8]\n",
      " [1 2]]\n",
      "Confusion matrix, without normalization\n",
      "[[11 75]\n",
      " [ 1 22]]\n",
      "Confusion matrix, without normalization\n",
      "[[1 9]\n",
      " [0 2]]\n",
      "Confusion matrix, without normalization\n",
      "[[14 78]\n",
      " [ 2 22]]\n",
      "Confusion matrix, without normalization\n",
      "[[0 4]\n",
      " [0 1]]\n"
     ]
    },
    {
     "name": "stderr",
     "output_type": "stream",
     "text": [
      "/Users/hundredball/anaconda3/envs/Math24_new/lib/python3.7/site-packages/sklearn/metrics/_classification.py:1221: UndefinedMetricWarning: Recall is ill-defined and being set to 0.0 due to no true samples. Use `zero_division` parameter to control this behavior.\n",
      "  _warn_prf(average, modifier, msg_start, len(result))\n"
     ]
    },
    {
     "name": "stdout",
     "output_type": "stream",
     "text": [
      "Confusion matrix, without normalization\n",
      "[[14 81]\n",
      " [ 2 23]]\n",
      "Confusion matrix, without normalization\n",
      "[[0 1]\n",
      " [0 0]]\n",
      "Confusion matrix, without normalization\n",
      "[[14 78]\n",
      " [ 2 21]]\n",
      "Confusion matrix, without normalization\n",
      "[[0 4]\n",
      " [1 1]]\n",
      "Confusion matrix, without normalization\n",
      "[[13 78]\n",
      " [ 1 23]]\n",
      "Confusion matrix, without normalization\n",
      "[[0 5]\n",
      " [0 1]]\n"
     ]
    },
    {
     "name": "stderr",
     "output_type": "stream",
     "text": [
      "/Users/hundredball/anaconda3/envs/Math24_new/lib/python3.7/site-packages/sklearn/metrics/_classification.py:1221: UndefinedMetricWarning: Recall is ill-defined and being set to 0.0 due to no true samples. Use `zero_division` parameter to control this behavior.\n",
      "  _warn_prf(average, modifier, msg_start, len(result))\n"
     ]
    },
    {
     "name": "stdout",
     "output_type": "stream",
     "text": [
      "Confusion matrix, without normalization\n",
      "[[13 77]\n",
      " [ 1 24]]\n",
      "Confusion matrix, without normalization\n",
      "[[0 6]\n",
      " [0 0]]\n",
      "Confusion matrix, without normalization\n",
      "[[17 77]\n",
      " [ 1 21]]\n",
      "Confusion matrix, without normalization\n",
      "[[1 1]\n",
      " [2 1]]\n",
      "Confusion matrix, without normalization\n",
      "[[11 81]\n",
      " [ 1 23]]\n",
      "Confusion matrix, without normalization\n",
      "[[1 3]\n",
      " [0 1]]\n"
     ]
    },
    {
     "name": "stderr",
     "output_type": "stream",
     "text": [
      "/Users/hundredball/anaconda3/envs/Math24_new/lib/python3.7/site-packages/sklearn/metrics/_classification.py:1221: UndefinedMetricWarning: Recall is ill-defined and being set to 0.0 due to no true samples. Use `zero_division` parameter to control this behavior.\n",
      "  _warn_prf(average, modifier, msg_start, len(result))\n"
     ]
    },
    {
     "name": "stdout",
     "output_type": "stream",
     "text": [
      "Confusion matrix, without normalization\n",
      "[[13 79]\n",
      " [ 1 24]]\n",
      "Confusion matrix, without normalization\n",
      "[[0 4]\n",
      " [0 0]]\n",
      "Confusion matrix, without normalization\n",
      "[[14 81]\n",
      " [ 2 22]]\n",
      "Confusion matrix, without normalization\n",
      "[[0 1]\n",
      " [0 1]]\n"
     ]
    },
    {
     "name": "stderr",
     "output_type": "stream",
     "text": [
      "/Users/hundredball/anaconda3/envs/Math24_new/lib/python3.7/site-packages/sklearn/metrics/_classification.py:1221: UndefinedMetricWarning: Recall is ill-defined and being set to 0.0 due to no true samples. Use `zero_division` parameter to control this behavior.\n",
      "  _warn_prf(average, modifier, msg_start, len(result))\n"
     ]
    },
    {
     "name": "stdout",
     "output_type": "stream",
     "text": [
      "Confusion matrix, without normalization\n",
      "[[13 80]\n",
      " [ 1 24]]\n",
      "Confusion matrix, without normalization\n",
      "[[0 3]\n",
      " [0 0]]\n",
      "Confusion matrix, without normalization\n",
      "[[13 78]\n",
      " [ 1 23]]\n",
      "Confusion matrix, without normalization\n",
      "[[0 5]\n",
      " [0 1]]\n",
      "Confusion matrix, without normalization\n",
      "[[17 77]\n",
      " [ 2 19]]\n",
      "Confusion matrix, without normalization\n",
      "[[0 2]\n",
      " [0 4]]\n"
     ]
    },
    {
     "name": "stderr",
     "output_type": "stream",
     "text": [
      "/Users/hundredball/anaconda3/envs/Math24_new/lib/python3.7/site-packages/sklearn/metrics/_classification.py:1221: UndefinedMetricWarning: Recall is ill-defined and being set to 0.0 due to no true samples. Use `zero_division` parameter to control this behavior.\n",
      "  _warn_prf(average, modifier, msg_start, len(result))\n"
     ]
    },
    {
     "name": "stdout",
     "output_type": "stream",
     "text": [
      "Confusion matrix, without normalization\n",
      "[[10 81]\n",
      " [ 1 24]]\n",
      "Confusion matrix, without normalization\n",
      "[[2 3]\n",
      " [0 0]]\n"
     ]
    },
    {
     "name": "stderr",
     "output_type": "stream",
     "text": [
      "/Users/hundredball/anaconda3/envs/Math24_new/lib/python3.7/site-packages/sklearn/metrics/_classification.py:1221: UndefinedMetricWarning: Recall is ill-defined and being set to 0.0 due to no true samples. Use `zero_division` parameter to control this behavior.\n",
      "  _warn_prf(average, modifier, msg_start, len(result))\n"
     ]
    },
    {
     "name": "stdout",
     "output_type": "stream",
     "text": [
      "Confusion matrix, without normalization\n",
      "[[13 81]\n",
      " [ 1 24]]\n",
      "Confusion matrix, without normalization\n",
      "[[0 2]\n",
      " [0 0]]\n",
      "Confusion matrix, without normalization\n",
      "[[14 82]\n",
      " [ 2 22]]\n",
      "Confusion matrix, without normalization\n",
      "[[1]]\n",
      "Confusion matrix, without normalization\n",
      "[[13 81]\n",
      " [ 1 23]]\n",
      "Confusion matrix, without normalization\n",
      "[[0 2]\n",
      " [0 1]]\n",
      "Confusion matrix, without normalization\n",
      "[[14 79]\n",
      " [ 2 22]]\n",
      "Confusion matrix, without normalization\n",
      "[[0 3]\n",
      " [0 1]]\n",
      "Confusion matrix, without normalization\n",
      "[[12 80]\n",
      " [ 1 23]]\n",
      "Confusion matrix, without normalization\n",
      "[[1 3]\n",
      " [0 1]]\n",
      "Confusion matrix, without normalization\n",
      "[[19 68]\n",
      " [ 3 19]]\n",
      "Confusion matrix, without normalization\n",
      "[[6 3]\n",
      " [3 0]]\n"
     ]
    },
    {
     "name": "stderr",
     "output_type": "stream",
     "text": [
      "/Users/hundredball/anaconda3/envs/Math24_new/lib/python3.7/site-packages/sklearn/metrics/_classification.py:1221: UndefinedMetricWarning: Recall is ill-defined and being set to 0.0 due to no true samples. Use `zero_division` parameter to control this behavior.\n",
      "  _warn_prf(average, modifier, msg_start, len(result))\n"
     ]
    },
    {
     "name": "stdout",
     "output_type": "stream",
     "text": [
      "Confusion matrix, without normalization\n",
      "[[46 41]\n",
      " [13 12]]\n",
      "Confusion matrix, without normalization\n",
      "[[4 5]\n",
      " [0 0]]\n"
     ]
    },
    {
     "name": "stderr",
     "output_type": "stream",
     "text": [
      "/Users/hundredball/anaconda3/envs/Math24_new/lib/python3.7/site-packages/sklearn/metrics/_classification.py:1221: UndefinedMetricWarning: Recall is ill-defined and being set to 0.0 due to no true samples. Use `zero_division` parameter to control this behavior.\n",
      "  _warn_prf(average, modifier, msg_start, len(result))\n"
     ]
    },
    {
     "name": "stdout",
     "output_type": "stream",
     "text": [
      "Confusion matrix, without normalization\n",
      "[[12 77]\n",
      " [ 1 24]]\n",
      "Confusion matrix, without normalization\n",
      "[[0 7]\n",
      " [0 0]]\n"
     ]
    },
    {
     "name": "stderr",
     "output_type": "stream",
     "text": [
      "/Users/hundredball/anaconda3/envs/Math24_new/lib/python3.7/site-packages/sklearn/metrics/_classification.py:1221: UndefinedMetricWarning: Recall is ill-defined and being set to 0.0 due to no true samples. Use `zero_division` parameter to control this behavior.\n",
      "  _warn_prf(average, modifier, msg_start, len(result))\n"
     ]
    },
    {
     "name": "stdout",
     "output_type": "stream",
     "text": [
      "Confusion matrix, without normalization\n",
      "[[13 79]\n",
      " [ 1 24]]\n",
      "Confusion matrix, without normalization\n",
      "[[0 4]\n",
      " [0 0]]\n"
     ]
    },
    {
     "name": "stderr",
     "output_type": "stream",
     "text": [
      "/Users/hundredball/anaconda3/envs/Math24_new/lib/python3.7/site-packages/sklearn/metrics/_classification.py:1221: UndefinedMetricWarning: Recall is ill-defined and being set to 0.0 due to no true samples. Use `zero_division` parameter to control this behavior.\n",
      "  _warn_prf(average, modifier, msg_start, len(result))\n"
     ]
    },
    {
     "name": "stdout",
     "output_type": "stream",
     "text": [
      "Confusion matrix, without normalization\n",
      "[[14 80]\n",
      " [ 2 23]]\n",
      "Confusion matrix, without normalization\n",
      "[[0 2]\n",
      " [0 0]]\n"
     ]
    },
    {
     "name": "stderr",
     "output_type": "stream",
     "text": [
      "/Users/hundredball/anaconda3/envs/Math24_new/lib/python3.7/site-packages/sklearn/metrics/_classification.py:1221: UndefinedMetricWarning: Recall is ill-defined and being set to 0.0 due to no true samples. Use `zero_division` parameter to control this behavior.\n",
      "  _warn_prf(average, modifier, msg_start, len(result))\n"
     ]
    },
    {
     "name": "stdout",
     "output_type": "stream",
     "text": [
      "Confusion matrix, without normalization\n",
      "[[14 77]\n",
      " [ 2 23]]\n",
      "Confusion matrix, without normalization\n",
      "[[0 5]\n",
      " [0 0]]\n",
      "Confusion matrix, without normalization\n",
      "[[15 78]\n",
      " [ 2 19]]\n",
      "Confusion matrix, without normalization\n",
      "[[1 2]\n",
      " [0 4]]\n",
      "Confusion matrix, without normalization\n",
      "[[18 69]\n",
      " [10 77]]\n",
      "Confusion matrix, without normalization\n",
      "[[5 4]\n",
      " [1 3]]\n",
      "Confusion matrix, without normalization\n",
      "[[12 73]\n",
      " [ 6 79]]\n",
      "Confusion matrix, without normalization\n",
      "[[2 9]\n",
      " [0 1]]\n",
      "Confusion matrix, without normalization\n",
      "[[15 71]\n",
      " [ 4 82]]\n",
      "Confusion matrix, without normalization\n",
      "[[ 0 10]\n",
      " [ 0  2]]\n",
      "Confusion matrix, without normalization\n",
      "[[14 71]\n",
      " [ 6 79]]\n",
      "Confusion matrix, without normalization\n",
      "[[2 9]\n",
      " [1 0]]\n",
      "Confusion matrix, without normalization\n",
      "[[15 72]\n",
      " [ 4 83]]\n",
      "Confusion matrix, without normalization\n",
      "[[0 9]\n",
      " [0 3]]\n",
      "Confusion matrix, without normalization\n",
      "[[12 75]\n",
      " [ 6 81]]\n",
      "Confusion matrix, without normalization\n",
      "[[0 9]\n",
      " [0 3]]\n",
      "Confusion matrix, without normalization\n",
      "[[12 76]\n",
      " [ 4 84]]\n",
      "Confusion matrix, without normalization\n",
      "[[0 8]\n",
      " [0 4]]\n",
      "Confusion matrix, without normalization\n",
      "[[11 75]\n",
      " [ 3 83]]\n",
      "Confusion matrix, without normalization\n",
      "[[3 7]\n",
      " [1 1]]\n",
      "Confusion matrix, without normalization\n",
      "[[14 73]\n",
      " [ 3 84]]\n",
      "Confusion matrix, without normalization\n",
      "[[1 8]\n",
      " [1 2]]\n",
      "Confusion matrix, without normalization\n",
      "[[11 75]\n",
      " [ 7 79]]\n",
      "Confusion matrix, without normalization\n",
      "[[1 9]\n",
      " [0 2]]\n",
      "Confusion matrix, without normalization\n",
      "[[12 80]\n",
      " [ 5 87]]\n",
      "Confusion matrix, without normalization\n",
      "[[0 4]\n",
      " [0 1]]\n"
     ]
    },
    {
     "name": "stderr",
     "output_type": "stream",
     "text": [
      "/Users/hundredball/anaconda3/envs/Math24_new/lib/python3.7/site-packages/sklearn/metrics/_classification.py:1221: UndefinedMetricWarning: Recall is ill-defined and being set to 0.0 due to no true samples. Use `zero_division` parameter to control this behavior.\n",
      "  _warn_prf(average, modifier, msg_start, len(result))\n"
     ]
    },
    {
     "name": "stdout",
     "output_type": "stream",
     "text": [
      "Confusion matrix, without normalization\n",
      "[[14 81]\n",
      " [ 3 92]]\n",
      "Confusion matrix, without normalization\n",
      "[[0 1]\n",
      " [0 0]]\n",
      "Confusion matrix, without normalization\n",
      "[[15 77]\n",
      " [ 4 88]]\n",
      "Confusion matrix, without normalization\n",
      "[[0 4]\n",
      " [1 1]]\n",
      "Confusion matrix, without normalization\n",
      "[[12 79]\n",
      " [ 5 86]]\n",
      "Confusion matrix, without normalization\n",
      "[[0 5]\n",
      " [0 1]]\n"
     ]
    },
    {
     "name": "stderr",
     "output_type": "stream",
     "text": [
      "/Users/hundredball/anaconda3/envs/Math24_new/lib/python3.7/site-packages/sklearn/metrics/_classification.py:1221: UndefinedMetricWarning: Recall is ill-defined and being set to 0.0 due to no true samples. Use `zero_division` parameter to control this behavior.\n",
      "  _warn_prf(average, modifier, msg_start, len(result))\n"
     ]
    },
    {
     "name": "stdout",
     "output_type": "stream",
     "text": [
      "Confusion matrix, without normalization\n",
      "[[15 75]\n",
      " [ 2 88]]\n",
      "Confusion matrix, without normalization\n",
      "[[0 6]\n",
      " [0 0]]\n",
      "Confusion matrix, without normalization\n",
      "[[14 80]\n",
      " [ 5 89]]\n",
      "Confusion matrix, without normalization\n",
      "[[0 2]\n",
      " [1 2]]\n",
      "Confusion matrix, without normalization\n",
      "[[12 80]\n",
      " [ 6 86]]\n",
      "Confusion matrix, without normalization\n",
      "[[0 4]\n",
      " [0 1]]\n"
     ]
    },
    {
     "name": "stderr",
     "output_type": "stream",
     "text": [
      "/Users/hundredball/anaconda3/envs/Math24_new/lib/python3.7/site-packages/sklearn/metrics/_classification.py:1221: UndefinedMetricWarning: Recall is ill-defined and being set to 0.0 due to no true samples. Use `zero_division` parameter to control this behavior.\n",
      "  _warn_prf(average, modifier, msg_start, len(result))\n"
     ]
    },
    {
     "name": "stdout",
     "output_type": "stream",
     "text": [
      "Confusion matrix, without normalization\n",
      "[[16 76]\n",
      " [ 3 89]]\n",
      "Confusion matrix, without normalization\n",
      "[[0 4]\n",
      " [0 0]]\n",
      "Confusion matrix, without normalization\n",
      "[[11 84]\n",
      " [ 5 90]]\n",
      "Confusion matrix, without normalization\n",
      "[[0 1]\n",
      " [0 1]]\n"
     ]
    },
    {
     "name": "stderr",
     "output_type": "stream",
     "text": [
      "/Users/hundredball/anaconda3/envs/Math24_new/lib/python3.7/site-packages/sklearn/metrics/_classification.py:1221: UndefinedMetricWarning: Recall is ill-defined and being set to 0.0 due to no true samples. Use `zero_division` parameter to control this behavior.\n",
      "  _warn_prf(average, modifier, msg_start, len(result))\n"
     ]
    },
    {
     "name": "stdout",
     "output_type": "stream",
     "text": [
      "Confusion matrix, without normalization\n",
      "[[14 79]\n",
      " [ 4 89]]\n",
      "Confusion matrix, without normalization\n",
      "[[0 3]\n",
      " [0 0]]\n",
      "Confusion matrix, without normalization\n",
      "[[12 79]\n",
      " [ 5 86]]\n",
      "Confusion matrix, without normalization\n",
      "[[0 5]\n",
      " [0 1]]\n",
      "Confusion matrix, without normalization\n",
      "[[13 81]\n",
      " [ 5 89]]\n",
      "Confusion matrix, without normalization\n",
      "[[0 2]\n",
      " [0 4]]\n"
     ]
    },
    {
     "name": "stderr",
     "output_type": "stream",
     "text": [
      "/Users/hundredball/anaconda3/envs/Math24_new/lib/python3.7/site-packages/sklearn/metrics/_classification.py:1221: UndefinedMetricWarning: Recall is ill-defined and being set to 0.0 due to no true samples. Use `zero_division` parameter to control this behavior.\n",
      "  _warn_prf(average, modifier, msg_start, len(result))\n"
     ]
    },
    {
     "name": "stdout",
     "output_type": "stream",
     "text": [
      "Confusion matrix, without normalization\n",
      "[[13 78]\n",
      " [ 6 85]]\n",
      "Confusion matrix, without normalization\n",
      "[[3 2]\n",
      " [0 0]]\n"
     ]
    },
    {
     "name": "stderr",
     "output_type": "stream",
     "text": [
      "/Users/hundredball/anaconda3/envs/Math24_new/lib/python3.7/site-packages/sklearn/metrics/_classification.py:1221: UndefinedMetricWarning: Recall is ill-defined and being set to 0.0 due to no true samples. Use `zero_division` parameter to control this behavior.\n",
      "  _warn_prf(average, modifier, msg_start, len(result))\n"
     ]
    },
    {
     "name": "stdout",
     "output_type": "stream",
     "text": [
      "Confusion matrix, without normalization\n",
      "[[14 80]\n",
      " [ 3 91]]\n",
      "Confusion matrix, without normalization\n",
      "[[0 2]\n",
      " [0 0]]\n",
      "Confusion matrix, without normalization\n",
      "[[13 83]\n",
      " [ 5 91]]\n",
      "Confusion matrix, without normalization\n",
      "[[1]]\n",
      "Confusion matrix, without normalization\n",
      "[[12 82]\n",
      " [ 5 89]]\n",
      "Confusion matrix, without normalization\n",
      "[[0 2]\n",
      " [0 1]]\n",
      "Confusion matrix, without normalization\n",
      "[[13 80]\n",
      " [ 5 88]]\n",
      "Confusion matrix, without normalization\n",
      "[[0 3]\n",
      " [0 1]]\n",
      "Confusion matrix, without normalization\n",
      "[[11 81]\n",
      " [ 6 86]]\n",
      "Confusion matrix, without normalization\n",
      "[[1 3]\n",
      " [0 1]]\n",
      "Confusion matrix, without normalization\n",
      "[[22 65]\n",
      " [13 74]]\n",
      "Confusion matrix, without normalization\n",
      "[[6 3]\n",
      " [3 0]]\n"
     ]
    },
    {
     "name": "stderr",
     "output_type": "stream",
     "text": [
      "/Users/hundredball/anaconda3/envs/Math24_new/lib/python3.7/site-packages/sklearn/metrics/_classification.py:1221: UndefinedMetricWarning: Recall is ill-defined and being set to 0.0 due to no true samples. Use `zero_division` parameter to control this behavior.\n",
      "  _warn_prf(average, modifier, msg_start, len(result))\n"
     ]
    },
    {
     "name": "stdout",
     "output_type": "stream",
     "text": [
      "Confusion matrix, without normalization\n",
      "[[16 71]\n",
      " [ 7 80]]\n",
      "Confusion matrix, without normalization\n",
      "[[2 7]\n",
      " [0 0]]\n"
     ]
    },
    {
     "name": "stderr",
     "output_type": "stream",
     "text": [
      "/Users/hundredball/anaconda3/envs/Math24_new/lib/python3.7/site-packages/sklearn/metrics/_classification.py:1221: UndefinedMetricWarning: Recall is ill-defined and being set to 0.0 due to no true samples. Use `zero_division` parameter to control this behavior.\n",
      "  _warn_prf(average, modifier, msg_start, len(result))\n"
     ]
    },
    {
     "name": "stdout",
     "output_type": "stream",
     "text": [
      "Confusion matrix, without normalization\n",
      "[[14 75]\n",
      " [ 2 87]]\n",
      "Confusion matrix, without normalization\n",
      "[[0 7]\n",
      " [0 0]]\n"
     ]
    },
    {
     "name": "stderr",
     "output_type": "stream",
     "text": [
      "/Users/hundredball/anaconda3/envs/Math24_new/lib/python3.7/site-packages/sklearn/metrics/_classification.py:1221: UndefinedMetricWarning: Recall is ill-defined and being set to 0.0 due to no true samples. Use `zero_division` parameter to control this behavior.\n",
      "  _warn_prf(average, modifier, msg_start, len(result))\n"
     ]
    },
    {
     "name": "stdout",
     "output_type": "stream",
     "text": [
      "Confusion matrix, without normalization\n",
      "[[16 76]\n",
      " [ 3 89]]\n",
      "Confusion matrix, without normalization\n",
      "[[0 4]\n",
      " [0 0]]\n"
     ]
    },
    {
     "name": "stderr",
     "output_type": "stream",
     "text": [
      "/Users/hundredball/anaconda3/envs/Math24_new/lib/python3.7/site-packages/sklearn/metrics/_classification.py:1221: UndefinedMetricWarning: Recall is ill-defined and being set to 0.0 due to no true samples. Use `zero_division` parameter to control this behavior.\n",
      "  _warn_prf(average, modifier, msg_start, len(result))\n"
     ]
    },
    {
     "name": "stdout",
     "output_type": "stream",
     "text": [
      "Confusion matrix, without normalization\n",
      "[[14 80]\n",
      " [ 3 91]]\n",
      "Confusion matrix, without normalization\n",
      "[[0 2]\n",
      " [0 0]]\n"
     ]
    },
    {
     "name": "stderr",
     "output_type": "stream",
     "text": [
      "/Users/hundredball/anaconda3/envs/Math24_new/lib/python3.7/site-packages/sklearn/metrics/_classification.py:1221: UndefinedMetricWarning: Recall is ill-defined and being set to 0.0 due to no true samples. Use `zero_division` parameter to control this behavior.\n",
      "  _warn_prf(average, modifier, msg_start, len(result))\n"
     ]
    },
    {
     "name": "stdout",
     "output_type": "stream",
     "text": [
      "Confusion matrix, without normalization\n",
      "[[14 77]\n",
      " [ 6 85]]\n",
      "Confusion matrix, without normalization\n",
      "[[1 4]\n",
      " [0 0]]\n",
      "Confusion matrix, without normalization\n",
      "[[14 79]\n",
      " [ 6 87]]\n",
      "Confusion matrix, without normalization\n",
      "[[1 2]\n",
      " [0 4]]\n"
     ]
    }
   ],
   "source": [
    "show_acc = False\n",
    "average_regions = True\n",
    "output_cm = True\n",
    "folder_name = 'PSD_classification_raw'\n",
    "\n",
    "for label_format in range(1,4):\n",
    "\n",
    "    X, Y, df_all = dataloader.read_data(label_format=label_format, data_folder='rawdata')\n",
    "    \n",
    "    # Remove bad trials\n",
    "    X, Y, df_all = preprocessing.remove_trials(X, Y, df_all)\n",
    "\n",
    "    if average_regions:\n",
    "        X = preprocessing.avg_channels_into_regions(X, df_all)\n",
    "    \n",
    "    # Transform into power\n",
    "    low, high = list(range(1,50)), list(range(2,51))\n",
    "    powers, psds, freqs = bandpower.get_bandpower(X, 1000, low=low, high=high, dB_scale=True)\n",
    "    powers = psds\n",
    "\n",
    "    # Select models\n",
    "    #model_names = ['svm', 'xgboost', 'naive']\n",
    "    sampling_names = ['original', 'SMOTE']\n",
    "    cv_modes = ['KFold', 'LOSO']\n",
    "    #preprocess_methods = ['None', 'PCAVar', 'PCAL1select', 'L1select']\n",
    "    \n",
    "    model_names = ['naive']\n",
    "    preprocess_methods = ['None']\n",
    "    \n",
    "    # Select powers from 2 to 10 Hz\n",
    "    #powers = [power[:,1:8] for power in powers]\n",
    "    #indices = np.where(np.logical_and(freqs<10 , freqs>2))[0]\n",
    "    #powers = [psd[:,indices] for psd in psds]\n",
    "\n",
    "    for model_name, sampling_name, cv_mode, preprocess_name in itertools.product(model_names, sampling_names, cv_modes, preprocess_methods):\n",
    "\n",
    "        file_name = '%s/label%d_%s_%s_%s_%s.csv'%(folder_name, label_format, model_name, sampling_name, cv_mode, preprocess_name)\n",
    "        description = 'Label: %d, Model: %s, Sampling: %s, CV mode: %s'%(label_format, model_name, sampling_name, cv_mode)\n",
    "\n",
    "        num_sample = len(X)\n",
    "        if average_regions:\n",
    "            X_power = np.array(powers)\n",
    "            X_power = X_power.reshape((len(X_power),-1))\n",
    "        else:\n",
    "            # Average over channels\n",
    "            X_power = np.zeros((num_sample, powers[1].shape[1]))\n",
    "            for i in range(len(X)):\n",
    "                X_power[i,:] = np.mean(powers[i],0)\n",
    "\n",
    "        kf = KFold(n_splits=10, shuffle=True, random_state=23)\n",
    "        S = df_all['subject'].values\n",
    "        folds = kf.split(X_power) if cv_mode=='KFold' else np.unique(S)\n",
    "\n",
    "        train_acc_list = []\n",
    "        val_acc_list = []\n",
    "        train_recall_list = []\n",
    "        val_recall_list = []\n",
    "        train_prec_list = []\n",
    "        val_prec_list = []\n",
    "        num_val_list = []\n",
    "        chance_list = []\n",
    "        fold_name_list = []\n",
    "\n",
    "        if show_acc:\n",
    "            print('Sub  \\t Chance\\t | Train | Val')\n",
    "        for i_fold, fold in enumerate(folds):\n",
    "            if cv_mode == 'KFold':\n",
    "                train_indices = fold[0]\n",
    "                val_indices = fold[1]\n",
    "            else:\n",
    "                subID = fold\n",
    "                train_indices = np.where(S!=subID)[0]\n",
    "                val_indices = np.where(S==subID)[0]\n",
    "\n",
    "            X_train, Y_train = X_power[train_indices,...], Y[train_indices]\n",
    "            X_val, Y_val = X_power[val_indices,...], Y[val_indices]\n",
    "\n",
    "            # Preprocessing features\n",
    "            if preprocess_name == 'L1select':\n",
    "                scaler = StandardScaler()\n",
    "                X_train = scaler.fit_transform(X_train)\n",
    "                X_val = scaler.transform(X_val)\n",
    "                X_train, X_val = preprocessing.select_features(X_train, X_val, Y_train)\n",
    "            elif preprocess_name in ['PCAVar', 'PCAL1select']:\n",
    "                n_components = 0.9 if preprocess_name=='PCAVar' else np.min(X_train.shape)\n",
    "                scaler, pca = StandardScaler(), PCA(n_components=n_components)\n",
    "                X_train = scaler.fit_transform(X_train)\n",
    "                X_val = scaler.transform(X_val)\n",
    "                \n",
    "                X_train = pca.fit_transform(X_train)\n",
    "                X_val = pca.transform(X_val)\n",
    "                \n",
    "                if preprocess_name == 'PCAL1select':\n",
    "                    X_train, X_val = preprocessing.select_features(X_train, X_val, Y_train)\n",
    "            \n",
    "            # Resample training data\n",
    "            if sampling_name == 'SMOTE':\n",
    "                sm = SMOTE(random_state=23)\n",
    "                X_train, Y_train = sm.fit_resample(X_train, Y_train)\n",
    "\n",
    "            # Train classifier\n",
    "            if model_name in ['svm','xgboost','naive']:\n",
    "                if model_name == 'svm':\n",
    "                    clf = svm.SVC()\n",
    "                elif model_name == 'xgboost':\n",
    "                    clf = xgb.XGBClassifier()\n",
    "                elif model_name == 'naive':\n",
    "                    clf = GaussianNB()\n",
    "                clf.fit(X_train, Y_train)\n",
    "\n",
    "                # Test classifier\n",
    "                pred_train = clf.predict(X_train)\n",
    "                pred_val = clf.predict(X_val)\n",
    "                \n",
    "                train_acc = accuracy_score(Y_train, pred_train)\n",
    "                val_acc = accuracy_score(Y_val, pred_val)\n",
    "                \n",
    "                train_recall = recall_score(Y_train, pred_train)\n",
    "                val_recall = recall_score(Y_val, pred_val)\n",
    "                \n",
    "                train_prec = precision_score(Y_train, pred_train)\n",
    "                val_prec = precision_score(Y_val, pred_val)\n",
    "                \n",
    "            fold_name = 'Fold %d'%(i_fold) if cv_mode == 'KFold' else 'Sub %d'%(subID)\n",
    "            chance = np.sum(Y_train)/len(Y_train)\n",
    "            chance = (1-chance) if chance<0.5 else chance\n",
    "\n",
    "            train_acc_list.append(train_acc)\n",
    "            val_acc_list.append(val_acc)\n",
    "            train_recall_list.append(train_recall)\n",
    "            val_recall_list.append(val_recall)\n",
    "            train_prec_list.append(train_prec)\n",
    "            val_prec_list.append(val_prec)\n",
    "            num_val_list.append(len(Y_val))\n",
    "            fold_name_list.append(fold_name)\n",
    "            chance_list.append(chance)\n",
    "\n",
    "            if show_acc:\n",
    "                print('%s\\t %.1f%%\\t | %.1f%% | %.1f%%'%(fold_name, chance*100, train_acc*100, val_acc*100))\n",
    "            \n",
    "            if output_cm:\n",
    "                fileName_cm = './results/' + file_name[:file_name.find('.')] + '_' + fold_name\n",
    "                plot_confusion_matrix(Y_train, pred_train, np.array(['Normal','Increase']), \n",
    "                                     fileName='%s_train.png'%(fileName_cm), title=fold_name)\n",
    "                plot_confusion_matrix(Y_val, pred_val, np.array(['Normal','Increase']), \n",
    "                                     fileName='%s_val.png'%(fileName_cm), title=fold_name)\n",
    "\n",
    "        avg_acc = sum([val_acc_list[i]*num_val_list[i] for i in range(len(num_val_list))])/num_sample\n",
    "        avg_recall = sum([val_recall_list[i]*num_val_list[i] for i in range(len(num_val_list))])/num_sample\n",
    "        avg_prec = sum([val_prec_list[i]*num_val_list[i] for i in range(len(num_val_list))])/num_sample\n",
    "        if show_acc:\n",
    "            print('Average val acc: %.1f%%'%(avg_acc*100))\n",
    "\n",
    "        # Save result as csv file\n",
    "        df_result = pd.DataFrame({description: fold_name_list, 'Chance_train_acc': chance_list, \n",
    "                                  'Train_acc': train_acc_list, 'Val_acc': val_acc_list,\n",
    "                                  'Train_recall' : train_recall_list, 'Val_recall': val_recall_list,\n",
    "                                  'Train_precision' : train_prec_list, 'Val_precision': val_prec_list})\n",
    "        df_result.loc[len(df_result),description] = 'Average'\n",
    "        df_result.loc[len(df_result)-1, 'Val_acc'] = avg_acc\n",
    "        df_result.loc[len(df_result)-1, 'Val_recall'] = avg_recall\n",
    "        df_result.loc[len(df_result)-1, 'Val_precision'] = avg_prec\n",
    "        df_result.to_csv('./results/%s'%(file_name))"
   ]
  },
  {
   "cell_type": "code",
   "execution_count": null,
   "id": "supported-yemen",
   "metadata": {},
   "outputs": [],
   "source": []
  }
 ],
 "metadata": {
  "kernelspec": {
   "display_name": "Python 3",
   "language": "python",
   "name": "python3"
  },
  "language_info": {
   "codemirror_mode": {
    "name": "ipython",
    "version": 3
   },
   "file_extension": ".py",
   "mimetype": "text/x-python",
   "name": "python",
   "nbconvert_exporter": "python",
   "pygments_lexer": "ipython3",
   "version": "3.7.9"
  }
 },
 "nbformat": 4,
 "nbformat_minor": 5
}
